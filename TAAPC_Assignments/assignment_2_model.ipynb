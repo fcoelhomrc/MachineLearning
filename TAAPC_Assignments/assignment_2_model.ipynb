{
 "cells": [
  {
   "cell_type": "markdown",
   "id": "77745d22",
   "metadata": {
    "colab_type": "text",
    "id": "view-in-github"
   },
   "source": [
    "<a href=\"https://colab.research.google.com/github/fcoelhomrc/MachineLearning/blob/main/TAAPC_Assignments%5Cassignment_2.ipynb\" target=\"_parent\"><img src=\"https://colab.research.google.com/assets/colab-badge.svg\" alt=\"Open In Colab\"/></a>"
   ]
  },
  {
   "cell_type": "code",
   "execution_count": 1,
   "id": "d34d6379",
   "metadata": {
    "id": "d34d6379"
   },
   "outputs": [],
   "source": [
    "import numpy as np\n",
    "import matplotlib.pyplot as plt\n",
    "import pandas as pd\n",
    "import torch\n",
    "import torch.nn as nn\n",
    "import torchtext\n",
    "from tqdm import tqdm\n",
    "from collections import Counter, OrderedDict"
   ]
  },
  {
   "cell_type": "code",
   "execution_count": 2,
   "id": "74edbc6b",
   "metadata": {
    "id": "74edbc6b"
   },
   "outputs": [],
   "source": [
    "url_train = \"https://raw.githubusercontent.com/fcoelhomrc/MachineLearning/main/TAAPC_Assignments/imdb_train.csv\"\n",
    "url_test = \"https://raw.githubusercontent.com/fcoelhomrc/MachineLearning/main/TAAPC_Assignments/imdb_test.csv\"\n",
    "\n",
    "imdb_train = pd.read_csv(url_train)\n",
    "imdb_test = pd.read_csv(url_test, names=imdb_train.columns)"
   ]
  },
  {
   "cell_type": "code",
   "execution_count": 3,
   "id": "YUFQM873GYbT",
   "metadata": {
    "colab": {
     "base_uri": "https://localhost:8080/",
     "height": 206
    },
    "id": "YUFQM873GYbT",
    "outputId": "5634f5b7-914d-401b-bcc3-46f97f87aab4"
   },
   "outputs": [
    {
     "data": {
      "text/html": [
       "<div>\n",
       "<style scoped>\n",
       "    .dataframe tbody tr th:only-of-type {\n",
       "        vertical-align: middle;\n",
       "    }\n",
       "\n",
       "    .dataframe tbody tr th {\n",
       "        vertical-align: top;\n",
       "    }\n",
       "\n",
       "    .dataframe thead th {\n",
       "        text-align: right;\n",
       "    }\n",
       "</style>\n",
       "<table border=\"1\" class=\"dataframe\">\n",
       "  <thead>\n",
       "    <tr style=\"text-align: right;\">\n",
       "      <th></th>\n",
       "      <th>review</th>\n",
       "      <th>sentiment</th>\n",
       "    </tr>\n",
       "  </thead>\n",
       "  <tbody>\n",
       "    <tr>\n",
       "      <th>0</th>\n",
       "      <td>I saw the film many times, and every time I am...</td>\n",
       "      <td>negative</td>\n",
       "    </tr>\n",
       "    <tr>\n",
       "      <th>1</th>\n",
       "      <td>I loved KOLCHAK: THE NIGHT STALKER since I saw...</td>\n",
       "      <td>positive</td>\n",
       "    </tr>\n",
       "    <tr>\n",
       "      <th>2</th>\n",
       "      <td>This feels as if it is a Czech version of Pear...</td>\n",
       "      <td>positive</td>\n",
       "    </tr>\n",
       "    <tr>\n",
       "      <th>3</th>\n",
       "      <td>When, oh, when will someone like Anchor Bay or...</td>\n",
       "      <td>positive</td>\n",
       "    </tr>\n",
       "    <tr>\n",
       "      <th>4</th>\n",
       "      <td>\"Just before dawn \" is one of the best slasher...</td>\n",
       "      <td>positive</td>\n",
       "    </tr>\n",
       "  </tbody>\n",
       "</table>\n",
       "</div>"
      ],
      "text/plain": [
       "                                              review sentiment\n",
       "0  I saw the film many times, and every time I am...  negative\n",
       "1  I loved KOLCHAK: THE NIGHT STALKER since I saw...  positive\n",
       "2  This feels as if it is a Czech version of Pear...  positive\n",
       "3  When, oh, when will someone like Anchor Bay or...  positive\n",
       "4  \"Just before dawn \" is one of the best slasher...  positive"
      ]
     },
     "execution_count": 3,
     "metadata": {},
     "output_type": "execute_result"
    }
   ],
   "source": [
    "imdb_test.head()"
   ]
  },
  {
   "cell_type": "code",
   "execution_count": 4,
   "id": "3be74d53",
   "metadata": {
    "colab": {
     "base_uri": "https://localhost:8080/"
    },
    "id": "3be74d53",
    "outputId": "1209944a-9d9a-41fc-dcce-ea2fa3545bbb",
    "scrolled": true
   },
   "outputs": [
    {
     "name": "stdout",
     "output_type": "stream",
     "text": [
      "(45000, 2) (5000, 2)\n",
      "Index(['review', 'sentiment'], dtype='object') Index(['review', 'sentiment'], dtype='object')\n"
     ]
    }
   ],
   "source": [
    "print(imdb_train.shape, imdb_test.shape)\n",
    "print(imdb_train.columns, imdb_test.columns)"
   ]
  },
  {
   "cell_type": "markdown",
   "id": "c2c49c15",
   "metadata": {
    "id": "c2c49c15"
   },
   "source": [
    "The outline of this project is\n",
    "1. Pre-process the data, defining a vocabulary and converting it to a sparse representation\n",
    "2. Use an embedding layer to transform into a dense representation\n",
    "3. Use each embedded sequence as input to a GRU layer, and then use a Linear layer with sigmoid activation to map output into a single binary prediction (many-to-one model)\n",
    "\n",
    "We will have to deal with different length sequences while mini-batching. [This post](https://towardsdatascience.com/taming-lstms-variable-sized-mini-batches-and-why-pytorch-is-good-for-your-health-61d35642972e) and [this repository](https://gist.github.com/HarshTrivedi/f4e7293e941b17d19058f6fb90ab0fec) explain PyTorch implementations to do that."
   ]
  },
  {
   "cell_type": "markdown",
   "id": "SftEQ2gpKwEP",
   "metadata": {
    "id": "SftEQ2gpKwEP"
   },
   "source": [
    "Generate the vocabulary"
   ]
  },
  {
   "cell_type": "code",
   "execution_count": 5,
   "id": "6ecc1d6a",
   "metadata": {
    "id": "6ecc1d6a"
   },
   "outputs": [],
   "source": [
    "tokenizer = torchtext.data.get_tokenizer(\"basic_english\")\n",
    "\n",
    "def get_vocab_freq(data):\n",
    "    counter = Counter()\n",
    "    for sentence in data[\"review\"]:\n",
    "        tokenized_sentence = tokenizer(sentence)\n",
    "        counter.update(tokenized_sentence)\n",
    "    return OrderedDict(counter)\n",
    "\n",
    "imdb_data = pd.concat([imdb_train, imdb_test], axis=0, ignore_index=True) # fetch vocab considering complete data\n",
    "\n",
    "vocab_freq = get_vocab_freq(imdb_data)\n",
    "\n",
    "pad_token = \"<pad>\" # Token representing padding\n",
    "vocab = torchtext.vocab.vocab(vocab_freq, min_freq=50,\n",
    "                              specials=[pad_token], special_first=True)\n",
    "vocab.set_default_index(-1) # Unknown words will return -1"
   ]
  },
  {
   "cell_type": "code",
   "execution_count": 6,
   "id": "an7m1qUdDQY5",
   "metadata": {
    "colab": {
     "base_uri": "https://localhost:8080/"
    },
    "id": "an7m1qUdDQY5",
    "outputId": "dd77f206-18ce-42fe-8710-812ed592469d"
   },
   "outputs": [
    {
     "data": {
      "text/plain": [
       "11264"
      ]
     },
     "execution_count": 6,
     "metadata": {},
     "output_type": "execute_result"
    }
   ],
   "source": [
    "len(vocab)"
   ]
  },
  {
   "cell_type": "code",
   "execution_count": 7,
   "id": "oGpveffyUfcy",
   "metadata": {
    "colab": {
     "base_uri": "https://localhost:8080/"
    },
    "id": "oGpveffyUfcy",
    "outputId": "dee14c82-49fc-4388-f005-29ca62ccb0cc"
   },
   "outputs": [
    {
     "data": {
      "text/plain": [
       "2752"
      ]
     },
     "execution_count": 7,
     "metadata": {},
     "output_type": "execute_result"
    }
   ],
   "source": [
    "sequence_len = [len(tokenizer(seq)) for seq in imdb_data[\"review\"]]\n",
    "PADDED_LENGTH = max(sequence_len)\n",
    "PADDED_LENGTH"
   ]
  },
  {
   "cell_type": "markdown",
   "id": "Gs-CZPGvK4J-",
   "metadata": {
    "id": "Gs-CZPGvK4J-"
   },
   "source": [
    "Create a custom `Dataset` and `DataLoader` to automatically handle mini-batching.\n",
    "\n",
    "The `IMDBDataset` object should store each review in a sparse representation and map the sentiment into binary categories: `{0: \"negative\", 1: \"positive\"}`.\n",
    "\n",
    "Moreover, it will pad each review with `<pad>` tokens. This will be managed later by the `pack_padded_sequence` and `pad_packed_sequence` functions."
   ]
  },
  {
   "cell_type": "code",
   "execution_count": 8,
   "id": "GTNtH2RMKzuX",
   "metadata": {
    "id": "GTNtH2RMKzuX"
   },
   "outputs": [],
   "source": [
    "class IMDBDataset(torch.utils.data.Dataset):\n",
    "    def __init__(self, data, vocab, tokenizer, max_len, pad_token):\n",
    "        self.inputs = []\n",
    "        self.targets = []\n",
    "        self.lengths = []\n",
    "\n",
    "        print(f\"Loading data...\")\n",
    "        print(f\"Padding inputs...\")\n",
    "        for sentence in data[\"review\"]:\n",
    "            # Tokenize review\n",
    "            tokenized_sentence = tokenizer(sentence)\n",
    "            # Skip unknown tokens\n",
    "            padded_sentence = [vocab[tk] for tk in tokenized_sentence if vocab[tk] >= 0] \n",
    "            # Save length before padding\n",
    "            self.lengths.append(len(padded_sentence)) \n",
    "            # Apply padding\n",
    "            padding_size = max_len - len(padded_sentence)\n",
    "            padded_sentence.extend([vocab[pad_token]]*padding_size)\n",
    "            # Append result\n",
    "            self.inputs.append(padded_sentence)\n",
    "        print(\"Finished padding inputs. Processing labels...\")\n",
    "        for label in data[\"sentiment\"]:\n",
    "            self.targets.append(0 if label == \"negative\" else 1)\n",
    "        print(\"Done.\")\n",
    "\n",
    "    def __len__(self):\n",
    "        return len(self.targets)\n",
    "    \n",
    "    def __getitem__(self, idx):\n",
    "        # Must also return original length before padding\n",
    "        return {\"inputs\": self.inputs[idx],\n",
    "                \"targets\": self.targets[idx],\n",
    "                \"lengths\": self.lengths[idx]}\n",
    "        # return self.inputs[idx], self.targets[idx], self.lengths[idx]"
   ]
  },
  {
   "cell_type": "markdown",
   "id": "4OQSdaEpPbya",
   "metadata": {
    "id": "4OQSdaEpPbya"
   },
   "source": [
    "Instantiate the `DataLoaders`, splitting the train data into train/validation sets. For the train/validation splitting, refer [to this post.](https://clay-atlas.com/us/blog/2021/08/25/pytorch-en-random-split-data-set/)"
   ]
  },
  {
   "cell_type": "code",
   "execution_count": 9,
   "id": "kkeP6nCCKtYZ",
   "metadata": {
    "colab": {
     "base_uri": "https://localhost:8080/"
    },
    "id": "kkeP6nCCKtYZ",
    "outputId": "987cbbb3-bd4d-4ec3-d349-39dfe61a79c9",
    "scrolled": true
   },
   "outputs": [
    {
     "name": "stdout",
     "output_type": "stream",
     "text": [
      "Loading data...\n",
      "Padding inputs...\n",
      "Finished padding inputs. Processing labels...\n",
      "Done.\n",
      "Loading data...\n",
      "Padding inputs...\n",
      "Finished padding inputs. Processing labels...\n",
      "Done.\n"
     ]
    }
   ],
   "source": [
    "train_dataset = IMDBDataset(imdb_train, vocab, tokenizer, PADDED_LENGTH, pad_token)\n",
    "test_dataset = IMDBDataset(imdb_test, vocab, tokenizer, PADDED_LENGTH, pad_token)\n",
    "\n",
    "train_split = int(0.9 * len(train_dataset))\n",
    "validation_split = len(train_dataset) - train_split\n",
    "train_dataset, validation_dataset = torch.utils.data.random_split(train_dataset,\n",
    "                                                                  [train_split, validation_split])\n",
    "\n",
    "BATCH_SIZE = 128\n",
    "train_dataloader = torch.utils.data.DataLoader(train_dataset, batch_size=BATCH_SIZE, shuffle=True)\n",
    "validation_dataloader = torch.utils.data.DataLoader(validation_dataset, batch_size=BATCH_SIZE)\n",
    "test_dataloader = torch.utils.data.DataLoader(test_dataset, batch_size=BATCH_SIZE)"
   ]
  },
  {
   "cell_type": "markdown",
   "id": "QOyQuineYoCA",
   "metadata": {
    "id": "QOyQuineYoCA"
   },
   "source": [
    "Now we need to define our model:\n",
    "\n",
    "[![](https://mermaid.ink/img/pako:eNplkU9PwzAMxb9K5BNIm9CuparEOokLpyFOZKqyxrQWSRry5zBt--54bWFM-BTF7_f84hyhHTRCAV1Qvhcv20fpBNfTuwRyPicJO7FcVicJ0asQUcJJrLmJdo9ak-skiHIfKlFGq4ypxNhoNFlRPkxXu8lyPftodJNNzTbP27db3GXbGHXAEH_5Cf9fN1xPmo2bmFTCKwnz7HqeTQmDMOjuIn5ldC3ej0H-iES94liGHKpwxVc_O6DODqQv0IZlPqCmNtHgRikswGKwijQv9HhBJaQeLb-24KNW4VOCdGfWqZyG14NroUgh4wKy1xx8Q4r_wULxoUzE8zegXYC2)](https://mermaid.live/edit#pako:eNplkU9PwzAMxb9K5BNIm9CuparEOokLpyFOZKqyxrQWSRry5zBt--54bWFM-BTF7_f84hyhHTRCAV1Qvhcv20fpBNfTuwRyPicJO7FcVicJ0asQUcJJrLmJdo9ak-skiHIfKlFGq4ypxNhoNFlRPkxXu8lyPftodJNNzTbP27db3GXbGHXAEH_5Cf9fN1xPmo2bmFTCKwnz7HqeTQmDMOjuIn5ldC3ej0H-iES94liGHKpwxVc_O6DODqQv0IZlPqCmNtHgRikswGKwijQv9HhBJaQeLb-24KNW4VOCdGfWqZyG14NroUgh4wKy1xx8Q4r_wULxoUzE8zegXYC2)\n",
    "\n",
    "Some comments:\n",
    "- Unlike the Word2Vec model implemented in class, we don't need to use a `nn.Linear` layer to map from embedding space to vocabulary space. \n",
    "- The model is based around a `nn.GRU` layer, which allow us to chain many GRU units for processing each sequence. In the end, we are only interest in the output of the final GRU layer. \n",
    "- Note that we will use `torch.nn.utils.rnn.pack_padded_sequence` to feed input to GRU as to avoid flooding it with padding tokens. The output will still be in packed form, but it is not necessary to reverse the operation since our prediction is based upon the hidden state.\n",
    "- We don't need to include `nn.Sigmoid` explicitly, since our loss function (`nn.BCEWithLogitsLoss`) will implement it for us (with more numerical stability, [c.f. documentation](https://pytorch.org/docs/stable/generated/torch.nn.BCEWithLogitsLoss.html))."
   ]
  },
  {
   "cell_type": "code",
   "execution_count": 36,
   "id": "ylAAx0P6XFC_",
   "metadata": {
    "id": "ylAAx0P6XFC_"
   },
   "outputs": [],
   "source": [
    "class GRUPredictor(nn.Module):\n",
    "\n",
    "    def __init__(self, vocab_size,\n",
    "                 hidden_size, num_layers,\n",
    "                 embed_dim, embed_max_norm=None,\n",
    "                 is_bidirectional=False):\n",
    "        super().__init__()\n",
    "        self.embedding = nn.Embedding(vocab_size, embed_dim,\n",
    "                                      padding_idx=0,\n",
    "                                      max_norm=embed_max_norm)\n",
    "        self.gru = nn.GRU(input_size=embed_dim, hidden_size=hidden_size,\n",
    "                          num_layers=num_layers, batch_first=True, bidirectional=is_bidirectional)\n",
    "        self.linear = nn.Linear(hidden_size, 1)\n",
    "        self.embed_dim = embed_dim\n",
    "        self.hidden_size = hidden_size\n",
    "        self.num_layers = num_layers\n",
    "        self.bidirectional = is_bidirectional\n",
    "        \n",
    "    def forward(self, inputs, unpadded_lengths):\n",
    "        # sort inputs by descending unpadded length\n",
    "        unpadded_lengths, sort_idx = unpadded_lengths.sort(descending=True)\n",
    "        unpadded_lengths = unpadded_lengths.cpu().numpy()\n",
    "        inputs = inputs[sort_idx]\n",
    "        # embed inputs\n",
    "        embedded_inputs = self.embedding(inputs)\n",
    "        BS, T, _ = embedded_inputs.shape # X -> batch, steps, embed_dim \n",
    "        # initialize hidden state\n",
    "        D = 2 if self.bidirectional else 1\n",
    "        self.hidden_state = torch.zeros((D*self.num_layers, BS, self.hidden_size),\n",
    "                                        device=inputs.device)\n",
    "        # pack_padded_sequence so that padded items in the sequence won't be shown to the LSTM\n",
    "        X = torch.nn.utils.rnn.pack_padded_sequence(embedded_inputs, unpadded_lengths,\n",
    "                                                    batch_first=True)\n",
    "        # rnn pass\n",
    "        X, self.hidden_state = self.gru(X, self.hidden_state)\n",
    "        # prediction using final layer output\n",
    "        output = self.linear(self.hidden_state[-1])\n",
    "        return output"
   ]
  },
  {
   "cell_type": "markdown",
   "id": "4cad106b",
   "metadata": {},
   "source": [
    "Now we need to write the training loop, etc.\n",
    "Most of the code below is based on what was supplied to us in the earlier modules."
   ]
  },
  {
   "cell_type": "markdown",
   "id": "e4fd5c44",
   "metadata": {},
   "source": [
    "Comment about `nn.functional.binary_cross_entropy_with_logits`: the targets $y$ need to be a float tensor, since the loss function can work with soft labels representing probability of the positive class.\n",
    "[Source](https://discuss.pytorch.org/t/multi-label-binary-classification-result-type-float-cant-be-cast-to-the-desired-output-type-long/117915/3)"
   ]
  },
  {
   "cell_type": "code",
   "execution_count": 37,
   "id": "6ucEVmv_bMOQ",
   "metadata": {
    "id": "6ucEVmv_bMOQ"
   },
   "outputs": [
    {
     "name": "stdout",
     "output_type": "stream",
     "text": [
      "DEVICE: cuda\n"
     ]
    }
   ],
   "source": [
    "EMBED_SIZE = 80\n",
    "HIDDEN_SIZE = 128\n",
    "NUM_LAYERS = 2\n",
    "LEARNING_RATE = 1e-3\n",
    "NUM_EPOCHS = 5\n",
    "BIDIRECTIONAL = True\n",
    "\n",
    "if torch.cuda.is_available():\n",
    "    DEVICE = torch.device('cuda')\n",
    "else:\n",
    "    DEVICE = torch.device('cpu')\n",
    "    \n",
    "print('DEVICE:', DEVICE)\n",
    "\n",
    "model = GRUPredictor(len(vocab), HIDDEN_SIZE, NUM_LAYERS,\n",
    "                     EMBED_SIZE, embed_max_norm=True, is_bidirectional=BIDIRECTIONAL).to(DEVICE)\n",
    "optimizer = torch.optim.Adam(model.parameters(), lr=LEARNING_RATE)"
   ]
  },
  {
   "cell_type": "code",
   "execution_count": 38,
   "id": "d4be30d0",
   "metadata": {},
   "outputs": [
    {
     "name": "stdout",
     "output_type": "stream",
     "text": [
      "GRUPredictor(\n",
      "  (embedding): Embedding(11264, 80, padding_idx=0, max_norm=True)\n",
      "  (gru): GRU(80, 128, batch_first=True, bidirectional=True)\n",
      "  (linear): Linear(in_features=128, out_features=1, bias=True)\n",
      ")\n"
     ]
    }
   ],
   "source": [
    "print(model)"
   ]
  },
  {
   "cell_type": "code",
   "execution_count": 39,
   "id": "71762d8a",
   "metadata": {},
   "outputs": [],
   "source": [
    "def evaluate(model, data_loader, **kwargs):\n",
    "    loss_fn = kwargs.get(\"loss_fn\", nn.functional.binary_cross_entropy_with_logits)\n",
    "    device = kwargs.get(\"device\", torch.device(\"cpu\"))\n",
    "    \n",
    "    model.eval() # set model to evaluation mode\n",
    "    pbar = tqdm(enumerate(data_loader), total=len(data_loader))\n",
    "    avg_loss = 0.\n",
    "    for i, batch in pbar:\n",
    "\n",
    "        batch[\"inputs\"] = (torch.stack(batch[\"inputs\"]).T).to(device)\n",
    "        batch[\"targets\"] = batch[\"targets\"].float().to(device)\n",
    "        \n",
    "        model.zero_grad() # initialize gradients to zero\n",
    "        with torch.no_grad(): # no need to compute gradients\n",
    "            preds = model(batch[\"inputs\"], batch[\"lengths\"])\n",
    "        loss = loss_fn(preds.squeeze(), batch[\"targets\"])\n",
    "        avg_loss += loss.item()\n",
    "\n",
    "        pbar.set_description(f\"loss = {loss:.3f}\")\n",
    "    avg_loss /= len(data_loader)\n",
    "    return avg_loss\n",
    "\n",
    "def fit(model, train_loader, val_loader, optimizer, **kwargs):\n",
    "    num_epochs = kwargs.get(\"num_epochs\", 100)\n",
    "    loss_fn = kwargs.get(\"loss_fn\", nn.functional.binary_cross_entropy_with_logits)\n",
    "    device = kwargs.get(\"device\", torch.device(\"cpu\"))\n",
    "    \n",
    "    train_loss_hist, val_loss_hist = [], []\n",
    "    for epoch in range(num_epochs):\n",
    "        print(f\"\\nEpoch {epoch + 1}/{num_epochs}\")\n",
    "        model.train() # set model to training mode\n",
    "        train_loss = 0.\n",
    "        pbar = tqdm(enumerate(train_loader), total=len(train_loader))\n",
    "        for i, batch in pbar:\n",
    "            \n",
    "            batch[\"inputs\"] = (torch.stack(batch[\"inputs\"]).T).to(device)\n",
    "            batch[\"targets\"] = batch[\"targets\"].float().to(device)\n",
    "    \n",
    "            model.zero_grad() # initialize gradients to zero\n",
    "            preds = model(batch[\"inputs\"], batch[\"lengths\"]) # forward pass\n",
    "            loss = loss_fn(preds.squeeze(), batch[\"targets\"]) # loss computation\n",
    "            loss.backward() # computing gradients (backward pass)\n",
    "            optimizer.step() # updating the parameters of the model\n",
    "            \n",
    "            train_loss += loss.item()\n",
    "            pbar.set_description(f\"loss = {loss:.3f}\")\n",
    "        train_loss /= len(train_loader)\n",
    "        print(f\"Train loss: {train_loss:.3f}\")\n",
    "        train_loss_hist.append(train_loss)\n",
    "        \n",
    "        \n",
    "        val_loss = evaluate(model, val_loader, loss_fn=loss_fn, device=device)\n",
    "        print(f\"Validation loss: {val_loss:.3f}\")\n",
    "        val_loss_hist.append(val_loss)\n",
    "        \n",
    "    return train_loss_hist, val_loss_hist\n"
   ]
  },
  {
   "cell_type": "code",
   "execution_count": 40,
   "id": "459c72fc",
   "metadata": {
    "scrolled": false
   },
   "outputs": [
    {
     "name": "stdout",
     "output_type": "stream",
     "text": [
      "\n",
      "Epoch 1/5\n"
     ]
    },
    {
     "name": "stderr",
     "output_type": "stream",
     "text": [
      "loss = 0.694:  15%|██████████▎                                                        | 49/317 [00:07<00:41,  6.51it/s]\n"
     ]
    },
    {
     "ename": "KeyboardInterrupt",
     "evalue": "",
     "output_type": "error",
     "traceback": [
      "\u001b[1;31m---------------------------------------------------------------------------\u001b[0m",
      "\u001b[1;31mKeyboardInterrupt\u001b[0m                         Traceback (most recent call last)",
      "Cell \u001b[1;32mIn [40], line 1\u001b[0m\n\u001b[1;32m----> 1\u001b[0m train_loss, val_loss \u001b[38;5;241m=\u001b[39m \u001b[43mfit\u001b[49m\u001b[43m(\u001b[49m\u001b[43mmodel\u001b[49m\u001b[43m,\u001b[49m\u001b[43m \u001b[49m\u001b[43mtrain_dataloader\u001b[49m\u001b[43m,\u001b[49m\u001b[43m \u001b[49m\u001b[43mvalidation_dataloader\u001b[49m\u001b[43m,\u001b[49m\n\u001b[0;32m      2\u001b[0m \u001b[43m                           \u001b[49m\u001b[43moptimizer\u001b[49m\u001b[43m,\u001b[49m\u001b[43m \u001b[49m\u001b[43mnum_epochs\u001b[49m\u001b[38;5;241;43m=\u001b[39;49m\u001b[43mNUM_EPOCHS\u001b[49m\u001b[43m,\u001b[49m\u001b[43m \u001b[49m\u001b[43mdevice\u001b[49m\u001b[38;5;241;43m=\u001b[39;49m\u001b[43mDEVICE\u001b[49m\u001b[43m)\u001b[49m\n",
      "Cell \u001b[1;32mIn [39], line 42\u001b[0m, in \u001b[0;36mfit\u001b[1;34m(model, train_loader, val_loader, optimizer, **kwargs)\u001b[0m\n\u001b[0;32m     40\u001b[0m preds \u001b[38;5;241m=\u001b[39m model(batch[\u001b[38;5;124m\"\u001b[39m\u001b[38;5;124minputs\u001b[39m\u001b[38;5;124m\"\u001b[39m], batch[\u001b[38;5;124m\"\u001b[39m\u001b[38;5;124mlengths\u001b[39m\u001b[38;5;124m\"\u001b[39m]) \u001b[38;5;66;03m# forward pass\u001b[39;00m\n\u001b[0;32m     41\u001b[0m loss \u001b[38;5;241m=\u001b[39m loss_fn(preds\u001b[38;5;241m.\u001b[39msqueeze(), batch[\u001b[38;5;124m\"\u001b[39m\u001b[38;5;124mtargets\u001b[39m\u001b[38;5;124m\"\u001b[39m]) \u001b[38;5;66;03m# loss computation\u001b[39;00m\n\u001b[1;32m---> 42\u001b[0m \u001b[43mloss\u001b[49m\u001b[38;5;241;43m.\u001b[39;49m\u001b[43mbackward\u001b[49m\u001b[43m(\u001b[49m\u001b[43m)\u001b[49m \u001b[38;5;66;03m# computing gradients (backward pass)\u001b[39;00m\n\u001b[0;32m     43\u001b[0m optimizer\u001b[38;5;241m.\u001b[39mstep() \u001b[38;5;66;03m# updating the parameters of the model\u001b[39;00m\n\u001b[0;32m     45\u001b[0m train_loss \u001b[38;5;241m+\u001b[39m\u001b[38;5;241m=\u001b[39m loss\u001b[38;5;241m.\u001b[39mitem()\n",
      "File \u001b[1;32m~\\anaconda3\\envs\\pytorch\\lib\\site-packages\\torch\\_tensor.py:396\u001b[0m, in \u001b[0;36mTensor.backward\u001b[1;34m(self, gradient, retain_graph, create_graph, inputs)\u001b[0m\n\u001b[0;32m    387\u001b[0m \u001b[38;5;28;01mif\u001b[39;00m has_torch_function_unary(\u001b[38;5;28mself\u001b[39m):\n\u001b[0;32m    388\u001b[0m     \u001b[38;5;28;01mreturn\u001b[39;00m handle_torch_function(\n\u001b[0;32m    389\u001b[0m         Tensor\u001b[38;5;241m.\u001b[39mbackward,\n\u001b[0;32m    390\u001b[0m         (\u001b[38;5;28mself\u001b[39m,),\n\u001b[1;32m   (...)\u001b[0m\n\u001b[0;32m    394\u001b[0m         create_graph\u001b[38;5;241m=\u001b[39mcreate_graph,\n\u001b[0;32m    395\u001b[0m         inputs\u001b[38;5;241m=\u001b[39minputs)\n\u001b[1;32m--> 396\u001b[0m \u001b[43mtorch\u001b[49m\u001b[38;5;241;43m.\u001b[39;49m\u001b[43mautograd\u001b[49m\u001b[38;5;241;43m.\u001b[39;49m\u001b[43mbackward\u001b[49m\u001b[43m(\u001b[49m\u001b[38;5;28;43mself\u001b[39;49m\u001b[43m,\u001b[49m\u001b[43m \u001b[49m\u001b[43mgradient\u001b[49m\u001b[43m,\u001b[49m\u001b[43m \u001b[49m\u001b[43mretain_graph\u001b[49m\u001b[43m,\u001b[49m\u001b[43m \u001b[49m\u001b[43mcreate_graph\u001b[49m\u001b[43m,\u001b[49m\u001b[43m \u001b[49m\u001b[43minputs\u001b[49m\u001b[38;5;241;43m=\u001b[39;49m\u001b[43minputs\u001b[49m\u001b[43m)\u001b[49m\n",
      "File \u001b[1;32m~\\anaconda3\\envs\\pytorch\\lib\\site-packages\\torch\\autograd\\__init__.py:173\u001b[0m, in \u001b[0;36mbackward\u001b[1;34m(tensors, grad_tensors, retain_graph, create_graph, grad_variables, inputs)\u001b[0m\n\u001b[0;32m    168\u001b[0m     retain_graph \u001b[38;5;241m=\u001b[39m create_graph\n\u001b[0;32m    170\u001b[0m \u001b[38;5;66;03m# The reason we repeat same the comment below is that\u001b[39;00m\n\u001b[0;32m    171\u001b[0m \u001b[38;5;66;03m# some Python versions print out the first line of a multi-line function\u001b[39;00m\n\u001b[0;32m    172\u001b[0m \u001b[38;5;66;03m# calls in the traceback and some print out the last line\u001b[39;00m\n\u001b[1;32m--> 173\u001b[0m \u001b[43mVariable\u001b[49m\u001b[38;5;241;43m.\u001b[39;49m\u001b[43m_execution_engine\u001b[49m\u001b[38;5;241;43m.\u001b[39;49m\u001b[43mrun_backward\u001b[49m\u001b[43m(\u001b[49m\u001b[43m  \u001b[49m\u001b[38;5;66;43;03m# Calls into the C++ engine to run the backward pass\u001b[39;49;00m\n\u001b[0;32m    174\u001b[0m \u001b[43m    \u001b[49m\u001b[43mtensors\u001b[49m\u001b[43m,\u001b[49m\u001b[43m \u001b[49m\u001b[43mgrad_tensors_\u001b[49m\u001b[43m,\u001b[49m\u001b[43m \u001b[49m\u001b[43mretain_graph\u001b[49m\u001b[43m,\u001b[49m\u001b[43m \u001b[49m\u001b[43mcreate_graph\u001b[49m\u001b[43m,\u001b[49m\u001b[43m \u001b[49m\u001b[43minputs\u001b[49m\u001b[43m,\u001b[49m\n\u001b[0;32m    175\u001b[0m \u001b[43m    \u001b[49m\u001b[43mallow_unreachable\u001b[49m\u001b[38;5;241;43m=\u001b[39;49m\u001b[38;5;28;43;01mTrue\u001b[39;49;00m\u001b[43m,\u001b[49m\u001b[43m \u001b[49m\u001b[43maccumulate_grad\u001b[49m\u001b[38;5;241;43m=\u001b[39;49m\u001b[38;5;28;43;01mTrue\u001b[39;49;00m\u001b[43m)\u001b[49m\n",
      "\u001b[1;31mKeyboardInterrupt\u001b[0m: "
     ]
    }
   ],
   "source": [
    "train_loss, val_loss = fit(model, train_dataloader, validation_dataloader,\n",
    "                           optimizer, num_epochs=NUM_EPOCHS, device=DEVICE)"
   ]
  },
  {
   "cell_type": "code",
   "execution_count": 31,
   "id": "30fae24b",
   "metadata": {
    "scrolled": false
   },
   "outputs": [
    {
     "data": {
      "image/png": "[encoded data removed]",
      "text/plain": [
       "<Figure size 640x480 with 1 Axes>"
      ]
     },
     "metadata": {},
     "output_type": "display_data"
    }
   ],
   "source": [
    "plt.title('Train and validation losses')\n",
    "plt.plot(range(len(train_loss)), train_loss, label='train loss')\n",
    "plt.plot(range(len(val_loss)), val_loss, label='validation loss')\n",
    "plt.legend()\n",
    "plt.show()"
   ]
  },
  {
   "cell_type": "code",
   "execution_count": 42,
   "id": "e27ecee1",
   "metadata": {},
   "outputs": [],
   "source": [
    "model_name = f\"GRU_{NUM_EPOCHS}_E{EMBED_SIZE}_H{HIDDEN_SIZE}_\" +\\\n",
    "             f\"N{NUM_LAYERS}_Bi{1 if BIDIRECTIONAL else 0}.pt\"\n",
    "torch.save(model.state_dict(), model_name)"
   ]
  },
  {
   "cell_type": "markdown",
   "id": "f48b6fde",
   "metadata": {},
   "source": [
    "### Report\n",
    "\n",
    "#### Hyper-parameters (batch_size, embed_dim, hidden_dim, num_layers, lr, num_epochs)\n",
    "- (128, 100, 64, 2, 1e-3, 10): train loss decayed very little $\\approx 0.693$, validation loss unstable\n",
    "\n",
    "- (128, 100, 64, 2, 1e-2, 10): the loss wasn't minimized, lr too high?\n",
    "\n",
    "- (128, 80, 128, 1, 1e-3, 5): nothing changed\n",
    "\n",
    "**Maybe go bi-directional GRU?**\n",
    "\n",
    "#### Hyper-parameters (batch_size, embed_dim, hidden_dim, num_layers, lr, num_epochs, bi)\n",
    "- (128, 80, 128, 1, 1e-3, 5, True): "
   ]
  },
  {
   "cell_type": "code",
   "execution_count": null,
   "id": "3f350472",
   "metadata": {},
   "outputs": [],
   "source": []
  }
 ],
 "metadata": {
  "colab": {
   "collapsed_sections": [],
   "include_colab_link": true,
   "provenance": []
  },
  "kernelspec": {
   "display_name": "Python 3 (ipykernel)",
   "language": "python",
   "name": "python3"
  },
  "language_info": {
   "codemirror_mode": {
    "name": "ipython",
    "version": 3
   },
   "file_extension": ".py",
   "mimetype": "text/x-python",
   "name": "python",
   "nbconvert_exporter": "python",
   "pygments_lexer": "ipython3",
   "version": "3.9.13"
  }
 },
 "nbformat": 4,
 "nbformat_minor": 5
}
