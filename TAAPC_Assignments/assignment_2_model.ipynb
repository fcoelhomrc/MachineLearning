{
 "cells": [
  {
   "cell_type": "markdown",
   "id": "77745d22",
   "metadata": {
    "colab_type": "text",
    "id": "view-in-github"
   },
   "source": [
    "<a href=\"https://colab.research.google.com/github/fcoelhomrc/MachineLearning/blob/main/TAAPC_Assignments%5Cassignment_2.ipynb\" target=\"_parent\"><img src=\"https://colab.research.google.com/assets/colab-badge.svg\" alt=\"Open In Colab\"/></a>"
   ]
  },
  {
   "cell_type": "code",
   "execution_count": 1,
   "id": "d34d6379",
   "metadata": {
    "id": "d34d6379"
   },
   "outputs": [],
   "source": [
    "import numpy as np\n",
    "import matplotlib.pyplot as plt\n",
    "import pandas as pd\n",
    "import torch\n",
    "import torch.nn as nn\n",
    "import torchtext\n",
    "from tqdm import tqdm\n",
    "from collections import Counter, OrderedDict"
   ]
  },
  {
   "cell_type": "code",
   "execution_count": 2,
   "id": "74edbc6b",
   "metadata": {
    "id": "74edbc6b"
   },
   "outputs": [],
   "source": [
    "url_train = \"https://raw.githubusercontent.com/fcoelhomrc/MachineLearning/main/TAAPC_Assignments/imdb_train.csv\"\n",
    "url_test = \"https://raw.githubusercontent.com/fcoelhomrc/MachineLearning/main/TAAPC_Assignments/imdb_test.csv\"\n",
    "\n",
    "imdb_train = pd.read_csv(url_train)\n",
    "imdb_test = pd.read_csv(url_test, names=imdb_train.columns)"
   ]
  },
  {
   "cell_type": "code",
   "execution_count": 3,
   "id": "YUFQM873GYbT",
   "metadata": {
    "colab": {
     "base_uri": "https://localhost:8080/",
     "height": 206
    },
    "id": "YUFQM873GYbT",
    "outputId": "5634f5b7-914d-401b-bcc3-46f97f87aab4"
   },
   "outputs": [
    {
     "data": {
      "text/html": [
       "<div>\n",
       "<style scoped>\n",
       "    .dataframe tbody tr th:only-of-type {\n",
       "        vertical-align: middle;\n",
       "    }\n",
       "\n",
       "    .dataframe tbody tr th {\n",
       "        vertical-align: top;\n",
       "    }\n",
       "\n",
       "    .dataframe thead th {\n",
       "        text-align: right;\n",
       "    }\n",
       "</style>\n",
       "<table border=\"1\" class=\"dataframe\">\n",
       "  <thead>\n",
       "    <tr style=\"text-align: right;\">\n",
       "      <th></th>\n",
       "      <th>review</th>\n",
       "      <th>sentiment</th>\n",
       "    </tr>\n",
       "  </thead>\n",
       "  <tbody>\n",
       "    <tr>\n",
       "      <th>0</th>\n",
       "      <td>I saw the film many times, and every time I am...</td>\n",
       "      <td>negative</td>\n",
       "    </tr>\n",
       "    <tr>\n",
       "      <th>1</th>\n",
       "      <td>I loved KOLCHAK: THE NIGHT STALKER since I saw...</td>\n",
       "      <td>positive</td>\n",
       "    </tr>\n",
       "    <tr>\n",
       "      <th>2</th>\n",
       "      <td>This feels as if it is a Czech version of Pear...</td>\n",
       "      <td>positive</td>\n",
       "    </tr>\n",
       "    <tr>\n",
       "      <th>3</th>\n",
       "      <td>When, oh, when will someone like Anchor Bay or...</td>\n",
       "      <td>positive</td>\n",
       "    </tr>\n",
       "    <tr>\n",
       "      <th>4</th>\n",
       "      <td>\"Just before dawn \" is one of the best slasher...</td>\n",
       "      <td>positive</td>\n",
       "    </tr>\n",
       "  </tbody>\n",
       "</table>\n",
       "</div>"
      ],
      "text/plain": [
       "                                              review sentiment\n",
       "0  I saw the film many times, and every time I am...  negative\n",
       "1  I loved KOLCHAK: THE NIGHT STALKER since I saw...  positive\n",
       "2  This feels as if it is a Czech version of Pear...  positive\n",
       "3  When, oh, when will someone like Anchor Bay or...  positive\n",
       "4  \"Just before dawn \" is one of the best slasher...  positive"
      ]
     },
     "execution_count": 3,
     "metadata": {},
     "output_type": "execute_result"
    }
   ],
   "source": [
    "imdb_test.head()"
   ]
  },
  {
   "cell_type": "code",
   "execution_count": 4,
   "id": "3be74d53",
   "metadata": {
    "colab": {
     "base_uri": "https://localhost:8080/"
    },
    "id": "3be74d53",
    "outputId": "1209944a-9d9a-41fc-dcce-ea2fa3545bbb",
    "scrolled": true
   },
   "outputs": [
    {
     "name": "stdout",
     "output_type": "stream",
     "text": [
      "(45000, 2) (5000, 2)\n",
      "Index(['review', 'sentiment'], dtype='object') Index(['review', 'sentiment'], dtype='object')\n"
     ]
    }
   ],
   "source": [
    "print(imdb_train.shape, imdb_test.shape)\n",
    "print(imdb_train.columns, imdb_test.columns)"
   ]
  },
  {
   "cell_type": "markdown",
   "id": "c2c49c15",
   "metadata": {
    "id": "c2c49c15"
   },
   "source": [
    "The outline of this project is\n",
    "1. Pre-process the data, defining a vocabulary and converting it to a sparse representation\n",
    "2. Pre-train an embedding layer to transform into a dense representation\n",
    "3. Use each embedded sequence as input to a GRU layer, and then use a Linear layer with sigmoid activation to map output into a single binary prediction (many-to-one model)\n",
    "\n",
    "We will have to deal with different length sequences while mini-batching. [This post](https://towardsdatascience.com/taming-lstms-variable-sized-mini-batches-and-why-pytorch-is-good-for-your-health-61d35642972e) and [this repository](https://gist.github.com/HarshTrivedi/f4e7293e941b17d19058f6fb90ab0fec) explain PyTorch implementations to do that."
   ]
  },
  {
   "cell_type": "markdown",
   "id": "3f5dfe49",
   "metadata": {},
   "source": [
    "# Stage 1: estabilish the vocabulary"
   ]
  },
  {
   "cell_type": "markdown",
   "id": "SftEQ2gpKwEP",
   "metadata": {
    "id": "SftEQ2gpKwEP"
   },
   "source": [
    "Generate the vocabulary"
   ]
  },
  {
   "cell_type": "code",
   "execution_count": 5,
   "id": "6ecc1d6a",
   "metadata": {
    "id": "6ecc1d6a"
   },
   "outputs": [],
   "source": [
    "tokenizer = torchtext.data.get_tokenizer(\"basic_english\")\n",
    "\n",
    "def get_vocab_freq(data):\n",
    "    counter = Counter()\n",
    "    for sentence in data[\"review\"]:\n",
    "        tokenized_sentence = tokenizer(sentence)\n",
    "        counter.update(tokenized_sentence)\n",
    "    return OrderedDict(counter)\n",
    "\n",
    "imdb_data = pd.concat([imdb_train, imdb_test], axis=0, ignore_index=True) # fetch vocab considering complete data\n",
    "\n",
    "vocab_freq = get_vocab_freq(imdb_data)\n",
    "\n",
    "pad_token = \"<pad>\" # Token representing padding\n",
    "vocab = torchtext.vocab.vocab(vocab_freq, min_freq=50,\n",
    "                              specials=[pad_token], special_first=True)\n",
    "vocab.set_default_index(-1) # Unknown words will return -1"
   ]
  },
  {
   "cell_type": "code",
   "execution_count": 6,
   "id": "an7m1qUdDQY5",
   "metadata": {
    "colab": {
     "base_uri": "https://localhost:8080/"
    },
    "id": "an7m1qUdDQY5",
    "outputId": "dd77f206-18ce-42fe-8710-812ed592469d"
   },
   "outputs": [
    {
     "name": "stdout",
     "output_type": "stream",
     "text": [
      "11264 0\n"
     ]
    }
   ],
   "source": [
    "print(len(vocab), vocab[pad_token])"
   ]
  },
  {
   "cell_type": "code",
   "execution_count": 7,
   "id": "oGpveffyUfcy",
   "metadata": {
    "colab": {
     "base_uri": "https://localhost:8080/"
    },
    "id": "oGpveffyUfcy",
    "outputId": "dee14c82-49fc-4388-f005-29ca62ccb0cc",
    "scrolled": true
   },
   "outputs": [
    {
     "name": "stdout",
     "output_type": "stream",
     "text": [
      "Mean sequence length: 267.66206\n"
     ]
    },
    {
     "data": {
      "text/plain": [
       "2752"
      ]
     },
     "execution_count": 7,
     "metadata": {},
     "output_type": "execute_result"
    }
   ],
   "source": [
    "sequence_len = [len(tokenizer(seq)) for seq in imdb_data[\"review\"]]\n",
    "mean_length = np.array(sequence_len).mean()\n",
    "print(f\"Mean sequence length: {mean_length}\")\n",
    "PADDED_LENGTH = max(sequence_len)\n",
    "PADDED_LENGTH"
   ]
  },
  {
   "cell_type": "markdown",
   "id": "90ba9858",
   "metadata": {},
   "source": [
    "# Stage 2: pre-train an Embedding"
   ]
  },
  {
   "cell_type": "markdown",
   "id": "9150a8e7",
   "metadata": {},
   "source": [
    "Following what we have done in class, we will implement a Word2Vec model to pre-train our embedding layer with a SkipGram scheme."
   ]
  },
  {
   "cell_type": "markdown",
   "id": "c5778317",
   "metadata": {},
   "source": [
    "We have way too much data for SkipGram model:\n",
    "$$\n",
    "\\text{total_examples} \\approx \\text{window_size} \\times 50\\text{k} \\times \\text{avg_length} \\sim 50\\times 10^6\n",
    "$$\n",
    "Therefore, we sample about 10% of the complete dataset in order to train our embedding."
   ]
  },
  {
   "cell_type": "code",
   "execution_count": 20,
   "id": "b3c1e32b",
   "metadata": {},
   "outputs": [],
   "source": [
    "class SkipGramDataset(torch.utils.data.Dataset):\n",
    "    def __init__(self, data, vocab_with_special, window_width, pad_token):\n",
    "        self.inputs = []\n",
    "        self.contexts = []\n",
    "        vocab = {key: value-1 for key, value in vocab_with_special.get_stoi().items() \\\n",
    "                 if key != pad_token}\n",
    "        vocab_inv = {key: value for value, key in vocab.items()}\n",
    "        self.vocabs = [vocab, vocab_inv]\n",
    "        # Keep track of number of valid examples (we skip OOV words)\n",
    "        num_examples = 0\n",
    "        # Pick input, context pairs as in regular SkipGram\n",
    "        print(\"Generating skip-grams...\")\n",
    "        for sequence in data[\"review\"]:\n",
    "            tokens = tokenizer(sequence)\n",
    "            length = len(tokens)\n",
    "            for i, tk in enumerate(tokens):\n",
    "                if tk not in vocab or tk == \"<unk>\" or tk == \"<pad>\":\n",
    "                    continue\n",
    "                # Treat beginning and end of token sequence as special cases\n",
    "                left_idx, right_idx = i - window_width, i + window_width + 1\n",
    "                left_idx = 0 if i < window_width else left_idx\n",
    "                right_idx = length if i > length - (window_width + 1) else right_idx\n",
    "                for j in range(left_idx, right_idx):\n",
    "                    if j == i:\n",
    "                        continue\n",
    "                    next_tk = tokens[j]\n",
    "                    if next_tk not in vocab or next_tk == \"<unk>\" or next_tk == \"<pad>\":\n",
    "                        continue\n",
    "                    else:\n",
    "                        self.inputs.append(vocab[tk])\n",
    "                        self.contexts.append(vocab[next_tk])\n",
    "                        num_examples += 1\n",
    "        print(\"Finished generating skip-grams.\")\n",
    "        \n",
    "    def __len__(self):\n",
    "        return len(self.inputs)\n",
    "    \n",
    "    def __getitem__(self, index):\n",
    "        return self.inputs[index], self.contexts[index]\n",
    "    \n",
    "    def get_vocabs(self):\n",
    "        return self.vocabs"
   ]
  },
  {
   "cell_type": "code",
   "execution_count": 21,
   "id": "0aaa9c26",
   "metadata": {},
   "outputs": [
    {
     "name": "stdout",
     "output_type": "stream",
     "text": [
      "Generating skip-grams...\n",
      "Finished generating skip-grams.\n",
      "Dataset has 9807150 examples.\n"
     ]
    }
   ],
   "source": [
    "WINDOW_WIDTH = 4\n",
    "sample_size = 0.1\n",
    "imdb_sampled = imdb_data.sample(frac=sample_size, random_state=42)\n",
    "\n",
    "w2v_dataset = SkipGramDataset(imdb_sampled, vocab, WINDOW_WIDTH, pad_token)\n",
    "print(f\"Dataset has {len(w2v_dataset)} examples.\")"
   ]
  },
  {
   "cell_type": "code",
   "execution_count": 22,
   "id": "dd3499ca",
   "metadata": {},
   "outputs": [
    {
     "name": "stdout",
     "output_type": "stream",
     "text": [
      "half of\n",
      "half the\n",
      "half movie\n",
      "half is\n",
      "of half\n",
      "of the\n",
      "of movie\n",
      "of is\n",
      "of is\n",
      "the half\n",
      "the of\n",
      "the movie\n",
      "the is\n",
      "the is\n",
      "the flashing\n",
      "movie half\n",
      "movie of\n",
      "movie the\n",
      "movie is\n",
      "movie is\n",
      "movie flashing\n",
      "movie lights\n",
      "is half\n",
      "is of\n",
      "is the\n",
      "is movie\n",
      "is is\n",
      "is flashing\n",
      "is lights\n",
      "is and\n",
      "is of\n",
      "is the\n",
      "is movie\n",
      "is is\n",
      "is flashing\n",
      "is lights\n",
      "is and\n",
      "is shaky\n",
      "flashing the\n",
      "flashing movie\n",
      "flashing is\n",
      "flashing is\n",
      "flashing lights\n",
      "flashing and\n",
      "flashing shaky\n",
      "flashing camera\n",
      "lights movie\n",
      "lights is\n",
      "lights is\n",
      "lights flashing\n"
     ]
    }
   ],
   "source": [
    "for i in range(0, 50):\n",
    "    x, y = w2v_dataset[i]\n",
    "    vocab_inv = w2v_dataset.get_vocabs()[1]\n",
    "    x_word = vocab_inv[x]\n",
    "    y_word = vocab_inv[y]\n",
    "    print(x_word, y_word)"
   ]
  },
  {
   "cell_type": "code",
   "execution_count": 8,
   "id": "dba51f9f",
   "metadata": {},
   "outputs": [],
   "source": [
    "class SkipGramModel(nn.Module):\n",
    "    def __init__(self, vocab_size, embed_dim, embed_max_norm=None):\n",
    "        super().__init__()\n",
    "        self.embedding = nn.Embedding(vocab_size, embed_dim,\n",
    "                                      max_norm=embed_max_norm)\n",
    "        self.linear = nn.Linear(in_features=embed_dim,\n",
    "                                out_features=vocab_size)       \n",
    "    \n",
    "    def forward(self, x):\n",
    "        embedded = self.embedding(x)\n",
    "        logits = self.linear(embedded)\n",
    "        return logits"
   ]
  },
  {
   "cell_type": "code",
   "execution_count": 24,
   "id": "30bc49da",
   "metadata": {},
   "outputs": [],
   "source": [
    "def w2v_fit(model, train_loader, optimizer, **kwargs):\n",
    "    \n",
    "    num_epochs = kwargs.get('num_epochs', 100)\n",
    "    loss_fn = kwargs.get('loss_fn', nn.functional.cross_entropy)\n",
    "    device = kwargs.get('device', torch.device('cpu'))\n",
    "    \n",
    "    model.train()\n",
    "    train_loss_hist, train_acc_hist = [], []\n",
    "    for epoch in range(num_epochs):\n",
    "        print(f'Epoch {epoch+1}')\n",
    "        pbar = tqdm(train_loader, total=len(train_loader))\n",
    "        train_loss, train_acc = 0, 0\n",
    "        for x, y in pbar:\n",
    "            x, y = x.to(device), y.to(device)\n",
    "            optimizer.zero_grad()\n",
    "            logits = model(x)\n",
    "            loss = loss_fn(logits, y)\n",
    "            loss.backward()\n",
    "            optimizer.step()\n",
    "            with torch.no_grad():\n",
    "                preds = logits.argmax(dim=1)\n",
    "            acc = (preds == y).float().sum() / ((y != -100).float().sum() + 1e-6)\n",
    "            train_loss += loss.item()\n",
    "            train_acc += acc.item()\n",
    "            pbar.set_description(f'loss = {loss:.3f} | acc = {acc:.3f}')\n",
    "\n",
    "        train_loss /= len(train_loader)\n",
    "        train_acc /= len(train_loader)\n",
    "        print(f'train loss = {train_loss:.3f} | train acc = {train_acc:.3f}')\n",
    "        train_loss_hist.append(train_loss)\n",
    "        train_acc_hist.append(train_acc)\n",
    "        \n",
    "    return train_loss_hist, train_acc_hist"
   ]
  },
  {
   "cell_type": "code",
   "execution_count": 9,
   "id": "1d3b4af9",
   "metadata": {},
   "outputs": [],
   "source": [
    "EMBEDDING_DIM = 300\n",
    "EMBEDDING_MAX_NORM = 1\n",
    "BATCH_SIZE = 128\n",
    "NUM_EPOCHS = 5\n",
    "LEARNING_RATE = 1e-4"
   ]
  },
  {
   "cell_type": "code",
   "execution_count": 26,
   "id": "ae63ef93",
   "metadata": {
    "scrolled": true
   },
   "outputs": [
    {
     "name": "stdout",
     "output_type": "stream",
     "text": [
      "DEVICE: cuda\n"
     ]
    }
   ],
   "source": [
    "if torch.cuda.is_available():\n",
    "    DEVICE = torch.device(\"cuda\")\n",
    "else:\n",
    "    DEVICE = torch.device(\"cpu\")\n",
    "\n",
    "print(\"DEVICE:\", DEVICE)\n",
    "\n",
    "w2v_model = SkipGramModel(vocab_size=len(vocab)-1, embed_dim=EMBEDDING_DIM,\n",
    "                          embed_max_norm=EMBEDDING_MAX_NORM).to(DEVICE)\n",
    "\n",
    "optimizer = torch.optim.Adam(w2v_model.parameters(), lr=LEARNING_RATE)\n",
    "w2v_dataloader = torch.utils.data.DataLoader(w2v_dataset, batch_size=BATCH_SIZE, shuffle=True)"
   ]
  },
  {
   "cell_type": "code",
   "execution_count": 27,
   "id": "04f8b223",
   "metadata": {
    "scrolled": true
   },
   "outputs": [
    {
     "name": "stdout",
     "output_type": "stream",
     "text": [
      "Epoch 0\n"
     ]
    },
    {
     "name": "stderr",
     "output_type": "stream",
     "text": [
      "loss = 5.591 | acc = 0.043: 100%|████████████████████████████████████████████████| 76619/76619 [16:52<00:00, 75.67it/s]\n"
     ]
    },
    {
     "name": "stdout",
     "output_type": "stream",
     "text": [
      "train loss = 6.391 | train acc = 0.061\n",
      "Epoch 1\n"
     ]
    },
    {
     "name": "stderr",
     "output_type": "stream",
     "text": [
      "loss = 5.636 | acc = 0.043: 100%|████████████████████████████████████████████████| 76619/76619 [16:34<00:00, 77.03it/s]\n"
     ]
    },
    {
     "name": "stdout",
     "output_type": "stream",
     "text": [
      "train loss = 6.224 | train acc = 0.066\n",
      "Epoch 2\n"
     ]
    },
    {
     "name": "stderr",
     "output_type": "stream",
     "text": [
      "loss = 6.293 | acc = 0.109: 100%|████████████████████████████████████████████████| 76619/76619 [16:27<00:00, 77.62it/s]\n"
     ]
    },
    {
     "name": "stdout",
     "output_type": "stream",
     "text": [
      "train loss = 6.192 | train acc = 0.066\n",
      "Epoch 3\n"
     ]
    },
    {
     "name": "stderr",
     "output_type": "stream",
     "text": [
      "loss = 6.895 | acc = 0.065: 100%|████████████████████████████████████████████████| 76619/76619 [16:23<00:00, 77.91it/s]\n"
     ]
    },
    {
     "name": "stdout",
     "output_type": "stream",
     "text": [
      "train loss = 6.171 | train acc = 0.067\n",
      "Epoch 4\n"
     ]
    },
    {
     "name": "stderr",
     "output_type": "stream",
     "text": [
      "loss = 6.225 | acc = 0.087: 100%|████████████████████████████████████████████████| 76619/76619 [16:11<00:00, 78.85it/s]"
     ]
    },
    {
     "name": "stdout",
     "output_type": "stream",
     "text": [
      "train loss = 6.155 | train acc = 0.067\n"
     ]
    },
    {
     "name": "stderr",
     "output_type": "stream",
     "text": [
      "\n"
     ]
    }
   ],
   "source": [
    "train_loss, train_acc = w2v_fit(w2v_model, w2v_dataloader,\n",
    "                                optimizer, num_epochs=NUM_EPOCHS, device=DEVICE)"
   ]
  },
  {
   "cell_type": "code",
   "execution_count": 28,
   "id": "2ff22c5f",
   "metadata": {},
   "outputs": [
    {
     "data": {
      "image/png": "[encoded data removed]",
      "text/plain": [
       "<Figure size 640x480 with 1 Axes>"
      ]
     },
     "metadata": {},
     "output_type": "display_data"
    },
    {
     "data": {
      "image/png": "[encoded data removed]",
      "text/plain": [
       "<Figure size 640x480 with 1 Axes>"
      ]
     },
     "metadata": {},
     "output_type": "display_data"
    }
   ],
   "source": [
    "plt.title('Train loss')\n",
    "plt.plot(range(len(train_loss)), train_loss)\n",
    "plt.show()\n",
    "plt.title('Train accuracy')\n",
    "plt.plot(range(len(train_acc)), train_acc)\n",
    "plt.show()"
   ]
  },
  {
   "cell_type": "code",
   "execution_count": 10,
   "id": "2bc15b85",
   "metadata": {},
   "outputs": [
    {
     "data": {
      "text/plain": [
       "'imdb_word2vec_E300_EMN1.pt'"
      ]
     },
     "execution_count": 10,
     "metadata": {},
     "output_type": "execute_result"
    }
   ],
   "source": [
    "# torch.save(w2v_model.state_dict(), f\"imdb_word2vec_E{EMBEDDING_DIM}_EMN{EMBEDDING_MAX_NORM}.pt\")\n",
    "# Model to load\n",
    "MODEL_TO_LOAD = f\"imdb_word2vec_E{EMBEDDING_DIM}_EMN{EMBEDDING_MAX_NORM}.pt\"\n",
    "MODEL_TO_LOAD"
   ]
  },
  {
   "cell_type": "markdown",
   "id": "b6e1c40f",
   "metadata": {},
   "source": [
    "# Stage 3: tackle Sentiment Analysis task"
   ]
  },
  {
   "cell_type": "markdown",
   "id": "Gs-CZPGvK4J-",
   "metadata": {
    "id": "Gs-CZPGvK4J-"
   },
   "source": [
    "Create a custom `Dataset` and `DataLoader` to automatically handle mini-batching.\n",
    "\n",
    "The `IMDBDataset` object should store each review in a sparse representation and map the sentiment into binary categories: `{0: \"negative\", 1: \"positive\"}`.\n",
    "\n",
    "Moreover, it will pad each review with `<pad>` tokens. This will be managed later by the `pack_padded_sequence` and `pad_packed_sequence` functions."
   ]
  },
  {
   "cell_type": "code",
   "execution_count": 11,
   "id": "GTNtH2RMKzuX",
   "metadata": {
    "id": "GTNtH2RMKzuX"
   },
   "outputs": [],
   "source": [
    "class IMDBDataset(torch.utils.data.Dataset):\n",
    "    def __init__(self, data, vocab, tokenizer, max_len, pad_token):\n",
    "        self.inputs = []\n",
    "        self.targets = []\n",
    "        self.lengths = []\n",
    "\n",
    "        print(f\"Loading data...\")\n",
    "        print(f\"Padding inputs...\")\n",
    "        for sentence in data[\"review\"]:\n",
    "            # Tokenize review\n",
    "            tokenized_sentence = tokenizer(sentence)\n",
    "            # Skip unknown tokens\n",
    "            padded_sentence = [vocab[tk] for tk in tokenized_sentence if vocab[tk] >= 0] \n",
    "            # Save length before padding\n",
    "            self.lengths.append(len(padded_sentence)) \n",
    "            # Apply padding\n",
    "            padding_size = max_len - len(padded_sentence)\n",
    "            padded_sentence.extend([vocab[pad_token]]*padding_size)\n",
    "            # Append result\n",
    "            self.inputs.append(padded_sentence)\n",
    "        print(\"Finished padding inputs. Processing labels...\")\n",
    "        for label in data[\"sentiment\"]:\n",
    "            self.targets.append(0 if label == \"negative\" else 1)\n",
    "        print(\"Done.\")\n",
    "\n",
    "    def __len__(self):\n",
    "        return len(self.targets)\n",
    "    \n",
    "    def __getitem__(self, idx):\n",
    "        # Must also return original length before padding\n",
    "        return {\"inputs\": self.inputs[idx],\n",
    "                \"targets\": self.targets[idx],\n",
    "                \"lengths\": self.lengths[idx]}\n",
    "        # return self.inputs[idx], self.targets[idx], self.lengths[idx]"
   ]
  },
  {
   "cell_type": "markdown",
   "id": "4OQSdaEpPbya",
   "metadata": {
    "id": "4OQSdaEpPbya"
   },
   "source": [
    "Instantiate the `DataLoaders`, splitting the train data into train/validation sets. For the train/validation splitting, refer [to this post.](https://clay-atlas.com/us/blog/2021/08/25/pytorch-en-random-split-data-set/)"
   ]
  },
  {
   "cell_type": "code",
   "execution_count": 12,
   "id": "kkeP6nCCKtYZ",
   "metadata": {
    "colab": {
     "base_uri": "https://localhost:8080/"
    },
    "id": "kkeP6nCCKtYZ",
    "outputId": "987cbbb3-bd4d-4ec3-d349-39dfe61a79c9",
    "scrolled": true
   },
   "outputs": [
    {
     "name": "stdout",
     "output_type": "stream",
     "text": [
      "Loading data...\n",
      "Padding inputs...\n",
      "Finished padding inputs. Processing labels...\n",
      "Done.\n",
      "Loading data...\n",
      "Padding inputs...\n",
      "Finished padding inputs. Processing labels...\n",
      "Done.\n"
     ]
    }
   ],
   "source": [
    "train_dataset = IMDBDataset(imdb_train, vocab, tokenizer, PADDED_LENGTH, pad_token)\n",
    "test_dataset = IMDBDataset(imdb_test, vocab, tokenizer, PADDED_LENGTH, pad_token)\n",
    "\n",
    "train_split = int(0.9 * len(train_dataset))\n",
    "validation_split = len(train_dataset) - train_split\n",
    "train_dataset, validation_dataset = torch.utils.data.random_split(train_dataset,\n",
    "                                                                  [train_split, validation_split])\n",
    "\n",
    "BATCH_SIZE = 128\n",
    "train_dataloader = torch.utils.data.DataLoader(train_dataset, batch_size=BATCH_SIZE, shuffle=True)\n",
    "validation_dataloader = torch.utils.data.DataLoader(validation_dataset, batch_size=BATCH_SIZE)\n",
    "test_dataloader = torch.utils.data.DataLoader(test_dataset, batch_size=BATCH_SIZE)"
   ]
  },
  {
   "cell_type": "markdown",
   "id": "QOyQuineYoCA",
   "metadata": {
    "id": "QOyQuineYoCA"
   },
   "source": [
    "Now we need to define our model:\n",
    "\n",
    "[![](https://mermaid.ink/img/pako:eNplkU9PwzAMxb9K5BNIm9CuparEOokLpyFOZKqyxrQWSRry5zBt--54bWFM-BTF7_f84hyhHTRCAV1Qvhcv20fpBNfTuwRyPicJO7FcVicJ0asQUcJJrLmJdo9ak-skiHIfKlFGq4ypxNhoNFlRPkxXu8lyPftodJNNzTbP27db3GXbGHXAEH_5Cf9fN1xPmo2bmFTCKwnz7HqeTQmDMOjuIn5ldC3ej0H-iES94liGHKpwxVc_O6DODqQv0IZlPqCmNtHgRikswGKwijQv9HhBJaQeLb-24KNW4VOCdGfWqZyG14NroUgh4wKy1xx8Q4r_wULxoUzE8zegXYC2)](https://mermaid.live/edit#pako:eNplkU9PwzAMxb9K5BNIm9CuparEOokLpyFOZKqyxrQWSRry5zBt--54bWFM-BTF7_f84hyhHTRCAV1Qvhcv20fpBNfTuwRyPicJO7FcVicJ0asQUcJJrLmJdo9ak-skiHIfKlFGq4ypxNhoNFlRPkxXu8lyPftodJNNzTbP27db3GXbGHXAEH_5Cf9fN1xPmo2bmFTCKwnz7HqeTQmDMOjuIn5ldC3ej0H-iES94liGHKpwxVc_O6DODqQv0IZlPqCmNtHgRikswGKwijQv9HhBJaQeLb-24KNW4VOCdGfWqZyG14NroUgh4wKy1xx8Q4r_wULxoUzE8zegXYC2)\n",
    "\n",
    "Some comments:\n",
    "- Unlike the Word2Vec model implemented in class, we don't need to use a `nn.Linear` layer to map from embedding space to vocabulary space. \n",
    "\n",
    "- We should load weights the Word2Vec we trained above into the sentiment analysis model Embedding layer. Note this fixes its embedding size. \n",
    "\n",
    "- After initializing the pre-trained weights, we can freeze them to avoid getting messed up by the first epochs. A common strategy is to later unfreeze these layers.\n",
    "\n",
    "- The model is based around a `nn.GRU` layer, which allow us to chain many GRU units for processing each sequence. In the end, we are only interest in the output of the final GRU layer. \n",
    "\n",
    "- Note that we will use `torch.nn.utils.rnn.pack_padded_sequence` to feed input to GRU as to avoid flooding it with padding tokens. The output will still be in packed form, but it is not necessary to reverse the operation since our prediction is based upon the hidden state.\n",
    "\n",
    "- We don't need to include `nn.Sigmoid` explicitly, since our loss function (`nn.BCEWithLogitsLoss`) will implement it for us (with more numerical stability, [c.f. documentation](https://pytorch.org/docs/stable/generated/torch.nn.BCEWithLogitsLoss.html))."
   ]
  },
  {
   "cell_type": "code",
   "execution_count": 90,
   "id": "ylAAx0P6XFC_",
   "metadata": {
    "id": "ylAAx0P6XFC_"
   },
   "outputs": [],
   "source": [
    "class GRUPredictor(nn.Module):\n",
    "\n",
    "    def __init__(self, vocab_size,\n",
    "                 hidden_size, num_layers, is_bidirectional=True, dropout=0.5,\n",
    "                 embed_dim=300, embed_max_norm=None, pretrained=None):\n",
    "        super().__init__()\n",
    "        self.embedding = nn.Embedding(vocab_size, embed_dim,\n",
    "                                      padding_idx=0,\n",
    "                                      max_norm=embed_max_norm)\n",
    "        self.D = 2 if is_bidirectional else 1\n",
    "        if pretrained is not None:\n",
    "            self.set_pretrained(pretrained)\n",
    "        \n",
    "        self.gru = nn.GRU(input_size=embed_dim, hidden_size=hidden_size,\n",
    "                          num_layers=num_layers, batch_first=True, bidirectional=is_bidirectional)\n",
    "        self.dropout = nn.Dropout(p=dropout)\n",
    "        self.linear = nn.Linear(self.D*hidden_size, 1)\n",
    "        self.embed_dim = embed_dim\n",
    "        self.hidden_size = hidden_size\n",
    "        self.num_layers = num_layers\n",
    "        \n",
    "        \n",
    "    def forward(self, inputs, unpadded_lengths):\n",
    "        # sort inputs by descending unpadded length\n",
    "        unpadded_lengths, sort_idx = unpadded_lengths.sort(descending=True)\n",
    "        unpadded_lengths = unpadded_lengths.cpu().numpy()\n",
    "        inputs = inputs[sort_idx]\n",
    "        # map <unk> to <pad>, unknown words won't contribute to gradient\n",
    "        inputs = torch.where(inputs < 0, 0, inputs)\n",
    "        # embed inputs\n",
    "        embedded_inputs = self.embedding(inputs)\n",
    "        BS, T, _ = embedded_inputs.shape # X -> batch, steps, embed_dim \n",
    "        # initialize hidden state\n",
    "        self.hidden_state = torch.zeros((self.D*self.num_layers, BS, self.hidden_size),\n",
    "                                        device=inputs.device)\n",
    "        # pack_padded_sequence so that padded items in the sequence won't be shown to the GRU\n",
    "        X = torch.nn.utils.rnn.pack_padded_sequence(embedded_inputs, unpadded_lengths,\n",
    "                                                    batch_first=True)\n",
    "        # rnn pass\n",
    "        X, self.hidden_state = self.gru(X, self.hidden_state)\n",
    "        # prediction using forward/backward final outputs\n",
    "        output = torch.cat([self.hidden_state[-2,:,:], self.hidden_state[-1,:,:]], dim=1)\n",
    "        output = self.dropout(output) # dropout between GRU and Linear layer\n",
    "        output = self.linear(output)\n",
    "        return output\n",
    "    \n",
    "    def set_pretrained(self, path):\n",
    "        state_dict = torch.load(path)\n",
    "        pretrained_weights = state_dict[\"embedding.weight\"]\n",
    "        with torch.no_grad():\n",
    "            self.embedding.weight[1:] = pretrained_weights # Don't touch padding embedding\n",
    "        self.embedding.weight.requires_grad = False # Freeze weights"
   ]
  },
  {
   "cell_type": "markdown",
   "id": "1d19fd72",
   "metadata": {},
   "source": [
    "Now we need to write the training loop, etc.\n",
    "Most of the code below is based on what was supplied to us in the earlier modules."
   ]
  },
  {
   "cell_type": "markdown",
   "id": "a1dc46f8",
   "metadata": {},
   "source": [
    "Comment about `nn.functional.binary_cross_entropy_with_logits`: the targets $y$ need to be a float tensor, since the loss function can work with soft labels representing probability of the positive class.\n",
    "[Source](https://discuss.pytorch.org/t/multi-label-binary-classification-result-type-float-cant-be-cast-to-the-desired-output-type-long/117915/3)"
   ]
  },
  {
   "cell_type": "code",
   "execution_count": 100,
   "id": "6ucEVmv_bMOQ",
   "metadata": {
    "id": "6ucEVmv_bMOQ"
   },
   "outputs": [
    {
     "name": "stdout",
     "output_type": "stream",
     "text": [
      "DEVICE: cuda\n",
      "EMBEDDING DIM: 300\n",
      "tensor([0., 0., 0., 0., 0., 0., 0., 0., 0., 0., 0., 0., 0., 0., 0., 0., 0., 0., 0., 0., 0., 0., 0., 0.,\n",
      "        0., 0., 0., 0., 0., 0., 0., 0., 0., 0., 0., 0., 0., 0., 0., 0., 0., 0., 0., 0., 0., 0., 0., 0.,\n",
      "        0., 0., 0., 0., 0., 0., 0., 0., 0., 0., 0., 0., 0., 0., 0., 0., 0., 0., 0., 0., 0., 0., 0., 0.,\n",
      "        0., 0., 0., 0., 0., 0., 0., 0., 0., 0., 0., 0., 0., 0., 0., 0., 0., 0., 0., 0., 0., 0., 0., 0.,\n",
      "        0., 0., 0., 0., 0., 0., 0., 0., 0., 0., 0., 0., 0., 0., 0., 0., 0., 0., 0., 0., 0., 0., 0., 0.,\n",
      "        0., 0., 0., 0., 0., 0., 0., 0., 0., 0., 0., 0., 0., 0., 0., 0., 0., 0., 0., 0., 0., 0., 0., 0.,\n",
      "        0., 0., 0., 0., 0., 0., 0., 0., 0., 0., 0., 0., 0., 0., 0., 0., 0., 0., 0., 0., 0., 0., 0., 0.,\n",
      "        0., 0., 0., 0., 0., 0., 0., 0., 0., 0., 0., 0., 0., 0., 0., 0., 0., 0., 0., 0., 0., 0., 0., 0.,\n",
      "        0., 0., 0., 0., 0., 0., 0., 0., 0., 0., 0., 0., 0., 0., 0., 0., 0., 0., 0., 0., 0., 0., 0., 0.,\n",
      "        0., 0., 0., 0., 0., 0., 0., 0., 0., 0., 0., 0., 0., 0., 0., 0., 0., 0., 0., 0., 0., 0., 0., 0.,\n",
      "        0., 0., 0., 0., 0., 0., 0., 0., 0., 0., 0., 0., 0., 0., 0., 0., 0., 0., 0., 0., 0., 0., 0., 0.,\n",
      "        0., 0., 0., 0., 0., 0., 0., 0., 0., 0., 0., 0., 0., 0., 0., 0., 0., 0., 0., 0., 0., 0., 0., 0.,\n",
      "        0., 0., 0., 0., 0., 0., 0., 0., 0., 0., 0., 0.], device='cuda:0')\n"
     ]
    },
    {
     "data": {
      "text/plain": [
       "True"
      ]
     },
     "execution_count": 100,
     "metadata": {},
     "output_type": "execute_result"
    }
   ],
   "source": [
    "HIDDEN_SIZE = 256\n",
    "NUM_LAYERS = 2\n",
    "LEARNING_RATE = 1e-3\n",
    "NUM_EPOCHS = 100\n",
    "BIDIRECTIONAL = True\n",
    "DROPUT_RATE = 0.5\n",
    "\n",
    "if torch.cuda.is_available():\n",
    "    DEVICE = torch.device(\"cuda\")\n",
    "else:\n",
    "    DEVICE = torch.device(\"cpu\")\n",
    "# DEVICE = \"cpu\"\n",
    "    \n",
    "    \n",
    "print(\"DEVICE:\", DEVICE)\n",
    "print(\"EMBEDDING DIM:\", EMBEDDING_DIM)\n",
    "\n",
    "model = GRUPredictor(len(vocab), HIDDEN_SIZE, NUM_LAYERS, is_bidirectional=BIDIRECTIONAL, dropout=DROPUT_RATE,\n",
    "                     embed_dim=EMBEDDING_DIM, embed_max_norm=True, pretrained=MODEL_TO_LOAD).to(DEVICE)\n",
    "optimizer = torch.optim.Adam(model.parameters(), lr=LEARNING_RATE)\n",
    "\n",
    "# Check that the weights were successfully loaded\n",
    "w2v_model = SkipGramModel(len(vocab)-1, EMBEDDING_DIM).to(DEVICE)\n",
    "w2v_model.load_state_dict(torch.load(MODEL_TO_LOAD))\n",
    "print(model.state_dict()[\"embedding.weight\"][0])\n",
    "torch.equal(model.state_dict()[\"embedding.weight\"][1:], w2v_model.state_dict()[\"embedding.weight\"])"
   ]
  },
  {
   "cell_type": "markdown",
   "id": "4a75df44",
   "metadata": {},
   "source": [
    "So what we have here is that the Embedding layer will always map the padding to the zero vector, and the remaining of the vocabulary will be mapped the same as the pre-trained Embedding."
   ]
  },
  {
   "cell_type": "code",
   "execution_count": 101,
   "id": "39b325cf",
   "metadata": {},
   "outputs": [
    {
     "name": "stdout",
     "output_type": "stream",
     "text": [
      "The model has 2040321 trainable parametersand 3379200 non-trainable parameters\n",
      "Total: 5419521\n"
     ]
    }
   ],
   "source": [
    "pytorch_total_params = sum(p.numel() for p in model.parameters())\n",
    "pytorch_trainable_params = sum(p.numel() for p in model.parameters() if p.requires_grad)\n",
    "print(f\"The model has {pytorch_trainable_params} trainable parameters\" \\\n",
    "      + f\"and {pytorch_total_params - pytorch_trainable_params} non-trainable parameters\")\n",
    "print(f\"Total: {pytorch_total_params}\")"
   ]
  },
  {
   "cell_type": "code",
   "execution_count": 102,
   "id": "e8f02638",
   "metadata": {},
   "outputs": [
    {
     "name": "stdout",
     "output_type": "stream",
     "text": [
      "GRUPredictor(\n",
      "  (embedding): Embedding(11264, 300, padding_idx=0, max_norm=True)\n",
      "  (gru): GRU(300, 256, num_layers=2, batch_first=True, bidirectional=True)\n",
      "  (dropout): Dropout(p=0.5, inplace=False)\n",
      "  (linear): Linear(in_features=512, out_features=1, bias=True)\n",
      ")\n"
     ]
    }
   ],
   "source": [
    "print(model)"
   ]
  },
  {
   "cell_type": "code",
   "execution_count": 103,
   "id": "7e90128c",
   "metadata": {},
   "outputs": [],
   "source": [
    "def evaluate(model, data_loader, **kwargs):\n",
    "    loss_fn = kwargs.get(\"loss_fn\", nn.functional.binary_cross_entropy_with_logits)\n",
    "    device = kwargs.get(\"device\", torch.device(\"cpu\"))\n",
    "    \n",
    "    model.eval() # set model to evaluation mode\n",
    "    pbar = tqdm(enumerate(data_loader), total=len(data_loader))\n",
    "    avg_loss, avg_acc = 0., 0.\n",
    "    for i, batch in pbar:\n",
    "\n",
    "        batch[\"inputs\"] = (torch.stack(batch[\"inputs\"]).T).to(device)\n",
    "        batch[\"targets\"] = batch[\"targets\"].float().to(device)\n",
    "        \n",
    "        model.zero_grad() # initialize gradients to zero\n",
    "        with torch.no_grad(): # no need to compute gradients\n",
    "            preds = model(batch[\"inputs\"], batch[\"lengths\"])\n",
    "            probas = torch.sigmoid(preds)\n",
    "            pred_cats = probas.argmax(dim=1)\n",
    "            acc = (pred_cats == batch[\"targets\"]).float().sum()\n",
    "            acc /= ((batch[\"targets\"] != -100).float().sum() + 1e-6)\n",
    "        loss = loss_fn(preds.squeeze(), batch[\"targets\"])\n",
    "        avg_loss += loss.item()\n",
    "        avg_acc += acc.item()\n",
    "        pbar.set_description(f\"loss = {loss:.3f} | acc = {acc:.3f}\")\n",
    "    avg_loss /= len(data_loader)\n",
    "    avg_acc /= len(data_loader)\n",
    "    return avg_loss, avg_acc\n",
    "\n",
    "def fit(model, train_loader, val_loader, optimizer, **kwargs):\n",
    "    num_epochs = kwargs.get(\"num_epochs\", 100)\n",
    "    loss_fn = kwargs.get(\"loss_fn\", nn.functional.binary_cross_entropy_with_logits)\n",
    "    device = kwargs.get(\"device\", torch.device(\"cpu\"))\n",
    "    \n",
    "    train_loss_hist, val_loss_hist = [], []\n",
    "    train_acc_hist, val_acc_hist = [], []\n",
    "    for epoch in range(num_epochs):\n",
    "        print(f\"\\nEpoch {epoch + 1}/{num_epochs}\")\n",
    "        model.train() # set model to training mode\n",
    "        train_loss, train_acc = 0., 0.\n",
    "        pbar = tqdm(enumerate(train_loader), total=len(train_loader))\n",
    "        for i, batch in pbar:\n",
    "            \n",
    "            batch[\"inputs\"] = (torch.stack(batch[\"inputs\"]).T).to(device)\n",
    "            batch[\"targets\"] = batch[\"targets\"].float().to(device)\n",
    "    \n",
    "            model.zero_grad() # initialize gradients to zero\n",
    "            preds = model(batch[\"inputs\"], batch[\"lengths\"]) # forward pass\n",
    "            loss = loss_fn(preds.squeeze(), batch[\"targets\"]) # loss computation\n",
    "            loss.backward() # computing gradients (backward pass)\n",
    "            optimizer.step() # updating the parameters of the model\n",
    "            # accuracy computation\n",
    "            with torch.no_grad():\n",
    "                probas = torch.sigmoid(preds)\n",
    "                pred_cats = probas.argmax(dim=1)\n",
    "                acc = (pred_cats == batch[\"targets\"]).float().sum()\n",
    "                acc /= ((batch[\"targets\"] != -100).float().sum() + 1e-6)\n",
    "            # pop computational graph\n",
    "            train_loss += loss.item()\n",
    "            train_acc += acc.item()\n",
    "            pbar.set_description(f\"loss = {loss:.3f} | acc = {acc:.3f}\")\n",
    "        train_loss /= len(train_loader)\n",
    "        train_acc /= len(train_loader)\n",
    "        print(f\"Train loss: {train_loss:.3f} | train acc = {train_acc:.3f}\")\n",
    "        train_loss_hist.append(train_loss)\n",
    "        train_acc_hist.append(train_acc) \n",
    "        \n",
    "        val_loss, val_acc = evaluate(model, val_loader, loss_fn=loss_fn, device=device)\n",
    "        print(f\"Validation loss: {val_loss:.3f} | val acc = {val_acc:.3f}\")\n",
    "        val_loss_hist.append(val_loss)\n",
    "        val_acc_hist.append(val_acc)\n",
    "        \n",
    "    return train_loss_hist, val_loss_hist, train_acc_hist, val_acc_hist\n"
   ]
  },
  {
   "cell_type": "code",
   "execution_count": 104,
   "id": "0739501f",
   "metadata": {
    "scrolled": true
   },
   "outputs": [
    {
     "name": "stdout",
     "output_type": "stream",
     "text": [
      "\n",
      "Epoch 1/100\n"
     ]
    },
    {
     "name": "stderr",
     "output_type": "stream",
     "text": [
      "loss = 0.690 | acc = 0.500: 100%|████████████████████████████████████████████████████| 317/317 [02:37<00:00,  2.01it/s]\n"
     ]
    },
    {
     "name": "stdout",
     "output_type": "stream",
     "text": [
      "Train loss: 0.694 | train acc = 0.502\n"
     ]
    },
    {
     "name": "stderr",
     "output_type": "stream",
     "text": [
      "loss = 0.684 | acc = 0.500: 100%|██████████████████████████████████████████████████████| 36/36 [00:07<00:00,  4.54it/s]\n"
     ]
    },
    {
     "name": "stdout",
     "output_type": "stream",
     "text": [
      "Validation loss: 0.695 | val acc = 0.496\n",
      "\n",
      "Epoch 2/100\n"
     ]
    },
    {
     "name": "stderr",
     "output_type": "stream",
     "text": [
      "loss = 0.690 | acc = 0.538: 100%|████████████████████████████████████████████████████| 317/317 [02:36<00:00,  2.03it/s]\n"
     ]
    },
    {
     "name": "stdout",
     "output_type": "stream",
     "text": [
      "Train loss: 0.694 | train acc = 0.502\n"
     ]
    },
    {
     "name": "stderr",
     "output_type": "stream",
     "text": [
      "loss = 0.688 | acc = 0.500: 100%|██████████████████████████████████████████████████████| 36/36 [00:07<00:00,  4.53it/s]\n"
     ]
    },
    {
     "name": "stdout",
     "output_type": "stream",
     "text": [
      "Validation loss: 0.694 | val acc = 0.496\n",
      "\n",
      "Epoch 3/100\n"
     ]
    },
    {
     "name": "stderr",
     "output_type": "stream",
     "text": [
      "loss = 0.685 | acc = 0.596: 100%|████████████████████████████████████████████████████| 317/317 [02:35<00:00,  2.04it/s]\n"
     ]
    },
    {
     "name": "stdout",
     "output_type": "stream",
     "text": [
      "Train loss: 0.694 | train acc = 0.502\n"
     ]
    },
    {
     "name": "stderr",
     "output_type": "stream",
     "text": [
      "loss = 0.694 | acc = 0.500: 100%|██████████████████████████████████████████████████████| 36/36 [00:08<00:00,  4.18it/s]\n"
     ]
    },
    {
     "name": "stdout",
     "output_type": "stream",
     "text": [
      "Validation loss: 0.694 | val acc = 0.496\n",
      "\n",
      "Epoch 4/100\n"
     ]
    },
    {
     "name": "stderr",
     "output_type": "stream",
     "text": [
      "loss = 0.696 | acc = 0.365: 100%|████████████████████████████████████████████████████| 317/317 [02:35<00:00,  2.04it/s]\n"
     ]
    },
    {
     "name": "stdout",
     "output_type": "stream",
     "text": [
      "Train loss: 0.694 | train acc = 0.501\n"
     ]
    },
    {
     "name": "stderr",
     "output_type": "stream",
     "text": [
      "loss = 0.690 | acc = 0.500: 100%|██████████████████████████████████████████████████████| 36/36 [00:07<00:00,  4.56it/s]\n"
     ]
    },
    {
     "name": "stdout",
     "output_type": "stream",
     "text": [
      "Validation loss: 0.694 | val acc = 0.496\n",
      "\n",
      "Epoch 5/100\n"
     ]
    },
    {
     "name": "stderr",
     "output_type": "stream",
     "text": [
      "loss = 0.691 | acc = 0.500: 100%|████████████████████████████████████████████████████| 317/317 [02:35<00:00,  2.04it/s]\n"
     ]
    },
    {
     "name": "stdout",
     "output_type": "stream",
     "text": [
      "Train loss: 0.694 | train acc = 0.502\n"
     ]
    },
    {
     "name": "stderr",
     "output_type": "stream",
     "text": [
      "loss = 0.688 | acc = 0.500: 100%|██████████████████████████████████████████████████████| 36/36 [00:07<00:00,  4.55it/s]\n"
     ]
    },
    {
     "name": "stdout",
     "output_type": "stream",
     "text": [
      "Validation loss: 0.693 | val acc = 0.496\n",
      "\n",
      "Epoch 6/100\n"
     ]
    },
    {
     "name": "stderr",
     "output_type": "stream",
     "text": [
      "loss = 0.702 | acc = 0.615: 100%|████████████████████████████████████████████████████| 317/317 [02:35<00:00,  2.04it/s]\n"
     ]
    },
    {
     "name": "stdout",
     "output_type": "stream",
     "text": [
      "Train loss: 0.694 | train acc = 0.502\n"
     ]
    },
    {
     "name": "stderr",
     "output_type": "stream",
     "text": [
      "loss = 0.697 | acc = 0.500: 100%|██████████████████████████████████████████████████████| 36/36 [00:08<00:00,  4.13it/s]\n"
     ]
    },
    {
     "name": "stdout",
     "output_type": "stream",
     "text": [
      "Validation loss: 0.693 | val acc = 0.496\n",
      "\n",
      "Epoch 7/100\n"
     ]
    },
    {
     "name": "stderr",
     "output_type": "stream",
     "text": [
      "loss = 0.692 | acc = 0.519: 100%|████████████████████████████████████████████████████| 317/317 [02:35<00:00,  2.04it/s]\n"
     ]
    },
    {
     "name": "stdout",
     "output_type": "stream",
     "text": [
      "Train loss: 0.694 | train acc = 0.502\n"
     ]
    },
    {
     "name": "stderr",
     "output_type": "stream",
     "text": [
      "loss = 0.694 | acc = 0.500: 100%|██████████████████████████████████████████████████████| 36/36 [00:07<00:00,  4.55it/s]\n"
     ]
    },
    {
     "name": "stdout",
     "output_type": "stream",
     "text": [
      "Validation loss: 0.693 | val acc = 0.496\n",
      "\n",
      "Epoch 8/100\n"
     ]
    },
    {
     "name": "stderr",
     "output_type": "stream",
     "text": [
      "loss = 0.698 | acc = 0.442: 100%|████████████████████████████████████████████████████| 317/317 [02:35<00:00,  2.04it/s]\n"
     ]
    },
    {
     "name": "stdout",
     "output_type": "stream",
     "text": [
      "Train loss: 0.694 | train acc = 0.502\n"
     ]
    },
    {
     "name": "stderr",
     "output_type": "stream",
     "text": [
      "loss = 0.689 | acc = 0.500: 100%|██████████████████████████████████████████████████████| 36/36 [00:07<00:00,  4.54it/s]\n"
     ]
    },
    {
     "name": "stdout",
     "output_type": "stream",
     "text": [
      "Validation loss: 0.693 | val acc = 0.496\n",
      "\n",
      "Epoch 9/100\n"
     ]
    },
    {
     "name": "stderr",
     "output_type": "stream",
     "text": [
      "loss = 0.694 | acc = 0.442: 100%|████████████████████████████████████████████████████| 317/317 [02:35<00:00,  2.04it/s]\n"
     ]
    },
    {
     "name": "stdout",
     "output_type": "stream",
     "text": [
      "Train loss: 0.694 | train acc = 0.502\n"
     ]
    },
    {
     "name": "stderr",
     "output_type": "stream",
     "text": [
      "loss = 0.684 | acc = 0.500: 100%|██████████████████████████████████████████████████████| 36/36 [00:07<00:00,  4.55it/s]\n"
     ]
    },
    {
     "name": "stdout",
     "output_type": "stream",
     "text": [
      "Validation loss: 0.693 | val acc = 0.496\n",
      "\n",
      "Epoch 10/100\n"
     ]
    },
    {
     "name": "stderr",
     "output_type": "stream",
     "text": [
      "loss = 0.691 | acc = 0.500: 100%|████████████████████████████████████████████████████| 317/317 [02:36<00:00,  2.03it/s]\n"
     ]
    },
    {
     "name": "stdout",
     "output_type": "stream",
     "text": [
      "Train loss: 0.694 | train acc = 0.502\n"
     ]
    },
    {
     "name": "stderr",
     "output_type": "stream",
     "text": [
      "loss = 0.686 | acc = 0.500: 100%|██████████████████████████████████████████████████████| 36/36 [00:07<00:00,  4.54it/s]\n"
     ]
    },
    {
     "name": "stdout",
     "output_type": "stream",
     "text": [
      "Validation loss: 0.693 | val acc = 0.496\n",
      "\n",
      "Epoch 11/100\n"
     ]
    },
    {
     "name": "stderr",
     "output_type": "stream",
     "text": [
      "loss = 0.692 | acc = 0.500: 100%|████████████████████████████████████████████████████| 317/317 [02:36<00:00,  2.02it/s]\n"
     ]
    },
    {
     "name": "stdout",
     "output_type": "stream",
     "text": [
      "Train loss: 0.694 | train acc = 0.502\n"
     ]
    },
    {
     "name": "stderr",
     "output_type": "stream",
     "text": [
      "loss = 0.694 | acc = 0.500: 100%|██████████████████████████████████████████████████████| 36/36 [00:08<00:00,  4.43it/s]\n"
     ]
    },
    {
     "name": "stdout",
     "output_type": "stream",
     "text": [
      "Validation loss: 0.694 | val acc = 0.496\n",
      "\n",
      "Epoch 12/100\n"
     ]
    },
    {
     "name": "stderr",
     "output_type": "stream",
     "text": [
      "loss = 0.688 | acc = 0.442: 100%|████████████████████████████████████████████████████| 317/317 [02:40<00:00,  1.97it/s]\n"
     ]
    },
    {
     "name": "stdout",
     "output_type": "stream",
     "text": [
      "Train loss: 0.694 | train acc = 0.502\n"
     ]
    },
    {
     "name": "stderr",
     "output_type": "stream",
     "text": [
      "loss = 0.698 | acc = 0.500: 100%|██████████████████████████████████████████████████████| 36/36 [00:08<00:00,  4.41it/s]\n"
     ]
    },
    {
     "name": "stdout",
     "output_type": "stream",
     "text": [
      "Validation loss: 0.694 | val acc = 0.496\n",
      "\n",
      "Epoch 13/100\n"
     ]
    },
    {
     "name": "stderr",
     "output_type": "stream",
     "text": [
      "loss = 0.700 | acc = 0.538: 100%|████████████████████████████████████████████████████| 317/317 [02:41<00:00,  1.97it/s]\n"
     ]
    },
    {
     "name": "stdout",
     "output_type": "stream",
     "text": [
      "Train loss: 0.694 | train acc = 0.502\n"
     ]
    },
    {
     "name": "stderr",
     "output_type": "stream",
     "text": [
      "loss = 0.690 | acc = 0.500: 100%|██████████████████████████████████████████████████████| 36/36 [00:09<00:00,  3.87it/s]\n"
     ]
    },
    {
     "name": "stdout",
     "output_type": "stream",
     "text": [
      "Validation loss: 0.693 | val acc = 0.496\n",
      "\n",
      "Epoch 14/100\n"
     ]
    },
    {
     "name": "stderr",
     "output_type": "stream",
     "text": [
      "loss = 0.688 | acc = 0.481: 100%|████████████████████████████████████████████████████| 317/317 [02:41<00:00,  1.96it/s]\n"
     ]
    },
    {
     "name": "stdout",
     "output_type": "stream",
     "text": [
      "Train loss: 0.694 | train acc = 0.502\n"
     ]
    },
    {
     "name": "stderr",
     "output_type": "stream",
     "text": [
      "loss = 0.691 | acc = 0.500: 100%|██████████████████████████████████████████████████████| 36/36 [00:08<00:00,  4.42it/s]\n"
     ]
    },
    {
     "name": "stdout",
     "output_type": "stream",
     "text": [
      "Validation loss: 0.694 | val acc = 0.496\n",
      "\n",
      "Epoch 15/100\n"
     ]
    },
    {
     "name": "stderr",
     "output_type": "stream",
     "text": [
      "loss = 0.699 | acc = 0.558: 100%|████████████████████████████████████████████████████| 317/317 [02:40<00:00,  1.97it/s]\n"
     ]
    },
    {
     "name": "stdout",
     "output_type": "stream",
     "text": [
      "Train loss: 0.694 | train acc = 0.502\n"
     ]
    },
    {
     "name": "stderr",
     "output_type": "stream",
     "text": [
      "loss = 0.697 | acc = 0.500: 100%|██████████████████████████████████████████████████████| 36/36 [00:08<00:00,  4.38it/s]\n"
     ]
    },
    {
     "name": "stdout",
     "output_type": "stream",
     "text": [
      "Validation loss: 0.695 | val acc = 0.496\n",
      "\n",
      "Epoch 16/100\n"
     ]
    },
    {
     "name": "stderr",
     "output_type": "stream",
     "text": [
      "loss = 0.692 | acc = 0.442: 100%|████████████████████████████████████████████████████| 317/317 [02:40<00:00,  1.98it/s]\n"
     ]
    },
    {
     "name": "stdout",
     "output_type": "stream",
     "text": [
      "Train loss: 0.694 | train acc = 0.502\n"
     ]
    },
    {
     "name": "stderr",
     "output_type": "stream",
     "text": [
      "loss = 0.685 | acc = 0.500: 100%|██████████████████████████████████████████████████████| 36/36 [00:08<00:00,  4.41it/s]\n"
     ]
    },
    {
     "name": "stdout",
     "output_type": "stream",
     "text": [
      "Validation loss: 0.693 | val acc = 0.496\n",
      "\n",
      "Epoch 17/100\n"
     ]
    },
    {
     "name": "stderr",
     "output_type": "stream",
     "text": [
      "loss = 0.688 | acc = 0.538: 100%|████████████████████████████████████████████████████| 317/317 [02:41<00:00,  1.97it/s]\n"
     ]
    },
    {
     "name": "stdout",
     "output_type": "stream",
     "text": [
      "Train loss: 0.694 | train acc = 0.502\n"
     ]
    },
    {
     "name": "stderr",
     "output_type": "stream",
     "text": [
      "loss = 0.697 | acc = 0.500: 100%|██████████████████████████████████████████████████████| 36/36 [00:08<00:00,  4.42it/s]\n"
     ]
    },
    {
     "name": "stdout",
     "output_type": "stream",
     "text": [
      "Validation loss: 0.694 | val acc = 0.496\n",
      "\n",
      "Epoch 18/100\n"
     ]
    },
    {
     "name": "stderr",
     "output_type": "stream",
     "text": [
      "loss = 0.698 | acc = 0.577: 100%|████████████████████████████████████████████████████| 317/317 [02:41<00:00,  1.97it/s]\n"
     ]
    },
    {
     "name": "stdout",
     "output_type": "stream",
     "text": [
      "Train loss: 0.694 | train acc = 0.502\n"
     ]
    },
    {
     "name": "stderr",
     "output_type": "stream",
     "text": [
      "loss = 0.690 | acc = 0.500: 100%|██████████████████████████████████████████████████████| 36/36 [00:08<00:00,  4.38it/s]\n"
     ]
    },
    {
     "name": "stdout",
     "output_type": "stream",
     "text": [
      "Validation loss: 0.693 | val acc = 0.496\n",
      "\n",
      "Epoch 19/100\n"
     ]
    },
    {
     "name": "stderr",
     "output_type": "stream",
     "text": [
      "loss = 0.693 | acc = 0.462: 100%|████████████████████████████████████████████████████| 317/317 [02:40<00:00,  1.97it/s]\n"
     ]
    },
    {
     "name": "stdout",
     "output_type": "stream",
     "text": [
      "Train loss: 0.694 | train acc = 0.502\n"
     ]
    },
    {
     "name": "stderr",
     "output_type": "stream",
     "text": [
      "loss = 0.694 | acc = 0.500: 100%|██████████████████████████████████████████████████████| 36/36 [00:08<00:00,  4.42it/s]\n"
     ]
    },
    {
     "name": "stdout",
     "output_type": "stream",
     "text": [
      "Validation loss: 0.693 | val acc = 0.496\n",
      "\n",
      "Epoch 20/100\n"
     ]
    },
    {
     "name": "stderr",
     "output_type": "stream",
     "text": [
      "loss = 0.692 | acc = 0.500: 100%|████████████████████████████████████████████████████| 317/317 [02:41<00:00,  1.97it/s]\n"
     ]
    },
    {
     "name": "stdout",
     "output_type": "stream",
     "text": [
      "Train loss: 0.694 | train acc = 0.502\n"
     ]
    },
    {
     "name": "stderr",
     "output_type": "stream",
     "text": [
      "loss = 0.691 | acc = 0.500: 100%|██████████████████████████████████████████████████████| 36/36 [00:08<00:00,  4.42it/s]\n"
     ]
    },
    {
     "name": "stdout",
     "output_type": "stream",
     "text": [
      "Validation loss: 0.693 | val acc = 0.496\n",
      "\n",
      "Epoch 21/100\n"
     ]
    },
    {
     "name": "stderr",
     "output_type": "stream",
     "text": [
      "loss = 0.702 | acc = 0.442: 100%|████████████████████████████████████████████████████| 317/317 [02:40<00:00,  1.97it/s]\n"
     ]
    },
    {
     "name": "stdout",
     "output_type": "stream",
     "text": [
      "Train loss: 0.694 | train acc = 0.502\n"
     ]
    },
    {
     "name": "stderr",
     "output_type": "stream",
     "text": [
      "loss = 0.693 | acc = 0.500: 100%|██████████████████████████████████████████████████████| 36/36 [00:08<00:00,  4.42it/s]\n"
     ]
    },
    {
     "name": "stdout",
     "output_type": "stream",
     "text": [
      "Validation loss: 0.694 | val acc = 0.496\n",
      "\n",
      "Epoch 22/100\n"
     ]
    },
    {
     "name": "stderr",
     "output_type": "stream",
     "text": [
      "loss = 0.693 | acc = 0.442: 100%|████████████████████████████████████████████████████| 317/317 [02:41<00:00,  1.97it/s]\n"
     ]
    },
    {
     "name": "stdout",
     "output_type": "stream",
     "text": [
      "Train loss: 0.694 | train acc = 0.502\n"
     ]
    },
    {
     "name": "stderr",
     "output_type": "stream",
     "text": [
      "loss = 0.689 | acc = 0.500: 100%|██████████████████████████████████████████████████████| 36/36 [00:08<00:00,  4.43it/s]\n"
     ]
    },
    {
     "name": "stdout",
     "output_type": "stream",
     "text": [
      "Validation loss: 0.693 | val acc = 0.496\n",
      "\n",
      "Epoch 23/100\n"
     ]
    },
    {
     "name": "stderr",
     "output_type": "stream",
     "text": [
      "loss = 0.694 | acc = 0.500: 100%|████████████████████████████████████████████████████| 317/317 [02:40<00:00,  1.98it/s]\n"
     ]
    },
    {
     "name": "stdout",
     "output_type": "stream",
     "text": [
      "Train loss: 0.694 | train acc = 0.502\n"
     ]
    },
    {
     "name": "stderr",
     "output_type": "stream",
     "text": [
      "loss = 0.691 | acc = 0.500: 100%|██████████████████████████████████████████████████████| 36/36 [00:08<00:00,  4.07it/s]\n"
     ]
    },
    {
     "name": "stdout",
     "output_type": "stream",
     "text": [
      "Validation loss: 0.693 | val acc = 0.496\n",
      "\n",
      "Epoch 24/100\n"
     ]
    },
    {
     "name": "stderr",
     "output_type": "stream",
     "text": [
      "loss = 0.695 | acc = 0.519: 100%|████████████████████████████████████████████████████| 317/317 [02:42<00:00,  1.95it/s]\n"
     ]
    },
    {
     "name": "stdout",
     "output_type": "stream",
     "text": [
      "Train loss: 0.694 | train acc = 0.502\n"
     ]
    },
    {
     "name": "stderr",
     "output_type": "stream",
     "text": [
      "loss = 0.691 | acc = 0.500: 100%|██████████████████████████████████████████████████████| 36/36 [00:08<00:00,  4.41it/s]\n"
     ]
    },
    {
     "name": "stdout",
     "output_type": "stream",
     "text": [
      "Validation loss: 0.699 | val acc = 0.496\n",
      "\n",
      "Epoch 25/100\n"
     ]
    },
    {
     "name": "stderr",
     "output_type": "stream",
     "text": [
      "loss = 0.691 | acc = 0.519: 100%|████████████████████████████████████████████████████| 317/317 [02:40<00:00,  1.97it/s]\n"
     ]
    },
    {
     "name": "stdout",
     "output_type": "stream",
     "text": [
      "Train loss: 0.694 | train acc = 0.502\n"
     ]
    },
    {
     "name": "stderr",
     "output_type": "stream",
     "text": [
      "loss = 0.690 | acc = 0.500: 100%|██████████████████████████████████████████████████████| 36/36 [00:08<00:00,  4.37it/s]\n"
     ]
    },
    {
     "name": "stdout",
     "output_type": "stream",
     "text": [
      "Validation loss: 0.693 | val acc = 0.496\n",
      "\n",
      "Epoch 26/100\n"
     ]
    },
    {
     "name": "stderr",
     "output_type": "stream",
     "text": [
      "loss = 0.693 | acc = 0.462: 100%|████████████████████████████████████████████████████| 317/317 [02:41<00:00,  1.97it/s]\n"
     ]
    },
    {
     "name": "stdout",
     "output_type": "stream",
     "text": [
      "Train loss: 0.694 | train acc = 0.502\n"
     ]
    },
    {
     "name": "stderr",
     "output_type": "stream",
     "text": [
      "loss = 0.693 | acc = 0.500: 100%|██████████████████████████████████████████████████████| 36/36 [00:08<00:00,  4.41it/s]\n"
     ]
    },
    {
     "name": "stdout",
     "output_type": "stream",
     "text": [
      "Validation loss: 0.693 | val acc = 0.496\n",
      "\n",
      "Epoch 27/100\n"
     ]
    },
    {
     "name": "stderr",
     "output_type": "stream",
     "text": [
      "loss = 0.689 | acc = 0.462: 100%|████████████████████████████████████████████████████| 317/317 [02:42<00:00,  1.96it/s]\n"
     ]
    },
    {
     "name": "stdout",
     "output_type": "stream",
     "text": [
      "Train loss: 0.694 | train acc = 0.502\n"
     ]
    },
    {
     "name": "stderr",
     "output_type": "stream",
     "text": [
      "loss = 0.691 | acc = 0.500: 100%|██████████████████████████████████████████████████████| 36/36 [00:08<00:00,  4.39it/s]\n"
     ]
    },
    {
     "name": "stdout",
     "output_type": "stream",
     "text": [
      "Validation loss: 0.693 | val acc = 0.496\n",
      "\n",
      "Epoch 28/100\n"
     ]
    },
    {
     "name": "stderr",
     "output_type": "stream",
     "text": [
      "loss = 0.695 | acc = 0.462: 100%|████████████████████████████████████████████████████| 317/317 [02:40<00:00,  1.97it/s]\n"
     ]
    },
    {
     "name": "stdout",
     "output_type": "stream",
     "text": [
      "Train loss: 0.694 | train acc = 0.502\n"
     ]
    },
    {
     "name": "stderr",
     "output_type": "stream",
     "text": [
      "loss = 0.700 | acc = 0.500: 100%|██████████████████████████████████████████████████████| 36/36 [00:08<00:00,  4.42it/s]\n"
     ]
    },
    {
     "name": "stdout",
     "output_type": "stream",
     "text": [
      "Validation loss: 0.694 | val acc = 0.496\n",
      "\n",
      "Epoch 29/100\n"
     ]
    },
    {
     "name": "stderr",
     "output_type": "stream",
     "text": [
      "loss = 0.700 | acc = 0.365: 100%|████████████████████████████████████████████████████| 317/317 [02:40<00:00,  1.97it/s]\n"
     ]
    },
    {
     "name": "stdout",
     "output_type": "stream",
     "text": [
      "Train loss: 0.694 | train acc = 0.501\n"
     ]
    },
    {
     "name": "stderr",
     "output_type": "stream",
     "text": [
      "loss = 0.696 | acc = 0.500: 100%|██████████████████████████████████████████████████████| 36/36 [00:08<00:00,  4.31it/s]\n"
     ]
    },
    {
     "name": "stdout",
     "output_type": "stream",
     "text": [
      "Validation loss: 0.693 | val acc = 0.496\n",
      "\n",
      "Epoch 30/100\n"
     ]
    },
    {
     "name": "stderr",
     "output_type": "stream",
     "text": [
      "loss = 0.694 | acc = 0.346: 100%|████████████████████████████████████████████████████| 317/317 [02:41<00:00,  1.96it/s]\n"
     ]
    },
    {
     "name": "stdout",
     "output_type": "stream",
     "text": [
      "Train loss: 0.694 | train acc = 0.501\n"
     ]
    },
    {
     "name": "stderr",
     "output_type": "stream",
     "text": [
      "loss = 0.690 | acc = 0.500: 100%|██████████████████████████████████████████████████████| 36/36 [00:08<00:00,  4.41it/s]\n"
     ]
    },
    {
     "name": "stdout",
     "output_type": "stream",
     "text": [
      "Validation loss: 0.694 | val acc = 0.496\n",
      "\n",
      "Epoch 31/100\n"
     ]
    },
    {
     "name": "stderr",
     "output_type": "stream",
     "text": [
      "loss = 0.693 | acc = 0.519: 100%|████████████████████████████████████████████████████| 317/317 [02:41<00:00,  1.97it/s]\n"
     ]
    },
    {
     "name": "stdout",
     "output_type": "stream",
     "text": [
      "Train loss: 0.694 | train acc = 0.502\n"
     ]
    },
    {
     "name": "stderr",
     "output_type": "stream",
     "text": [
      "loss = 0.695 | acc = 0.500: 100%|██████████████████████████████████████████████████████| 36/36 [00:08<00:00,  4.40it/s]\n"
     ]
    },
    {
     "name": "stdout",
     "output_type": "stream",
     "text": [
      "Validation loss: 0.693 | val acc = 0.496\n",
      "\n",
      "Epoch 32/100\n"
     ]
    },
    {
     "name": "stderr",
     "output_type": "stream",
     "text": [
      "loss = 0.695 | acc = 0.481: 100%|████████████████████████████████████████████████████| 317/317 [02:40<00:00,  1.97it/s]\n"
     ]
    },
    {
     "name": "stdout",
     "output_type": "stream",
     "text": [
      "Train loss: 0.694 | train acc = 0.502\n"
     ]
    },
    {
     "name": "stderr",
     "output_type": "stream",
     "text": [
      "loss = 0.692 | acc = 0.500: 100%|██████████████████████████████████████████████████████| 36/36 [00:08<00:00,  4.34it/s]\n"
     ]
    },
    {
     "name": "stdout",
     "output_type": "stream",
     "text": [
      "Validation loss: 0.694 | val acc = 0.496\n",
      "\n",
      "Epoch 33/100\n"
     ]
    },
    {
     "name": "stderr",
     "output_type": "stream",
     "text": [
      "loss = 0.690 | acc = 0.558: 100%|████████████████████████████████████████████████████| 317/317 [02:41<00:00,  1.97it/s]\n"
     ]
    },
    {
     "name": "stdout",
     "output_type": "stream",
     "text": [
      "Train loss: 0.694 | train acc = 0.502\n"
     ]
    },
    {
     "name": "stderr",
     "output_type": "stream",
     "text": [
      "loss = 0.693 | acc = 0.500: 100%|██████████████████████████████████████████████████████| 36/36 [00:08<00:00,  4.06it/s]\n"
     ]
    },
    {
     "name": "stdout",
     "output_type": "stream",
     "text": [
      "Validation loss: 0.694 | val acc = 0.496\n",
      "\n",
      "Epoch 34/100\n"
     ]
    },
    {
     "name": "stderr",
     "output_type": "stream",
     "text": [
      "loss = 0.693 | acc = 0.462: 100%|████████████████████████████████████████████████████| 317/317 [02:41<00:00,  1.97it/s]\n"
     ]
    },
    {
     "name": "stdout",
     "output_type": "stream",
     "text": [
      "Train loss: 0.694 | train acc = 0.502\n"
     ]
    },
    {
     "name": "stderr",
     "output_type": "stream",
     "text": [
      "loss = 0.691 | acc = 0.500: 100%|██████████████████████████████████████████████████████| 36/36 [00:08<00:00,  4.41it/s]\n"
     ]
    },
    {
     "name": "stdout",
     "output_type": "stream",
     "text": [
      "Validation loss: 0.694 | val acc = 0.496\n",
      "\n",
      "Epoch 35/100\n"
     ]
    },
    {
     "name": "stderr",
     "output_type": "stream",
     "text": [
      "loss = 0.685 | acc = 0.558: 100%|████████████████████████████████████████████████████| 317/317 [02:41<00:00,  1.96it/s]\n"
     ]
    },
    {
     "name": "stdout",
     "output_type": "stream",
     "text": [
      "Train loss: 0.694 | train acc = 0.502\n"
     ]
    },
    {
     "name": "stderr",
     "output_type": "stream",
     "text": [
      "loss = 0.702 | acc = 0.500: 100%|██████████████████████████████████████████████████████| 36/36 [00:08<00:00,  4.36it/s]\n"
     ]
    },
    {
     "name": "stdout",
     "output_type": "stream",
     "text": [
      "Validation loss: 0.694 | val acc = 0.496\n",
      "\n",
      "Epoch 36/100\n"
     ]
    },
    {
     "name": "stderr",
     "output_type": "stream",
     "text": [
      "loss = 0.697 | acc = 0.558: 100%|████████████████████████████████████████████████████| 317/317 [02:41<00:00,  1.96it/s]\n"
     ]
    },
    {
     "name": "stdout",
     "output_type": "stream",
     "text": [
      "Train loss: 0.694 | train acc = 0.502\n"
     ]
    },
    {
     "name": "stderr",
     "output_type": "stream",
     "text": [
      "loss = 0.700 | acc = 0.500: 100%|██████████████████████████████████████████████████████| 36/36 [00:08<00:00,  4.43it/s]\n"
     ]
    },
    {
     "name": "stdout",
     "output_type": "stream",
     "text": [
      "Validation loss: 0.694 | val acc = 0.496\n",
      "\n",
      "Epoch 37/100\n"
     ]
    },
    {
     "name": "stderr",
     "output_type": "stream",
     "text": [
      "loss = 0.692 | acc = 0.538: 100%|████████████████████████████████████████████████████| 317/317 [02:41<00:00,  1.97it/s]\n"
     ]
    },
    {
     "name": "stdout",
     "output_type": "stream",
     "text": [
      "Train loss: 0.694 | train acc = 0.502\n"
     ]
    },
    {
     "name": "stderr",
     "output_type": "stream",
     "text": [
      "loss = 0.694 | acc = 0.500: 100%|██████████████████████████████████████████████████████| 36/36 [00:08<00:00,  4.42it/s]\n"
     ]
    },
    {
     "name": "stdout",
     "output_type": "stream",
     "text": [
      "Validation loss: 0.693 | val acc = 0.496\n",
      "\n",
      "Epoch 38/100\n"
     ]
    },
    {
     "name": "stderr",
     "output_type": "stream",
     "text": [
      "loss = 0.689 | acc = 0.442: 100%|████████████████████████████████████████████████████| 317/317 [02:41<00:00,  1.97it/s]\n"
     ]
    },
    {
     "name": "stdout",
     "output_type": "stream",
     "text": [
      "Train loss: 0.694 | train acc = 0.502\n"
     ]
    },
    {
     "name": "stderr",
     "output_type": "stream",
     "text": [
      "loss = 0.696 | acc = 0.500: 100%|██████████████████████████████████████████████████████| 36/36 [00:08<00:00,  4.36it/s]\n"
     ]
    },
    {
     "name": "stdout",
     "output_type": "stream",
     "text": [
      "Validation loss: 0.693 | val acc = 0.496\n",
      "\n",
      "Epoch 39/100\n"
     ]
    },
    {
     "name": "stderr",
     "output_type": "stream",
     "text": [
      "loss = 0.701 | acc = 0.596: 100%|████████████████████████████████████████████████████| 317/317 [02:41<00:00,  1.97it/s]\n"
     ]
    },
    {
     "name": "stdout",
     "output_type": "stream",
     "text": [
      "Train loss: 0.694 | train acc = 0.502\n"
     ]
    },
    {
     "name": "stderr",
     "output_type": "stream",
     "text": [
      "loss = 0.696 | acc = 0.500: 100%|██████████████████████████████████████████████████████| 36/36 [00:08<00:00,  4.42it/s]\n"
     ]
    },
    {
     "name": "stdout",
     "output_type": "stream",
     "text": [
      "Validation loss: 0.693 | val acc = 0.496\n",
      "\n",
      "Epoch 40/100\n"
     ]
    },
    {
     "name": "stderr",
     "output_type": "stream",
     "text": [
      "loss = 0.695 | acc = 0.519: 100%|████████████████████████████████████████████████████| 317/317 [02:41<00:00,  1.97it/s]\n"
     ]
    },
    {
     "name": "stdout",
     "output_type": "stream",
     "text": [
      "Train loss: 0.694 | train acc = 0.502\n"
     ]
    },
    {
     "name": "stderr",
     "output_type": "stream",
     "text": [
      "loss = 0.700 | acc = 0.500: 100%|██████████████████████████████████████████████████████| 36/36 [00:08<00:00,  4.08it/s]\n"
     ]
    },
    {
     "name": "stdout",
     "output_type": "stream",
     "text": [
      "Validation loss: 0.694 | val acc = 0.496\n",
      "\n",
      "Epoch 41/100\n"
     ]
    },
    {
     "name": "stderr",
     "output_type": "stream",
     "text": [
      "loss = 0.695 | acc = 0.462: 100%|████████████████████████████████████████████████████| 317/317 [02:41<00:00,  1.97it/s]\n"
     ]
    },
    {
     "name": "stdout",
     "output_type": "stream",
     "text": [
      "Train loss: 0.694 | train acc = 0.502\n"
     ]
    },
    {
     "name": "stderr",
     "output_type": "stream",
     "text": [
      "loss = 0.693 | acc = 0.500: 100%|██████████████████████████████████████████████████████| 36/36 [00:08<00:00,  4.40it/s]\n"
     ]
    },
    {
     "name": "stdout",
     "output_type": "stream",
     "text": [
      "Validation loss: 0.693 | val acc = 0.496\n",
      "\n",
      "Epoch 42/100\n"
     ]
    },
    {
     "name": "stderr",
     "output_type": "stream",
     "text": [
      "loss = 0.695 | acc = 0.519: 100%|████████████████████████████████████████████████████| 317/317 [02:40<00:00,  1.97it/s]\n"
     ]
    },
    {
     "name": "stdout",
     "output_type": "stream",
     "text": [
      "Train loss: 0.694 | train acc = 0.502\n"
     ]
    },
    {
     "name": "stderr",
     "output_type": "stream",
     "text": [
      "loss = 0.689 | acc = 0.500: 100%|██████████████████████████████████████████████████████| 36/36 [00:08<00:00,  4.43it/s]\n"
     ]
    },
    {
     "name": "stdout",
     "output_type": "stream",
     "text": [
      "Validation loss: 0.694 | val acc = 0.496\n",
      "\n",
      "Epoch 43/100\n"
     ]
    },
    {
     "name": "stderr",
     "output_type": "stream",
     "text": [
      "loss = 0.691 | acc = 0.596: 100%|████████████████████████████████████████████████████| 317/317 [02:40<00:00,  1.98it/s]\n"
     ]
    },
    {
     "name": "stdout",
     "output_type": "stream",
     "text": [
      "Train loss: 0.694 | train acc = 0.502\n"
     ]
    },
    {
     "name": "stderr",
     "output_type": "stream",
     "text": [
      "loss = 0.694 | acc = 0.500: 100%|██████████████████████████████████████████████████████| 36/36 [00:08<00:00,  4.37it/s]\n"
     ]
    },
    {
     "name": "stdout",
     "output_type": "stream",
     "text": [
      "Validation loss: 0.693 | val acc = 0.496\n",
      "\n",
      "Epoch 44/100\n"
     ]
    },
    {
     "name": "stderr",
     "output_type": "stream",
     "text": [
      "loss = 0.691 | acc = 0.596: 100%|████████████████████████████████████████████████████| 317/317 [02:41<00:00,  1.96it/s]\n"
     ]
    },
    {
     "name": "stdout",
     "output_type": "stream",
     "text": [
      "Train loss: 0.694 | train acc = 0.502\n"
     ]
    },
    {
     "name": "stderr",
     "output_type": "stream",
     "text": [
      "loss = 0.691 | acc = 0.500: 100%|██████████████████████████████████████████████████████| 36/36 [00:08<00:00,  4.42it/s]\n"
     ]
    },
    {
     "name": "stdout",
     "output_type": "stream",
     "text": [
      "Validation loss: 0.693 | val acc = 0.496\n",
      "\n",
      "Epoch 45/100\n"
     ]
    },
    {
     "name": "stderr",
     "output_type": "stream",
     "text": [
      "loss = 0.700 | acc = 0.404: 100%|████████████████████████████████████████████████████| 317/317 [02:39<00:00,  1.98it/s]\n"
     ]
    },
    {
     "name": "stdout",
     "output_type": "stream",
     "text": [
      "Train loss: 0.694 | train acc = 0.501\n"
     ]
    },
    {
     "name": "stderr",
     "output_type": "stream",
     "text": [
      "loss = 0.693 | acc = 0.500: 100%|██████████████████████████████████████████████████████| 36/36 [00:08<00:00,  4.32it/s]\n"
     ]
    },
    {
     "name": "stdout",
     "output_type": "stream",
     "text": [
      "Validation loss: 0.694 | val acc = 0.496\n",
      "\n",
      "Epoch 46/100\n"
     ]
    },
    {
     "name": "stderr",
     "output_type": "stream",
     "text": [
      "loss = 0.697 | acc = 0.500: 100%|████████████████████████████████████████████████████| 317/317 [02:40<00:00,  1.98it/s]\n"
     ]
    },
    {
     "name": "stdout",
     "output_type": "stream",
     "text": [
      "Train loss: 0.694 | train acc = 0.502\n"
     ]
    },
    {
     "name": "stderr",
     "output_type": "stream",
     "text": [
      "loss = 0.690 | acc = 0.500: 100%|██████████████████████████████████████████████████████| 36/36 [00:08<00:00,  4.38it/s]\n"
     ]
    },
    {
     "name": "stdout",
     "output_type": "stream",
     "text": [
      "Validation loss: 0.694 | val acc = 0.496\n",
      "\n",
      "Epoch 47/100\n"
     ]
    },
    {
     "name": "stderr",
     "output_type": "stream",
     "text": [
      "loss = 0.693 | acc = 0.404: 100%|████████████████████████████████████████████████████| 317/317 [02:40<00:00,  1.97it/s]\n"
     ]
    },
    {
     "name": "stdout",
     "output_type": "stream",
     "text": [
      "Train loss: 0.694 | train acc = 0.501\n"
     ]
    },
    {
     "name": "stderr",
     "output_type": "stream",
     "text": [
      "loss = 0.689 | acc = 0.500: 100%|██████████████████████████████████████████████████████| 36/36 [00:08<00:00,  4.44it/s]\n"
     ]
    },
    {
     "name": "stdout",
     "output_type": "stream",
     "text": [
      "Validation loss: 0.693 | val acc = 0.496\n",
      "\n",
      "Epoch 48/100\n"
     ]
    },
    {
     "name": "stderr",
     "output_type": "stream",
     "text": [
      "loss = 0.700 | acc = 0.519: 100%|████████████████████████████████████████████████████| 317/317 [02:40<00:00,  1.98it/s]\n"
     ]
    },
    {
     "name": "stdout",
     "output_type": "stream",
     "text": [
      "Train loss: 0.694 | train acc = 0.502\n"
     ]
    },
    {
     "name": "stderr",
     "output_type": "stream",
     "text": [
      "loss = 0.700 | acc = 0.500: 100%|██████████████████████████████████████████████████████| 36/36 [00:08<00:00,  4.45it/s]\n"
     ]
    },
    {
     "name": "stdout",
     "output_type": "stream",
     "text": [
      "Validation loss: 0.694 | val acc = 0.496\n",
      "\n",
      "Epoch 49/100\n"
     ]
    },
    {
     "name": "stderr",
     "output_type": "stream",
     "text": [
      "loss = 0.701 | acc = 0.673: 100%|████████████████████████████████████████████████████| 317/317 [02:40<00:00,  1.98it/s]\n"
     ]
    },
    {
     "name": "stdout",
     "output_type": "stream",
     "text": [
      "Train loss: 0.694 | train acc = 0.502\n"
     ]
    },
    {
     "name": "stderr",
     "output_type": "stream",
     "text": [
      "loss = 0.693 | acc = 0.500: 100%|██████████████████████████████████████████████████████| 36/36 [00:08<00:00,  4.38it/s]\n"
     ]
    },
    {
     "name": "stdout",
     "output_type": "stream",
     "text": [
      "Validation loss: 0.693 | val acc = 0.496\n",
      "\n",
      "Epoch 50/100\n"
     ]
    },
    {
     "name": "stderr",
     "output_type": "stream",
     "text": [
      "loss = 0.703 | acc = 0.558: 100%|████████████████████████████████████████████████████| 317/317 [02:39<00:00,  1.98it/s]\n"
     ]
    },
    {
     "name": "stdout",
     "output_type": "stream",
     "text": [
      "Train loss: 0.694 | train acc = 0.502\n"
     ]
    },
    {
     "name": "stderr",
     "output_type": "stream",
     "text": [
      "loss = 0.688 | acc = 0.500: 100%|██████████████████████████████████████████████████████| 36/36 [00:08<00:00,  4.04it/s]\n"
     ]
    },
    {
     "name": "stdout",
     "output_type": "stream",
     "text": [
      "Validation loss: 0.693 | val acc = 0.496\n",
      "\n",
      "Epoch 51/100\n"
     ]
    },
    {
     "name": "stderr",
     "output_type": "stream",
     "text": [
      "loss = 0.702 | acc = 0.462: 100%|████████████████████████████████████████████████████| 317/317 [02:40<00:00,  1.98it/s]\n"
     ]
    },
    {
     "name": "stdout",
     "output_type": "stream",
     "text": [
      "Train loss: 0.694 | train acc = 0.502\n"
     ]
    },
    {
     "name": "stderr",
     "output_type": "stream",
     "text": [
      "loss = 0.691 | acc = 0.500: 100%|██████████████████████████████████████████████████████| 36/36 [00:08<00:00,  4.42it/s]\n"
     ]
    },
    {
     "name": "stdout",
     "output_type": "stream",
     "text": [
      "Validation loss: 0.694 | val acc = 0.496\n",
      "\n",
      "Epoch 52/100\n"
     ]
    },
    {
     "name": "stderr",
     "output_type": "stream",
     "text": [
      "loss = 0.697 | acc = 0.538: 100%|████████████████████████████████████████████████████| 317/317 [02:40<00:00,  1.98it/s]\n"
     ]
    },
    {
     "name": "stdout",
     "output_type": "stream",
     "text": [
      "Train loss: 0.694 | train acc = 0.502\n"
     ]
    },
    {
     "name": "stderr",
     "output_type": "stream",
     "text": [
      "loss = 0.685 | acc = 0.500: 100%|██████████████████████████████████████████████████████| 36/36 [00:08<00:00,  4.44it/s]\n"
     ]
    },
    {
     "name": "stdout",
     "output_type": "stream",
     "text": [
      "Validation loss: 0.693 | val acc = 0.496\n",
      "\n",
      "Epoch 53/100\n"
     ]
    },
    {
     "name": "stderr",
     "output_type": "stream",
     "text": [
      "loss = 0.694 | acc = 0.577: 100%|████████████████████████████████████████████████████| 317/317 [02:40<00:00,  1.98it/s]\n"
     ]
    },
    {
     "name": "stdout",
     "output_type": "stream",
     "text": [
      "Train loss: 0.694 | train acc = 0.502\n"
     ]
    },
    {
     "name": "stderr",
     "output_type": "stream",
     "text": [
      "loss = 0.700 | acc = 0.500: 100%|██████████████████████████████████████████████████████| 36/36 [00:08<00:00,  4.44it/s]\n"
     ]
    },
    {
     "name": "stdout",
     "output_type": "stream",
     "text": [
      "Validation loss: 0.694 | val acc = 0.496\n",
      "\n",
      "Epoch 54/100\n"
     ]
    },
    {
     "name": "stderr",
     "output_type": "stream",
     "text": [
      "loss = 0.695 | acc = 0.615: 100%|████████████████████████████████████████████████████| 317/317 [02:41<00:00,  1.97it/s]\n"
     ]
    },
    {
     "name": "stdout",
     "output_type": "stream",
     "text": [
      "Train loss: 0.694 | train acc = 0.502\n"
     ]
    },
    {
     "name": "stderr",
     "output_type": "stream",
     "text": [
      "loss = 0.696 | acc = 0.500: 100%|██████████████████████████████████████████████████████| 36/36 [00:08<00:00,  4.40it/s]\n"
     ]
    },
    {
     "name": "stdout",
     "output_type": "stream",
     "text": [
      "Validation loss: 0.694 | val acc = 0.496\n",
      "\n",
      "Epoch 55/100\n"
     ]
    },
    {
     "name": "stderr",
     "output_type": "stream",
     "text": [
      "loss = 0.692 | acc = 0.519: 100%|████████████████████████████████████████████████████| 317/317 [02:39<00:00,  1.98it/s]\n"
     ]
    },
    {
     "name": "stdout",
     "output_type": "stream",
     "text": [
      "Train loss: 0.694 | train acc = 0.502\n"
     ]
    },
    {
     "name": "stderr",
     "output_type": "stream",
     "text": [
      "loss = 0.696 | acc = 0.500: 100%|██████████████████████████████████████████████████████| 36/36 [00:08<00:00,  4.30it/s]\n"
     ]
    },
    {
     "name": "stdout",
     "output_type": "stream",
     "text": [
      "Validation loss: 0.695 | val acc = 0.496\n",
      "\n",
      "Epoch 56/100\n"
     ]
    },
    {
     "name": "stderr",
     "output_type": "stream",
     "text": [
      "loss = 0.692 | acc = 0.500: 100%|████████████████████████████████████████████████████| 317/317 [02:40<00:00,  1.98it/s]\n"
     ]
    },
    {
     "name": "stdout",
     "output_type": "stream",
     "text": [
      "Train loss: 0.694 | train acc = 0.502\n"
     ]
    },
    {
     "name": "stderr",
     "output_type": "stream",
     "text": [
      "loss = 0.692 | acc = 0.500: 100%|██████████████████████████████████████████████████████| 36/36 [00:08<00:00,  4.43it/s]\n"
     ]
    },
    {
     "name": "stdout",
     "output_type": "stream",
     "text": [
      "Validation loss: 0.693 | val acc = 0.496\n",
      "\n",
      "Epoch 57/100\n"
     ]
    },
    {
     "name": "stderr",
     "output_type": "stream",
     "text": [
      "loss = 0.696 | acc = 0.500: 100%|████████████████████████████████████████████████████| 317/317 [02:41<00:00,  1.96it/s]\n"
     ]
    },
    {
     "name": "stdout",
     "output_type": "stream",
     "text": [
      "Train loss: 0.694 | train acc = 0.502\n"
     ]
    },
    {
     "name": "stderr",
     "output_type": "stream",
     "text": [
      "loss = 0.699 | acc = 0.500: 100%|██████████████████████████████████████████████████████| 36/36 [00:08<00:00,  4.42it/s]\n"
     ]
    },
    {
     "name": "stdout",
     "output_type": "stream",
     "text": [
      "Validation loss: 0.694 | val acc = 0.496\n",
      "\n",
      "Epoch 58/100\n"
     ]
    },
    {
     "name": "stderr",
     "output_type": "stream",
     "text": [
      "loss = 0.690 | acc = 0.519: 100%|████████████████████████████████████████████████████| 317/317 [02:40<00:00,  1.98it/s]\n"
     ]
    },
    {
     "name": "stdout",
     "output_type": "stream",
     "text": [
      "Train loss: 0.694 | train acc = 0.502\n"
     ]
    },
    {
     "name": "stderr",
     "output_type": "stream",
     "text": [
      "loss = 0.694 | acc = 0.500: 100%|██████████████████████████████████████████████████████| 36/36 [00:08<00:00,  4.44it/s]\n"
     ]
    },
    {
     "name": "stdout",
     "output_type": "stream",
     "text": [
      "Validation loss: 0.693 | val acc = 0.496\n",
      "\n",
      "Epoch 59/100\n"
     ]
    },
    {
     "name": "stderr",
     "output_type": "stream",
     "text": [
      "loss = 0.694 | acc = 0.462: 100%|████████████████████████████████████████████████████| 317/317 [02:39<00:00,  1.98it/s]\n"
     ]
    },
    {
     "name": "stdout",
     "output_type": "stream",
     "text": [
      "Train loss: 0.694 | train acc = 0.502\n"
     ]
    },
    {
     "name": "stderr",
     "output_type": "stream",
     "text": [
      "loss = 0.694 | acc = 0.500: 100%|██████████████████████████████████████████████████████| 36/36 [00:08<00:00,  4.36it/s]\n"
     ]
    },
    {
     "name": "stdout",
     "output_type": "stream",
     "text": [
      "Validation loss: 0.693 | val acc = 0.496\n",
      "\n",
      "Epoch 60/100\n"
     ]
    },
    {
     "name": "stderr",
     "output_type": "stream",
     "text": [
      "loss = 0.694 | acc = 0.404: 100%|████████████████████████████████████████████████████| 317/317 [02:40<00:00,  1.98it/s]\n"
     ]
    },
    {
     "name": "stdout",
     "output_type": "stream",
     "text": [
      "Train loss: 0.694 | train acc = 0.501\n"
     ]
    },
    {
     "name": "stderr",
     "output_type": "stream",
     "text": [
      "loss = 0.697 | acc = 0.500: 100%|██████████████████████████████████████████████████████| 36/36 [00:08<00:00,  4.09it/s]\n"
     ]
    },
    {
     "name": "stdout",
     "output_type": "stream",
     "text": [
      "Validation loss: 0.693 | val acc = 0.496\n",
      "\n",
      "Epoch 61/100\n"
     ]
    },
    {
     "name": "stderr",
     "output_type": "stream",
     "text": [
      "loss = 0.692 | acc = 0.481: 100%|████████████████████████████████████████████████████| 317/317 [02:39<00:00,  1.98it/s]\n"
     ]
    },
    {
     "name": "stdout",
     "output_type": "stream",
     "text": [
      "Train loss: 0.694 | train acc = 0.502\n"
     ]
    },
    {
     "name": "stderr",
     "output_type": "stream",
     "text": [
      "loss = 0.692 | acc = 0.500: 100%|██████████████████████████████████████████████████████| 36/36 [00:08<00:00,  4.44it/s]\n"
     ]
    },
    {
     "name": "stdout",
     "output_type": "stream",
     "text": [
      "Validation loss: 0.693 | val acc = 0.496\n",
      "\n",
      "Epoch 62/100\n"
     ]
    },
    {
     "name": "stderr",
     "output_type": "stream",
     "text": [
      "loss = 0.688 | acc = 0.558: 100%|████████████████████████████████████████████████████| 317/317 [02:40<00:00,  1.98it/s]\n"
     ]
    },
    {
     "name": "stdout",
     "output_type": "stream",
     "text": [
      "Train loss: 0.694 | train acc = 0.502\n"
     ]
    },
    {
     "name": "stderr",
     "output_type": "stream",
     "text": [
      "loss = 0.693 | acc = 0.500: 100%|██████████████████████████████████████████████████████| 36/36 [00:08<00:00,  4.40it/s]\n"
     ]
    },
    {
     "name": "stdout",
     "output_type": "stream",
     "text": [
      "Validation loss: 0.694 | val acc = 0.496\n",
      "\n",
      "Epoch 63/100\n"
     ]
    },
    {
     "name": "stderr",
     "output_type": "stream",
     "text": [
      "loss = 0.691 | acc = 0.404: 100%|████████████████████████████████████████████████████| 317/317 [02:40<00:00,  1.97it/s]\n"
     ]
    },
    {
     "name": "stdout",
     "output_type": "stream",
     "text": [
      "Train loss: 0.694 | train acc = 0.501\n"
     ]
    },
    {
     "name": "stderr",
     "output_type": "stream",
     "text": [
      "loss = 0.696 | acc = 0.500: 100%|██████████████████████████████████████████████████████| 36/36 [00:08<00:00,  4.45it/s]\n"
     ]
    },
    {
     "name": "stdout",
     "output_type": "stream",
     "text": [
      "Validation loss: 0.694 | val acc = 0.496\n",
      "\n",
      "Epoch 64/100\n"
     ]
    },
    {
     "name": "stderr",
     "output_type": "stream",
     "text": [
      "loss = 0.700 | acc = 0.442: 100%|████████████████████████████████████████████████████| 317/317 [02:40<00:00,  1.97it/s]\n"
     ]
    },
    {
     "name": "stdout",
     "output_type": "stream",
     "text": [
      "Train loss: 0.694 | train acc = 0.502\n"
     ]
    },
    {
     "name": "stderr",
     "output_type": "stream",
     "text": [
      "loss = 0.692 | acc = 0.500: 100%|██████████████████████████████████████████████████████| 36/36 [00:08<00:00,  4.43it/s]\n"
     ]
    },
    {
     "name": "stdout",
     "output_type": "stream",
     "text": [
      "Validation loss: 0.693 | val acc = 0.496\n",
      "\n",
      "Epoch 65/100\n"
     ]
    },
    {
     "name": "stderr",
     "output_type": "stream",
     "text": [
      "loss = 0.690 | acc = 0.596: 100%|████████████████████████████████████████████████████| 317/317 [02:39<00:00,  1.98it/s]\n"
     ]
    },
    {
     "name": "stdout",
     "output_type": "stream",
     "text": [
      "Train loss: 0.694 | train acc = 0.502\n"
     ]
    },
    {
     "name": "stderr",
     "output_type": "stream",
     "text": [
      "loss = 0.691 | acc = 0.500: 100%|██████████████████████████████████████████████████████| 36/36 [00:08<00:00,  4.41it/s]\n"
     ]
    },
    {
     "name": "stdout",
     "output_type": "stream",
     "text": [
      "Validation loss: 0.693 | val acc = 0.496\n",
      "\n",
      "Epoch 66/100\n"
     ]
    },
    {
     "name": "stderr",
     "output_type": "stream",
     "text": [
      "loss = 0.693 | acc = 0.462: 100%|████████████████████████████████████████████████████| 317/317 [02:40<00:00,  1.98it/s]\n"
     ]
    },
    {
     "name": "stdout",
     "output_type": "stream",
     "text": [
      "Train loss: 0.694 | train acc = 0.502\n"
     ]
    },
    {
     "name": "stderr",
     "output_type": "stream",
     "text": [
      "loss = 0.692 | acc = 0.500: 100%|██████████████████████████████████████████████████████| 36/36 [00:08<00:00,  4.40it/s]\n"
     ]
    },
    {
     "name": "stdout",
     "output_type": "stream",
     "text": [
      "Validation loss: 0.693 | val acc = 0.496\n",
      "\n",
      "Epoch 67/100\n"
     ]
    },
    {
     "name": "stderr",
     "output_type": "stream",
     "text": [
      "loss = 0.685 | acc = 0.635: 100%|████████████████████████████████████████████████████| 317/317 [02:40<00:00,  1.97it/s]\n"
     ]
    },
    {
     "name": "stdout",
     "output_type": "stream",
     "text": [
      "Train loss: 0.693 | train acc = 0.502\n"
     ]
    },
    {
     "name": "stderr",
     "output_type": "stream",
     "text": [
      "loss = 0.695 | acc = 0.500: 100%|██████████████████████████████████████████████████████| 36/36 [00:08<00:00,  4.38it/s]\n"
     ]
    },
    {
     "name": "stdout",
     "output_type": "stream",
     "text": [
      "Validation loss: 0.695 | val acc = 0.496\n",
      "\n",
      "Epoch 68/100\n"
     ]
    },
    {
     "name": "stderr",
     "output_type": "stream",
     "text": [
      "loss = 0.691 | acc = 0.500: 100%|████████████████████████████████████████████████████| 317/317 [02:39<00:00,  1.98it/s]\n"
     ]
    },
    {
     "name": "stdout",
     "output_type": "stream",
     "text": [
      "Train loss: 0.694 | train acc = 0.502\n"
     ]
    },
    {
     "name": "stderr",
     "output_type": "stream",
     "text": [
      "loss = 0.693 | acc = 0.500: 100%|██████████████████████████████████████████████████████| 36/36 [00:08<00:00,  4.42it/s]\n"
     ]
    },
    {
     "name": "stdout",
     "output_type": "stream",
     "text": [
      "Validation loss: 0.693 | val acc = 0.496\n",
      "\n",
      "Epoch 69/100\n"
     ]
    },
    {
     "name": "stderr",
     "output_type": "stream",
     "text": [
      "loss = 0.692 | acc = 0.346: 100%|████████████████████████████████████████████████████| 317/317 [02:40<00:00,  1.98it/s]\n"
     ]
    },
    {
     "name": "stdout",
     "output_type": "stream",
     "text": [
      "Train loss: 0.694 | train acc = 0.501\n"
     ]
    },
    {
     "name": "stderr",
     "output_type": "stream",
     "text": [
      "loss = 0.690 | acc = 0.500: 100%|██████████████████████████████████████████████████████| 36/36 [00:08<00:00,  4.44it/s]\n"
     ]
    },
    {
     "name": "stdout",
     "output_type": "stream",
     "text": [
      "Validation loss: 0.693 | val acc = 0.496\n",
      "\n",
      "Epoch 70/100\n"
     ]
    },
    {
     "name": "stderr",
     "output_type": "stream",
     "text": [
      "loss = 0.697 | acc = 0.423: 100%|████████████████████████████████████████████████████| 317/317 [02:40<00:00,  1.98it/s]\n"
     ]
    },
    {
     "name": "stdout",
     "output_type": "stream",
     "text": [
      "Train loss: 0.694 | train acc = 0.502\n"
     ]
    },
    {
     "name": "stderr",
     "output_type": "stream",
     "text": [
      "loss = 0.693 | acc = 0.500: 100%|██████████████████████████████████████████████████████| 36/36 [00:08<00:00,  4.06it/s]\n"
     ]
    },
    {
     "name": "stdout",
     "output_type": "stream",
     "text": [
      "Validation loss: 0.694 | val acc = 0.496\n",
      "\n",
      "Epoch 71/100\n"
     ]
    },
    {
     "name": "stderr",
     "output_type": "stream",
     "text": [
      "loss = 0.688 | acc = 0.615: 100%|████████████████████████████████████████████████████| 317/317 [02:40<00:00,  1.98it/s]\n"
     ]
    },
    {
     "name": "stdout",
     "output_type": "stream",
     "text": [
      "Train loss: 0.693 | train acc = 0.502\n"
     ]
    },
    {
     "name": "stderr",
     "output_type": "stream",
     "text": [
      "loss = 0.692 | acc = 0.500: 100%|██████████████████████████████████████████████████████| 36/36 [00:08<00:00,  4.44it/s]\n"
     ]
    },
    {
     "name": "stdout",
     "output_type": "stream",
     "text": [
      "Validation loss: 0.694 | val acc = 0.496\n",
      "\n",
      "Epoch 72/100\n"
     ]
    },
    {
     "name": "stderr",
     "output_type": "stream",
     "text": [
      "loss = 0.696 | acc = 0.538: 100%|████████████████████████████████████████████████████| 317/317 [02:40<00:00,  1.98it/s]\n"
     ]
    },
    {
     "name": "stdout",
     "output_type": "stream",
     "text": [
      "Train loss: 0.693 | train acc = 0.502\n"
     ]
    },
    {
     "name": "stderr",
     "output_type": "stream",
     "text": [
      "loss = 0.695 | acc = 0.500: 100%|██████████████████████████████████████████████████████| 36/36 [00:08<00:00,  4.35it/s]\n"
     ]
    },
    {
     "name": "stdout",
     "output_type": "stream",
     "text": [
      "Validation loss: 0.693 | val acc = 0.496\n",
      "\n",
      "Epoch 73/100\n"
     ]
    },
    {
     "name": "stderr",
     "output_type": "stream",
     "text": [
      "loss = 0.691 | acc = 0.538: 100%|████████████████████████████████████████████████████| 317/317 [02:40<00:00,  1.98it/s]\n"
     ]
    },
    {
     "name": "stdout",
     "output_type": "stream",
     "text": [
      "Train loss: 0.694 | train acc = 0.502\n"
     ]
    },
    {
     "name": "stderr",
     "output_type": "stream",
     "text": [
      "loss = 0.698 | acc = 0.500: 100%|██████████████████████████████████████████████████████| 36/36 [00:08<00:00,  4.42it/s]\n"
     ]
    },
    {
     "name": "stdout",
     "output_type": "stream",
     "text": [
      "Validation loss: 0.696 | val acc = 0.496\n",
      "\n",
      "Epoch 74/100\n"
     ]
    },
    {
     "name": "stderr",
     "output_type": "stream",
     "text": [
      "loss = 0.693 | acc = 0.519: 100%|████████████████████████████████████████████████████| 317/317 [02:41<00:00,  1.97it/s]\n"
     ]
    },
    {
     "name": "stdout",
     "output_type": "stream",
     "text": [
      "Train loss: 0.694 | train acc = 0.502\n"
     ]
    },
    {
     "name": "stderr",
     "output_type": "stream",
     "text": [
      "loss = 0.692 | acc = 0.500: 100%|██████████████████████████████████████████████████████| 36/36 [00:08<00:00,  4.44it/s]\n"
     ]
    },
    {
     "name": "stdout",
     "output_type": "stream",
     "text": [
      "Validation loss: 0.693 | val acc = 0.496\n",
      "\n",
      "Epoch 75/100\n"
     ]
    },
    {
     "name": "stderr",
     "output_type": "stream",
     "text": [
      "loss = 0.692 | acc = 0.519: 100%|████████████████████████████████████████████████████| 317/317 [02:40<00:00,  1.98it/s]\n"
     ]
    },
    {
     "name": "stdout",
     "output_type": "stream",
     "text": [
      "Train loss: 0.694 | train acc = 0.502\n"
     ]
    },
    {
     "name": "stderr",
     "output_type": "stream",
     "text": [
      "loss = 0.698 | acc = 0.500: 100%|██████████████████████████████████████████████████████| 36/36 [00:08<00:00,  4.34it/s]\n"
     ]
    },
    {
     "name": "stdout",
     "output_type": "stream",
     "text": [
      "Validation loss: 0.694 | val acc = 0.496\n",
      "\n",
      "Epoch 76/100\n"
     ]
    },
    {
     "name": "stderr",
     "output_type": "stream",
     "text": [
      "loss = 0.696 | acc = 0.481: 100%|████████████████████████████████████████████████████| 317/317 [02:40<00:00,  1.98it/s]\n"
     ]
    },
    {
     "name": "stdout",
     "output_type": "stream",
     "text": [
      "Train loss: 0.694 | train acc = 0.502\n"
     ]
    },
    {
     "name": "stderr",
     "output_type": "stream",
     "text": [
      "loss = 0.695 | acc = 0.500: 100%|██████████████████████████████████████████████████████| 36/36 [00:08<00:00,  4.42it/s]\n"
     ]
    },
    {
     "name": "stdout",
     "output_type": "stream",
     "text": [
      "Validation loss: 0.693 | val acc = 0.496\n",
      "\n",
      "Epoch 77/100\n"
     ]
    },
    {
     "name": "stderr",
     "output_type": "stream",
     "text": [
      "loss = 0.693 | acc = 0.577: 100%|████████████████████████████████████████████████████| 317/317 [02:40<00:00,  1.98it/s]\n"
     ]
    },
    {
     "name": "stdout",
     "output_type": "stream",
     "text": [
      "Train loss: 0.694 | train acc = 0.502\n"
     ]
    },
    {
     "name": "stderr",
     "output_type": "stream",
     "text": [
      "loss = 0.691 | acc = 0.500: 100%|██████████████████████████████████████████████████████| 36/36 [00:09<00:00,  4.00it/s]\n"
     ]
    },
    {
     "name": "stdout",
     "output_type": "stream",
     "text": [
      "Validation loss: 0.693 | val acc = 0.496\n",
      "\n",
      "Epoch 78/100\n"
     ]
    },
    {
     "name": "stderr",
     "output_type": "stream",
     "text": [
      "loss = 0.690 | acc = 0.462: 100%|████████████████████████████████████████████████████| 317/317 [02:40<00:00,  1.98it/s]\n"
     ]
    },
    {
     "name": "stdout",
     "output_type": "stream",
     "text": [
      "Train loss: 0.694 | train acc = 0.502\n"
     ]
    },
    {
     "name": "stderr",
     "output_type": "stream",
     "text": [
      "loss = 0.695 | acc = 0.500: 100%|██████████████████████████████████████████████████████| 36/36 [00:08<00:00,  4.40it/s]\n"
     ]
    },
    {
     "name": "stdout",
     "output_type": "stream",
     "text": [
      "Validation loss: 0.693 | val acc = 0.496\n",
      "\n",
      "Epoch 79/100\n"
     ]
    },
    {
     "name": "stderr",
     "output_type": "stream",
     "text": [
      "loss = 0.689 | acc = 0.404: 100%|████████████████████████████████████████████████████| 317/317 [02:40<00:00,  1.97it/s]\n"
     ]
    },
    {
     "name": "stdout",
     "output_type": "stream",
     "text": [
      "Train loss: 0.694 | train acc = 0.501\n"
     ]
    },
    {
     "name": "stderr",
     "output_type": "stream",
     "text": [
      "loss = 0.698 | acc = 0.500: 100%|██████████████████████████████████████████████████████| 36/36 [00:08<00:00,  4.44it/s]\n"
     ]
    },
    {
     "name": "stdout",
     "output_type": "stream",
     "text": [
      "Validation loss: 0.693 | val acc = 0.496\n",
      "\n",
      "Epoch 80/100\n"
     ]
    },
    {
     "name": "stderr",
     "output_type": "stream",
     "text": [
      "loss = 0.692 | acc = 0.538: 100%|████████████████████████████████████████████████████| 317/317 [02:40<00:00,  1.98it/s]\n"
     ]
    },
    {
     "name": "stdout",
     "output_type": "stream",
     "text": [
      "Train loss: 0.694 | train acc = 0.502\n"
     ]
    },
    {
     "name": "stderr",
     "output_type": "stream",
     "text": [
      "loss = 0.692 | acc = 0.500: 100%|██████████████████████████████████████████████████████| 36/36 [00:08<00:00,  4.36it/s]\n"
     ]
    },
    {
     "name": "stdout",
     "output_type": "stream",
     "text": [
      "Validation loss: 0.693 | val acc = 0.496\n",
      "\n",
      "Epoch 81/100\n"
     ]
    },
    {
     "name": "stderr",
     "output_type": "stream",
     "text": [
      "loss = 0.697 | acc = 0.442: 100%|████████████████████████████████████████████████████| 317/317 [02:40<00:00,  1.97it/s]\n"
     ]
    },
    {
     "name": "stdout",
     "output_type": "stream",
     "text": [
      "Train loss: 0.694 | train acc = 0.502\n"
     ]
    },
    {
     "name": "stderr",
     "output_type": "stream",
     "text": [
      "loss = 0.693 | acc = 0.500: 100%|██████████████████████████████████████████████████████| 36/36 [00:08<00:00,  4.43it/s]\n"
     ]
    },
    {
     "name": "stdout",
     "output_type": "stream",
     "text": [
      "Validation loss: 0.693 | val acc = 0.496\n",
      "\n",
      "Epoch 82/100\n"
     ]
    },
    {
     "name": "stderr",
     "output_type": "stream",
     "text": [
      "loss = 0.705 | acc = 0.712: 100%|████████████████████████████████████████████████████| 317/317 [02:40<00:00,  1.98it/s]\n"
     ]
    },
    {
     "name": "stdout",
     "output_type": "stream",
     "text": [
      "Train loss: 0.694 | train acc = 0.502\n"
     ]
    },
    {
     "name": "stderr",
     "output_type": "stream",
     "text": [
      "loss = 0.691 | acc = 0.500: 100%|██████████████████████████████████████████████████████| 36/36 [00:08<00:00,  4.36it/s]\n"
     ]
    },
    {
     "name": "stdout",
     "output_type": "stream",
     "text": [
      "Validation loss: 0.693 | val acc = 0.496\n",
      "\n",
      "Epoch 83/100\n"
     ]
    },
    {
     "name": "stderr",
     "output_type": "stream",
     "text": [
      "loss = 0.689 | acc = 0.635: 100%|████████████████████████████████████████████████████| 317/317 [02:40<00:00,  1.97it/s]\n"
     ]
    },
    {
     "name": "stdout",
     "output_type": "stream",
     "text": [
      "Train loss: 0.694 | train acc = 0.502\n"
     ]
    },
    {
     "name": "stderr",
     "output_type": "stream",
     "text": [
      "loss = 0.689 | acc = 0.500: 100%|██████████████████████████████████████████████████████| 36/36 [00:08<00:00,  4.37it/s]\n"
     ]
    },
    {
     "name": "stdout",
     "output_type": "stream",
     "text": [
      "Validation loss: 0.693 | val acc = 0.496\n",
      "\n",
      "Epoch 84/100\n"
     ]
    },
    {
     "name": "stderr",
     "output_type": "stream",
     "text": [
      "loss = 0.692 | acc = 0.404: 100%|████████████████████████████████████████████████████| 317/317 [02:41<00:00,  1.97it/s]\n"
     ]
    },
    {
     "name": "stdout",
     "output_type": "stream",
     "text": [
      "Train loss: 0.694 | train acc = 0.501\n"
     ]
    },
    {
     "name": "stderr",
     "output_type": "stream",
     "text": [
      "loss = 0.696 | acc = 0.500: 100%|██████████████████████████████████████████████████████| 36/36 [00:08<00:00,  4.42it/s]\n"
     ]
    },
    {
     "name": "stdout",
     "output_type": "stream",
     "text": [
      "Validation loss: 0.694 | val acc = 0.496\n",
      "\n",
      "Epoch 85/100\n"
     ]
    },
    {
     "name": "stderr",
     "output_type": "stream",
     "text": [
      "loss = 0.694 | acc = 0.558: 100%|████████████████████████████████████████████████████| 317/317 [02:40<00:00,  1.98it/s]\n"
     ]
    },
    {
     "name": "stdout",
     "output_type": "stream",
     "text": [
      "Train loss: 0.693 | train acc = 0.502\n"
     ]
    },
    {
     "name": "stderr",
     "output_type": "stream",
     "text": [
      "loss = 0.691 | acc = 0.500: 100%|██████████████████████████████████████████████████████| 36/36 [00:08<00:00,  4.43it/s]\n"
     ]
    },
    {
     "name": "stdout",
     "output_type": "stream",
     "text": [
      "Validation loss: 0.693 | val acc = 0.496\n",
      "\n",
      "Epoch 86/100\n"
     ]
    },
    {
     "name": "stderr",
     "output_type": "stream",
     "text": [
      "loss = 0.694 | acc = 0.481: 100%|████████████████████████████████████████████████████| 317/317 [02:40<00:00,  1.98it/s]\n"
     ]
    },
    {
     "name": "stdout",
     "output_type": "stream",
     "text": [
      "Train loss: 0.694 | train acc = 0.502\n"
     ]
    },
    {
     "name": "stderr",
     "output_type": "stream",
     "text": [
      "loss = 0.694 | acc = 0.500: 100%|██████████████████████████████████████████████████████| 36/36 [00:08<00:00,  4.42it/s]\n"
     ]
    },
    {
     "name": "stdout",
     "output_type": "stream",
     "text": [
      "Validation loss: 0.694 | val acc = 0.496\n",
      "\n",
      "Epoch 87/100\n"
     ]
    },
    {
     "name": "stderr",
     "output_type": "stream",
     "text": [
      "loss = 0.701 | acc = 0.327: 100%|████████████████████████████████████████████████████| 317/317 [02:40<00:00,  1.98it/s]\n"
     ]
    },
    {
     "name": "stdout",
     "output_type": "stream",
     "text": [
      "Train loss: 0.695 | train acc = 0.501\n"
     ]
    },
    {
     "name": "stderr",
     "output_type": "stream",
     "text": [
      "loss = 0.752 | acc = 0.500: 100%|██████████████████████████████████████████████████████| 36/36 [00:08<00:00,  4.06it/s]\n"
     ]
    },
    {
     "name": "stdout",
     "output_type": "stream",
     "text": [
      "Validation loss: 0.753 | val acc = 0.496\n",
      "\n",
      "Epoch 88/100\n"
     ]
    },
    {
     "name": "stderr",
     "output_type": "stream",
     "text": [
      "loss = 0.711 | acc = 0.519: 100%|████████████████████████████████████████████████████| 317/317 [02:40<00:00,  1.98it/s]\n"
     ]
    },
    {
     "name": "stdout",
     "output_type": "stream",
     "text": [
      "Train loss: 0.708 | train acc = 0.502\n"
     ]
    },
    {
     "name": "stderr",
     "output_type": "stream",
     "text": [
      "loss = 0.697 | acc = 0.500: 100%|██████████████████████████████████████████████████████| 36/36 [00:08<00:00,  4.36it/s]\n"
     ]
    },
    {
     "name": "stdout",
     "output_type": "stream",
     "text": [
      "Validation loss: 0.697 | val acc = 0.496\n",
      "\n",
      "Epoch 89/100\n"
     ]
    },
    {
     "name": "stderr",
     "output_type": "stream",
     "text": [
      "loss = 0.705 | acc = 0.500: 100%|████████████████████████████████████████████████████| 317/317 [02:39<00:00,  1.98it/s]\n"
     ]
    },
    {
     "name": "stdout",
     "output_type": "stream",
     "text": [
      "Train loss: 0.702 | train acc = 0.502\n"
     ]
    },
    {
     "name": "stderr",
     "output_type": "stream",
     "text": [
      "loss = 0.691 | acc = 0.500: 100%|██████████████████████████████████████████████████████| 36/36 [00:08<00:00,  4.41it/s]\n"
     ]
    },
    {
     "name": "stdout",
     "output_type": "stream",
     "text": [
      "Validation loss: 0.694 | val acc = 0.496\n",
      "\n",
      "Epoch 90/100\n"
     ]
    },
    {
     "name": "stderr",
     "output_type": "stream",
     "text": [
      "loss = 0.684 | acc = 0.558: 100%|████████████████████████████████████████████████████| 317/317 [02:40<00:00,  1.97it/s]\n"
     ]
    },
    {
     "name": "stdout",
     "output_type": "stream",
     "text": [
      "Train loss: 0.699 | train acc = 0.502\n"
     ]
    },
    {
     "name": "stderr",
     "output_type": "stream",
     "text": [
      "loss = 0.695 | acc = 0.500: 100%|██████████████████████████████████████████████████████| 36/36 [00:08<00:00,  4.42it/s]\n"
     ]
    },
    {
     "name": "stdout",
     "output_type": "stream",
     "text": [
      "Validation loss: 0.696 | val acc = 0.496\n",
      "\n",
      "Epoch 91/100\n"
     ]
    },
    {
     "name": "stderr",
     "output_type": "stream",
     "text": [
      "loss = 0.680 | acc = 0.365: 100%|████████████████████████████████████████████████████| 317/317 [02:41<00:00,  1.97it/s]\n"
     ]
    },
    {
     "name": "stdout",
     "output_type": "stream",
     "text": [
      "Train loss: 0.698 | train acc = 0.501\n"
     ]
    },
    {
     "name": "stderr",
     "output_type": "stream",
     "text": [
      "loss = 0.696 | acc = 0.500: 100%|██████████████████████████████████████████████████████| 36/36 [00:08<00:00,  4.34it/s]\n"
     ]
    },
    {
     "name": "stdout",
     "output_type": "stream",
     "text": [
      "Validation loss: 0.696 | val acc = 0.496\n",
      "\n",
      "Epoch 92/100\n"
     ]
    },
    {
     "name": "stderr",
     "output_type": "stream",
     "text": [
      "loss = 0.699 | acc = 0.538: 100%|████████████████████████████████████████████████████| 317/317 [02:40<00:00,  1.97it/s]\n"
     ]
    },
    {
     "name": "stdout",
     "output_type": "stream",
     "text": [
      "Train loss: 0.698 | train acc = 0.502\n"
     ]
    },
    {
     "name": "stderr",
     "output_type": "stream",
     "text": [
      "loss = 0.694 | acc = 0.500: 100%|██████████████████████████████████████████████████████| 36/36 [00:08<00:00,  4.44it/s]\n"
     ]
    },
    {
     "name": "stdout",
     "output_type": "stream",
     "text": [
      "Validation loss: 0.694 | val acc = 0.496\n",
      "\n",
      "Epoch 93/100\n"
     ]
    },
    {
     "name": "stderr",
     "output_type": "stream",
     "text": [
      "loss = 0.674 | acc = 0.423: 100%|████████████████████████████████████████████████████| 317/317 [02:40<00:00,  1.98it/s]\n"
     ]
    },
    {
     "name": "stdout",
     "output_type": "stream",
     "text": [
      "Train loss: 0.697 | train acc = 0.502\n"
     ]
    },
    {
     "name": "stderr",
     "output_type": "stream",
     "text": [
      "loss = 0.696 | acc = 0.500: 100%|██████████████████████████████████████████████████████| 36/36 [00:08<00:00,  4.41it/s]\n"
     ]
    },
    {
     "name": "stdout",
     "output_type": "stream",
     "text": [
      "Validation loss: 0.696 | val acc = 0.496\n",
      "\n",
      "Epoch 94/100\n"
     ]
    },
    {
     "name": "stderr",
     "output_type": "stream",
     "text": [
      "loss = 0.697 | acc = 0.462: 100%|████████████████████████████████████████████████████| 317/317 [02:40<00:00,  1.97it/s]\n"
     ]
    },
    {
     "name": "stdout",
     "output_type": "stream",
     "text": [
      "Train loss: 0.697 | train acc = 0.502\n"
     ]
    },
    {
     "name": "stderr",
     "output_type": "stream",
     "text": [
      "loss = 0.694 | acc = 0.500: 100%|██████████████████████████████████████████████████████| 36/36 [00:08<00:00,  4.02it/s]\n"
     ]
    },
    {
     "name": "stdout",
     "output_type": "stream",
     "text": [
      "Validation loss: 0.694 | val acc = 0.496\n",
      "\n",
      "Epoch 95/100\n"
     ]
    },
    {
     "name": "stderr",
     "output_type": "stream",
     "text": [
      "loss = 0.700 | acc = 0.462: 100%|████████████████████████████████████████████████████| 317/317 [02:40<00:00,  1.98it/s]\n"
     ]
    },
    {
     "name": "stdout",
     "output_type": "stream",
     "text": [
      "Train loss: 0.696 | train acc = 0.502\n"
     ]
    },
    {
     "name": "stderr",
     "output_type": "stream",
     "text": [
      "loss = 0.702 | acc = 0.500: 100%|██████████████████████████████████████████████████████| 36/36 [00:08<00:00,  4.44it/s]\n"
     ]
    },
    {
     "name": "stdout",
     "output_type": "stream",
     "text": [
      "Validation loss: 0.698 | val acc = 0.496\n",
      "\n",
      "Epoch 96/100\n"
     ]
    },
    {
     "name": "stderr",
     "output_type": "stream",
     "text": [
      "loss = 0.692 | acc = 0.481: 100%|████████████████████████████████████████████████████| 317/317 [02:40<00:00,  1.97it/s]\n"
     ]
    },
    {
     "name": "stdout",
     "output_type": "stream",
     "text": [
      "Train loss: 0.696 | train acc = 0.502\n"
     ]
    },
    {
     "name": "stderr",
     "output_type": "stream",
     "text": [
      "loss = 0.694 | acc = 0.500: 100%|██████████████████████████████████████████████████████| 36/36 [00:08<00:00,  4.36it/s]\n"
     ]
    },
    {
     "name": "stdout",
     "output_type": "stream",
     "text": [
      "Validation loss: 0.694 | val acc = 0.496\n",
      "\n",
      "Epoch 97/100\n"
     ]
    },
    {
     "name": "stderr",
     "output_type": "stream",
     "text": [
      "loss = 0.698 | acc = 0.538: 100%|████████████████████████████████████████████████████| 317/317 [02:40<00:00,  1.98it/s]\n"
     ]
    },
    {
     "name": "stdout",
     "output_type": "stream",
     "text": [
      "Train loss: 0.696 | train acc = 0.502\n"
     ]
    },
    {
     "name": "stderr",
     "output_type": "stream",
     "text": [
      "loss = 0.695 | acc = 0.500: 100%|██████████████████████████████████████████████████████| 36/36 [00:08<00:00,  4.41it/s]\n"
     ]
    },
    {
     "name": "stdout",
     "output_type": "stream",
     "text": [
      "Validation loss: 0.695 | val acc = 0.496\n",
      "\n",
      "Epoch 98/100\n"
     ]
    },
    {
     "name": "stderr",
     "output_type": "stream",
     "text": [
      "loss = 0.693 | acc = 0.596: 100%|████████████████████████████████████████████████████| 317/317 [02:40<00:00,  1.97it/s]\n"
     ]
    },
    {
     "name": "stdout",
     "output_type": "stream",
     "text": [
      "Train loss: 0.695 | train acc = 0.502\n"
     ]
    },
    {
     "name": "stderr",
     "output_type": "stream",
     "text": [
      "loss = 0.694 | acc = 0.500: 100%|██████████████████████████████████████████████████████| 36/36 [00:08<00:00,  4.42it/s]\n"
     ]
    },
    {
     "name": "stdout",
     "output_type": "stream",
     "text": [
      "Validation loss: 0.694 | val acc = 0.496\n",
      "\n",
      "Epoch 99/100\n"
     ]
    },
    {
     "name": "stderr",
     "output_type": "stream",
     "text": [
      "loss = 0.705 | acc = 0.635: 100%|████████████████████████████████████████████████████| 317/317 [02:41<00:00,  1.97it/s]\n"
     ]
    },
    {
     "name": "stdout",
     "output_type": "stream",
     "text": [
      "Train loss: 0.695 | train acc = 0.502\n"
     ]
    },
    {
     "name": "stderr",
     "output_type": "stream",
     "text": [
      "loss = 0.692 | acc = 0.500: 100%|██████████████████████████████████████████████████████| 36/36 [00:08<00:00,  4.37it/s]\n"
     ]
    },
    {
     "name": "stdout",
     "output_type": "stream",
     "text": [
      "Validation loss: 0.693 | val acc = 0.496\n",
      "\n",
      "Epoch 100/100\n"
     ]
    },
    {
     "name": "stderr",
     "output_type": "stream",
     "text": [
      "loss = 0.698 | acc = 0.481: 100%|████████████████████████████████████████████████████| 317/317 [02:41<00:00,  1.97it/s]\n"
     ]
    },
    {
     "name": "stdout",
     "output_type": "stream",
     "text": [
      "Train loss: 0.695 | train acc = 0.502\n"
     ]
    },
    {
     "name": "stderr",
     "output_type": "stream",
     "text": [
      "loss = 0.693 | acc = 0.500: 100%|██████████████████████████████████████████████████████| 36/36 [00:08<00:00,  4.39it/s]"
     ]
    },
    {
     "name": "stdout",
     "output_type": "stream",
     "text": [
      "Validation loss: 0.695 | val acc = 0.496\n"
     ]
    },
    {
     "name": "stderr",
     "output_type": "stream",
     "text": [
      "\n"
     ]
    }
   ],
   "source": [
    "train_loss, val_loss, train_acc, val_acc = fit(model, train_dataloader, validation_dataloader,\n",
    "                                               optimizer, num_epochs=NUM_EPOCHS, device=DEVICE)"
   ]
  },
  {
   "cell_type": "code",
   "execution_count": 105,
   "id": "01a5db14",
   "metadata": {
    "scrolled": false
   },
   "outputs": [
    {
     "data": {
      "image/png": "[encoded data removed]",
      "text/plain": [
       "<Figure size 640x480 with 1 Axes>"
      ]
     },
     "metadata": {},
     "output_type": "display_data"
    },
    {
     "data": {
      "image/png": "[encoded data removed]",
      "text/plain": [
       "<Figure size 640x480 with 1 Axes>"
      ]
     },
     "metadata": {},
     "output_type": "display_data"
    }
   ],
   "source": [
    "plt.title('Train loss')\n",
    "plt.plot(range(len(train_loss)), train_loss)\n",
    "plt.show()\n",
    "plt.title('Train accuracy')\n",
    "plt.plot(range(len(train_acc)), train_acc)\n",
    "plt.show()"
   ]
  },
  {
   "cell_type": "code",
   "execution_count": null,
   "id": "3fdcd2bc",
   "metadata": {},
   "outputs": [],
   "source": [
    "model_name = f\"GRU_{NUM_EPOCHS}_E{EMBEDDING_DIM}_H{HIDDEN_SIZE}_\" +\\\n",
    "             f\"N{NUM_LAYERS}_Bi{1 if BIDIRECTIONAL else 0}_D{DROPUT_RATE}.pt\"\n",
    "torch.save(model.state_dict(), model_name)"
   ]
  },
  {
   "cell_type": "code",
   "execution_count": null,
   "id": "62e1d3ee",
   "metadata": {},
   "outputs": [],
   "source": []
  }
 ],
 "metadata": {
  "colab": {
   "collapsed_sections": [],
   "include_colab_link": true,
   "provenance": []
  },
  "kernelspec": {
   "display_name": "Python 3 (ipykernel)",
   "language": "python",
   "name": "python3"
  },
  "language_info": {
   "codemirror_mode": {
    "name": "ipython",
    "version": 3
   },
   "file_extension": ".py",
   "mimetype": "text/x-python",
   "name": "python",
   "nbconvert_exporter": "python",
   "pygments_lexer": "ipython3",
   "version": "3.9.13"
  }
 },
 "nbformat": 4,
 "nbformat_minor": 5
}
