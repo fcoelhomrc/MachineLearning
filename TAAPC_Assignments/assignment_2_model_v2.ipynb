{
  "cells": [
    {
      "cell_type": "markdown",
      "metadata": {
        "id": "view-in-github",
        "colab_type": "text"
      },
      "source": [
        "<a href=\"https://colab.research.google.com/github/fcoelhomrc/MachineLearning/blob/main/TAAPC_Assignments/assignment_2_model_v2.ipynb\" target=\"_parent\"><img src=\"https://colab.research.google.com/assets/colab-badge.svg\" alt=\"Open In Colab\"/></a>"
      ]
    },
    {
      "cell_type": "code",
      "execution_count": 1,
      "id": "d34d6379",
      "metadata": {
        "id": "d34d6379"
      },
      "outputs": [],
      "source": [
        "import numpy as np\n",
        "import matplotlib.pyplot as plt\n",
        "import pandas as pd\n",
        "import torch\n",
        "import torch.nn as nn\n",
        "import torchtext\n",
        "from tqdm import tqdm\n",
        "from collections import Counter, OrderedDict"
      ]
    },
    {
      "cell_type": "code",
      "execution_count": 2,
      "id": "74edbc6b",
      "metadata": {
        "id": "74edbc6b"
      },
      "outputs": [],
      "source": [
        "url_train = \"https://raw.githubusercontent.com/fcoelhomrc/MachineLearning/main/TAAPC_Assignments/imdb_train.csv\"\n",
        "url_test = \"https://raw.githubusercontent.com/fcoelhomrc/MachineLearning/main/TAAPC_Assignments/imdb_test.csv\"\n",
        "\n",
        "imdb_train = pd.read_csv(url_train)\n",
        "imdb_test = pd.read_csv(url_test, names=imdb_train.columns)"
      ]
    },
    {
      "cell_type": "code",
      "execution_count": 3,
      "id": "YUFQM873GYbT",
      "metadata": {
        "colab": {
          "base_uri": "https://localhost:8080/",
          "height": 206
        },
        "id": "YUFQM873GYbT",
        "outputId": "b583e6bb-89ee-4000-baa7-945a2e300cf6"
      },
      "outputs": [
        {
          "output_type": "execute_result",
          "data": {
            "text/plain": [
              "                                              review sentiment\n",
              "0  I saw the film many times, and every time I am...  negative\n",
              "1  I loved KOLCHAK: THE NIGHT STALKER since I saw...  positive\n",
              "2  This feels as if it is a Czech version of Pear...  positive\n",
              "3  When, oh, when will someone like Anchor Bay or...  positive\n",
              "4  \"Just before dawn \" is one of the best slasher...  positive"
            ],
            "text/html": [
              "\n",
              "  <div id=\"df-3811605b-cc8f-4276-a901-9524beee4028\">\n",
              "    <div class=\"colab-df-container\">\n",
              "      <div>\n",
              "<style scoped>\n",
              "    .dataframe tbody tr th:only-of-type {\n",
              "        vertical-align: middle;\n",
              "    }\n",
              "\n",
              "    .dataframe tbody tr th {\n",
              "        vertical-align: top;\n",
              "    }\n",
              "\n",
              "    .dataframe thead th {\n",
              "        text-align: right;\n",
              "    }\n",
              "</style>\n",
              "<table border=\"1\" class=\"dataframe\">\n",
              "  <thead>\n",
              "    <tr style=\"text-align: right;\">\n",
              "      <th></th>\n",
              "      <th>review</th>\n",
              "      <th>sentiment</th>\n",
              "    </tr>\n",
              "  </thead>\n",
              "  <tbody>\n",
              "    <tr>\n",
              "      <th>0</th>\n",
              "      <td>I saw the film many times, and every time I am...</td>\n",
              "      <td>negative</td>\n",
              "    </tr>\n",
              "    <tr>\n",
              "      <th>1</th>\n",
              "      <td>I loved KOLCHAK: THE NIGHT STALKER since I saw...</td>\n",
              "      <td>positive</td>\n",
              "    </tr>\n",
              "    <tr>\n",
              "      <th>2</th>\n",
              "      <td>This feels as if it is a Czech version of Pear...</td>\n",
              "      <td>positive</td>\n",
              "    </tr>\n",
              "    <tr>\n",
              "      <th>3</th>\n",
              "      <td>When, oh, when will someone like Anchor Bay or...</td>\n",
              "      <td>positive</td>\n",
              "    </tr>\n",
              "    <tr>\n",
              "      <th>4</th>\n",
              "      <td>\"Just before dawn \" is one of the best slasher...</td>\n",
              "      <td>positive</td>\n",
              "    </tr>\n",
              "  </tbody>\n",
              "</table>\n",
              "</div>\n",
              "      <button class=\"colab-df-convert\" onclick=\"convertToInteractive('df-3811605b-cc8f-4276-a901-9524beee4028')\"\n",
              "              title=\"Convert this dataframe to an interactive table.\"\n",
              "              style=\"display:none;\">\n",
              "        \n",
              "  <svg xmlns=\"http://www.w3.org/2000/svg\" height=\"24px\"viewBox=\"0 0 24 24\"\n",
              "       width=\"24px\">\n",
              "    <path d=\"M0 0h24v24H0V0z\" fill=\"none\"/>\n",
              "    <path d=\"M18.56 5.44l.94 2.06.94-2.06 2.06-.94-2.06-.94-.94-2.06-.94 2.06-2.06.94zm-11 1L8.5 8.5l.94-2.06 2.06-.94-2.06-.94L8.5 2.5l-.94 2.06-2.06.94zm10 10l.94 2.06.94-2.06 2.06-.94-2.06-.94-.94-2.06-.94 2.06-2.06.94z\"/><path d=\"M17.41 7.96l-1.37-1.37c-.4-.4-.92-.59-1.43-.59-.52 0-1.04.2-1.43.59L10.3 9.45l-7.72 7.72c-.78.78-.78 2.05 0 2.83L4 21.41c.39.39.9.59 1.41.59.51 0 1.02-.2 1.41-.59l7.78-7.78 2.81-2.81c.8-.78.8-2.07 0-2.86zM5.41 20L4 18.59l7.72-7.72 1.47 1.35L5.41 20z\"/>\n",
              "  </svg>\n",
              "      </button>\n",
              "      \n",
              "  <style>\n",
              "    .colab-df-container {\n",
              "      display:flex;\n",
              "      flex-wrap:wrap;\n",
              "      gap: 12px;\n",
              "    }\n",
              "\n",
              "    .colab-df-convert {\n",
              "      background-color: #E8F0FE;\n",
              "      border: none;\n",
              "      border-radius: 50%;\n",
              "      cursor: pointer;\n",
              "      display: none;\n",
              "      fill: #1967D2;\n",
              "      height: 32px;\n",
              "      padding: 0 0 0 0;\n",
              "      width: 32px;\n",
              "    }\n",
              "\n",
              "    .colab-df-convert:hover {\n",
              "      background-color: #E2EBFA;\n",
              "      box-shadow: 0px 1px 2px rgba(60, 64, 67, 0.3), 0px 1px 3px 1px rgba(60, 64, 67, 0.15);\n",
              "      fill: #174EA6;\n",
              "    }\n",
              "\n",
              "    [theme=dark] .colab-df-convert {\n",
              "      background-color: #3B4455;\n",
              "      fill: #D2E3FC;\n",
              "    }\n",
              "\n",
              "    [theme=dark] .colab-df-convert:hover {\n",
              "      background-color: #434B5C;\n",
              "      box-shadow: 0px 1px 3px 1px rgba(0, 0, 0, 0.15);\n",
              "      filter: drop-shadow(0px 1px 2px rgba(0, 0, 0, 0.3));\n",
              "      fill: #FFFFFF;\n",
              "    }\n",
              "  </style>\n",
              "\n",
              "      <script>\n",
              "        const buttonEl =\n",
              "          document.querySelector('#df-3811605b-cc8f-4276-a901-9524beee4028 button.colab-df-convert');\n",
              "        buttonEl.style.display =\n",
              "          google.colab.kernel.accessAllowed ? 'block' : 'none';\n",
              "\n",
              "        async function convertToInteractive(key) {\n",
              "          const element = document.querySelector('#df-3811605b-cc8f-4276-a901-9524beee4028');\n",
              "          const dataTable =\n",
              "            await google.colab.kernel.invokeFunction('convertToInteractive',\n",
              "                                                     [key], {});\n",
              "          if (!dataTable) return;\n",
              "\n",
              "          const docLinkHtml = 'Like what you see? Visit the ' +\n",
              "            '<a target=\"_blank\" href=https://colab.research.google.com/notebooks/data_table.ipynb>data table notebook</a>'\n",
              "            + ' to learn more about interactive tables.';\n",
              "          element.innerHTML = '';\n",
              "          dataTable['output_type'] = 'display_data';\n",
              "          await google.colab.output.renderOutput(dataTable, element);\n",
              "          const docLink = document.createElement('div');\n",
              "          docLink.innerHTML = docLinkHtml;\n",
              "          element.appendChild(docLink);\n",
              "        }\n",
              "      </script>\n",
              "    </div>\n",
              "  </div>\n",
              "  "
            ]
          },
          "metadata": {},
          "execution_count": 3
        }
      ],
      "source": [
        "imdb_test.head()"
      ]
    },
    {
      "cell_type": "code",
      "execution_count": 4,
      "id": "3be74d53",
      "metadata": {
        "colab": {
          "base_uri": "https://localhost:8080/"
        },
        "id": "3be74d53",
        "outputId": "b3e82e0f-166b-4fe5-fb34-e8e803c266f1",
        "scrolled": true
      },
      "outputs": [
        {
          "output_type": "stream",
          "name": "stdout",
          "text": [
            "(45000, 2) (5000, 2)\n",
            "Index(['review', 'sentiment'], dtype='object') Index(['review', 'sentiment'], dtype='object')\n"
          ]
        }
      ],
      "source": [
        "print(imdb_train.shape, imdb_test.shape)\n",
        "print(imdb_train.columns, imdb_test.columns)"
      ]
    },
    {
      "cell_type": "markdown",
      "id": "c2c49c15",
      "metadata": {
        "id": "c2c49c15"
      },
      "source": [
        "The outline of this project is\n",
        "1. Pre-process the data, defining a vocabulary and converting it to a sparse representation\n",
        "2. Pre-train an embedding layer to transform into a dense representation\n",
        "3. Use each embedded sequence as input to a GRU layer, and then use a Linear layer with sigmoid activation to map output into a single binary prediction (many-to-one model)\n",
        "\n",
        "We will have to deal with different length sequences while mini-batching. [This post](https://towardsdatascience.com/taming-lstms-variable-sized-mini-batches-and-why-pytorch-is-good-for-your-health-61d35642972e) and [this repository](https://gist.github.com/HarshTrivedi/f4e7293e941b17d19058f6fb90ab0fec) explain PyTorch implementations to do that."
      ]
    },
    {
      "cell_type": "markdown",
      "id": "3f5dfe49",
      "metadata": {
        "id": "3f5dfe49"
      },
      "source": [
        "# Stage 1: estabilish the vocabulary"
      ]
    },
    {
      "cell_type": "markdown",
      "id": "SftEQ2gpKwEP",
      "metadata": {
        "id": "SftEQ2gpKwEP"
      },
      "source": [
        "Generate the vocabulary"
      ]
    },
    {
      "cell_type": "code",
      "execution_count": 5,
      "id": "6ecc1d6a",
      "metadata": {
        "id": "6ecc1d6a"
      },
      "outputs": [],
      "source": [
        "tokenizer = torchtext.data.get_tokenizer(\"basic_english\")\n",
        "\n",
        "def get_vocab_freq(data):\n",
        "    counter = Counter()\n",
        "    for sentence in data[\"review\"]:\n",
        "        tokenized_sentence = tokenizer(sentence)\n",
        "        counter.update(tokenized_sentence)\n",
        "    return OrderedDict(counter)\n",
        "\n",
        "imdb_data = pd.concat([imdb_train, imdb_test], axis=0, ignore_index=True) # fetch vocab considering complete data\n",
        "\n",
        "vocab_freq = get_vocab_freq(imdb_data)\n",
        "\n",
        "unk_token = \"<unk>\" # Token representing OOV words\n",
        "pad_token = \"<pad>\" # Token representing padding\n",
        "vocab = torchtext.vocab.vocab(vocab_freq, min_freq=50,\n",
        "                              specials=[pad_token, unk_token], special_first=True)\n",
        "vocab.set_default_index(1) # Unknown words will return 1 (matching <unk> token index)"
      ]
    },
    {
      "cell_type": "code",
      "execution_count": 6,
      "id": "an7m1qUdDQY5",
      "metadata": {
        "colab": {
          "base_uri": "https://localhost:8080/"
        },
        "id": "an7m1qUdDQY5",
        "outputId": "e25c05db-5abf-4c5e-dd56-ab5fc3975c5f"
      },
      "outputs": [
        {
          "output_type": "stream",
          "name": "stdout",
          "text": [
            "11265 0\n"
          ]
        }
      ],
      "source": [
        "print(len(vocab), vocab[pad_token])"
      ]
    },
    {
      "cell_type": "code",
      "execution_count": 7,
      "id": "oGpveffyUfcy",
      "metadata": {
        "colab": {
          "base_uri": "https://localhost:8080/"
        },
        "id": "oGpveffyUfcy",
        "outputId": "292e70fa-ab8d-4466-bd35-999fe52c16a9",
        "scrolled": true
      },
      "outputs": [
        {
          "output_type": "stream",
          "name": "stdout",
          "text": [
            "Mean sequence length: 267.66206\n"
          ]
        },
        {
          "output_type": "execute_result",
          "data": {
            "text/plain": [
              "2752"
            ]
          },
          "metadata": {},
          "execution_count": 7
        }
      ],
      "source": [
        "sequence_len = [len(tokenizer(seq)) for seq in imdb_data[\"review\"]]\n",
        "mean_length = np.array(sequence_len).mean()\n",
        "print(f\"Mean sequence length: {mean_length}\")\n",
        "PADDED_LENGTH = max(sequence_len)\n",
        "PADDED_LENGTH"
      ]
    },
    {
      "cell_type": "markdown",
      "id": "90ba9858",
      "metadata": {
        "id": "90ba9858"
      },
      "source": [
        "# Stage 2: pre-train an Embedding"
      ]
    },
    {
      "cell_type": "markdown",
      "id": "9150a8e7",
      "metadata": {
        "id": "9150a8e7"
      },
      "source": [
        "Following what we have done in class, we will implement a Word2Vec model to pre-train our embedding layer with a SkipGram scheme."
      ]
    },
    {
      "cell_type": "markdown",
      "id": "c5778317",
      "metadata": {
        "id": "c5778317"
      },
      "source": [
        "We have way too much data for SkipGram model:\n",
        "$$\n",
        "\\text{total_examples} \\approx \\text{window_size} \\times 50\\text{k} \\times \\text{avg_length} \\sim 50\\times 10^6\n",
        "$$\n",
        "Therefore, we sample about 10% of the complete dataset in order to train our embedding."
      ]
    },
    {
      "cell_type": "code",
      "execution_count": 8,
      "id": "b3c1e32b",
      "metadata": {
        "id": "b3c1e32b"
      },
      "outputs": [],
      "source": [
        "class SkipGramDataset(torch.utils.data.Dataset):\n",
        "    def __init__(self, data, vocab, window_width, pad_token):\n",
        "        self.inputs = []\n",
        "        self.contexts = []\n",
        "        vocab_inv = vocab.get_itos()\n",
        "        self.vocabs = [vocab, vocab_inv]\n",
        "        # Keep track of number of valid examples (we skip OOV words)\n",
        "        num_examples = 0\n",
        "        # Pick input, context pairs as in regular SkipGram\n",
        "        print(\"Generating skip-grams...\")\n",
        "        for sequence in data[\"review\"]:\n",
        "            tokens = tokenizer(sequence)\n",
        "            length = len(tokens)\n",
        "            for i, tk in enumerate(tokens):\n",
        "                # Treat beginning and end of token sequence as special cases\n",
        "                left_idx, right_idx = i - window_width, i + window_width + 1\n",
        "                left_idx = 0 if i < window_width else left_idx\n",
        "                right_idx = length if i > length - (window_width + 1) else right_idx\n",
        "                for j in range(left_idx, right_idx):\n",
        "                    if j == i:\n",
        "                        continue\n",
        "                    next_tk = tokens[j]\n",
        "                    self.inputs.append(vocab[tk])\n",
        "                    self.contexts.append(vocab[next_tk])\n",
        "                    num_examples += 1\n",
        "        print(\"Finished generating skip-grams.\")\n",
        "        \n",
        "    def __len__(self):\n",
        "        return len(self.inputs)\n",
        "    \n",
        "    def __getitem__(self, index):\n",
        "        return self.inputs[index], self.contexts[index]\n",
        "    \n",
        "    def get_vocabs(self):\n",
        "        return self.vocabs"
      ]
    },
    {
      "cell_type": "code",
      "execution_count": 9,
      "id": "0aaa9c26",
      "metadata": {
        "colab": {
          "base_uri": "https://localhost:8080/"
        },
        "id": "0aaa9c26",
        "outputId": "ddc66049-b56a-4e9b-fdb9-da7c13969194"
      },
      "outputs": [
        {
          "output_type": "stream",
          "name": "stdout",
          "text": [
            "Generating skip-grams...\n",
            "Finished generating skip-grams.\n",
            "Dataset has 10812112 examples.\n"
          ]
        }
      ],
      "source": [
        "WINDOW_WIDTH = 4\n",
        "sample_size = 0.1\n",
        "imdb_sampled = imdb_data.sample(frac=sample_size, random_state=42)\n",
        "\n",
        "w2v_dataset = SkipGramDataset(imdb_sampled, vocab, WINDOW_WIDTH, pad_token)\n",
        "print(f\"Dataset has {len(w2v_dataset)} examples.\")"
      ]
    },
    {
      "cell_type": "code",
      "execution_count": 19,
      "id": "dd3499ca",
      "metadata": {
        "colab": {
          "base_uri": "https://localhost:8080/"
        },
        "id": "dd3499ca",
        "outputId": "c5058618-8868-4412-97c3-fe92975aa450"
      },
      "outputs": [
        {
          "output_type": "stream",
          "name": "stdout",
          "text": [
            "half of\n",
            "half the\n",
            "half movie\n",
            "half is\n",
            "of half\n",
            "of the\n",
            "of movie\n",
            "of is\n",
            "of is\n",
            "the half\n",
            "the of\n",
            "the movie\n",
            "the is\n",
            "the is\n",
            "the flashing\n",
            "movie half\n",
            "movie of\n",
            "movie the\n",
            "movie is\n",
            "movie is\n",
            "movie flashing\n",
            "movie lights\n",
            "is half\n",
            "is of\n",
            "is the\n",
            "is movie\n",
            "is is\n",
            "is flashing\n",
            "is lights\n",
            "is and\n",
            "is of\n",
            "is the\n",
            "is movie\n",
            "is is\n",
            "is flashing\n",
            "is lights\n",
            "is and\n",
            "is shaky\n",
            "flashing the\n",
            "flashing movie\n",
            "flashing is\n",
            "flashing is\n",
            "flashing lights\n",
            "flashing and\n",
            "flashing shaky\n",
            "flashing camera\n",
            "lights movie\n",
            "lights is\n",
            "lights is\n",
            "lights flashing\n"
          ]
        }
      ],
      "source": [
        "offset = 0\n",
        "vocab_inv = w2v_dataset.get_vocabs()[1]\n",
        "for i in range(offset, offset + 50):\n",
        "    x, y = w2v_dataset[i]\n",
        "    x_word = vocab_inv[x]\n",
        "    y_word = vocab_inv[y]\n",
        "    print(x_word, y_word)"
      ]
    },
    {
      "cell_type": "code",
      "execution_count": 11,
      "id": "dba51f9f",
      "metadata": {
        "id": "dba51f9f"
      },
      "outputs": [],
      "source": [
        "class SkipGramModel(nn.Module):\n",
        "    def __init__(self, vocab_size, embed_dim, embed_max_norm=None):\n",
        "        super().__init__()\n",
        "        self.embedding = nn.Embedding(vocab_size, embed_dim, padding_idx=0,\n",
        "                                      max_norm=embed_max_norm)\n",
        "        self.linear = nn.Linear(in_features=embed_dim,\n",
        "                                out_features=vocab_size)\n",
        "    \n",
        "    def forward(self, x):\n",
        "        embedded = self.embedding(x)\n",
        "        logits = self.linear(embedded)\n",
        "        return logits"
      ]
    },
    {
      "cell_type": "code",
      "execution_count": 12,
      "id": "30bc49da",
      "metadata": {
        "id": "30bc49da"
      },
      "outputs": [],
      "source": [
        "def w2v_fit(model, train_loader, optimizer, **kwargs):\n",
        "    \n",
        "    num_epochs = kwargs.get(\"num_epochs\", 100)\n",
        "    loss_fn = kwargs.get(\"loss_fn\", nn.functional.cross_entropy)\n",
        "    device = kwargs.get(\"device\", torch.device(\"cpu\"))\n",
        "    \n",
        "    model.train()\n",
        "    train_loss_hist, train_acc_hist = [], []\n",
        "    for epoch in range(num_epochs):\n",
        "        print(f\"Epoch {epoch+1}\")\n",
        "        pbar = tqdm(train_loader, total=len(train_loader))\n",
        "        train_loss, train_acc = 0, 0\n",
        "        for x, y in pbar:\n",
        "            x, y = x.to(device), y.to(device)\n",
        "            optimizer.zero_grad()\n",
        "            logits = model(x)\n",
        "            loss = loss_fn(logits, y)\n",
        "            loss.backward()\n",
        "            optimizer.step()\n",
        "            with torch.no_grad():\n",
        "                preds = logits.argmax(dim=1)\n",
        "            acc = (preds == y).float().sum() / ((y != -100).float().sum() + 1e-6)\n",
        "            train_loss += loss.item()\n",
        "            train_acc += acc.item()\n",
        "            pbar.set_description(f\"loss = {loss:.3f} | acc = {acc:.3f}\")\n",
        "\n",
        "        train_loss /= len(train_loader)\n",
        "        train_acc /= len(train_loader)\n",
        "        print(f\"train loss = {train_loss:.3f} | train acc = {train_acc:.3f}\")\n",
        "        train_loss_hist.append(train_loss)\n",
        "        train_acc_hist.append(train_acc)\n",
        "        # Checkpoint after every epoch since this pre-training is expensive\n",
        "        path = f\"W2VEC_Checkpoint_E{epoch}.pt\"\n",
        "        torch.save({\n",
        "            \"epoch\": epoch,\n",
        "            \"model_state_dict\": model.state_dict(),\n",
        "            \"optimizer_state_dict\": optimizer.state_dict(),\n",
        "            }, path)\n",
        "        \n",
        "    return train_loss_hist, train_acc_hist"
      ]
    },
    {
      "cell_type": "code",
      "execution_count": 13,
      "id": "1d3b4af9",
      "metadata": {
        "id": "1d3b4af9"
      },
      "outputs": [],
      "source": [
        "EMBEDDING_DIM = 300\n",
        "EMBEDDING_MAX_NORM = 1\n",
        "BATCH_SIZE = 128\n",
        "NUM_EPOCHS = 5\n",
        "LEARNING_RATE = 1e-4"
      ]
    },
    {
      "cell_type": "code",
      "execution_count": 14,
      "id": "ae63ef93",
      "metadata": {
        "scrolled": true,
        "colab": {
          "base_uri": "https://localhost:8080/"
        },
        "id": "ae63ef93",
        "outputId": "51acf694-6e62-4879-faa5-eff34009a0f8"
      },
      "outputs": [
        {
          "output_type": "stream",
          "name": "stdout",
          "text": [
            "DEVICE: cuda\n"
          ]
        }
      ],
      "source": [
        "if torch.cuda.is_available():\n",
        "    DEVICE = torch.device(\"cuda\")\n",
        "else:\n",
        "    DEVICE = torch.device(\"cpu\")\n",
        "\n",
        "print(\"DEVICE:\", DEVICE)\n",
        "\n",
        "w2v_model = SkipGramModel(vocab_size=len(vocab), embed_dim=EMBEDDING_DIM,\n",
        "                          embed_max_norm=EMBEDDING_MAX_NORM).to(DEVICE)\n",
        "\n",
        "optimizer = torch.optim.Adam(w2v_model.parameters(), lr=LEARNING_RATE)\n",
        "w2v_dataloader = torch.utils.data.DataLoader(w2v_dataset, batch_size=BATCH_SIZE, shuffle=True)"
      ]
    },
    {
      "cell_type": "code",
      "execution_count": 15,
      "id": "04f8b223",
      "metadata": {
        "scrolled": true,
        "colab": {
          "base_uri": "https://localhost:8080/"
        },
        "id": "04f8b223",
        "outputId": "7e4eb7e6-20cc-4685-bc62-937e342351a8"
      },
      "outputs": [
        {
          "output_type": "stream",
          "name": "stdout",
          "text": [
            "Epoch 1\n"
          ]
        },
        {
          "output_type": "stream",
          "name": "stderr",
          "text": [
            "loss = 5.635 | acc = 0.075: 100%|██████████| 84470/84470 [10:51<00:00, 129.59it/s]\n"
          ]
        },
        {
          "output_type": "stream",
          "name": "stdout",
          "text": [
            "train loss = 6.272 | train acc = 0.062\n",
            "Epoch 2\n"
          ]
        },
        {
          "output_type": "stream",
          "name": "stderr",
          "text": [
            "loss = 5.925 | acc = 0.050: 100%|██████████| 84470/84470 [10:45<00:00, 130.83it/s]\n"
          ]
        },
        {
          "output_type": "stream",
          "name": "stdout",
          "text": [
            "train loss = 6.117 | train acc = 0.067\n",
            "Epoch 3\n"
          ]
        },
        {
          "output_type": "stream",
          "name": "stderr",
          "text": [
            "loss = 6.035 | acc = 0.100: 100%|██████████| 84470/84470 [10:48<00:00, 130.23it/s]\n"
          ]
        },
        {
          "output_type": "stream",
          "name": "stdout",
          "text": [
            "train loss = 6.088 | train acc = 0.067\n",
            "Epoch 4\n"
          ]
        },
        {
          "output_type": "stream",
          "name": "stderr",
          "text": [
            "loss = 6.669 | acc = 0.038: 100%|██████████| 84470/84470 [10:41<00:00, 131.65it/s]\n"
          ]
        },
        {
          "output_type": "stream",
          "name": "stdout",
          "text": [
            "train loss = 6.069 | train acc = 0.068\n",
            "Epoch 5\n"
          ]
        },
        {
          "output_type": "stream",
          "name": "stderr",
          "text": [
            "loss = 6.434 | acc = 0.038: 100%|██████████| 84470/84470 [10:45<00:00, 130.84it/s]"
          ]
        },
        {
          "output_type": "stream",
          "name": "stdout",
          "text": [
            "train loss = 6.055 | train acc = 0.068\n"
          ]
        },
        {
          "output_type": "stream",
          "name": "stderr",
          "text": [
            "\n"
          ]
        }
      ],
      "source": [
        "train_loss, train_acc = w2v_fit(w2v_model, w2v_dataloader,\n",
        "                                optimizer, num_epochs=NUM_EPOCHS, device=DEVICE)"
      ]
    },
    {
      "cell_type": "code",
      "execution_count": 16,
      "id": "2ff22c5f",
      "metadata": {
        "colab": {
          "base_uri": "https://localhost:8080/",
          "height": 545
        },
        "id": "2ff22c5f",
        "outputId": "d952b6dd-fe4f-40c7-f075-90d8c959b94d"
      },
      "outputs": [
        {
          "output_type": "display_data",
          "data": {
            "text/plain": [
              "<Figure size 432x288 with 1 Axes>"
            ],
            "image/png": "[encoded data removed]"
          },
          "metadata": {
            "needs_background": "light"
          }
        },
        {
          "output_type": "display_data",
          "data": {
            "text/plain": [
              "<Figure size 432x288 with 1 Axes>"
            ],
            "image/png": "[encoded data removed]"
          },
          "metadata": {
            "needs_background": "light"
          }
        }
      ],
      "source": [
        "plt.title('Train loss')\n",
        "plt.plot(range(len(train_loss)), train_loss)\n",
        "plt.show()\n",
        "plt.title('Train accuracy')\n",
        "plt.plot(range(len(train_acc)), train_acc)\n",
        "plt.show()"
      ]
    },
    {
      "cell_type": "code",
      "execution_count": 32,
      "id": "2bc15b85",
      "metadata": {
        "colab": {
          "base_uri": "https://localhost:8080/",
          "height": 35
        },
        "id": "2bc15b85",
        "outputId": "fed41705-f849-4350-cddd-b2c54b4fef1e"
      },
      "outputs": [
        {
          "output_type": "execute_result",
          "data": {
            "text/plain": [
              "'imdb_word2vec_E300_EMN1.pt'"
            ],
            "application/vnd.google.colaboratory.intrinsic+json": {
              "type": "string"
            }
          },
          "metadata": {},
          "execution_count": 32
        }
      ],
      "source": [
        "#vtorch.save(w2v_model.state_dict(), f\"imdb_word2vec_E{EMBEDDING_DIM}_EMN{EMBEDDING_MAX_NORM}.pt\")\n",
        "# Model to load\n",
        "MODEL_TO_LOAD = f\"imdb_word2vec_E{EMBEDDING_DIM}_EMN{EMBEDDING_MAX_NORM}.pt\"\n",
        "MODEL_TO_LOAD"
      ]
    },
    {
      "cell_type": "markdown",
      "source": [
        "Let's inspect our model quality by computing the Cosine Similarity and inspecting the top N similar words to a given input."
      ],
      "metadata": {
        "id": "vGfxdqF-fy4O"
      },
      "id": "vGfxdqF-fy4O"
    },
    {
      "cell_type": "code",
      "source": [
        "embeddings_norm = np.zeros((len(vocab), len(vocab)))\n",
        "for token_idx in range(len(vocab)):\n",
        "    token_idx = torch.tensor(token_idx).to(DEVICE)\n",
        "    embedding = w2v_model(token_idx)\n",
        "    embedding /= (embedding**2).sum().sqrt()\n",
        "    embeddings_norm[token_idx] = embedding.detach().cpu().numpy()"
      ],
      "metadata": {
        "id": "kWuStba4gWpm"
      },
      "id": "kWuStba4gWpm",
      "execution_count": 21,
      "outputs": []
    },
    {
      "cell_type": "code",
      "source": [
        "def get_most_similar(word, vocab, vocab_inv, embeddings, topN=1):\n",
        "    print(f\"Input word index: {vocab[word]}\")      \n",
        "    embedded_word = embeddings[vocab[word]] # Already normalized\n",
        "    sim_measure = np.zeros(len(vocab))\n",
        "    for idx, embed in enumerate(embeddings):\n",
        "        # Compute cosine similarity\n",
        "        cos_sim = embedded_word.dot(embed)\n",
        "        sim_measure[idx] = cos_sim\n",
        "    # Remove self-similarity\n",
        "    sim_measure[vocab[word]] = 0.\n",
        "    # Retrieve N most similar\n",
        "    most_similar = np.argpartition(sim_measure, -topN)[-topN:]\n",
        "    topN_dict = {vocab_inv[idx]: sim_measure[idx] for idx in most_similar}\n",
        "    return topN_dict"
      ],
      "metadata": {
        "id": "h-U2QgJAfx-6"
      },
      "id": "h-U2QgJAfx-6",
      "execution_count": 25,
      "outputs": []
    },
    {
      "cell_type": "code",
      "source": [
        "for word in [\"bad\", \"good\", \"actor\", \"lighting\", \"long\", \"horror\", \"twist\"]:\n",
        "    print(f\"Top-10 words most similar to '{word}': {get_most_similar(word, vocab, vocab_inv, embeddings_norm, topN=10)}\\n\")"
      ],
      "metadata": {
        "colab": {
          "base_uri": "https://localhost:8080/"
        },
        "id": "Cfg7bnt5hIBK",
        "outputId": "190d2ffc-a22d-40fd-fb24-4b11c22c6ed3"
      },
      "id": "Cfg7bnt5hIBK",
      "execution_count": 29,
      "outputs": [
        {
          "output_type": "stream",
          "name": "stdout",
          "text": [
            "Input word index: 560\n",
            "Top-10 words most similar to 'bad': {'unoriginal': 0.9992241157760875, 'horrible': 0.9992245773253198, 'terrible': 0.9992678601164443, 'misleading': 0.9992365895959123, 'good': 0.9993114427901213, 'funny': 0.9992705958462129, 'shockingly': 0.9993652882993868, 'abysmal': 0.9993415797693359, 'downbeat': 0.9992349820767306, 'scary': 0.9992907750841649}\n",
            "\n",
            "Input word index: 429\n",
            "Top-10 words most similar to 'good': {'gross': 0.9990727747460253, 'nice': 0.9990795919202515, 'sniper': 0.9991145633425207, 'cool': 0.9991871601840405, 'credible': 0.999281034992817, 'lightweight': 0.9991450747787209, 'great': 0.9992612531238374, 'decent': 0.9991649344768176, 'bad': 0.9993114427901213, 'lousy': 0.9991770441577656}\n",
            "\n",
            "Input word index: 965\n",
            "Top-10 words most similar to 'actor': {'depp': 0.9988783586742047, 'scheider': 0.9988856878867942, 'meg': 0.9989093940671785, 'irons': 0.998903043536483, 'role': 0.998934388232564, 'connery': 0.9990180255210528, 'hanks': 0.999052308445978, 'keaton': 0.9990555115326545, 'comedian': 0.9992886183004404, 'actress': 0.9995993377946009}\n",
            "\n",
            "Input word index: 2199\n",
            "Top-10 words most similar to 'lighting': {'locations': 0.9992383681132322, 'underdeveloped': 0.9992445568762849, 'clichéd': 0.9992519347191016, 'dialogue': 0.9992583783671869, 'visuals': 0.999330509329442, 'costumes': 0.9995611523332426, 'editing': 0.9992666991523164, 'music': 0.9992890241781109, 'dialog': 0.9992919555875254, 'design': 0.9992616319201221}\n",
            "\n",
            "Input word index: 715\n",
            "Top-10 words most similar to 'long': {'sixty': 0.9989508642995809, 'half': 0.99895804272673, '$10': 0.9989536071249931, 'capsule': 0.9989580778868681, 'surgery': 0.9989593510100765, 'clearer': 0.9990923016465207, '48': 0.9989793930258576, 'bucket': 0.9989869687088572, '500': 0.9989693158636219, 'eighteen': 0.9990234635200239}\n",
            "\n",
            "Input word index: 665\n",
            "Top-10 words most similar to 'horror': {'low': 0.9990288485902906, 'turkish': 0.9990464646471617, 'flicks': 0.9991629268016667, 'genre': 0.9994753427601754, 'sci-fi': 0.9991133173018937, 'slasher': 0.9996808344724668, 'fi': 0.9991183595252023, 'sci': 0.9991234968794629, 'kung': 0.9991682649098232, 'budget': 0.9991261669122001}\n",
            "\n",
            "Input word index: 1272\n",
            "Top-10 words most similar to 'twist': {'tackles': 0.9987640078034834, 'incoherent': 0.9987658934319574, 'mood': 0.9988711382582366, 'flimsy': 0.9987662778826859, 'moderately': 0.9988848695230771, 'pace': 0.9988289995672799, 'perverse': 0.9988272422787878, 'angle': 0.9987966367577881, 'line': 0.9989097376845522, 'plot': 0.9988143129148446}\n",
            "\n"
          ]
        }
      ]
    },
    {
      "cell_type": "markdown",
      "id": "b6e1c40f",
      "metadata": {
        "id": "b6e1c40f"
      },
      "source": [
        "# Stage 3: tackle Sentiment Analysis task"
      ]
    },
    {
      "cell_type": "markdown",
      "id": "Gs-CZPGvK4J-",
      "metadata": {
        "id": "Gs-CZPGvK4J-"
      },
      "source": [
        "Create a custom `Dataset` and `DataLoader` to automatically handle mini-batching.\n",
        "\n",
        "The `IMDBDataset` object should store each review in a sparse representation and map the sentiment into binary categories: `{0: \"negative\", 1: \"positive\"}`.\n",
        "\n",
        "Moreover, it will pad each review with `<pad>` tokens. This will be managed later by the `pack_padded_sequence` and `pad_packed_sequence` functions."
      ]
    },
    {
      "cell_type": "code",
      "execution_count": 30,
      "id": "GTNtH2RMKzuX",
      "metadata": {
        "id": "GTNtH2RMKzuX"
      },
      "outputs": [],
      "source": [
        "class IMDBDataset(torch.utils.data.Dataset):\n",
        "    def __init__(self, data, vocab, tokenizer, max_len, pad_token):\n",
        "        self.inputs = []\n",
        "        self.targets = []\n",
        "        self.lengths = []\n",
        "\n",
        "        print(f\"Loading data...\")\n",
        "        print(f\"Padding inputs...\")\n",
        "        for sentence in data[\"review\"]:\n",
        "            # Tokenize review\n",
        "            tokenized_sentence = tokenizer(sentence)\n",
        "            # Skip unknown tokens\n",
        "            padded_sentence = [vocab[tk] for tk in tokenized_sentence if vocab[tk] >= 0] \n",
        "            # Save length before padding\n",
        "            self.lengths.append(len(padded_sentence)) \n",
        "            # Apply padding\n",
        "            padding_size = max_len - len(padded_sentence)\n",
        "            padded_sentence.extend([vocab[pad_token]]*padding_size)\n",
        "            # Append result\n",
        "            self.inputs.append(padded_sentence)\n",
        "        print(\"Finished padding inputs. Processing labels...\")\n",
        "        for label in data[\"sentiment\"]:\n",
        "            self.targets.append(0 if label == \"negative\" else 1)\n",
        "        print(\"Done.\")\n",
        "\n",
        "    def __len__(self):\n",
        "        return len(self.targets)\n",
        "    \n",
        "    def __getitem__(self, idx):\n",
        "        # Must also return original length before padding\n",
        "        return {\"inputs\": self.inputs[idx],\n",
        "                \"targets\": self.targets[idx],\n",
        "                \"lengths\": self.lengths[idx]}\n",
        "        # return self.inputs[idx], self.targets[idx], self.lengths[idx]"
      ]
    },
    {
      "cell_type": "markdown",
      "id": "4OQSdaEpPbya",
      "metadata": {
        "id": "4OQSdaEpPbya"
      },
      "source": [
        "Instantiate the `DataLoaders`, splitting the train data into train/validation sets. For the train/validation splitting, refer [to this post.](https://clay-atlas.com/us/blog/2021/08/25/pytorch-en-random-split-data-set/)"
      ]
    },
    {
      "cell_type": "code",
      "execution_count": 31,
      "id": "kkeP6nCCKtYZ",
      "metadata": {
        "colab": {
          "base_uri": "https://localhost:8080/"
        },
        "id": "kkeP6nCCKtYZ",
        "outputId": "3ab26699-c0df-45f6-c4f5-0638c1b76b38",
        "scrolled": true
      },
      "outputs": [
        {
          "output_type": "stream",
          "name": "stdout",
          "text": [
            "Loading data...\n",
            "Padding inputs...\n",
            "Finished padding inputs. Processing labels...\n",
            "Done.\n",
            "Loading data...\n",
            "Padding inputs...\n",
            "Finished padding inputs. Processing labels...\n",
            "Done.\n"
          ]
        }
      ],
      "source": [
        "train_dataset = IMDBDataset(imdb_train, vocab, tokenizer, PADDED_LENGTH, pad_token)\n",
        "test_dataset = IMDBDataset(imdb_test, vocab, tokenizer, PADDED_LENGTH, pad_token)\n",
        "\n",
        "train_split = int(0.9 * len(train_dataset))\n",
        "validation_split = len(train_dataset) - train_split\n",
        "train_dataset, validation_dataset = torch.utils.data.random_split(train_dataset,\n",
        "                                                                  [train_split, validation_split])\n",
        "\n",
        "BATCH_SIZE = 128\n",
        "train_dataloader = torch.utils.data.DataLoader(train_dataset, batch_size=BATCH_SIZE, shuffle=True)\n",
        "validation_dataloader = torch.utils.data.DataLoader(validation_dataset, batch_size=BATCH_SIZE)\n",
        "test_dataloader = torch.utils.data.DataLoader(test_dataset, batch_size=BATCH_SIZE)"
      ]
    },
    {
      "cell_type": "markdown",
      "id": "QOyQuineYoCA",
      "metadata": {
        "id": "QOyQuineYoCA"
      },
      "source": [
        "Now we need to define our model:\n",
        "\n",
        "[![](https://mermaid.ink/img/pako:eNplkU9PwzAMxb9K5BNIm9CuparEOokLpyFOZKqyxrQWSRry5zBt--54bWFM-BTF7_f84hyhHTRCAV1Qvhcv20fpBNfTuwRyPicJO7FcVicJ0asQUcJJrLmJdo9ak-skiHIfKlFGq4ypxNhoNFlRPkxXu8lyPftodJNNzTbP27db3GXbGHXAEH_5Cf9fN1xPmo2bmFTCKwnz7HqeTQmDMOjuIn5ldC3ej0H-iES94liGHKpwxVc_O6DODqQv0IZlPqCmNtHgRikswGKwijQv9HhBJaQeLb-24KNW4VOCdGfWqZyG14NroUgh4wKy1xx8Q4r_wULxoUzE8zegXYC2)](https://mermaid.live/edit#pako:eNplkU9PwzAMxb9K5BNIm9CuparEOokLpyFOZKqyxrQWSRry5zBt--54bWFM-BTF7_f84hyhHTRCAV1Qvhcv20fpBNfTuwRyPicJO7FcVicJ0asQUcJJrLmJdo9ak-skiHIfKlFGq4ypxNhoNFlRPkxXu8lyPftodJNNzTbP27db3GXbGHXAEH_5Cf9fN1xPmo2bmFTCKwnz7HqeTQmDMOjuIn5ldC3ej0H-iES94liGHKpwxVc_O6DODqQv0IZlPqCmNtHgRikswGKwijQv9HhBJaQeLb-24KNW4VOCdGfWqZyG14NroUgh4wKy1xx8Q4r_wULxoUzE8zegXYC2)\n",
        "\n",
        "Some comments:\n",
        "- Unlike the Word2Vec model implemented in class, we don't need to use a `nn.Linear` layer to map from embedding space to vocabulary space. \n",
        "\n",
        "- We should load weights the Word2Vec we trained above into the sentiment analysis model Embedding layer. Note this fixes its embedding size. \n",
        "\n",
        "- After initializing the pre-trained weights, we can freeze them to avoid getting messed up by the first epochs. A common strategy is to later unfreeze these layers.\n",
        "\n",
        "- The model is based around a `nn.GRU` layer, which allow us to chain many GRU units for processing each sequence. In the end, we are only interest in the output of the final GRU layer. \n",
        "\n",
        "- Note that we will use `torch.nn.utils.rnn.pack_padded_sequence` to feed input to GRU as to avoid flooding it with padding tokens. The output will still be in packed form, but it is not necessary to reverse the operation since our prediction is based upon the hidden state.\n",
        "\n",
        "- We don't need to include `nn.Sigmoid` explicitly, since our loss function (`nn.BCEWithLogitsLoss`) will implement it for us (with more numerical stability, [c.f. documentation](https://pytorch.org/docs/stable/generated/torch.nn.BCEWithLogitsLoss.html))."
      ]
    },
    {
      "cell_type": "code",
      "execution_count": 123,
      "id": "ylAAx0P6XFC_",
      "metadata": {
        "id": "ylAAx0P6XFC_"
      },
      "outputs": [],
      "source": [
        "class GRUPredictor(nn.Module):\n",
        "\n",
        "    def __init__(self, vocab_size,\n",
        "                 hidden_size, num_layers, is_bidirectional=True, dropout=0.5,\n",
        "                 embed_dim=300, embed_max_norm=None, pretrained=None):\n",
        "        super().__init__()\n",
        "        \n",
        "\n",
        "        self.D = 2 if is_bidirectional else 1\n",
        "        if pretrained is not None:\n",
        "            # pre-trained weights are frozen by default\n",
        "            self.embedding = self.set_pretrained(pretrained,\n",
        "                                                 padding_idx=0,\n",
        "                                                 max_norm=embed_max_norm)\n",
        "        else:\n",
        "            self.embedding = nn.Embedding(vocab_size, embed_dim,\n",
        "                                          padding_idx=0,\n",
        "                                          max_norm=embed_max_norm)\n",
        "\n",
        "        self.gru = nn.GRU(input_size=embed_dim, hidden_size=hidden_size,\n",
        "                          num_layers=num_layers, batch_first=True, bidirectional=is_bidirectional)\n",
        "        self.dropout = nn.Dropout(p=dropout)\n",
        "        self.linear = nn.Linear(self.D*hidden_size, 1)\n",
        "        # Apply Xavier initialization to linear layer with (implicit) sigmoid activation\n",
        "        nn.init.xavier_uniform_(self.linear.weight, gain=1.0)\n",
        "\n",
        "        # Record some hyper-parameters\n",
        "        self.embed_dim = embed_dim\n",
        "        self.hidden_size = hidden_size\n",
        "        self.num_layers = num_layers\n",
        "        \n",
        "        \n",
        "    def forward(self, inputs, unpadded_lengths):\n",
        "        # sort inputs by descending unpadded length\n",
        "        unpadded_lengths, sort_idx = unpadded_lengths.sort(descending=True)\n",
        "        unpadded_lengths = unpadded_lengths.cpu().numpy()\n",
        "        inputs = inputs[sort_idx]\n",
        "        # embed inputs\n",
        "        embedded_inputs = self.embedding(inputs)\n",
        "        BS, T, _ = embedded_inputs.shape # X -> batch, steps, embed_dim \n",
        "        # initialize hidden state\n",
        "        self.hidden_state = torch.zeros((self.D*self.num_layers, BS, self.hidden_size),\n",
        "                                        device=inputs.device)\n",
        "        # pack_padded_sequence so that padded items in the sequence won't be shown to the GRU\n",
        "        X = torch.nn.utils.rnn.pack_padded_sequence(embedded_inputs, unpadded_lengths,\n",
        "                                                    batch_first=True)\n",
        "        # rnn pass\n",
        "        X, self.hidden_state = self.gru(X, self.hidden_state)\n",
        "        \n",
        "        # concatenate hidden state for forward/backward, for the last layer\n",
        "        output = torch.cat([self.hidden_state[-2], self.hidden_state[-1]], dim=1)\n",
        "        output = self.dropout(output) # dropout between GRU and Linear layer\n",
        "        output = self.linear(output)\n",
        "        return output\n",
        "    \n",
        "    def set_pretrained(self, path, padding_idx, max_norm):\n",
        "        print(\"Loading pre-trained weights...\")\n",
        "        state_dict = torch.load(path)\n",
        "        pretrained_weights = state_dict[\"embedding.weight\"]\n",
        "        return nn.Embedding.from_pretrained(pretrained_weights,\n",
        "                                            freeze=True, # Frozen weights by default\n",
        "                                            padding_idx=padding_idx, # Note that padding tokens won't contribute to gradient\n",
        "                                            max_norm=max_norm) \n"
      ]
    },
    {
      "cell_type": "markdown",
      "id": "1d19fd72",
      "metadata": {
        "id": "1d19fd72"
      },
      "source": [
        "Now we need to write the training loop, etc.\n",
        "Most of the code below is based on what was supplied to us in the earlier modules."
      ]
    },
    {
      "cell_type": "markdown",
      "id": "a1dc46f8",
      "metadata": {
        "id": "a1dc46f8"
      },
      "source": [
        "Comment about `nn.functional.binary_cross_entropy_with_logits`: the targets $y$ need to be a float tensor, since the loss function can work with soft labels representing probability of the positive class.\n",
        "[Source](https://discuss.pytorch.org/t/multi-label-binary-classification-result-type-float-cant-be-cast-to-the-desired-output-type-long/117915/3)"
      ]
    },
    {
      "cell_type": "code",
      "execution_count": 124,
      "id": "6ucEVmv_bMOQ",
      "metadata": {
        "id": "6ucEVmv_bMOQ",
        "colab": {
          "base_uri": "https://localhost:8080/"
        },
        "outputId": "7d71040e-9600-433f-c30d-ab9126978a45"
      },
      "outputs": [
        {
          "output_type": "stream",
          "name": "stdout",
          "text": [
            "DEVICE: cuda\n",
            "EMBEDDING DIM: 300\n",
            "Loading pre-trained weights...\n",
            "torch.Size([11265, 300])\n",
            "torch.Size([11265, 300])\n"
          ]
        },
        {
          "output_type": "execute_result",
          "data": {
            "text/plain": [
              "True"
            ]
          },
          "metadata": {},
          "execution_count": 124
        }
      ],
      "source": [
        "HIDDEN_SIZE = 128\n",
        "NUM_LAYERS = 1\n",
        "LEARNING_RATE = 1e-3\n",
        "NUM_EPOCHS = 10\n",
        "BIDIRECTIONAL = True\n",
        "DROPUT_RATE = 0.2\n",
        "\n",
        "if torch.cuda.is_available():\n",
        "    DEVICE = torch.device(\"cuda\")\n",
        "else:\n",
        "    DEVICE = torch.device(\"cpu\")\n",
        "# DEVICE = \"cpu\"\n",
        "    \n",
        "    \n",
        "print(\"DEVICE:\", DEVICE)\n",
        "print(\"EMBEDDING DIM:\", EMBEDDING_DIM)\n",
        "\n",
        "model = GRUPredictor(len(vocab), HIDDEN_SIZE, NUM_LAYERS, is_bidirectional=BIDIRECTIONAL, dropout=DROPUT_RATE,\n",
        "                     embed_dim=EMBEDDING_DIM, embed_max_norm=True, pretrained=MODEL_TO_LOAD).to(DEVICE)\n",
        "optimizer = torch.optim.Adam(model.parameters(), lr=LEARNING_RATE)\n",
        "\n",
        "# Check that the weights were successfully loaded\n",
        "w2v_model = SkipGramModel(len(vocab), EMBEDDING_DIM).to(DEVICE)\n",
        "w2v_model.load_state_dict(torch.load(MODEL_TO_LOAD))\n",
        "# Check loaded weights shape\n",
        "print(model.state_dict()[\"embedding.weight\"].shape)\n",
        "print(w2v_model.state_dict()[\"embedding.weight\"].shape)\n",
        "# Check values match\n",
        "torch.equal(model.state_dict()[\"embedding.weight\"], w2v_model.state_dict()[\"embedding.weight\"])"
      ]
    },
    {
      "cell_type": "markdown",
      "id": "4a75df44",
      "metadata": {
        "id": "4a75df44"
      },
      "source": [
        "So what we have here is that the Embedding layer will always map the padding to the zero vector, and the remaining of the vocabulary will be mapped the same as the pre-trained Embedding."
      ]
    },
    {
      "cell_type": "code",
      "execution_count": 119,
      "id": "39b325cf",
      "metadata": {
        "colab": {
          "base_uri": "https://localhost:8080/"
        },
        "id": "39b325cf",
        "outputId": "c3cf9b3a-3952-494b-c704-0100108722c5"
      },
      "outputs": [
        {
          "output_type": "stream",
          "name": "stdout",
          "text": [
            "The model has 330497 trainable parametersand 3379500 non-trainable parameters\n",
            "Total: 3709997\n"
          ]
        }
      ],
      "source": [
        "pytorch_total_params = sum(p.numel() for p in model.parameters())\n",
        "pytorch_trainable_params = sum(p.numel() for p in model.parameters() if p.requires_grad)\n",
        "print(f\"The model has {pytorch_trainable_params} trainable parameters\" \\\n",
        "      + f\"and {pytorch_total_params - pytorch_trainable_params} non-trainable parameters\")\n",
        "print(f\"Total: {pytorch_total_params}\")"
      ]
    },
    {
      "cell_type": "code",
      "execution_count": 120,
      "id": "e8f02638",
      "metadata": {
        "colab": {
          "base_uri": "https://localhost:8080/"
        },
        "id": "e8f02638",
        "outputId": "a59c56a0-07c1-4dc8-bf8f-2e0c4e634d87"
      },
      "outputs": [
        {
          "output_type": "stream",
          "name": "stdout",
          "text": [
            "GRUPredictor(\n",
            "  (embedding): Embedding(11265, 300, padding_idx=0, max_norm=True)\n",
            "  (gru): GRU(300, 128, batch_first=True, bidirectional=True)\n",
            "  (dropout): Dropout(p=0.2, inplace=False)\n",
            "  (linear): Linear(in_features=256, out_features=1, bias=True)\n",
            ")\n"
          ]
        }
      ],
      "source": [
        "print(model)"
      ]
    },
    {
      "cell_type": "code",
      "execution_count": 150,
      "id": "7e90128c",
      "metadata": {
        "id": "7e90128c"
      },
      "outputs": [],
      "source": [
        "def evaluate(model, data_loader, **kwargs):\n",
        "    loss_fn = kwargs.get(\"loss_fn\", nn.functional.binary_cross_entropy_with_logits)\n",
        "    device = kwargs.get(\"device\", torch.device(\"cpu\"))\n",
        "    \n",
        "    model.eval() # set model to evaluation mode\n",
        "    pbar = tqdm(enumerate(data_loader), total=len(data_loader))\n",
        "    avg_loss, avg_acc = 0., 0.\n",
        "    for i, batch in pbar:\n",
        "\n",
        "        batch[\"inputs\"] = (torch.stack(batch[\"inputs\"]).T).to(device)\n",
        "        batch[\"targets\"] = batch[\"targets\"].float().to(device)\n",
        "        \n",
        "        model.zero_grad() # initialize gradients to zero\n",
        "        with torch.no_grad(): # no need to compute gradients\n",
        "            preds = model(batch[\"inputs\"], batch[\"lengths\"])\n",
        "            probas = torch.sigmoid(preds)\n",
        "            pred_cats = torch.where(probas > 0.5, 1, 0).squeeze()\n",
        "            acc = (pred_cats == batch[\"targets\"]).float().sum()\n",
        "        loss = loss_fn(preds.squeeze(), batch[\"targets\"])\n",
        "        avg_loss += loss.item()\n",
        "        avg_acc += acc.item()\n",
        "        pbar.set_description(f\"loss = {loss:.3f} | acc = {acc:.3f}\")\n",
        "    avg_loss /= len(data_loader)\n",
        "    avg_acc /= len(data_loader)\n",
        "    return avg_loss, avg_acc\n",
        "\n",
        "def fit(model, train_loader, val_loader, optimizer, **kwargs):\n",
        "    num_epochs = kwargs.get(\"num_epochs\", 100)\n",
        "    loss_fn = kwargs.get(\"loss_fn\", nn.functional.binary_cross_entropy_with_logits)\n",
        "    device = kwargs.get(\"device\", torch.device(\"cpu\"))\n",
        "    \n",
        "    train_loss_hist, val_loss_hist = [], []\n",
        "    train_acc_hist, val_acc_hist = [], []\n",
        "    for epoch in range(num_epochs):\n",
        "        print(f\"\\nEpoch {epoch + 1}/{num_epochs}\")\n",
        "        model.train() # set model to training mode\n",
        "        train_loss, train_acc = 0., 0.\n",
        "        pbar = tqdm(enumerate(train_loader), total=len(train_loader))\n",
        "        for i, batch in pbar:\n",
        "            \n",
        "            batch[\"inputs\"] = (torch.stack(batch[\"inputs\"]).T).to(device)\n",
        "            batch[\"targets\"] = batch[\"targets\"].float().to(device)\n",
        "    \n",
        "            model.zero_grad() # initialize gradients to zero\n",
        "            preds = model(batch[\"inputs\"], batch[\"lengths\"]) # forward pass\n",
        "            loss = loss_fn(preds.squeeze(), batch[\"targets\"]) # loss computation\n",
        "            loss.backward() # computing gradients (backward pass)\n",
        "            optimizer.step() # updating the parameters of the model\n",
        "            # accuracy computation\n",
        "            with torch.no_grad():\n",
        "                probas = torch.sigmoid(preds)\n",
        "                pred_cats = torch.where(probas > 0.5, 1, 0).squeeze()\n",
        "                acc = (pred_cats == batch[\"targets\"]).float().sum()\n",
        "            # pop computational graph\n",
        "            train_loss += loss.item()\n",
        "            train_acc += acc.item()\n",
        "            pbar.set_description(f\"loss = {loss:.3f} | acc = {acc/len(batch['targets']):.3f}\")\n",
        "        train_loss /= len(train_loader)\n",
        "        train_acc /= len(train_loader)\n",
        "        print(f\"Train loss: {train_loss:.3f} | train acc = {train_acc:.3f}\")\n",
        "        train_loss_hist.append(train_loss)\n",
        "        train_acc_hist.append(train_acc) \n",
        "        \n",
        "        val_loss, val_acc = evaluate(model, val_loader, loss_fn=loss_fn, device=device)\n",
        "        print(f\"Validation loss: {val_loss:.3f} | val acc = {val_acc:.3f}\")\n",
        "        val_loss_hist.append(val_loss)\n",
        "        val_acc_hist.append(val_acc)\n",
        "        \n",
        "    return train_loss_hist, val_loss_hist, train_acc_hist, val_acc_hist\n"
      ]
    },
    {
      "cell_type": "code",
      "execution_count": null,
      "id": "0739501f",
      "metadata": {
        "scrolled": true,
        "colab": {
          "base_uri": "https://localhost:8080/"
        },
        "id": "0739501f",
        "outputId": "8bdd68a4-edb2-4692-dac9-1053ec793b6f"
      },
      "outputs": [
        {
          "output_type": "stream",
          "name": "stdout",
          "text": [
            "\n",
            "Epoch 1/10\n"
          ]
        },
        {
          "output_type": "stream",
          "name": "stderr",
          "text": [
            "loss = 0.698 | acc = 0.414:  74%|███████▍  | 234/317 [00:32<00:10,  7.91it/s]"
          ]
        }
      ],
      "source": [
        "train_loss, val_loss, train_acc, val_acc = fit(model, train_dataloader, validation_dataloader,\n",
        "                                               optimizer, num_epochs=NUM_EPOCHS, device=DEVICE)"
      ]
    },
    {
      "cell_type": "code",
      "execution_count": 147,
      "id": "01a5db14",
      "metadata": {
        "scrolled": false,
        "colab": {
          "base_uri": "https://localhost:8080/",
          "height": 545
        },
        "id": "01a5db14",
        "outputId": "d6bf62d6-a7d3-4308-aeb8-cab6aef740be"
      },
      "outputs": [
        {
          "output_type": "display_data",
          "data": {
            "text/plain": [
              "<Figure size 432x288 with 1 Axes>"
            ],
            "image/png": "[encoded data removed]"
          },
          "metadata": {
            "needs_background": "light"
          }
        },
        {
          "output_type": "display_data",
          "data": {
            "text/plain": [
              "<Figure size 432x288 with 1 Axes>"
            ],
            "image/png": "[encoded data removed]"
          },
          "metadata": {
            "needs_background": "light"
          }
        }
      ],
      "source": [
        "plt.title('Train loss')\n",
        "plt.plot(range(len(train_loss)), train_loss)\n",
        "plt.show()\n",
        "plt.title('Train accuracy')\n",
        "plt.plot(range(len(train_acc)), train_acc)\n",
        "plt.show()"
      ]
    },
    {
      "cell_type": "code",
      "execution_count": null,
      "id": "3fdcd2bc",
      "metadata": {
        "id": "3fdcd2bc"
      },
      "outputs": [],
      "source": [
        "model_name = f\"GRU_{NUM_EPOCHS}_E{EMBEDDING_DIM}_H{HIDDEN_SIZE}_\" +\\\n",
        "             f\"N{NUM_LAYERS}_Bi{1 if BIDIRECTIONAL else 0}_D{DROPUT_RATE}.pt\"\n",
        "torch.save(model.state_dict(), model_name)"
      ]
    },
    {
      "cell_type": "code",
      "execution_count": null,
      "id": "62e1d3ee",
      "metadata": {
        "id": "62e1d3ee"
      },
      "outputs": [],
      "source": []
    }
  ],
  "metadata": {
    "colab": {
      "collapsed_sections": [],
      "provenance": [],
      "include_colab_link": true
    },
    "kernelspec": {
      "display_name": "Python 3 (ipykernel)",
      "language": "python",
      "name": "python3"
    },
    "language_info": {
      "codemirror_mode": {
        "name": "ipython",
        "version": 3
      },
      "file_extension": ".py",
      "mimetype": "text/x-python",
      "name": "python",
      "nbconvert_exporter": "python",
      "pygments_lexer": "ipython3",
      "version": "3.9.13"
    },
    "accelerator": "GPU"
  },
  "nbformat": 4,
  "nbformat_minor": 5
}