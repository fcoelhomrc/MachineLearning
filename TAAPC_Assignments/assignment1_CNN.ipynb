{
  "nbformat": 4,
  "nbformat_minor": 0,
  "metadata": {
    "colab": {
      "provenance": [],
      "collapsed_sections": [
        "TQXVI6VEw_jp",
        "_Iuzi_EA6KjN"
      ]
    },
    "kernelspec": {
      "name": "python3",
      "display_name": "Python 3"
    },
    "language_info": {
      "name": "python"
    },
    "accelerator": "GPU"
  },
  "cells": [
    {
      "cell_type": "code",
      "execution_count": 1,
      "metadata": {
        "id": "Hd61Pwnlwb_J"
      },
      "outputs": [],
      "source": [
        "import numpy as np\n",
        "import matplotlib.pyplot as plt\n",
        "import tensorflow as tf\n",
        "import keras"
      ]
    },
    {
      "cell_type": "markdown",
      "source": [
        "# 1. Logistic Regression\n",
        "\n"
      ],
      "metadata": {
        "id": "TQXVI6VEw_jp"
      }
    },
    {
      "cell_type": "code",
      "source": [
        "from sklearn.datasets import make_moons\n",
        "\n",
        "data, labels = make_moons(n_samples=300, noise=0.2)\n",
        "\n",
        "print(data.shape, labels.shape)"
      ],
      "metadata": {
        "id": "qVTGOaAmxIN4",
        "colab": {
          "base_uri": "https://localhost:8080/"
        },
        "outputId": "c903f7d8-1f54-4692-9611-72cebbef336f"
      },
      "execution_count": 2,
      "outputs": [
        {
          "output_type": "stream",
          "name": "stdout",
          "text": [
            "(300, 2) (300,)\n"
          ]
        }
      ]
    },
    {
      "cell_type": "code",
      "source": [
        "plt.plot(data[labels == 0, 0], data[labels == 0, 1],\n",
        "         color=\"r\", label=\"0\", ls=\"none\", marker=\"o\", mec=\"k\")\n",
        "plt.plot(data[labels == 1, 0], data[labels == 1, 1],\n",
        "         color=\"b\", label=\"1\", ls=\"none\", marker=\"o\", mec=\"k\")\n",
        "plt.legend()"
      ],
      "metadata": {
        "colab": {
          "base_uri": "https://localhost:8080/",
          "height": 282
        },
        "id": "MbQjJGUryGlo",
        "outputId": "76cd7d80-5b4b-4535-f174-928b97543830"
      },
      "execution_count": 3,
      "outputs": [
        {
          "output_type": "execute_result",
          "data": {
            "text/plain": [
              "<matplotlib.legend.Legend at 0x7fb0e7162cd0>"
            ]
          },
          "metadata": {},
          "execution_count": 3
        },
        {
          "output_type": "display_data",
          "data": {
            "text/plain": [
              "<Figure size 432x288 with 1 Axes>"
            ],
            "image/png": "[encoded data removed]"
          },
          "metadata": {
            "needs_background": "light"
          }
        }
      ]
    },
    {
      "cell_type": "markdown",
      "source": [
        "This dataset is clearly not linearly separable. Therefore, using a logistic regression algorithm to classify it is bound to failure, since it can only ever generate hyperplanes as decision boundaries.\n"
      ],
      "metadata": {
        "id": "e0h2zQLUym9J"
      }
    },
    {
      "cell_type": "code",
      "source": [
        "from sklearn.model_selection import ShuffleSplit\n",
        "\n",
        "split = ShuffleSplit(n_splits=2, test_size=0.2, random_state=25092022)\n",
        "\n",
        "for train_index, test_index in split.split(data):\n",
        "    train_set = data[train_index]\n",
        "    test_set = data[test_index]\n",
        "\n",
        "    train_labels = labels[train_index]\n",
        "    test_labels = labels[test_index]"
      ],
      "metadata": {
        "id": "GgqaUWo9yg9n"
      },
      "execution_count": 4,
      "outputs": []
    },
    {
      "cell_type": "code",
      "source": [
        "from sklearn.linear_model import LogisticRegression\n",
        "from sklearn.model_selection import GridSearchCV\n",
        "\n",
        "logistic_regression = LogisticRegression(solver=\"liblinear\")\n",
        "\n",
        "parameter_grid = {\n",
        "    \"C\": np.logspace(-5, 5, 50),\n",
        "    \"penalty\": [\"l2\"]\n",
        "}\n",
        "\n",
        "grid_search = GridSearchCV(estimator=logistic_regression,\n",
        "                           param_grid=parameter_grid,\n",
        "                           scoring=\"accuracy\",\n",
        "                           cv=10)\n",
        "\n",
        "grid_search.fit(train_set, train_labels)  "
      ],
      "metadata": {
        "colab": {
          "base_uri": "https://localhost:8080/"
        },
        "id": "XfhG2vqs0COH",
        "outputId": "e18fce92-e93e-4eb8-906b-4e8b0ef133ac"
      },
      "execution_count": 5,
      "outputs": [
        {
          "output_type": "execute_result",
          "data": {
            "text/plain": [
              "GridSearchCV(cv=10, estimator=LogisticRegression(solver='liblinear'),\n",
              "             param_grid={'C': array([1.00000000e-05, 1.59985872e-05, 2.55954792e-05, 4.09491506e-05,\n",
              "       6.55128557e-05, 1.04811313e-04, 1.67683294e-04, 2.68269580e-04,\n",
              "       4.29193426e-04, 6.86648845e-04, 1.09854114e-03, 1.75751062e-03,\n",
              "       2.81176870e-03, 4.49843267e-03, 7.19685673e-03, 1.15139540e-02,\n",
              "       1.84206997e-02, 2.94...\n",
              "       5.17947468e+00, 8.28642773e+00, 1.32571137e+01, 2.12095089e+01,\n",
              "       3.39322177e+01, 5.42867544e+01, 8.68511374e+01, 1.38949549e+02,\n",
              "       2.22299648e+02, 3.55648031e+02, 5.68986603e+02, 9.10298178e+02,\n",
              "       1.45634848e+03, 2.32995181e+03, 3.72759372e+03, 5.96362332e+03,\n",
              "       9.54095476e+03, 1.52641797e+04, 2.44205309e+04, 3.90693994e+04,\n",
              "       6.25055193e+04, 1.00000000e+05]),\n",
              "                         'penalty': ['l2']},\n",
              "             scoring='accuracy')"
            ]
          },
          "metadata": {},
          "execution_count": 5
        }
      ]
    },
    {
      "cell_type": "code",
      "source": [
        "model = grid_search.best_estimator_\n",
        "print(grid_search.best_params_)\n",
        "print(grid_search.best_score_)"
      ],
      "metadata": {
        "colab": {
          "base_uri": "https://localhost:8080/"
        },
        "id": "IutFFZUh0RA-",
        "outputId": "719aeb56-1916-4588-def1-b7f937d85fcb"
      },
      "execution_count": 6,
      "outputs": [
        {
          "output_type": "stream",
          "name": "stdout",
          "text": [
            "{'C': 8.286427728546842, 'penalty': 'l2'}\n",
            "0.85\n"
          ]
        }
      ]
    },
    {
      "cell_type": "markdown",
      "source": [
        "In the problem statement, it's asked to explicit the learning rate used. Since the ```scikit-learn``` LogisticRegression is not implemented with Stochastic Gradient Descent, it doesn't have such hyperparameter.\n"
      ],
      "metadata": {
        "id": "kyvZjTct2Is3"
      }
    },
    {
      "cell_type": "code",
      "source": [
        "from sklearn.metrics import accuracy_score, confusion_matrix, f1_score\n",
        "\n",
        "predictions = model.predict(test_set)\n",
        "\n",
        "accuracy = accuracy_score(test_labels, predictions)\n",
        "f1 = f1_score(test_labels, predictions)\n",
        "cm = confusion_matrix(test_labels, predictions)\n",
        "\n",
        "logistic_regression_results = {\n",
        "    \"accuracy\": accuracy,\n",
        "    \"f1\": f1, \n",
        "    \"confusion_matrix\": cm\n",
        "}\n",
        "\n",
        "print(f\"Accuracy: {accuracy:.3f}, F1 Score: {f1:.3f}\")\n",
        "print(cm)"
      ],
      "metadata": {
        "colab": {
          "base_uri": "https://localhost:8080/"
        },
        "id": "Q1EegJd61sTu",
        "outputId": "a649e85b-cec6-4f25-fcf4-d33b337921d6"
      },
      "execution_count": 7,
      "outputs": [
        {
          "output_type": "stream",
          "name": "stdout",
          "text": [
            "Accuracy: 0.867, F1 Score: 0.833\n",
            "[[32  5]\n",
            " [ 3 20]]\n"
          ]
        }
      ]
    },
    {
      "cell_type": "code",
      "source": [
        "b = model.intercept_\n",
        "w1, w2 = model.coef_.T\n",
        "intercept = -b/w2\n",
        "slope = -w1/w2\n",
        "\n",
        "# Plot decision boundary\n",
        "line, = plt.plot([data.min(), data.max()],\n",
        "                 slope*np.array([data.min(),data.max()]) + intercept,\n",
        "                 ls=\"--\", color=\"k\")\n",
        "plt.fill_between(line.get_xdata(),\n",
        "                 line.get_ydata(), data[:, 1].max()*np.ones(2),\n",
        "                 color=\"r\", alpha=0.6)\n",
        "plt.fill_between(line.get_xdata(),\n",
        "                 data[:, 1].min()*np.ones(2),line.get_ydata(),\n",
        "                 color=\"b\", alpha=0.6)\n",
        "# Plot data\n",
        "plt.plot(data[labels == 0, 0], data[labels == 0, 1],\n",
        "         color=\"r\", label=\"0\", ls=\"none\", marker=\"o\", mec=\"k\")\n",
        "plt.plot(data[labels == 1, 0], data[labels == 1, 1],\n",
        "         color=\"b\", label=\"1\", ls=\"none\", marker=\"o\", mec=\"k\")\n",
        "plt.title(\"Logistic Regression\",\n",
        "          fontsize=14, fontweight=\"bold\")\n",
        "plt.xlim(data[:, 0].min(), data[:, 0].max())\n",
        "plt.ylim(data[:, 1].min(), data[:, 1].max())\n",
        "plt.legend()"
      ],
      "metadata": {
        "colab": {
          "base_uri": "https://localhost:8080/",
          "height": 299
        },
        "id": "0Ys-byxB21qn",
        "outputId": "64e5a088-aff1-4f58-aea2-3f82bd9787af"
      },
      "execution_count": 8,
      "outputs": [
        {
          "output_type": "execute_result",
          "data": {
            "text/plain": [
              "<matplotlib.legend.Legend at 0x7fb0e66fe210>"
            ]
          },
          "metadata": {},
          "execution_count": 8
        },
        {
          "output_type": "display_data",
          "data": {
            "text/plain": [
              "<Figure size 432x288 with 1 Axes>"
            ],
            "image/png": "[encoded data removed]"
          },
          "metadata": {
            "needs_background": "light"
          }
        }
      ]
    },
    {
      "cell_type": "markdown",
      "source": [
        "As expected, we won't be able to achieve much better results than this"
      ],
      "metadata": {
        "id": "DVKMxluy5zw-"
      }
    },
    {
      "cell_type": "markdown",
      "source": [
        " # 2. Neural Network"
      ],
      "metadata": {
        "id": "_Iuzi_EA6KjN"
      }
    },
    {
      "cell_type": "code",
      "source": [
        "from sklearn.linear_model import Perceptron\n",
        "\n",
        "perceptron = Perceptron()\n",
        "\n",
        "parameter_grid = {\n",
        "    \"alpha\": np.logspace(-5, 5, 50),\n",
        "    \"penalty\": [\"l2\"]\n",
        "}\n",
        "\n",
        "grid_search = GridSearchCV(estimator=perceptron,\n",
        "                           param_grid=parameter_grid,\n",
        "                           scoring=\"accuracy\",\n",
        "                           cv=10)\n",
        "\n",
        "grid_search.fit(train_set, train_labels)  "
      ],
      "metadata": {
        "colab": {
          "base_uri": "https://localhost:8080/"
        },
        "id": "rfiDEe-i52iN",
        "outputId": "71d027bc-46d5-4691-b391-f5f0bc45e509"
      },
      "execution_count": 9,
      "outputs": [
        {
          "output_type": "execute_result",
          "data": {
            "text/plain": [
              "GridSearchCV(cv=10, estimator=Perceptron(),\n",
              "             param_grid={'alpha': array([1.00000000e-05, 1.59985872e-05, 2.55954792e-05, 4.09491506e-05,\n",
              "       6.55128557e-05, 1.04811313e-04, 1.67683294e-04, 2.68269580e-04,\n",
              "       4.29193426e-04, 6.86648845e-04, 1.09854114e-03, 1.75751062e-03,\n",
              "       2.81176870e-03, 4.49843267e-03, 7.19685673e-03, 1.15139540e-02,\n",
              "       1.84206997e-02, 2.94705170e-02, 4.71486636e...\n",
              "       5.17947468e+00, 8.28642773e+00, 1.32571137e+01, 2.12095089e+01,\n",
              "       3.39322177e+01, 5.42867544e+01, 8.68511374e+01, 1.38949549e+02,\n",
              "       2.22299648e+02, 3.55648031e+02, 5.68986603e+02, 9.10298178e+02,\n",
              "       1.45634848e+03, 2.32995181e+03, 3.72759372e+03, 5.96362332e+03,\n",
              "       9.54095476e+03, 1.52641797e+04, 2.44205309e+04, 3.90693994e+04,\n",
              "       6.25055193e+04, 1.00000000e+05]),\n",
              "                         'penalty': ['l2']},\n",
              "             scoring='accuracy')"
            ]
          },
          "metadata": {},
          "execution_count": 9
        }
      ]
    },
    {
      "cell_type": "code",
      "source": [
        "model = grid_search.best_estimator_\n",
        "print(grid_search.best_params_)\n",
        "print(grid_search.best_score_)"
      ],
      "metadata": {
        "colab": {
          "base_uri": "https://localhost:8080/"
        },
        "id": "54G35pTb7fn0",
        "outputId": "4041af97-84e2-47b3-e2de-b44182768d60"
      },
      "execution_count": 10,
      "outputs": [
        {
          "output_type": "stream",
          "name": "stdout",
          "text": [
            "{'alpha': 6.55128556859551e-05, 'penalty': 'l2'}\n",
            "0.8375\n"
          ]
        }
      ]
    },
    {
      "cell_type": "code",
      "source": [
        "from sklearn.metrics import accuracy_score, confusion_matrix, f1_score\n",
        "\n",
        "predictions = model.predict(test_set)\n",
        "\n",
        "accuracy = accuracy_score(test_labels, predictions)\n",
        "f1 = f1_score(test_labels, predictions)\n",
        "cm = confusion_matrix(test_labels, predictions)\n",
        "\n",
        "perceptron_results = {\n",
        "    \"accuracy\": accuracy,\n",
        "    \"f1\": f1, \n",
        "    \"confusion_matrix\": cm\n",
        "}\n",
        "\n",
        "print(f\"Accuracy: {accuracy:.3f}, F1 Score: {f1:.3f}\")\n",
        "print(cm)"
      ],
      "metadata": {
        "colab": {
          "base_uri": "https://localhost:8080/"
        },
        "id": "rNiCTD0c70yc",
        "outputId": "eaa0bc27-e844-4bea-ef06-cea5776ade7b"
      },
      "execution_count": 11,
      "outputs": [
        {
          "output_type": "stream",
          "name": "stdout",
          "text": [
            "Accuracy: 0.683, F1 Score: 0.296\n",
            "[[37  0]\n",
            " [19  4]]\n"
          ]
        }
      ]
    },
    {
      "cell_type": "code",
      "source": [
        "b = model.intercept_\n",
        "w1, w2 = model.coef_.T\n",
        "intercept = -b/w2\n",
        "slope = -w1/w2\n",
        "\n",
        "# Plot decision boundary\n",
        "line, = plt.plot([data.min(), data.max()],\n",
        "                 slope*np.array([data.min(),data.max()]) + intercept,\n",
        "                 ls=\"--\", color=\"k\")\n",
        "plt.fill_between(line.get_xdata(),\n",
        "                 line.get_ydata(), data[:, 1].max()*np.ones(2),\n",
        "                 color=\"r\", alpha=0.6)\n",
        "plt.fill_between(line.get_xdata(),\n",
        "                 data[:, 1].min()*np.ones(2),line.get_ydata(),\n",
        "                 color=\"b\", alpha=0.6)\n",
        "# Plot data\n",
        "plt.plot(data[labels == 0, 0], data[labels == 0, 1],\n",
        "         color=\"r\", label=\"0\", ls=\"none\", marker=\"o\", mec=\"k\")\n",
        "plt.plot(data[labels == 1, 0], data[labels == 1, 1],\n",
        "         color=\"b\", label=\"1\", ls=\"none\", marker=\"o\", mec=\"k\")\n",
        "plt.title(\"Perceptron\",\n",
        "          fontsize=14, fontweight=\"bold\")\n",
        "plt.xlim(data[:, 0].min(), data[:, 0].max())\n",
        "plt.ylim(data[:, 1].min(), data[:, 1].max())\n",
        "plt.legend()"
      ],
      "metadata": {
        "colab": {
          "base_uri": "https://localhost:8080/",
          "height": 299
        },
        "id": "NOxoGKhu71MD",
        "outputId": "4b40b52c-9f13-4c45-eaf4-c35b506baf41"
      },
      "execution_count": 12,
      "outputs": [
        {
          "output_type": "execute_result",
          "data": {
            "text/plain": [
              "<matplotlib.legend.Legend at 0x7fb0e6634190>"
            ]
          },
          "metadata": {},
          "execution_count": 12
        },
        {
          "output_type": "display_data",
          "data": {
            "text/plain": [
              "<Figure size 432x288 with 1 Axes>"
            ],
            "image/png": "[encoded data removed]"
          },
          "metadata": {
            "needs_background": "light"
          }
        }
      ]
    },
    {
      "cell_type": "code",
      "source": [
        "print(logistic_regression_results)\n",
        "print(perceptron_results)"
      ],
      "metadata": {
        "colab": {
          "base_uri": "https://localhost:8080/"
        },
        "id": "MKYo-1RS76NE",
        "outputId": "d7189375-2f5b-4301-9483-788bcf043323"
      },
      "execution_count": 13,
      "outputs": [
        {
          "output_type": "stream",
          "name": "stdout",
          "text": [
            "{'accuracy': 0.8666666666666667, 'f1': 0.8333333333333333, 'confusion_matrix': array([[32,  5],\n",
            "       [ 3, 20]])}\n",
            "{'accuracy': 0.6833333333333333, 'f1': 0.29629629629629634, 'confusion_matrix': array([[37,  0],\n",
            "       [19,  4]])}\n"
          ]
        }
      ]
    },
    {
      "cell_type": "markdown",
      "source": [
        "The results are about the same, as to be expected since both models are linear."
      ],
      "metadata": {
        "id": "khX8Gr_Q9VKA"
      }
    },
    {
      "cell_type": "code",
      "source": [
        "from sklearn.datasets import make_circles\n",
        "\n",
        "data, labels = make_circles(n_samples=300, noise=0.2, factor=0.4)\n",
        "\n",
        "print(data.shape, labels.shape)"
      ],
      "metadata": {
        "colab": {
          "base_uri": "https://localhost:8080/"
        },
        "id": "ygipV6_s9B_E",
        "outputId": "0693cf9d-3d60-44ba-8eae-7fc9434d3161"
      },
      "execution_count": 14,
      "outputs": [
        {
          "output_type": "stream",
          "name": "stdout",
          "text": [
            "(300, 2) (300,)\n"
          ]
        }
      ]
    },
    {
      "cell_type": "code",
      "source": [
        "plt.plot(data[labels == 0, 0], data[labels == 0, 1],\n",
        "         color=\"r\", label=\"0\", ls=\"none\", marker=\"o\", mec=\"k\")\n",
        "plt.plot(data[labels == 1, 0], data[labels == 1, 1],\n",
        "         color=\"b\", label=\"1\", ls=\"none\", marker=\"o\", mec=\"k\")\n",
        "plt.legend()"
      ],
      "metadata": {
        "colab": {
          "base_uri": "https://localhost:8080/",
          "height": 282
        },
        "id": "cU_eEMCi9kUT",
        "outputId": "c6d13dd6-4329-41fa-9c8b-cfd2174fe986"
      },
      "execution_count": 15,
      "outputs": [
        {
          "output_type": "execute_result",
          "data": {
            "text/plain": [
              "<matplotlib.legend.Legend at 0x7fb0e656b710>"
            ]
          },
          "metadata": {},
          "execution_count": 15
        },
        {
          "output_type": "display_data",
          "data": {
            "text/plain": [
              "<Figure size 432x288 with 1 Axes>"
            ],
            "image/png": "[encoded data removed]"
          },
          "metadata": {
            "needs_background": "light"
          }
        }
      ]
    },
    {
      "cell_type": "markdown",
      "source": [
        "The ```factor``` parameter in ```make_circles``` control how separated the circles are. If left as default (```factor = 0.8```), they are essentially overlapped and classification would become hard. Even by making the circles clearly separated, we can expect the Perceptron to perform poorly since this dataset remains not linearly separable."
      ],
      "metadata": {
        "id": "tNcHHSHt-o59"
      }
    },
    {
      "cell_type": "code",
      "source": [
        "split = ShuffleSplit(n_splits=2, test_size=0.2, random_state=25092022)\n",
        "\n",
        "for train_index, test_index in split.split(data):\n",
        "    train_set = data[train_index]\n",
        "    test_set = data[test_index]\n",
        "\n",
        "    train_labels = labels[train_index]\n",
        "    test_labels = labels[test_index]\n",
        "\n",
        "perceptron = Perceptron()\n",
        "\n",
        "parameter_grid = {\n",
        "    \"alpha\": np.logspace(-5, 5, 50),\n",
        "    \"penalty\": [\"l2\"]\n",
        "}\n",
        "\n",
        "grid_search = GridSearchCV(estimator=perceptron,\n",
        "                           param_grid=parameter_grid,\n",
        "                           scoring=\"accuracy\",\n",
        "                           cv=10)\n",
        "\n",
        "grid_search.fit(train_set, train_labels)\n",
        "\n",
        "predictions = model.predict(test_set)\n",
        "\n",
        "accuracy = accuracy_score(test_labels, predictions)\n",
        "f1 = f1_score(test_labels, predictions)\n",
        "cm = confusion_matrix(test_labels, predictions)\n",
        "\n",
        "perceptron_circles_results = {\n",
        "    \"accuracy\": accuracy,\n",
        "    \"f1\": f1, \n",
        "    \"confusion_matrix\": cm\n",
        "}\n",
        "\n",
        "print(f\"Accuracy: {accuracy:.3f}, F1 Score: {f1:.3f}\")\n",
        "print(cm)"
      ],
      "metadata": {
        "colab": {
          "base_uri": "https://localhost:8080/"
        },
        "id": "lZRfuC8v9nHz",
        "outputId": "25b33dc2-7b03-4e2d-f4e4-c71b3f8c380a"
      },
      "execution_count": 16,
      "outputs": [
        {
          "output_type": "stream",
          "name": "stdout",
          "text": [
            "Accuracy: 0.383, F1 Score: 0.051\n",
            "[[22  7]\n",
            " [30  1]]\n"
          ]
        }
      ]
    },
    {
      "cell_type": "code",
      "source": [
        "b = model.intercept_\n",
        "w1, w2 = model.coef_.T\n",
        "intercept = -b/w2\n",
        "slope = -w1/w2\n",
        "\n",
        "# Plot decision boundary\n",
        "line, = plt.plot([data.min(), data.max()],\n",
        "                 slope*np.array([data.min(),data.max()]) + intercept,\n",
        "                 ls=\"--\", color=\"k\")\n",
        "plt.fill_between(line.get_xdata(),\n",
        "                 line.get_ydata(), data[:, 1].max()*np.ones(2),\n",
        "                 color=\"r\", alpha=0.6)\n",
        "plt.fill_between(line.get_xdata(),\n",
        "                 data[:, 1].min()*np.ones(2),line.get_ydata(),\n",
        "                 color=\"b\", alpha=0.6)\n",
        "# Plot data\n",
        "plt.plot(data[labels == 0, 0], data[labels == 0, 1],\n",
        "         color=\"r\", label=\"0\", ls=\"none\", marker=\"o\", mec=\"k\")\n",
        "plt.plot(data[labels == 1, 0], data[labels == 1, 1],\n",
        "         color=\"b\", label=\"1\", ls=\"none\", marker=\"o\", mec=\"k\")\n",
        "plt.title(\"Perceptron\",\n",
        "          fontsize=14, fontweight=\"bold\")\n",
        "plt.xlim(data[:, 0].min(), data[:, 0].max())\n",
        "plt.ylim(data[:, 1].min(), data[:, 1].max())\n",
        "plt.legend()"
      ],
      "metadata": {
        "colab": {
          "base_uri": "https://localhost:8080/",
          "height": 299
        },
        "id": "UzrSrtYp_keb",
        "outputId": "327815d6-d60a-44cd-97af-1f2eb1a70607"
      },
      "execution_count": 17,
      "outputs": [
        {
          "output_type": "execute_result",
          "data": {
            "text/plain": [
              "<matplotlib.legend.Legend at 0x7fb0e64f3cd0>"
            ]
          },
          "metadata": {},
          "execution_count": 17
        },
        {
          "output_type": "display_data",
          "data": {
            "text/plain": [
              "<Figure size 432x288 with 1 Axes>"
            ],
            "image/png": "[encoded data removed]"
          },
          "metadata": {
            "needs_background": "light"
          }
        }
      ]
    },
    {
      "cell_type": "code",
      "source": [
        "print(perceptron_results)\n",
        "print(perceptron_circles_results)"
      ],
      "metadata": {
        "colab": {
          "base_uri": "https://localhost:8080/"
        },
        "id": "t2LzF3Ld_nqy",
        "outputId": "3850d4b6-808a-4054-e0e9-bf1ad72c34f9"
      },
      "execution_count": 18,
      "outputs": [
        {
          "output_type": "stream",
          "name": "stdout",
          "text": [
            "{'accuracy': 0.6833333333333333, 'f1': 0.29629629629629634, 'confusion_matrix': array([[37,  0],\n",
            "       [19,  4]])}\n",
            "{'accuracy': 0.38333333333333336, 'f1': 0.05128205128205128, 'confusion_matrix': array([[22,  7],\n",
            "       [30,  1]])}\n"
          ]
        }
      ]
    },
    {
      "cell_type": "markdown",
      "source": [
        "The performance has significantly dropped, comparing to the moon dataset. Again, this was to be expected since by drawing a line, the best one can hope to achieve is to correctly classify half the points in each circle. Indeed, we have an accuracy of about 50%."
      ],
      "metadata": {
        "id": "K_gvPr6IAMj1"
      }
    },
    {
      "cell_type": "markdown",
      "source": [
        "Of course, the correct way to approach this problem is by introducing non-linearity in our classifiers. This can be done building up from the Perceptron model. Indeed, the Multi-Layer Perceptron is your staple Neural Network. \n",
        "\n",
        "The idea is to connect the output of a layer of many perceptrons (which we shall now call an unit) to the input of another layer of units. If this connection was direct, the resulting model would remain linear since all operations involved would still amount to addition and multiplication. Rather, we feed the output of each unit into a non-linear activation function, and only then we pass the result to the next layer. \n",
        "\n",
        "In this model, as with a single Perceptron, the training still consists of finding optimal parameters for an affine transform. But, since we added non-linearity, the resulting model has the capabilities of an universal function approximator. "
      ],
      "metadata": {
        "id": "ms7s2J-iAjhm"
      }
    },
    {
      "cell_type": "code",
      "source": [
        "batch_size = 16\n",
        "n_epochs = 100"
      ],
      "metadata": {
        "id": "GYidTRksG0Zj"
      },
      "execution_count": 19,
      "outputs": []
    },
    {
      "cell_type": "code",
      "source": [
        "input_ = keras.layers.Input(shape=train_set.shape[1:])\n",
        "flatten_ = keras.layers.Flatten()(input_)\n",
        "layer1 = keras.layers.Dense(256, activation=\"relu\")(flatten_)\n",
        "layer2 = keras.layers.Dense(256, activation=\"relu\")(layer1)\n",
        "output = keras.layers.Dense(2, activation=\"sigmoid\")(layer2) \n",
        "\n",
        "model = keras.Model(inputs=[input_], outputs=[output])\n"
      ],
      "metadata": {
        "id": "kr8M1xAc_z_6"
      },
      "execution_count": 20,
      "outputs": []
    },
    {
      "cell_type": "markdown",
      "source": [
        "Notice how we chose a sigmoid activation function for the final unit, since our task is binary classification."
      ],
      "metadata": {
        "id": "Wl_H8GlODsJb"
      }
    },
    {
      "cell_type": "code",
      "source": [
        "sgd = tf.keras.optimizers.SGD(learning_rate=0.01)\n",
        "\n",
        "model.compile(optimizer=sgd, loss=\"sparse_categorical_crossentropy\", metrics=[\"accuracy\"])"
      ],
      "metadata": {
        "id": "c01FTgMxDzEZ"
      },
      "execution_count": 21,
      "outputs": []
    },
    {
      "cell_type": "code",
      "source": [
        "early_stopping_cb = keras.callbacks.EarlyStopping(min_delta=1e-4, patience=5)"
      ],
      "metadata": {
        "id": "eDdwJQvzFpvr"
      },
      "execution_count": 22,
      "outputs": []
    },
    {
      "cell_type": "code",
      "source": [
        "history = model.fit(train_set, train_labels,\n",
        "                    batch_size=batch_size, epochs=n_epochs,\n",
        "                    callbacks=[early_stopping_cb],\n",
        "                    validation_split=0.1)"
      ],
      "metadata": {
        "colab": {
          "base_uri": "https://localhost:8080/"
        },
        "id": "AtjrARc7E0lI",
        "outputId": "72b51b6a-3ba8-4c7b-a8a4-3253b8cb06b9"
      },
      "execution_count": 23,
      "outputs": [
        {
          "output_type": "stream",
          "name": "stdout",
          "text": [
            "Epoch 1/100\n",
            "14/14 [==============================] - 4s 35ms/step - loss: 0.6881 - accuracy: 0.4444 - val_loss: 0.6852 - val_accuracy: 0.5000\n",
            "Epoch 2/100\n",
            "14/14 [==============================] - 0s 11ms/step - loss: 0.6845 - accuracy: 0.5000 - val_loss: 0.6819 - val_accuracy: 0.5417\n",
            "Epoch 3/100\n",
            "14/14 [==============================] - 0s 9ms/step - loss: 0.6810 - accuracy: 0.5278 - val_loss: 0.6788 - val_accuracy: 0.5417\n",
            "Epoch 4/100\n",
            "14/14 [==============================] - 0s 9ms/step - loss: 0.6774 - accuracy: 0.5556 - val_loss: 0.6758 - val_accuracy: 0.5417\n",
            "Epoch 5/100\n",
            "14/14 [==============================] - 0s 7ms/step - loss: 0.6740 - accuracy: 0.5602 - val_loss: 0.6729 - val_accuracy: 0.5417\n",
            "Epoch 6/100\n",
            "14/14 [==============================] - 0s 7ms/step - loss: 0.6707 - accuracy: 0.5880 - val_loss: 0.6698 - val_accuracy: 0.5417\n",
            "Epoch 7/100\n",
            "14/14 [==============================] - 0s 5ms/step - loss: 0.6672 - accuracy: 0.5833 - val_loss: 0.6669 - val_accuracy: 0.5417\n",
            "Epoch 8/100\n",
            "14/14 [==============================] - 0s 7ms/step - loss: 0.6642 - accuracy: 0.5926 - val_loss: 0.6640 - val_accuracy: 0.5417\n",
            "Epoch 9/100\n",
            "14/14 [==============================] - 0s 9ms/step - loss: 0.6607 - accuracy: 0.6065 - val_loss: 0.6611 - val_accuracy: 0.5417\n",
            "Epoch 10/100\n",
            "14/14 [==============================] - 0s 10ms/step - loss: 0.6577 - accuracy: 0.6111 - val_loss: 0.6581 - val_accuracy: 0.5417\n",
            "Epoch 11/100\n",
            "14/14 [==============================] - 0s 7ms/step - loss: 0.6547 - accuracy: 0.6528 - val_loss: 0.6551 - val_accuracy: 0.5833\n",
            "Epoch 12/100\n",
            "14/14 [==============================] - 0s 9ms/step - loss: 0.6511 - accuracy: 0.6898 - val_loss: 0.6522 - val_accuracy: 0.5833\n",
            "Epoch 13/100\n",
            "14/14 [==============================] - 0s 8ms/step - loss: 0.6478 - accuracy: 0.6852 - val_loss: 0.6492 - val_accuracy: 0.5833\n",
            "Epoch 14/100\n",
            "14/14 [==============================] - 0s 7ms/step - loss: 0.6447 - accuracy: 0.6806 - val_loss: 0.6463 - val_accuracy: 0.6250\n",
            "Epoch 15/100\n",
            "14/14 [==============================] - 0s 6ms/step - loss: 0.6412 - accuracy: 0.6806 - val_loss: 0.6431 - val_accuracy: 0.6250\n",
            "Epoch 16/100\n",
            "14/14 [==============================] - 0s 6ms/step - loss: 0.6381 - accuracy: 0.7222 - val_loss: 0.6400 - val_accuracy: 0.6667\n",
            "Epoch 17/100\n",
            "14/14 [==============================] - 0s 7ms/step - loss: 0.6345 - accuracy: 0.7917 - val_loss: 0.6369 - val_accuracy: 0.6667\n",
            "Epoch 18/100\n",
            "14/14 [==============================] - 0s 9ms/step - loss: 0.6310 - accuracy: 0.7731 - val_loss: 0.6335 - val_accuracy: 0.6667\n",
            "Epoch 19/100\n",
            "14/14 [==============================] - 0s 7ms/step - loss: 0.6276 - accuracy: 0.7500 - val_loss: 0.6301 - val_accuracy: 0.7083\n",
            "Epoch 20/100\n",
            "14/14 [==============================] - 0s 5ms/step - loss: 0.6238 - accuracy: 0.7870 - val_loss: 0.6266 - val_accuracy: 0.7917\n",
            "Epoch 21/100\n",
            "14/14 [==============================] - 0s 10ms/step - loss: 0.6202 - accuracy: 0.7963 - val_loss: 0.6231 - val_accuracy: 0.7500\n",
            "Epoch 22/100\n",
            "14/14 [==============================] - 0s 7ms/step - loss: 0.6168 - accuracy: 0.7870 - val_loss: 0.6195 - val_accuracy: 0.7917\n",
            "Epoch 23/100\n",
            "14/14 [==============================] - 0s 8ms/step - loss: 0.6128 - accuracy: 0.8009 - val_loss: 0.6159 - val_accuracy: 0.7917\n",
            "Epoch 24/100\n",
            "14/14 [==============================] - 0s 9ms/step - loss: 0.6090 - accuracy: 0.7917 - val_loss: 0.6118 - val_accuracy: 0.7917\n",
            "Epoch 25/100\n",
            "14/14 [==============================] - 0s 5ms/step - loss: 0.6048 - accuracy: 0.8287 - val_loss: 0.6079 - val_accuracy: 0.7917\n",
            "Epoch 26/100\n",
            "14/14 [==============================] - 0s 6ms/step - loss: 0.6008 - accuracy: 0.8380 - val_loss: 0.6038 - val_accuracy: 0.7917\n",
            "Epoch 27/100\n",
            "14/14 [==============================] - 0s 6ms/step - loss: 0.5969 - accuracy: 0.8333 - val_loss: 0.5998 - val_accuracy: 0.7917\n",
            "Epoch 28/100\n",
            "14/14 [==============================] - 0s 7ms/step - loss: 0.5925 - accuracy: 0.8472 - val_loss: 0.5954 - val_accuracy: 0.7917\n",
            "Epoch 29/100\n",
            "14/14 [==============================] - 0s 6ms/step - loss: 0.5882 - accuracy: 0.8426 - val_loss: 0.5909 - val_accuracy: 0.7917\n",
            "Epoch 30/100\n",
            "14/14 [==============================] - 0s 6ms/step - loss: 0.5839 - accuracy: 0.8519 - val_loss: 0.5866 - val_accuracy: 0.7917\n",
            "Epoch 31/100\n",
            "14/14 [==============================] - 0s 6ms/step - loss: 0.5795 - accuracy: 0.8657 - val_loss: 0.5824 - val_accuracy: 0.8333\n",
            "Epoch 32/100\n",
            "14/14 [==============================] - 0s 9ms/step - loss: 0.5753 - accuracy: 0.8611 - val_loss: 0.5780 - val_accuracy: 0.8333\n",
            "Epoch 33/100\n",
            "14/14 [==============================] - 0s 8ms/step - loss: 0.5708 - accuracy: 0.8704 - val_loss: 0.5737 - val_accuracy: 0.8333\n",
            "Epoch 34/100\n",
            "14/14 [==============================] - 0s 11ms/step - loss: 0.5667 - accuracy: 0.8657 - val_loss: 0.5692 - val_accuracy: 0.8333\n",
            "Epoch 35/100\n",
            "14/14 [==============================] - 0s 12ms/step - loss: 0.5621 - accuracy: 0.8796 - val_loss: 0.5650 - val_accuracy: 0.8333\n",
            "Epoch 36/100\n",
            "14/14 [==============================] - 0s 9ms/step - loss: 0.5577 - accuracy: 0.8704 - val_loss: 0.5608 - val_accuracy: 0.8333\n",
            "Epoch 37/100\n",
            "14/14 [==============================] - 0s 13ms/step - loss: 0.5533 - accuracy: 0.8750 - val_loss: 0.5564 - val_accuracy: 0.8333\n",
            "Epoch 38/100\n",
            "14/14 [==============================] - 0s 10ms/step - loss: 0.5490 - accuracy: 0.8796 - val_loss: 0.5522 - val_accuracy: 0.8333\n",
            "Epoch 39/100\n",
            "14/14 [==============================] - 0s 8ms/step - loss: 0.5444 - accuracy: 0.8704 - val_loss: 0.5477 - val_accuracy: 0.8333\n",
            "Epoch 40/100\n",
            "14/14 [==============================] - 0s 7ms/step - loss: 0.5400 - accuracy: 0.8843 - val_loss: 0.5435 - val_accuracy: 0.8750\n",
            "Epoch 41/100\n",
            "14/14 [==============================] - 0s 7ms/step - loss: 0.5352 - accuracy: 0.8796 - val_loss: 0.5390 - val_accuracy: 0.8750\n",
            "Epoch 42/100\n",
            "14/14 [==============================] - 0s 8ms/step - loss: 0.5311 - accuracy: 0.8889 - val_loss: 0.5348 - val_accuracy: 0.8333\n",
            "Epoch 43/100\n",
            "14/14 [==============================] - 0s 10ms/step - loss: 0.5265 - accuracy: 0.8750 - val_loss: 0.5302 - val_accuracy: 0.8750\n",
            "Epoch 44/100\n",
            "14/14 [==============================] - 0s 12ms/step - loss: 0.5221 - accuracy: 0.8750 - val_loss: 0.5255 - val_accuracy: 0.8750\n",
            "Epoch 45/100\n",
            "14/14 [==============================] - 0s 8ms/step - loss: 0.5172 - accuracy: 0.8796 - val_loss: 0.5207 - val_accuracy: 0.9167\n",
            "Epoch 46/100\n",
            "14/14 [==============================] - 0s 8ms/step - loss: 0.5127 - accuracy: 0.8889 - val_loss: 0.5162 - val_accuracy: 0.9167\n",
            "Epoch 47/100\n",
            "14/14 [==============================] - 0s 6ms/step - loss: 0.5084 - accuracy: 0.8843 - val_loss: 0.5111 - val_accuracy: 0.9167\n",
            "Epoch 48/100\n",
            "14/14 [==============================] - 0s 11ms/step - loss: 0.5035 - accuracy: 0.8981 - val_loss: 0.5064 - val_accuracy: 0.9167\n",
            "Epoch 49/100\n",
            "14/14 [==============================] - 0s 10ms/step - loss: 0.4992 - accuracy: 0.8981 - val_loss: 0.5016 - val_accuracy: 0.9167\n",
            "Epoch 50/100\n",
            "14/14 [==============================] - 0s 7ms/step - loss: 0.4951 - accuracy: 0.8981 - val_loss: 0.4972 - val_accuracy: 0.9167\n",
            "Epoch 51/100\n",
            "14/14 [==============================] - 0s 6ms/step - loss: 0.4903 - accuracy: 0.8935 - val_loss: 0.4924 - val_accuracy: 0.9167\n",
            "Epoch 52/100\n",
            "14/14 [==============================] - 0s 7ms/step - loss: 0.4858 - accuracy: 0.8981 - val_loss: 0.4875 - val_accuracy: 0.9167\n",
            "Epoch 53/100\n",
            "14/14 [==============================] - 0s 7ms/step - loss: 0.4815 - accuracy: 0.8981 - val_loss: 0.4828 - val_accuracy: 0.9167\n",
            "Epoch 54/100\n",
            "14/14 [==============================] - 0s 6ms/step - loss: 0.4775 - accuracy: 0.8935 - val_loss: 0.4779 - val_accuracy: 0.9167\n",
            "Epoch 55/100\n",
            "14/14 [==============================] - 0s 5ms/step - loss: 0.4724 - accuracy: 0.8935 - val_loss: 0.4733 - val_accuracy: 0.9167\n",
            "Epoch 56/100\n",
            "14/14 [==============================] - 0s 7ms/step - loss: 0.4684 - accuracy: 0.8935 - val_loss: 0.4685 - val_accuracy: 0.9167\n",
            "Epoch 57/100\n",
            "14/14 [==============================] - 0s 6ms/step - loss: 0.4637 - accuracy: 0.8981 - val_loss: 0.4634 - val_accuracy: 0.9167\n",
            "Epoch 58/100\n",
            "14/14 [==============================] - 0s 5ms/step - loss: 0.4597 - accuracy: 0.8935 - val_loss: 0.4589 - val_accuracy: 0.9167\n",
            "Epoch 59/100\n",
            "14/14 [==============================] - 0s 7ms/step - loss: 0.4551 - accuracy: 0.8935 - val_loss: 0.4542 - val_accuracy: 0.9167\n",
            "Epoch 60/100\n",
            "14/14 [==============================] - 0s 7ms/step - loss: 0.4511 - accuracy: 0.9028 - val_loss: 0.4497 - val_accuracy: 0.9167\n",
            "Epoch 61/100\n",
            "14/14 [==============================] - 0s 6ms/step - loss: 0.4463 - accuracy: 0.8935 - val_loss: 0.4448 - val_accuracy: 0.9167\n",
            "Epoch 62/100\n",
            "14/14 [==============================] - 0s 7ms/step - loss: 0.4422 - accuracy: 0.9028 - val_loss: 0.4402 - val_accuracy: 0.9167\n",
            "Epoch 63/100\n",
            "14/14 [==============================] - 0s 5ms/step - loss: 0.4379 - accuracy: 0.9028 - val_loss: 0.4359 - val_accuracy: 0.9167\n",
            "Epoch 64/100\n",
            "14/14 [==============================] - 0s 9ms/step - loss: 0.4337 - accuracy: 0.9028 - val_loss: 0.4316 - val_accuracy: 0.9167\n",
            "Epoch 65/100\n",
            "14/14 [==============================] - 0s 7ms/step - loss: 0.4299 - accuracy: 0.9028 - val_loss: 0.4270 - val_accuracy: 0.9167\n",
            "Epoch 66/100\n",
            "14/14 [==============================] - 0s 6ms/step - loss: 0.4254 - accuracy: 0.9074 - val_loss: 0.4226 - val_accuracy: 0.9167\n",
            "Epoch 67/100\n",
            "14/14 [==============================] - 0s 9ms/step - loss: 0.4213 - accuracy: 0.9074 - val_loss: 0.4176 - val_accuracy: 0.9583\n",
            "Epoch 68/100\n",
            "14/14 [==============================] - 0s 6ms/step - loss: 0.4169 - accuracy: 0.9028 - val_loss: 0.4126 - val_accuracy: 0.9583\n",
            "Epoch 69/100\n",
            "14/14 [==============================] - 0s 7ms/step - loss: 0.4128 - accuracy: 0.9074 - val_loss: 0.4084 - val_accuracy: 0.9583\n",
            "Epoch 70/100\n",
            "14/14 [==============================] - 0s 8ms/step - loss: 0.4086 - accuracy: 0.9074 - val_loss: 0.4041 - val_accuracy: 0.9583\n",
            "Epoch 71/100\n",
            "14/14 [==============================] - 0s 8ms/step - loss: 0.4051 - accuracy: 0.9074 - val_loss: 0.3990 - val_accuracy: 0.9583\n",
            "Epoch 72/100\n",
            "14/14 [==============================] - 0s 8ms/step - loss: 0.4013 - accuracy: 0.9074 - val_loss: 0.3957 - val_accuracy: 0.9583\n",
            "Epoch 73/100\n",
            "14/14 [==============================] - 0s 7ms/step - loss: 0.3971 - accuracy: 0.9074 - val_loss: 0.3909 - val_accuracy: 0.9583\n",
            "Epoch 74/100\n",
            "14/14 [==============================] - 0s 10ms/step - loss: 0.3930 - accuracy: 0.9074 - val_loss: 0.3859 - val_accuracy: 0.9583\n",
            "Epoch 75/100\n",
            "14/14 [==============================] - 0s 16ms/step - loss: 0.3895 - accuracy: 0.9074 - val_loss: 0.3812 - val_accuracy: 0.9583\n",
            "Epoch 76/100\n",
            "14/14 [==============================] - 0s 14ms/step - loss: 0.3859 - accuracy: 0.9028 - val_loss: 0.3777 - val_accuracy: 0.9583\n",
            "Epoch 77/100\n",
            "14/14 [==============================] - 0s 14ms/step - loss: 0.3825 - accuracy: 0.9074 - val_loss: 0.3751 - val_accuracy: 0.9583\n",
            "Epoch 78/100\n",
            "14/14 [==============================] - 0s 5ms/step - loss: 0.3788 - accuracy: 0.9074 - val_loss: 0.3707 - val_accuracy: 0.9583\n",
            "Epoch 79/100\n",
            "14/14 [==============================] - 0s 4ms/step - loss: 0.3750 - accuracy: 0.9074 - val_loss: 0.3666 - val_accuracy: 0.9583\n",
            "Epoch 80/100\n",
            "14/14 [==============================] - 0s 4ms/step - loss: 0.3718 - accuracy: 0.9074 - val_loss: 0.3625 - val_accuracy: 0.9583\n",
            "Epoch 81/100\n",
            "14/14 [==============================] - 0s 4ms/step - loss: 0.3680 - accuracy: 0.9074 - val_loss: 0.3586 - val_accuracy: 0.9583\n",
            "Epoch 82/100\n",
            "14/14 [==============================] - 0s 4ms/step - loss: 0.3647 - accuracy: 0.9074 - val_loss: 0.3533 - val_accuracy: 0.9583\n",
            "Epoch 83/100\n",
            "14/14 [==============================] - 0s 4ms/step - loss: 0.3609 - accuracy: 0.9028 - val_loss: 0.3485 - val_accuracy: 0.9583\n",
            "Epoch 84/100\n",
            "14/14 [==============================] - 0s 5ms/step - loss: 0.3574 - accuracy: 0.9028 - val_loss: 0.3449 - val_accuracy: 0.9583\n",
            "Epoch 85/100\n",
            "14/14 [==============================] - 0s 4ms/step - loss: 0.3542 - accuracy: 0.9028 - val_loss: 0.3407 - val_accuracy: 0.9583\n",
            "Epoch 86/100\n",
            "14/14 [==============================] - 0s 4ms/step - loss: 0.3515 - accuracy: 0.9074 - val_loss: 0.3364 - val_accuracy: 0.9583\n",
            "Epoch 87/100\n",
            "14/14 [==============================] - 0s 4ms/step - loss: 0.3482 - accuracy: 0.9028 - val_loss: 0.3330 - val_accuracy: 0.9583\n",
            "Epoch 88/100\n",
            "14/14 [==============================] - 0s 4ms/step - loss: 0.3445 - accuracy: 0.9074 - val_loss: 0.3293 - val_accuracy: 0.9583\n",
            "Epoch 89/100\n",
            "14/14 [==============================] - 0s 4ms/step - loss: 0.3417 - accuracy: 0.9028 - val_loss: 0.3255 - val_accuracy: 0.9583\n",
            "Epoch 90/100\n",
            "14/14 [==============================] - 0s 4ms/step - loss: 0.3385 - accuracy: 0.9028 - val_loss: 0.3222 - val_accuracy: 0.9583\n",
            "Epoch 91/100\n",
            "14/14 [==============================] - 0s 4ms/step - loss: 0.3354 - accuracy: 0.9028 - val_loss: 0.3179 - val_accuracy: 0.9583\n",
            "Epoch 92/100\n",
            "14/14 [==============================] - 0s 4ms/step - loss: 0.3325 - accuracy: 0.9028 - val_loss: 0.3135 - val_accuracy: 0.9583\n",
            "Epoch 93/100\n",
            "14/14 [==============================] - 0s 4ms/step - loss: 0.3293 - accuracy: 0.9028 - val_loss: 0.3100 - val_accuracy: 0.9583\n",
            "Epoch 94/100\n",
            "14/14 [==============================] - 0s 4ms/step - loss: 0.3267 - accuracy: 0.9028 - val_loss: 0.3067 - val_accuracy: 0.9583\n",
            "Epoch 95/100\n",
            "14/14 [==============================] - 0s 4ms/step - loss: 0.3238 - accuracy: 0.9028 - val_loss: 0.3037 - val_accuracy: 0.9583\n",
            "Epoch 96/100\n",
            "14/14 [==============================] - 0s 5ms/step - loss: 0.3214 - accuracy: 0.9074 - val_loss: 0.3006 - val_accuracy: 0.9583\n",
            "Epoch 97/100\n",
            "14/14 [==============================] - 0s 4ms/step - loss: 0.3185 - accuracy: 0.9028 - val_loss: 0.2972 - val_accuracy: 0.9583\n",
            "Epoch 98/100\n",
            "14/14 [==============================] - 0s 4ms/step - loss: 0.3159 - accuracy: 0.9074 - val_loss: 0.2956 - val_accuracy: 0.9583\n",
            "Epoch 99/100\n",
            "14/14 [==============================] - 0s 5ms/step - loss: 0.3133 - accuracy: 0.9028 - val_loss: 0.2912 - val_accuracy: 0.9583\n",
            "Epoch 100/100\n",
            "14/14 [==============================] - 0s 4ms/step - loss: 0.3104 - accuracy: 0.9074 - val_loss: 0.2877 - val_accuracy: 0.9583\n"
          ]
        }
      ]
    },
    {
      "cell_type": "code",
      "source": [
        "def plot_history(history):\n",
        "    accuracy = history.history[\"accuracy\"]\n",
        "    val_accuracy = history.history[\"val_accuracy\"]\n",
        "\n",
        "    loss = history.history[\"loss\"]\n",
        "    val_loss = history.history[\"val_loss\"]\n",
        "\n",
        "    fig, ax = plt.subplots(2, sharex=True, figsize=(9, 5))\n",
        "    \n",
        "    ax[0].plot(loss, c=\"red\", label=\"train loss\")\n",
        "    ax[0].plot(val_loss, c=\"blue\", label=\"validation loss\")\n",
        "    \n",
        "    ax[1].plot(accuracy, c=\"green\", label=\"train accuracy\")\n",
        "    ax[1].plot(val_accuracy, c=\"purple\", label=\"validation accuracy\")\n",
        "\n",
        "    ax[0].legend(fontsize=11); ax[1].legend(fontsize=12)\n",
        "    ax[0].grid(); ax[1].grid()\n",
        "    ax[0].set_title(\"Trianing history\", fontsize=15, fontweight=\"bold\")\n",
        "    fig.tight_layout()\n",
        "\n",
        "    "
      ],
      "metadata": {
        "id": "yLDwJTekGkDR"
      },
      "execution_count": 24,
      "outputs": []
    },
    {
      "cell_type": "code",
      "source": [
        "plot_history(history)"
      ],
      "metadata": {
        "colab": {
          "base_uri": "https://localhost:8080/",
          "height": 369
        },
        "id": "K7fHq9GJMDuI",
        "outputId": "6de764ce-4d38-4a31-c54b-e8c07459912b"
      },
      "execution_count": 25,
      "outputs": [
        {
          "output_type": "display_data",
          "data": {
            "text/plain": [
              "<Figure size 648x360 with 2 Axes>"
            ],
            "image/png": "[encoded data removed]"
          },
          "metadata": {
            "needs_background": "light"
          }
        }
      ]
    },
    {
      "cell_type": "code",
      "source": [
        "x_grid = np.linspace(data[:, 0].min(), data[:, 0].max(), 100)\n",
        "y_grid = np.linspace(data[:, 1].min(), data[:, 1].max(), 100)\n",
        "\n",
        "feature_space = np.zeros((100*100, 2))\n",
        "n_row = 0\n",
        "for i, x in enumerate(x_grid):\n",
        "    for j, y in enumerate(y_grid):\n",
        "        feature_space[n_row, :] = np.array([x, y])\n",
        "        n_row += 1"
      ],
      "metadata": {
        "id": "F4QRnRIjPvGc"
      },
      "execution_count": 26,
      "outputs": []
    },
    {
      "cell_type": "code",
      "source": [
        "predictions = model.predict(feature_space)\n",
        "predicted_labels = np.where(predictions[:, 0] < 0.5, 1, 0).reshape(100, 100)"
      ],
      "metadata": {
        "id": "u7Xyggl5QWwC"
      },
      "execution_count": 27,
      "outputs": []
    },
    {
      "cell_type": "code",
      "source": [
        "plt.imshow(predicted_labels, cmap=\"seismic_r\", vmin=0, vmax=1, alpha=0.5,\n",
        "           extent=[data[:, 0].min(), data[:, 0].max(),\\\n",
        "                   data[:, 1].min(), data[:, 1].max()])\n",
        "\n",
        "plt.plot(data[labels == 0, 0], data[labels == 0, 1],\n",
        "         color=\"r\", label=\"0\", ls=\"none\", marker=\"o\", mec=\"k\")\n",
        "plt.plot(data[labels == 1, 0], data[labels == 1, 1],\n",
        "         color=\"b\", label=\"1\", ls=\"none\", marker=\"o\", mec=\"k\")\n",
        "\n",
        "plt.title(\"Neural Network\",\n",
        "          fontsize=14, fontweight=\"bold\")\n",
        "plt.xlim(data[:, 0].min(), data[:, 0].max())\n",
        "plt.ylim(data[:, 1].min(), data[:, 1].max())\n",
        "plt.legend()"
      ],
      "metadata": {
        "colab": {
          "base_uri": "https://localhost:8080/",
          "height": 299
        },
        "id": "AdgnLfs7MFa4",
        "outputId": "7c328b40-7792-4e2a-de3c-0e70a8cc9fff"
      },
      "execution_count": 28,
      "outputs": [
        {
          "output_type": "execute_result",
          "data": {
            "text/plain": [
              "<matplotlib.legend.Legend at 0x7fb0d0245310>"
            ]
          },
          "metadata": {},
          "execution_count": 28
        },
        {
          "output_type": "display_data",
          "data": {
            "text/plain": [
              "<Figure size 432x288 with 1 Axes>"
            ],
            "image/png": "[encoded data removed]"
          },
          "metadata": {
            "needs_background": "light"
          }
        }
      ]
    },
    {
      "cell_type": "markdown",
      "source": [
        "As we can see, such model is capable of finding a non-linear decision boundary that separates rather well the circle dataset."
      ],
      "metadata": {
        "id": "N-9wkfaLZwnh"
      }
    },
    {
      "cell_type": "markdown",
      "source": [
        "# 3. Convolutional Neural Networks"
      ],
      "metadata": {
        "id": "Sxb4Lq3waPyn"
      }
    },
    {
      "cell_type": "code",
      "source": [
        "def loadCIFARdataset():\n",
        "    (x_train, y_train), (x_test, y_test) = keras.datasets.cifar10.load_data()\n",
        "    width, height = (x_train.shape[1], x_train.shape[2])\n",
        "\n",
        "    # Converting from integers to floats, and  \n",
        "    # normalizing they range to [0-1]\n",
        "    x_train = x_train.astype('float32') / 255\n",
        "    x_test = x_test.astype('float32') / 255\n",
        "\n",
        "    # Converting to one-hot encode for the target values\n",
        "    y_train = tf.keras.utils.to_categorical(y_train, 10)\n",
        "    y_test = tf.keras.utils.to_categorical(y_test, 10)\n",
        "    return (x_train, y_train, x_test, y_test, width, height)\n",
        "\n",
        "label_dict = {    \n",
        "    0: \"airplane\",\n",
        "    1: \"automobile\",\n",
        "    2: \"bird\",\n",
        "    3: \"cat\",\n",
        "    4: \"deer\",\n",
        "    5: \"dog\",\n",
        "    6: \"frog\",\n",
        "    7: \"horse\",\n",
        "    8: \"ship\",\n",
        "    9: \"truck\"\n",
        "}\n",
        "\n",
        "x_train, y_train, x_test, y_test, width, height = loadCIFARdataset()"
      ],
      "metadata": {
        "id": "zJZF-qmiOZSQ"
      },
      "execution_count": 40,
      "outputs": []
    },
    {
      "cell_type": "code",
      "source": [
        "fig, ax = plt.subplots(1, 3)\n",
        "ax[0].imshow(x_train[0, :3*width*height].reshape(width, height, 3))\n",
        "ax[0].set_title(label_dict[np.argmax(y_train[0, :])])\n",
        "ax[1].imshow(x_train[1, :3*width*height].reshape(width, height, 3))\n",
        "ax[1].set_title(label_dict[np.argmax(y_train[1, :])])\n",
        "ax[2].imshow(x_train[2, :3*width*height].reshape(width, height, 3))\n",
        "ax[2].set_title(label_dict[np.argmax(y_train[2, :])])"
      ],
      "metadata": {
        "colab": {
          "base_uri": "https://localhost:8080/",
          "height": 179
        },
        "id": "FWvMDGGEcOyJ",
        "outputId": "c63d5f47-c588-461a-ef97-13858a3d0b56"
      },
      "execution_count": 41,
      "outputs": [
        {
          "output_type": "execute_result",
          "data": {
            "text/plain": [
              "Text(0.5, 1.0, 'truck')"
            ]
          },
          "metadata": {},
          "execution_count": 41
        },
        {
          "output_type": "display_data",
          "data": {
            "text/plain": [
              "<Figure size 432x288 with 3 Axes>"
            ],
            "image/png": "[encoded data removed]"
          },
          "metadata": {
            "needs_background": "light"
          }
        }
      ]
    },
    {
      "cell_type": "markdown",
      "source": [
        "Now that the CIFAR10 dataset has been successfully loaded, we can implement a CNN to classify it. The architecture will follow what was indicated in the problem statement."
      ],
      "metadata": {
        "id": "xUZFATr_chuK"
      }
    },
    {
      "cell_type": "code",
      "source": [
        "n_epochs = 30\n",
        "batch_size = 32"
      ],
      "metadata": {
        "id": "4G10g_MbjzZa"
      },
      "execution_count": 60,
      "outputs": []
    },
    {
      "cell_type": "code",
      "source": [
        "model = keras.models.Sequential()\n",
        "\n",
        "# 2 Convolutional layers\n",
        "model.add(keras.layers.Conv2D(filters=64, kernel_size=3,\n",
        "                              padding=\"same\", activation=\"relu\",\n",
        "                              input_shape=x_train.shape[1:]))\n",
        "model.add(keras.layers.Conv2D(filters=64, kernel_size=3,\n",
        "                              padding=\"same\", activation=\"relu\"))\n",
        "# Pooling layer\n",
        "model.add(keras.layers.MaxPool2D(2))\n",
        "# 2 Convolutional layers\n",
        "model.add(keras.layers.Conv2D(filters=128, kernel_size=3,\n",
        "                              padding=\"same\", activation=\"relu\"))\n",
        "model.add(keras.layers.Conv2D(filters=128, kernel_size=3,\n",
        "                              padding=\"same\", activation=\"relu\"))\n",
        "# Pooling layer\n",
        "model.add(keras.layers.MaxPool2D(2))\n",
        "# Flatten input to pass to dense layers\n",
        "model.add(keras.layers.Flatten())\n",
        "# Dense layers\n",
        "model.add(keras.layers.Dense(1024, activation=\"relu\"))\n",
        "model.add(keras.layers.Dense(1024, activation=\"relu\"))\n",
        "# Output layer\n",
        "model.add(keras.layers.Dense(10, activation=\"softmax\"))\n"
      ],
      "metadata": {
        "id": "oetrGRu_cgJH"
      },
      "execution_count": 61,
      "outputs": []
    },
    {
      "cell_type": "code",
      "source": [
        "sgd = tf.keras.optimizers.SGD(learning_rate=0.01)\n",
        "\n",
        "model.compile(optimizer=sgd, loss=\"categorical_crossentropy\",\n",
        "              metrics=[\"accuracy\"])"
      ],
      "metadata": {
        "id": "qobd45yXgXn0"
      },
      "execution_count": 62,
      "outputs": []
    },
    {
      "cell_type": "code",
      "source": [
        "early_stopping_cb = keras.callbacks.EarlyStopping(min_delta=1e-4, patience=5)"
      ],
      "metadata": {
        "id": "OIMOH0d8g6DY"
      },
      "execution_count": 63,
      "outputs": []
    },
    {
      "cell_type": "code",
      "source": [
        "history = model.fit(x_train, y_train,\n",
        "                    batch_size=batch_size, epochs=n_epochs,\n",
        "                    callbacks=[early_stopping_cb],\n",
        "                    validation_split=0.1)"
      ],
      "metadata": {
        "colab": {
          "base_uri": "https://localhost:8080/"
        },
        "id": "2HekT6fQg-Zv",
        "outputId": "064ab257-4b99-4da5-ca39-1c65616c9281"
      },
      "execution_count": 64,
      "outputs": [
        {
          "output_type": "stream",
          "name": "stdout",
          "text": [
            "Epoch 1/30\n",
            "1407/1407 [==============================] - 13s 9ms/step - loss: 1.9436 - accuracy: 0.2954 - val_loss: 1.7089 - val_accuracy: 0.3712\n",
            "Epoch 2/30\n",
            "1407/1407 [==============================] - 12s 8ms/step - loss: 1.5385 - accuracy: 0.4495 - val_loss: 1.6808 - val_accuracy: 0.4196\n",
            "Epoch 3/30\n",
            "1407/1407 [==============================] - 12s 9ms/step - loss: 1.3399 - accuracy: 0.5224 - val_loss: 1.3265 - val_accuracy: 0.5266\n",
            "Epoch 4/30\n",
            "1407/1407 [==============================] - 12s 8ms/step - loss: 1.1989 - accuracy: 0.5732 - val_loss: 1.2228 - val_accuracy: 0.5610\n",
            "Epoch 5/30\n",
            "1407/1407 [==============================] - 12s 8ms/step - loss: 1.0657 - accuracy: 0.6219 - val_loss: 1.1469 - val_accuracy: 0.5996\n",
            "Epoch 6/30\n",
            "1407/1407 [==============================] - 12s 8ms/step - loss: 0.9375 - accuracy: 0.6703 - val_loss: 1.2071 - val_accuracy: 0.5794\n",
            "Epoch 7/30\n",
            "1407/1407 [==============================] - 12s 8ms/step - loss: 0.8122 - accuracy: 0.7149 - val_loss: 1.1019 - val_accuracy: 0.6240\n",
            "Epoch 8/30\n",
            "1407/1407 [==============================] - 12s 8ms/step - loss: 0.6861 - accuracy: 0.7615 - val_loss: 1.2012 - val_accuracy: 0.6024\n",
            "Epoch 9/30\n",
            "1407/1407 [==============================] - 12s 8ms/step - loss: 0.5485 - accuracy: 0.8102 - val_loss: 1.2149 - val_accuracy: 0.6196\n",
            "Epoch 10/30\n",
            "1407/1407 [==============================] - 12s 8ms/step - loss: 0.4126 - accuracy: 0.8576 - val_loss: 1.5284 - val_accuracy: 0.5788\n",
            "Epoch 11/30\n",
            "1407/1407 [==============================] - 12s 8ms/step - loss: 0.2894 - accuracy: 0.8996 - val_loss: 2.0719 - val_accuracy: 0.5732\n",
            "Epoch 12/30\n",
            "1407/1407 [==============================] - 12s 8ms/step - loss: 0.2005 - accuracy: 0.9314 - val_loss: 1.3122 - val_accuracy: 0.6854\n"
          ]
        }
      ]
    },
    {
      "cell_type": "markdown",
      "source": [
        "After only 12 epochs, the early stopping callback triggered and we had an accuracy of over 93%!"
      ],
      "metadata": {
        "id": "XaoDhcvWknQu"
      }
    },
    {
      "cell_type": "code",
      "source": [],
      "metadata": {
        "id": "rOXcGVlThGBP"
      },
      "execution_count": 64,
      "outputs": []
    }
  ]
}