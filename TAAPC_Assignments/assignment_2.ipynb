{
 "cells": [
  {
   "cell_type": "code",
   "execution_count": 1,
   "id": "d34d6379",
   "metadata": {},
   "outputs": [],
   "source": [
    "import numpy as np\n",
    "import matplotlib.pyplot as plt\n",
    "import pandas as pd\n"
   ]
  },
  {
   "cell_type": "code",
   "execution_count": 4,
   "id": "74edbc6b",
   "metadata": {},
   "outputs": [],
   "source": [
    "imdb_train = pd.read_csv(\"imdb_train.csv\")\n",
    "imdb_test = pd.read_csv(\"imdb_test.csv\")"
   ]
  },
  {
   "cell_type": "code",
   "execution_count": 9,
   "id": "3be74d53",
   "metadata": {
    "scrolled": true
   },
   "outputs": [
    {
     "name": "stdout",
     "output_type": "stream",
     "text": [
      "(45000, 2) (4999, 2)\n"
     ]
    }
   ],
   "source": [
    "print(imdb_train.shape, imdb_test.shape)"
   ]
  },
  {
   "cell_type": "markdown",
   "id": "c2c49c15",
   "metadata": {},
   "source": [
    "The outline of this project is\n",
    "1. Pre-process the data, defining a vocabulary and converting it to a sparse representation\n",
    "2. Pre-train an embedding layer to transform into a dense representation\n",
    "3. Use each embedded sequence to warm-up a GRU cell, and then return a single binary prediction (many-to-one model)"
   ]
  },
  {
   "cell_type": "code",
   "execution_count": null,
   "id": "6ecc1d6a",
   "metadata": {},
   "outputs": [],
   "source": []
  }
 ],
 "metadata": {
  "kernelspec": {
   "display_name": "Python 3 (ipykernel)",
   "language": "python",
   "name": "python3"
  },
  "language_info": {
   "codemirror_mode": {
    "name": "ipython",
    "version": 3
   },
   "file_extension": ".py",
   "mimetype": "text/x-python",
   "name": "python",
   "nbconvert_exporter": "python",
   "pygments_lexer": "ipython3",
   "version": "3.9.12"
  }
 },
 "nbformat": 4,
 "nbformat_minor": 5
}
