{
  "nbformat": 4,
  "nbformat_minor": 0,
  "metadata": {
    "colab": {
      "provenance": [],
      "collapsed_sections": [],
      "authorship_tag": "ABX9TyMGMbsoyvlqE4ntkDgZRaRn",
      "include_colab_link": true
    },
    "kernelspec": {
      "name": "python3",
      "display_name": "Python 3"
    },
    "language_info": {
      "name": "python"
    },
    "accelerator": "GPU"
  },
  "cells": [
    {
      "cell_type": "markdown",
      "metadata": {
        "id": "view-in-github",
        "colab_type": "text"
      },
      "source": [
        "<a href=\"https://colab.research.google.com/github/fcoelhomrc/MachineLearning/blob/main/TAAPC_Assignments/assignment1.ipynb\" target=\"_parent\"><img src=\"https://colab.research.google.com/assets/colab-badge.svg\" alt=\"Open In Colab\"/></a>"
      ]
    },
    {
      "cell_type": "code",
      "execution_count": 1,
      "metadata": {
        "id": "Hd61Pwnlwb_J"
      },
      "outputs": [],
      "source": [
        "import numpy as np\n",
        "import matplotlib.pyplot as plt\n",
        "import tensorflow as tf\n",
        "import keras"
      ]
    },
    {
      "cell_type": "markdown",
      "source": [
        "# 1. Logistic Regression\n",
        "\n"
      ],
      "metadata": {
        "id": "TQXVI6VEw_jp"
      }
    },
    {
      "cell_type": "code",
      "source": [
        "from sklearn.datasets import make_moons\n",
        "\n",
        "data, labels = make_moons(n_samples=300, noise=0.2)\n",
        "\n",
        "print(data.shape, labels.shape)"
      ],
      "metadata": {
        "id": "qVTGOaAmxIN4",
        "colab": {
          "base_uri": "https://localhost:8080/"
        },
        "outputId": "e4eb7c4e-2e66-4c9a-e0b8-a9c10be57d0c"
      },
      "execution_count": 2,
      "outputs": [
        {
          "output_type": "stream",
          "name": "stdout",
          "text": [
            "(300, 2) (300,)\n"
          ]
        }
      ]
    },
    {
      "cell_type": "code",
      "source": [
        "plt.plot(data[labels == 0, 0], data[labels == 0, 1],\n",
        "         color=\"r\", label=\"0\", ls=\"none\", marker=\"o\", mec=\"k\")\n",
        "plt.plot(data[labels == 1, 0], data[labels == 1, 1],\n",
        "         color=\"b\", label=\"1\", ls=\"none\", marker=\"o\", mec=\"k\")\n",
        "plt.legend()"
      ],
      "metadata": {
        "colab": {
          "base_uri": "https://localhost:8080/",
          "height": 282
        },
        "id": "MbQjJGUryGlo",
        "outputId": "76396b6a-650c-4fd5-ac41-6810f7e56e1d"
      },
      "execution_count": 3,
      "outputs": [
        {
          "output_type": "execute_result",
          "data": {
            "text/plain": [
              "<matplotlib.legend.Legend at 0x7f866e356f10>"
            ]
          },
          "metadata": {},
          "execution_count": 3
        },
        {
          "output_type": "display_data",
          "data": {
            "text/plain": [
              "<Figure size 432x288 with 1 Axes>"
            ],
            "image/png": "[encoded data removed]"
          },
          "metadata": {
            "needs_background": "light"
          }
        }
      ]
    },
    {
      "cell_type": "markdown",
      "source": [
        "This dataset is clearly not linearly separable. Therefore, using a logistic regression algorithm to classify it is bound to failure, since it can only ever generate hyperplanes as decision boundaries.\n"
      ],
      "metadata": {
        "id": "e0h2zQLUym9J"
      }
    },
    {
      "cell_type": "code",
      "source": [
        "from sklearn.model_selection import ShuffleSplit\n",
        "\n",
        "split = ShuffleSplit(n_splits=2, test_size=0.2, random_state=25092022)\n",
        "\n",
        "for train_index, test_index in split.split(data):\n",
        "    train_set = data[train_index]\n",
        "    test_set = data[test_index]\n",
        "\n",
        "    train_labels = labels[train_index]\n",
        "    test_labels = labels[test_index]"
      ],
      "metadata": {
        "id": "GgqaUWo9yg9n"
      },
      "execution_count": 4,
      "outputs": []
    },
    {
      "cell_type": "code",
      "source": [
        "from sklearn.linear_model import LogisticRegression\n",
        "from sklearn.model_selection import GridSearchCV\n",
        "\n",
        "logistic_regression = LogisticRegression(solver=\"liblinear\")\n",
        "\n",
        "parameter_grid = {\n",
        "    \"C\": np.logspace(-5, 5, 50),\n",
        "    \"penalty\": [\"l2\"]\n",
        "}\n",
        "\n",
        "grid_search = GridSearchCV(estimator=logistic_regression,\n",
        "                           param_grid=parameter_grid,\n",
        "                           scoring=\"accuracy\",\n",
        "                           cv=10)\n",
        "\n",
        "grid_search.fit(train_set, train_labels)  "
      ],
      "metadata": {
        "colab": {
          "base_uri": "https://localhost:8080/"
        },
        "id": "XfhG2vqs0COH",
        "outputId": "596c662a-7cc0-4df5-c5da-4a88e602ddc8"
      },
      "execution_count": 5,
      "outputs": [
        {
          "output_type": "execute_result",
          "data": {
            "text/plain": [
              "GridSearchCV(cv=10, estimator=LogisticRegression(solver='liblinear'),\n",
              "             param_grid={'C': array([1.00000000e-05, 1.59985872e-05, 2.55954792e-05, 4.09491506e-05,\n",
              "       6.55128557e-05, 1.04811313e-04, 1.67683294e-04, 2.68269580e-04,\n",
              "       4.29193426e-04, 6.86648845e-04, 1.09854114e-03, 1.75751062e-03,\n",
              "       2.81176870e-03, 4.49843267e-03, 7.19685673e-03, 1.15139540e-02,\n",
              "       1.84206997e-02, 2.94...\n",
              "       5.17947468e+00, 8.28642773e+00, 1.32571137e+01, 2.12095089e+01,\n",
              "       3.39322177e+01, 5.42867544e+01, 8.68511374e+01, 1.38949549e+02,\n",
              "       2.22299648e+02, 3.55648031e+02, 5.68986603e+02, 9.10298178e+02,\n",
              "       1.45634848e+03, 2.32995181e+03, 3.72759372e+03, 5.96362332e+03,\n",
              "       9.54095476e+03, 1.52641797e+04, 2.44205309e+04, 3.90693994e+04,\n",
              "       6.25055193e+04, 1.00000000e+05]),\n",
              "                         'penalty': ['l2']},\n",
              "             scoring='accuracy')"
            ]
          },
          "metadata": {},
          "execution_count": 5
        }
      ]
    },
    {
      "cell_type": "code",
      "source": [
        "model = grid_search.best_estimator_\n",
        "print(grid_search.best_params_)\n",
        "print(grid_search.best_score_)"
      ],
      "metadata": {
        "colab": {
          "base_uri": "https://localhost:8080/"
        },
        "id": "IutFFZUh0RA-",
        "outputId": "3906b5bf-1c29-4a09-e056-fe881556ad10"
      },
      "execution_count": 6,
      "outputs": [
        {
          "output_type": "stream",
          "name": "stdout",
          "text": [
            "{'C': 21.209508879201927, 'penalty': 'l2'}\n",
            "0.925\n"
          ]
        }
      ]
    },
    {
      "cell_type": "markdown",
      "source": [
        "In the problem statement, it's asked to explicit the learning rate used. Since the ```scikit-learn``` LogisticRegression is not implemented with Stochastic Gradient Descent, it doesn't have such hyperparameter.\n"
      ],
      "metadata": {
        "id": "kyvZjTct2Is3"
      }
    },
    {
      "cell_type": "code",
      "source": [
        "from sklearn.metrics import accuracy_score, confusion_matrix, f1_score\n",
        "\n",
        "predictions = model.predict(test_set)\n",
        "\n",
        "accuracy = accuracy_score(test_labels, predictions)\n",
        "f1 = f1_score(test_labels, predictions)\n",
        "cm = confusion_matrix(test_labels, predictions)\n",
        "\n",
        "logistic_regression_results = {\n",
        "    \"accuracy\": accuracy,\n",
        "    \"f1\": f1, \n",
        "    \"confusion_matrix\": cm\n",
        "}\n",
        "\n",
        "print(f\"Accuracy: {accuracy:.3f}, F1 Score: {f1:.3f}\")\n",
        "print(cm)"
      ],
      "metadata": {
        "colab": {
          "base_uri": "https://localhost:8080/"
        },
        "id": "Q1EegJd61sTu",
        "outputId": "20169a54-918e-4cb6-a36b-bd6116ff6a16"
      },
      "execution_count": 7,
      "outputs": [
        {
          "output_type": "stream",
          "name": "stdout",
          "text": [
            "Accuracy: 0.817, F1 Score: 0.800\n",
            "[[27  5]\n",
            " [ 6 22]]\n"
          ]
        }
      ]
    },
    {
      "cell_type": "code",
      "source": [
        "b = model.intercept_\n",
        "w1, w2 = model.coef_.T\n",
        "intercept = -b/w2\n",
        "slope = -w1/w2\n",
        "\n",
        "# Plot decision boundary\n",
        "line, = plt.plot([data.min(), data.max()],\n",
        "                 slope*np.array([data.min(),data.max()]) + intercept,\n",
        "                 ls=\"--\", color=\"k\")\n",
        "plt.fill_between(line.get_xdata(),\n",
        "                 line.get_ydata(), data[:, 1].max()*np.ones(2),\n",
        "                 color=\"r\", alpha=0.6)\n",
        "plt.fill_between(line.get_xdata(),\n",
        "                 data[:, 1].min()*np.ones(2),line.get_ydata(),\n",
        "                 color=\"b\", alpha=0.6)\n",
        "# Plot data\n",
        "plt.plot(data[labels == 0, 0], data[labels == 0, 1],\n",
        "         color=\"r\", label=\"0\", ls=\"none\", marker=\"o\", mec=\"k\")\n",
        "plt.plot(data[labels == 1, 0], data[labels == 1, 1],\n",
        "         color=\"b\", label=\"1\", ls=\"none\", marker=\"o\", mec=\"k\")\n",
        "plt.title(\"Logistic Regression\",\n",
        "          fontsize=14, fontweight=\"bold\")\n",
        "plt.xlim(data[:, 0].min(), data[:, 0].max())\n",
        "plt.ylim(data[:, 1].min(), data[:, 1].max())\n",
        "plt.legend()"
      ],
      "metadata": {
        "colab": {
          "base_uri": "https://localhost:8080/",
          "height": 299
        },
        "id": "0Ys-byxB21qn",
        "outputId": "55040212-f209-4ef0-8dd5-5fc016843ae3"
      },
      "execution_count": 8,
      "outputs": [
        {
          "output_type": "execute_result",
          "data": {
            "text/plain": [
              "<matplotlib.legend.Legend at 0x7f866d8eea10>"
            ]
          },
          "metadata": {},
          "execution_count": 8
        },
        {
          "output_type": "display_data",
          "data": {
            "text/plain": [
              "<Figure size 432x288 with 1 Axes>"
            ],
            "image/png": "[encoded data removed]"
          },
          "metadata": {
            "needs_background": "light"
          }
        }
      ]
    },
    {
      "cell_type": "markdown",
      "source": [
        "As expected, we won't be able to achieve much better results than this"
      ],
      "metadata": {
        "id": "DVKMxluy5zw-"
      }
    },
    {
      "cell_type": "markdown",
      "source": [
        " # 2. Neural Network"
      ],
      "metadata": {
        "id": "_Iuzi_EA6KjN"
      }
    },
    {
      "cell_type": "code",
      "source": [
        "from sklearn.linear_model import Perceptron\n",
        "\n",
        "perceptron = Perceptron()\n",
        "\n",
        "parameter_grid = {\n",
        "    \"alpha\": np.logspace(-5, 5, 50),\n",
        "    \"penalty\": [\"l2\"]\n",
        "}\n",
        "\n",
        "grid_search = GridSearchCV(estimator=perceptron,\n",
        "                           param_grid=parameter_grid,\n",
        "                           scoring=\"accuracy\",\n",
        "                           cv=10)\n",
        "\n",
        "grid_search.fit(train_set, train_labels)  "
      ],
      "metadata": {
        "colab": {
          "base_uri": "https://localhost:8080/"
        },
        "id": "rfiDEe-i52iN",
        "outputId": "beaac11c-4f6e-4cc1-8f86-c7c9b20cc1b9"
      },
      "execution_count": 9,
      "outputs": [
        {
          "output_type": "execute_result",
          "data": {
            "text/plain": [
              "GridSearchCV(cv=10, estimator=Perceptron(),\n",
              "             param_grid={'alpha': array([1.00000000e-05, 1.59985872e-05, 2.55954792e-05, 4.09491506e-05,\n",
              "       6.55128557e-05, 1.04811313e-04, 1.67683294e-04, 2.68269580e-04,\n",
              "       4.29193426e-04, 6.86648845e-04, 1.09854114e-03, 1.75751062e-03,\n",
              "       2.81176870e-03, 4.49843267e-03, 7.19685673e-03, 1.15139540e-02,\n",
              "       1.84206997e-02, 2.94705170e-02, 4.71486636e...\n",
              "       5.17947468e+00, 8.28642773e+00, 1.32571137e+01, 2.12095089e+01,\n",
              "       3.39322177e+01, 5.42867544e+01, 8.68511374e+01, 1.38949549e+02,\n",
              "       2.22299648e+02, 3.55648031e+02, 5.68986603e+02, 9.10298178e+02,\n",
              "       1.45634848e+03, 2.32995181e+03, 3.72759372e+03, 5.96362332e+03,\n",
              "       9.54095476e+03, 1.52641797e+04, 2.44205309e+04, 3.90693994e+04,\n",
              "       6.25055193e+04, 1.00000000e+05]),\n",
              "                         'penalty': ['l2']},\n",
              "             scoring='accuracy')"
            ]
          },
          "metadata": {},
          "execution_count": 9
        }
      ]
    },
    {
      "cell_type": "code",
      "source": [
        "model = grid_search.best_estimator_\n",
        "print(grid_search.best_params_)\n",
        "print(grid_search.best_score_)"
      ],
      "metadata": {
        "colab": {
          "base_uri": "https://localhost:8080/"
        },
        "id": "54G35pTb7fn0",
        "outputId": "5f57021e-138b-4fc7-fd82-b9535b631bb4"
      },
      "execution_count": 10,
      "outputs": [
        {
          "output_type": "stream",
          "name": "stdout",
          "text": [
            "{'alpha': 4.094915062380427e-05, 'penalty': 'l2'}\n",
            "0.8958333333333334\n"
          ]
        }
      ]
    },
    {
      "cell_type": "code",
      "source": [
        "from sklearn.metrics import accuracy_score, confusion_matrix, f1_score\n",
        "\n",
        "predictions = model.predict(test_set)\n",
        "\n",
        "accuracy = accuracy_score(test_labels, predictions)\n",
        "f1 = f1_score(test_labels, predictions)\n",
        "cm = confusion_matrix(test_labels, predictions)\n",
        "\n",
        "perceptron_results = {\n",
        "    \"accuracy\": accuracy,\n",
        "    \"f1\": f1, \n",
        "    \"confusion_matrix\": cm\n",
        "}\n",
        "\n",
        "print(f\"Accuracy: {accuracy:.3f}, F1 Score: {f1:.3f}\")\n",
        "print(cm)"
      ],
      "metadata": {
        "colab": {
          "base_uri": "https://localhost:8080/"
        },
        "id": "rNiCTD0c70yc",
        "outputId": "df060c7c-3081-4548-ce83-966bb8524f37"
      },
      "execution_count": 11,
      "outputs": [
        {
          "output_type": "stream",
          "name": "stdout",
          "text": [
            "Accuracy: 0.817, F1 Score: 0.814\n",
            "[[25  7]\n",
            " [ 4 24]]\n"
          ]
        }
      ]
    },
    {
      "cell_type": "code",
      "source": [
        "b = model.intercept_\n",
        "w1, w2 = model.coef_.T\n",
        "intercept = -b/w2\n",
        "slope = -w1/w2\n",
        "\n",
        "# Plot decision boundary\n",
        "line, = plt.plot([data.min(), data.max()],\n",
        "                 slope*np.array([data.min(),data.max()]) + intercept,\n",
        "                 ls=\"--\", color=\"k\")\n",
        "plt.fill_between(line.get_xdata(),\n",
        "                 line.get_ydata(), data[:, 1].max()*np.ones(2),\n",
        "                 color=\"r\", alpha=0.6)\n",
        "plt.fill_between(line.get_xdata(),\n",
        "                 data[:, 1].min()*np.ones(2),line.get_ydata(),\n",
        "                 color=\"b\", alpha=0.6)\n",
        "# Plot data\n",
        "plt.plot(data[labels == 0, 0], data[labels == 0, 1],\n",
        "         color=\"r\", label=\"0\", ls=\"none\", marker=\"o\", mec=\"k\")\n",
        "plt.plot(data[labels == 1, 0], data[labels == 1, 1],\n",
        "         color=\"b\", label=\"1\", ls=\"none\", marker=\"o\", mec=\"k\")\n",
        "plt.title(\"Perceptron\",\n",
        "          fontsize=14, fontweight=\"bold\")\n",
        "plt.xlim(data[:, 0].min(), data[:, 0].max())\n",
        "plt.ylim(data[:, 1].min(), data[:, 1].max())\n",
        "plt.legend()"
      ],
      "metadata": {
        "colab": {
          "base_uri": "https://localhost:8080/",
          "height": 299
        },
        "id": "NOxoGKhu71MD",
        "outputId": "8ec9d8f0-9a0a-491e-e54f-03acbb1419da"
      },
      "execution_count": 12,
      "outputs": [
        {
          "output_type": "execute_result",
          "data": {
            "text/plain": [
              "<matplotlib.legend.Legend at 0x7f866d88f210>"
            ]
          },
          "metadata": {},
          "execution_count": 12
        },
        {
          "output_type": "display_data",
          "data": {
            "text/plain": [
              "<Figure size 432x288 with 1 Axes>"
            ],
            "image/png": "[encoded data removed]"
          },
          "metadata": {
            "needs_background": "light"
          }
        }
      ]
    },
    {
      "cell_type": "code",
      "source": [
        "print(logistic_regression_results)\n",
        "print(perceptron_results)"
      ],
      "metadata": {
        "colab": {
          "base_uri": "https://localhost:8080/"
        },
        "id": "MKYo-1RS76NE",
        "outputId": "c1edb7c0-9755-433a-8ccf-242dcc5f6637"
      },
      "execution_count": 13,
      "outputs": [
        {
          "output_type": "stream",
          "name": "stdout",
          "text": [
            "{'accuracy': 0.8166666666666667, 'f1': 0.7999999999999999, 'confusion_matrix': array([[27,  5],\n",
            "       [ 6, 22]])}\n",
            "{'accuracy': 0.8166666666666667, 'f1': 0.8135593220338982, 'confusion_matrix': array([[25,  7],\n",
            "       [ 4, 24]])}\n"
          ]
        }
      ]
    },
    {
      "cell_type": "markdown",
      "source": [
        "The results are about the same, as to be expected since both models are linear."
      ],
      "metadata": {
        "id": "khX8Gr_Q9VKA"
      }
    },
    {
      "cell_type": "code",
      "source": [
        "from sklearn.datasets import make_circles\n",
        "\n",
        "data, labels = make_circles(n_samples=300, noise=0.2, factor=0.4)\n",
        "\n",
        "print(data.shape, labels.shape)"
      ],
      "metadata": {
        "colab": {
          "base_uri": "https://localhost:8080/"
        },
        "id": "ygipV6_s9B_E",
        "outputId": "bc4e371c-a430-45de-c809-8f1b362ba790"
      },
      "execution_count": 14,
      "outputs": [
        {
          "output_type": "stream",
          "name": "stdout",
          "text": [
            "(300, 2) (300,)\n"
          ]
        }
      ]
    },
    {
      "cell_type": "code",
      "source": [
        "plt.plot(data[labels == 0, 0], data[labels == 0, 1],\n",
        "         color=\"r\", label=\"0\", ls=\"none\", marker=\"o\", mec=\"k\")\n",
        "plt.plot(data[labels == 1, 0], data[labels == 1, 1],\n",
        "         color=\"b\", label=\"1\", ls=\"none\", marker=\"o\", mec=\"k\")\n",
        "plt.legend()"
      ],
      "metadata": {
        "colab": {
          "base_uri": "https://localhost:8080/",
          "height": 282
        },
        "id": "cU_eEMCi9kUT",
        "outputId": "e2866110-3268-430e-c527-b4fd4a44848a"
      },
      "execution_count": 15,
      "outputs": [
        {
          "output_type": "execute_result",
          "data": {
            "text/plain": [
              "<matplotlib.legend.Legend at 0x7f866d797b10>"
            ]
          },
          "metadata": {},
          "execution_count": 15
        },
        {
          "output_type": "display_data",
          "data": {
            "text/plain": [
              "<Figure size 432x288 with 1 Axes>"
            ],
            "image/png": "[encoded data removed]"
          },
          "metadata": {
            "needs_background": "light"
          }
        }
      ]
    },
    {
      "cell_type": "markdown",
      "source": [
        "The ```factor``` parameter in ```make_circles``` control how separated the circles are. If left as default (```factor = 0.8```), they are essentially overlapped and classification would become hard. Even by making the circles clearly separated, we can expect the Perceptron to perform poorly since this dataset remains not linearly separable."
      ],
      "metadata": {
        "id": "tNcHHSHt-o59"
      }
    },
    {
      "cell_type": "code",
      "source": [
        "split = ShuffleSplit(n_splits=2, test_size=0.2, random_state=25092022)\n",
        "\n",
        "for train_index, test_index in split.split(data):\n",
        "    train_set = data[train_index]\n",
        "    test_set = data[test_index]\n",
        "\n",
        "    train_labels = labels[train_index]\n",
        "    test_labels = labels[test_index]\n",
        "\n",
        "perceptron = Perceptron()\n",
        "\n",
        "parameter_grid = {\n",
        "    \"alpha\": np.logspace(-5, 5, 50),\n",
        "    \"penalty\": [\"l2\"]\n",
        "}\n",
        "\n",
        "grid_search = GridSearchCV(estimator=perceptron,\n",
        "                           param_grid=parameter_grid,\n",
        "                           scoring=\"accuracy\",\n",
        "                           cv=10)\n",
        "\n",
        "grid_search.fit(train_set, train_labels)\n",
        "\n",
        "predictions = model.predict(test_set)\n",
        "\n",
        "accuracy = accuracy_score(test_labels, predictions)\n",
        "f1 = f1_score(test_labels, predictions)\n",
        "cm = confusion_matrix(test_labels, predictions)\n",
        "\n",
        "perceptron_circles_results = {\n",
        "    \"accuracy\": accuracy,\n",
        "    \"f1\": f1, \n",
        "    \"confusion_matrix\": cm\n",
        "}\n",
        "\n",
        "print(f\"Accuracy: {accuracy:.3f}, F1 Score: {f1:.3f}\")\n",
        "print(cm)"
      ],
      "metadata": {
        "colab": {
          "base_uri": "https://localhost:8080/"
        },
        "id": "lZRfuC8v9nHz",
        "outputId": "e829379e-3f2f-4550-b37c-10756ac80eac"
      },
      "execution_count": 16,
      "outputs": [
        {
          "output_type": "stream",
          "name": "stdout",
          "text": [
            "Accuracy: 0.550, F1 Score: 0.667\n",
            "[[ 6 19]\n",
            " [ 8 27]]\n"
          ]
        }
      ]
    },
    {
      "cell_type": "code",
      "source": [
        "b = model.intercept_\n",
        "w1, w2 = model.coef_.T\n",
        "intercept = -b/w2\n",
        "slope = -w1/w2\n",
        "\n",
        "# Plot decision boundary\n",
        "line, = plt.plot([data.min(), data.max()],\n",
        "                 slope*np.array([data.min(),data.max()]) + intercept,\n",
        "                 ls=\"--\", color=\"k\")\n",
        "plt.fill_between(line.get_xdata(),\n",
        "                 line.get_ydata(), data[:, 1].max()*np.ones(2),\n",
        "                 color=\"r\", alpha=0.6)\n",
        "plt.fill_between(line.get_xdata(),\n",
        "                 data[:, 1].min()*np.ones(2),line.get_ydata(),\n",
        "                 color=\"b\", alpha=0.6)\n",
        "# Plot data\n",
        "plt.plot(data[labels == 0, 0], data[labels == 0, 1],\n",
        "         color=\"r\", label=\"0\", ls=\"none\", marker=\"o\", mec=\"k\")\n",
        "plt.plot(data[labels == 1, 0], data[labels == 1, 1],\n",
        "         color=\"b\", label=\"1\", ls=\"none\", marker=\"o\", mec=\"k\")\n",
        "plt.title(\"Perceptron\",\n",
        "          fontsize=14, fontweight=\"bold\")\n",
        "plt.xlim(data[:, 0].min(), data[:, 0].max())\n",
        "plt.ylim(data[:, 1].min(), data[:, 1].max())\n",
        "plt.legend()"
      ],
      "metadata": {
        "colab": {
          "base_uri": "https://localhost:8080/",
          "height": 299
        },
        "id": "UzrSrtYp_keb",
        "outputId": "ceb25fab-7ce1-417b-b83f-42856843b74f"
      },
      "execution_count": 17,
      "outputs": [
        {
          "output_type": "execute_result",
          "data": {
            "text/plain": [
              "<matplotlib.legend.Legend at 0x7f866d714490>"
            ]
          },
          "metadata": {},
          "execution_count": 17
        },
        {
          "output_type": "display_data",
          "data": {
            "text/plain": [
              "<Figure size 432x288 with 1 Axes>"
            ],
            "image/png": "[encoded data removed]"
          },
          "metadata": {
            "needs_background": "light"
          }
        }
      ]
    },
    {
      "cell_type": "code",
      "source": [
        "print(perceptron_results)\n",
        "print(perceptron_circles_results)"
      ],
      "metadata": {
        "colab": {
          "base_uri": "https://localhost:8080/"
        },
        "id": "t2LzF3Ld_nqy",
        "outputId": "45ebe9e5-4123-4dc0-ffa2-3add77b064e5"
      },
      "execution_count": 18,
      "outputs": [
        {
          "output_type": "stream",
          "name": "stdout",
          "text": [
            "{'accuracy': 0.8166666666666667, 'f1': 0.8135593220338982, 'confusion_matrix': array([[25,  7],\n",
            "       [ 4, 24]])}\n",
            "{'accuracy': 0.55, 'f1': 0.6666666666666667, 'confusion_matrix': array([[ 6, 19],\n",
            "       [ 8, 27]])}\n"
          ]
        }
      ]
    },
    {
      "cell_type": "markdown",
      "source": [
        "The performance has significantly dropped, comparing to the moon dataset. Again, this was to be expected since by drawing a line, the best one can hope to achieve is to correctly classify half the points in each circle. Indeed, we have an accuracy of about 50%."
      ],
      "metadata": {
        "id": "K_gvPr6IAMj1"
      }
    },
    {
      "cell_type": "markdown",
      "source": [
        "Of course, the correct way to approach this problem is by introducing non-linearity in our classifiers. This can be done building up from the Perceptron model. Indeed, the Multi-Layer Perceptron is your staple Neural Network. \n",
        "\n",
        "The idea is to connect the output of a layer of many perceptrons (which we shall now call an unit) to the input of another layer of units. If this connection was direct, the resulting model would remain linear since all operations involved would still amount to addition and multiplication. Rather, we feed the output of each unit into a non-linear activation function, and only then we pass the result to the next layer. \n",
        "\n",
        "In this model, as with a single Perceptron, the training still consists of finding optimal parameters for an affine transform. But, since we added non-linearity, the resulting model has the capabilities of an universal function approximator. "
      ],
      "metadata": {
        "id": "ms7s2J-iAjhm"
      }
    },
    {
      "cell_type": "code",
      "source": [
        "batch_size = 16\n",
        "n_epochs = 100"
      ],
      "metadata": {
        "id": "GYidTRksG0Zj"
      },
      "execution_count": 19,
      "outputs": []
    },
    {
      "cell_type": "code",
      "source": [
        "input_ = keras.layers.Input(shape=train_set.shape[1:])\n",
        "flatten_ = keras.layers.Flatten()(input_)\n",
        "layer1 = keras.layers.Dense(256, activation=\"relu\")(flatten_)\n",
        "layer2 = keras.layers.Dense(256, activation=\"relu\")(layer1)\n",
        "output = keras.layers.Dense(2, activation=\"sigmoid\")(layer2) \n",
        "\n",
        "model = keras.Model(inputs=[input_], outputs=[output])\n"
      ],
      "metadata": {
        "id": "kr8M1xAc_z_6"
      },
      "execution_count": 20,
      "outputs": []
    },
    {
      "cell_type": "markdown",
      "source": [
        "Notice how we chose a sigmoid activation function for the final unit, since our task is binary classification."
      ],
      "metadata": {
        "id": "Wl_H8GlODsJb"
      }
    },
    {
      "cell_type": "code",
      "source": [
        "sgd = tf.keras.optimizers.SGD(learning_rate=0.01)\n",
        "\n",
        "model.compile(optimizer=sgd, loss=\"sparse_categorical_crossentropy\", metrics=[\"accuracy\"])"
      ],
      "metadata": {
        "id": "c01FTgMxDzEZ"
      },
      "execution_count": 21,
      "outputs": []
    },
    {
      "cell_type": "code",
      "source": [
        "early_stopping_cb = keras.callbacks.EarlyStopping(min_delta=1e-4, patience=5)"
      ],
      "metadata": {
        "id": "eDdwJQvzFpvr"
      },
      "execution_count": 22,
      "outputs": []
    },
    {
      "cell_type": "code",
      "source": [
        "history = model.fit(train_set, train_labels,\n",
        "                    batch_size=batch_size, epochs=n_epochs,\n",
        "                    callbacks=[early_stopping_cb],\n",
        "                    validation_split=0.1)"
      ],
      "metadata": {
        "colab": {
          "base_uri": "https://localhost:8080/"
        },
        "id": "AtjrARc7E0lI",
        "outputId": "435aabd1-09de-4d2c-eb84-a2389c8c480b"
      },
      "execution_count": 23,
      "outputs": [
        {
          "output_type": "stream",
          "name": "stdout",
          "text": [
            "Epoch 1/100\n",
            "14/14 [==============================] - 1s 15ms/step - loss: 0.7198 - accuracy: 0.4583 - val_loss: 0.7127 - val_accuracy: 0.3750\n",
            "Epoch 2/100\n",
            "14/14 [==============================] - 0s 4ms/step - loss: 0.7123 - accuracy: 0.3611 - val_loss: 0.7068 - val_accuracy: 0.3750\n",
            "Epoch 3/100\n",
            "14/14 [==============================] - 0s 4ms/step - loss: 0.7066 - accuracy: 0.3843 - val_loss: 0.7007 - val_accuracy: 0.3750\n",
            "Epoch 4/100\n",
            "14/14 [==============================] - 0s 4ms/step - loss: 0.7008 - accuracy: 0.4028 - val_loss: 0.6957 - val_accuracy: 0.4167\n",
            "Epoch 5/100\n",
            "14/14 [==============================] - 0s 4ms/step - loss: 0.6958 - accuracy: 0.3611 - val_loss: 0.6910 - val_accuracy: 0.4167\n",
            "Epoch 6/100\n",
            "14/14 [==============================] - 0s 4ms/step - loss: 0.6915 - accuracy: 0.4074 - val_loss: 0.6868 - val_accuracy: 0.4167\n",
            "Epoch 7/100\n",
            "14/14 [==============================] - 0s 5ms/step - loss: 0.6876 - accuracy: 0.4120 - val_loss: 0.6830 - val_accuracy: 0.5417\n",
            "Epoch 8/100\n",
            "14/14 [==============================] - 0s 4ms/step - loss: 0.6839 - accuracy: 0.4306 - val_loss: 0.6790 - val_accuracy: 0.5000\n",
            "Epoch 9/100\n",
            "14/14 [==============================] - 0s 4ms/step - loss: 0.6804 - accuracy: 0.4491 - val_loss: 0.6754 - val_accuracy: 0.5000\n",
            "Epoch 10/100\n",
            "14/14 [==============================] - 0s 4ms/step - loss: 0.6772 - accuracy: 0.5093 - val_loss: 0.6722 - val_accuracy: 0.5000\n",
            "Epoch 11/100\n",
            "14/14 [==============================] - 0s 4ms/step - loss: 0.6740 - accuracy: 0.5185 - val_loss: 0.6688 - val_accuracy: 0.5000\n",
            "Epoch 12/100\n",
            "14/14 [==============================] - 0s 4ms/step - loss: 0.6707 - accuracy: 0.5231 - val_loss: 0.6655 - val_accuracy: 0.5000\n",
            "Epoch 13/100\n",
            "14/14 [==============================] - 0s 4ms/step - loss: 0.6679 - accuracy: 0.5231 - val_loss: 0.6624 - val_accuracy: 0.5000\n",
            "Epoch 14/100\n",
            "14/14 [==============================] - 0s 4ms/step - loss: 0.6648 - accuracy: 0.5231 - val_loss: 0.6593 - val_accuracy: 0.5000\n",
            "Epoch 15/100\n",
            "14/14 [==============================] - 0s 4ms/step - loss: 0.6617 - accuracy: 0.5231 - val_loss: 0.6563 - val_accuracy: 0.5000\n",
            "Epoch 16/100\n",
            "14/14 [==============================] - 0s 4ms/step - loss: 0.6588 - accuracy: 0.5231 - val_loss: 0.6534 - val_accuracy: 0.5417\n",
            "Epoch 17/100\n",
            "14/14 [==============================] - 0s 4ms/step - loss: 0.6559 - accuracy: 0.5417 - val_loss: 0.6503 - val_accuracy: 0.5833\n",
            "Epoch 18/100\n",
            "14/14 [==============================] - 0s 4ms/step - loss: 0.6532 - accuracy: 0.5741 - val_loss: 0.6472 - val_accuracy: 0.5833\n",
            "Epoch 19/100\n",
            "14/14 [==============================] - 0s 4ms/step - loss: 0.6502 - accuracy: 0.5880 - val_loss: 0.6441 - val_accuracy: 0.6667\n",
            "Epoch 20/100\n",
            "14/14 [==============================] - 0s 4ms/step - loss: 0.6470 - accuracy: 0.6204 - val_loss: 0.6409 - val_accuracy: 0.6667\n",
            "Epoch 21/100\n",
            "14/14 [==============================] - 0s 4ms/step - loss: 0.6442 - accuracy: 0.6343 - val_loss: 0.6378 - val_accuracy: 0.6667\n",
            "Epoch 22/100\n",
            "14/14 [==============================] - 0s 4ms/step - loss: 0.6411 - accuracy: 0.6435 - val_loss: 0.6345 - val_accuracy: 0.7083\n",
            "Epoch 23/100\n",
            "14/14 [==============================] - 0s 4ms/step - loss: 0.6379 - accuracy: 0.6574 - val_loss: 0.6314 - val_accuracy: 0.7500\n",
            "Epoch 24/100\n",
            "14/14 [==============================] - 0s 4ms/step - loss: 0.6348 - accuracy: 0.6574 - val_loss: 0.6281 - val_accuracy: 0.7500\n",
            "Epoch 25/100\n",
            "14/14 [==============================] - 0s 4ms/step - loss: 0.6318 - accuracy: 0.6620 - val_loss: 0.6250 - val_accuracy: 0.7500\n",
            "Epoch 26/100\n",
            "14/14 [==============================] - 0s 4ms/step - loss: 0.6287 - accuracy: 0.7130 - val_loss: 0.6219 - val_accuracy: 0.7500\n",
            "Epoch 27/100\n",
            "14/14 [==============================] - 0s 4ms/step - loss: 0.6256 - accuracy: 0.7037 - val_loss: 0.6185 - val_accuracy: 0.7500\n",
            "Epoch 28/100\n",
            "14/14 [==============================] - 0s 4ms/step - loss: 0.6221 - accuracy: 0.7083 - val_loss: 0.6151 - val_accuracy: 0.7500\n",
            "Epoch 29/100\n",
            "14/14 [==============================] - 0s 4ms/step - loss: 0.6188 - accuracy: 0.7500 - val_loss: 0.6116 - val_accuracy: 0.7500\n",
            "Epoch 30/100\n",
            "14/14 [==============================] - 0s 4ms/step - loss: 0.6154 - accuracy: 0.7546 - val_loss: 0.6078 - val_accuracy: 0.7917\n",
            "Epoch 31/100\n",
            "14/14 [==============================] - 0s 4ms/step - loss: 0.6120 - accuracy: 0.7685 - val_loss: 0.6042 - val_accuracy: 0.7500\n",
            "Epoch 32/100\n",
            "14/14 [==============================] - 0s 4ms/step - loss: 0.6085 - accuracy: 0.7639 - val_loss: 0.6006 - val_accuracy: 0.7917\n",
            "Epoch 33/100\n",
            "14/14 [==============================] - 0s 4ms/step - loss: 0.6051 - accuracy: 0.7639 - val_loss: 0.5969 - val_accuracy: 0.8750\n",
            "Epoch 34/100\n",
            "14/14 [==============================] - 0s 4ms/step - loss: 0.6013 - accuracy: 0.7731 - val_loss: 0.5933 - val_accuracy: 0.8750\n",
            "Epoch 35/100\n",
            "14/14 [==============================] - 0s 4ms/step - loss: 0.5976 - accuracy: 0.7824 - val_loss: 0.5894 - val_accuracy: 0.8750\n",
            "Epoch 36/100\n",
            "14/14 [==============================] - 0s 4ms/step - loss: 0.5942 - accuracy: 0.7917 - val_loss: 0.5856 - val_accuracy: 0.8750\n",
            "Epoch 37/100\n",
            "14/14 [==============================] - 0s 4ms/step - loss: 0.5903 - accuracy: 0.7870 - val_loss: 0.5816 - val_accuracy: 0.8750\n",
            "Epoch 38/100\n",
            "14/14 [==============================] - 0s 4ms/step - loss: 0.5864 - accuracy: 0.7963 - val_loss: 0.5780 - val_accuracy: 0.9167\n",
            "Epoch 39/100\n",
            "14/14 [==============================] - 0s 4ms/step - loss: 0.5829 - accuracy: 0.7963 - val_loss: 0.5743 - val_accuracy: 0.9167\n",
            "Epoch 40/100\n",
            "14/14 [==============================] - 0s 5ms/step - loss: 0.5788 - accuracy: 0.8194 - val_loss: 0.5703 - val_accuracy: 0.9167\n",
            "Epoch 41/100\n",
            "14/14 [==============================] - 0s 4ms/step - loss: 0.5753 - accuracy: 0.8194 - val_loss: 0.5661 - val_accuracy: 0.9167\n",
            "Epoch 42/100\n",
            "14/14 [==============================] - 0s 4ms/step - loss: 0.5713 - accuracy: 0.8194 - val_loss: 0.5625 - val_accuracy: 0.9167\n",
            "Epoch 43/100\n",
            "14/14 [==============================] - 0s 4ms/step - loss: 0.5673 - accuracy: 0.8333 - val_loss: 0.5587 - val_accuracy: 0.9167\n",
            "Epoch 44/100\n",
            "14/14 [==============================] - 0s 4ms/step - loss: 0.5635 - accuracy: 0.8380 - val_loss: 0.5550 - val_accuracy: 0.9167\n",
            "Epoch 45/100\n",
            "14/14 [==============================] - 0s 4ms/step - loss: 0.5595 - accuracy: 0.8380 - val_loss: 0.5511 - val_accuracy: 0.9167\n",
            "Epoch 46/100\n",
            "14/14 [==============================] - 0s 4ms/step - loss: 0.5559 - accuracy: 0.8333 - val_loss: 0.5477 - val_accuracy: 0.9167\n",
            "Epoch 47/100\n",
            "14/14 [==============================] - 0s 4ms/step - loss: 0.5517 - accuracy: 0.8426 - val_loss: 0.5439 - val_accuracy: 0.9167\n",
            "Epoch 48/100\n",
            "14/14 [==============================] - 0s 4ms/step - loss: 0.5480 - accuracy: 0.8472 - val_loss: 0.5399 - val_accuracy: 0.9167\n",
            "Epoch 49/100\n",
            "14/14 [==============================] - 0s 4ms/step - loss: 0.5438 - accuracy: 0.8565 - val_loss: 0.5361 - val_accuracy: 0.9167\n",
            "Epoch 50/100\n",
            "14/14 [==============================] - 0s 5ms/step - loss: 0.5396 - accuracy: 0.8472 - val_loss: 0.5327 - val_accuracy: 0.9583\n",
            "Epoch 51/100\n",
            "14/14 [==============================] - 0s 4ms/step - loss: 0.5356 - accuracy: 0.8657 - val_loss: 0.5285 - val_accuracy: 0.9583\n",
            "Epoch 52/100\n",
            "14/14 [==============================] - 0s 4ms/step - loss: 0.5318 - accuracy: 0.8611 - val_loss: 0.5246 - val_accuracy: 0.9167\n",
            "Epoch 53/100\n",
            "14/14 [==============================] - 0s 4ms/step - loss: 0.5277 - accuracy: 0.8565 - val_loss: 0.5210 - val_accuracy: 0.9167\n",
            "Epoch 54/100\n",
            "14/14 [==============================] - 0s 4ms/step - loss: 0.5234 - accuracy: 0.8565 - val_loss: 0.5173 - val_accuracy: 0.9583\n",
            "Epoch 55/100\n",
            "14/14 [==============================] - 0s 4ms/step - loss: 0.5195 - accuracy: 0.8750 - val_loss: 0.5134 - val_accuracy: 0.9583\n",
            "Epoch 56/100\n",
            "14/14 [==============================] - 0s 4ms/step - loss: 0.5150 - accuracy: 0.8704 - val_loss: 0.5094 - val_accuracy: 0.9583\n",
            "Epoch 57/100\n",
            "14/14 [==============================] - 0s 4ms/step - loss: 0.5114 - accuracy: 0.8657 - val_loss: 0.5058 - val_accuracy: 0.9167\n",
            "Epoch 58/100\n",
            "14/14 [==============================] - 0s 4ms/step - loss: 0.5069 - accuracy: 0.8750 - val_loss: 0.5019 - val_accuracy: 0.9583\n",
            "Epoch 59/100\n",
            "14/14 [==============================] - 0s 4ms/step - loss: 0.5030 - accuracy: 0.8796 - val_loss: 0.4980 - val_accuracy: 0.9167\n",
            "Epoch 60/100\n",
            "14/14 [==============================] - 0s 9ms/step - loss: 0.4985 - accuracy: 0.8611 - val_loss: 0.4942 - val_accuracy: 0.9167\n",
            "Epoch 61/100\n",
            "14/14 [==============================] - 0s 7ms/step - loss: 0.4940 - accuracy: 0.8796 - val_loss: 0.4908 - val_accuracy: 0.9583\n",
            "Epoch 62/100\n",
            "14/14 [==============================] - 0s 8ms/step - loss: 0.4900 - accuracy: 0.8843 - val_loss: 0.4872 - val_accuracy: 0.9583\n",
            "Epoch 63/100\n",
            "14/14 [==============================] - 0s 7ms/step - loss: 0.4858 - accuracy: 0.8889 - val_loss: 0.4836 - val_accuracy: 0.9583\n",
            "Epoch 64/100\n",
            "14/14 [==============================] - 0s 7ms/step - loss: 0.4814 - accuracy: 0.8981 - val_loss: 0.4797 - val_accuracy: 0.9167\n",
            "Epoch 65/100\n",
            "14/14 [==============================] - 0s 7ms/step - loss: 0.4772 - accuracy: 0.8935 - val_loss: 0.4761 - val_accuracy: 0.9167\n",
            "Epoch 66/100\n",
            "14/14 [==============================] - 0s 5ms/step - loss: 0.4727 - accuracy: 0.8981 - val_loss: 0.4720 - val_accuracy: 0.9167\n",
            "Epoch 67/100\n",
            "14/14 [==============================] - 0s 7ms/step - loss: 0.4686 - accuracy: 0.8981 - val_loss: 0.4681 - val_accuracy: 0.9167\n",
            "Epoch 68/100\n",
            "14/14 [==============================] - 0s 7ms/step - loss: 0.4640 - accuracy: 0.8981 - val_loss: 0.4641 - val_accuracy: 0.9167\n",
            "Epoch 69/100\n",
            "14/14 [==============================] - 0s 9ms/step - loss: 0.4596 - accuracy: 0.8981 - val_loss: 0.4604 - val_accuracy: 0.9167\n",
            "Epoch 70/100\n",
            "14/14 [==============================] - 0s 13ms/step - loss: 0.4552 - accuracy: 0.8981 - val_loss: 0.4566 - val_accuracy: 0.9167\n",
            "Epoch 71/100\n",
            "14/14 [==============================] - 0s 9ms/step - loss: 0.4512 - accuracy: 0.8981 - val_loss: 0.4526 - val_accuracy: 0.9167\n",
            "Epoch 72/100\n",
            "14/14 [==============================] - 0s 7ms/step - loss: 0.4466 - accuracy: 0.9028 - val_loss: 0.4491 - val_accuracy: 0.9167\n",
            "Epoch 73/100\n",
            "14/14 [==============================] - 0s 6ms/step - loss: 0.4424 - accuracy: 0.9074 - val_loss: 0.4452 - val_accuracy: 0.9583\n",
            "Epoch 74/100\n",
            "14/14 [==============================] - 0s 11ms/step - loss: 0.4380 - accuracy: 0.9074 - val_loss: 0.4416 - val_accuracy: 0.9583\n",
            "Epoch 75/100\n",
            "14/14 [==============================] - 0s 6ms/step - loss: 0.4340 - accuracy: 0.9120 - val_loss: 0.4379 - val_accuracy: 0.9167\n",
            "Epoch 76/100\n",
            "14/14 [==============================] - 0s 7ms/step - loss: 0.4295 - accuracy: 0.9028 - val_loss: 0.4345 - val_accuracy: 0.9583\n",
            "Epoch 77/100\n",
            "14/14 [==============================] - 0s 6ms/step - loss: 0.4252 - accuracy: 0.9167 - val_loss: 0.4300 - val_accuracy: 0.9167\n",
            "Epoch 78/100\n",
            "14/14 [==============================] - 0s 8ms/step - loss: 0.4209 - accuracy: 0.9167 - val_loss: 0.4263 - val_accuracy: 0.9167\n",
            "Epoch 79/100\n",
            "14/14 [==============================] - 0s 10ms/step - loss: 0.4168 - accuracy: 0.9167 - val_loss: 0.4226 - val_accuracy: 0.9583\n",
            "Epoch 80/100\n",
            "14/14 [==============================] - 0s 10ms/step - loss: 0.4130 - accuracy: 0.9120 - val_loss: 0.4198 - val_accuracy: 0.9583\n",
            "Epoch 81/100\n",
            "14/14 [==============================] - 0s 6ms/step - loss: 0.4087 - accuracy: 0.9167 - val_loss: 0.4161 - val_accuracy: 0.9583\n",
            "Epoch 82/100\n",
            "14/14 [==============================] - 0s 7ms/step - loss: 0.4042 - accuracy: 0.9120 - val_loss: 0.4124 - val_accuracy: 0.9583\n",
            "Epoch 83/100\n",
            "14/14 [==============================] - 0s 8ms/step - loss: 0.4000 - accuracy: 0.9120 - val_loss: 0.4089 - val_accuracy: 0.9583\n",
            "Epoch 84/100\n",
            "14/14 [==============================] - 0s 9ms/step - loss: 0.3959 - accuracy: 0.9120 - val_loss: 0.4055 - val_accuracy: 0.9167\n",
            "Epoch 85/100\n",
            "14/14 [==============================] - 0s 6ms/step - loss: 0.3919 - accuracy: 0.9120 - val_loss: 0.4014 - val_accuracy: 0.9583\n",
            "Epoch 86/100\n",
            "14/14 [==============================] - 0s 6ms/step - loss: 0.3878 - accuracy: 0.9120 - val_loss: 0.3978 - val_accuracy: 0.9583\n",
            "Epoch 87/100\n",
            "14/14 [==============================] - 0s 6ms/step - loss: 0.3841 - accuracy: 0.9167 - val_loss: 0.3942 - val_accuracy: 0.9583\n",
            "Epoch 88/100\n",
            "14/14 [==============================] - 0s 6ms/step - loss: 0.3802 - accuracy: 0.9120 - val_loss: 0.3907 - val_accuracy: 0.9583\n",
            "Epoch 89/100\n",
            "14/14 [==============================] - 0s 9ms/step - loss: 0.3764 - accuracy: 0.9074 - val_loss: 0.3877 - val_accuracy: 0.9583\n",
            "Epoch 90/100\n",
            "14/14 [==============================] - 0s 8ms/step - loss: 0.3726 - accuracy: 0.9120 - val_loss: 0.3855 - val_accuracy: 0.9583\n",
            "Epoch 91/100\n",
            "14/14 [==============================] - 0s 8ms/step - loss: 0.3688 - accuracy: 0.9074 - val_loss: 0.3827 - val_accuracy: 0.9583\n",
            "Epoch 92/100\n",
            "14/14 [==============================] - 0s 10ms/step - loss: 0.3652 - accuracy: 0.9120 - val_loss: 0.3792 - val_accuracy: 0.9583\n",
            "Epoch 93/100\n",
            "14/14 [==============================] - 0s 7ms/step - loss: 0.3611 - accuracy: 0.9120 - val_loss: 0.3758 - val_accuracy: 0.9583\n",
            "Epoch 94/100\n",
            "14/14 [==============================] - 0s 9ms/step - loss: 0.3572 - accuracy: 0.9120 - val_loss: 0.3723 - val_accuracy: 0.9167\n",
            "Epoch 95/100\n",
            "14/14 [==============================] - 0s 8ms/step - loss: 0.3535 - accuracy: 0.9167 - val_loss: 0.3694 - val_accuracy: 0.9583\n",
            "Epoch 96/100\n",
            "14/14 [==============================] - 0s 6ms/step - loss: 0.3501 - accuracy: 0.9120 - val_loss: 0.3661 - val_accuracy: 0.9583\n",
            "Epoch 97/100\n",
            "14/14 [==============================] - 0s 12ms/step - loss: 0.3468 - accuracy: 0.9120 - val_loss: 0.3635 - val_accuracy: 0.9583\n",
            "Epoch 98/100\n",
            "14/14 [==============================] - 0s 6ms/step - loss: 0.3429 - accuracy: 0.9306 - val_loss: 0.3598 - val_accuracy: 0.9583\n",
            "Epoch 99/100\n",
            "14/14 [==============================] - 0s 7ms/step - loss: 0.3396 - accuracy: 0.9259 - val_loss: 0.3576 - val_accuracy: 0.9583\n",
            "Epoch 100/100\n",
            "14/14 [==============================] - 0s 9ms/step - loss: 0.3366 - accuracy: 0.9259 - val_loss: 0.3551 - val_accuracy: 0.9583\n"
          ]
        }
      ]
    },
    {
      "cell_type": "code",
      "source": [
        "def plot_history(history):\n",
        "    accuracy = history.history[\"accuracy\"]\n",
        "    val_accuracy = history.history[\"val_accuracy\"]\n",
        "\n",
        "    loss = history.history[\"loss\"]\n",
        "    val_loss = history.history[\"val_loss\"]\n",
        "\n",
        "    fig, ax = plt.subplots(2, sharex=True, figsize=(9, 5))\n",
        "    \n",
        "    ax[0].plot(loss, c=\"red\", label=\"train loss\")\n",
        "    ax[0].plot(val_loss, c=\"blue\", label=\"validation loss\")\n",
        "    \n",
        "    ax[1].plot(accuracy, c=\"green\", label=\"train accuracy\")\n",
        "    ax[1].plot(val_accuracy, c=\"purple\", label=\"validation accuracy\")\n",
        "\n",
        "    ax[0].legend(fontsize=11); ax[1].legend(fontsize=12)\n",
        "    ax[0].grid(); ax[1].grid()\n",
        "    ax[0].set_title(\"Trianing history\", fontsize=15, fontweight=\"bold\")\n",
        "    fig.tight_layout()\n",
        "\n",
        "    "
      ],
      "metadata": {
        "id": "yLDwJTekGkDR"
      },
      "execution_count": 24,
      "outputs": []
    },
    {
      "cell_type": "code",
      "source": [
        "plot_history(history)"
      ],
      "metadata": {
        "colab": {
          "base_uri": "https://localhost:8080/",
          "height": 369
        },
        "id": "K7fHq9GJMDuI",
        "outputId": "7f2a9d34-9f0f-452c-b6ef-45cdfa79202e"
      },
      "execution_count": 25,
      "outputs": [
        {
          "output_type": "display_data",
          "data": {
            "text/plain": [
              "<Figure size 648x360 with 2 Axes>"
            ],
            "image/png": "[encoded data removed]"
          },
          "metadata": {
            "needs_background": "light"
          }
        }
      ]
    },
    {
      "cell_type": "code",
      "source": [
        "x_grid = np.linspace(data[:, 0].min(), data[:, 0].max(), 100)\n",
        "y_grid = np.linspace(data[:, 1].min(), data[:, 1].max(), 100)\n",
        "\n",
        "feature_space = np.zeros((100*100, 2))\n",
        "n_row = 0\n",
        "for i, x in enumerate(x_grid):\n",
        "    for j, y in enumerate(y_grid):\n",
        "        feature_space[n_row, :] = np.array([x, y])\n",
        "        n_row += 1"
      ],
      "metadata": {
        "id": "F4QRnRIjPvGc"
      },
      "execution_count": 26,
      "outputs": []
    },
    {
      "cell_type": "code",
      "source": [
        "predictions = model.predict(feature_space)\n",
        "predicted_labels = np.where(predictions[:, 0] < 0.5, 1, 0).reshape(100, 100)"
      ],
      "metadata": {
        "id": "u7Xyggl5QWwC"
      },
      "execution_count": 27,
      "outputs": []
    },
    {
      "cell_type": "code",
      "source": [
        "plt.imshow(predicted_labels, cmap=\"seismic_r\", vmin=0, vmax=1, alpha=0.5,\n",
        "           extent=[data[:, 0].min(), data[:, 0].max(),\\\n",
        "                   data[:, 1].min(), data[:, 1].max()])\n",
        "\n",
        "plt.plot(data[labels == 0, 0], data[labels == 0, 1],\n",
        "         color=\"r\", label=\"0\", ls=\"none\", marker=\"o\", mec=\"k\")\n",
        "plt.plot(data[labels == 1, 0], data[labels == 1, 1],\n",
        "         color=\"b\", label=\"1\", ls=\"none\", marker=\"o\", mec=\"k\")\n",
        "\n",
        "plt.title(\"Neural Network\",\n",
        "          fontsize=14, fontweight=\"bold\")\n",
        "plt.xlim(data[:, 0].min(), data[:, 0].max())\n",
        "plt.ylim(data[:, 1].min(), data[:, 1].max())\n",
        "plt.legend()"
      ],
      "metadata": {
        "colab": {
          "base_uri": "https://localhost:8080/",
          "height": 299
        },
        "id": "AdgnLfs7MFa4",
        "outputId": "67558602-602e-42a3-ad84-0972b34fb641"
      },
      "execution_count": 28,
      "outputs": [
        {
          "output_type": "execute_result",
          "data": {
            "text/plain": [
              "<matplotlib.legend.Legend at 0x7f8660a51510>"
            ]
          },
          "metadata": {},
          "execution_count": 28
        },
        {
          "output_type": "display_data",
          "data": {
            "text/plain": [
              "<Figure size 432x288 with 1 Axes>"
            ],
            "image/png": "[encoded data removed]"
          },
          "metadata": {
            "needs_background": "light"
          }
        }
      ]
    },
    {
      "cell_type": "markdown",
      "source": [
        "As we can see, such model is capable of finding a non-linear decision boundary that separates rather well the circle dataset."
      ],
      "metadata": {
        "id": "N-9wkfaLZwnh"
      }
    },
    {
      "cell_type": "markdown",
      "source": [
        "# 3. Convolutional Neural Networks"
      ],
      "metadata": {
        "id": "Sxb4Lq3waPyn"
      }
    },
    {
      "cell_type": "code",
      "source": [],
      "metadata": {
        "id": "zJZF-qmiOZSQ"
      },
      "execution_count": 28,
      "outputs": []
    }
  ]
}