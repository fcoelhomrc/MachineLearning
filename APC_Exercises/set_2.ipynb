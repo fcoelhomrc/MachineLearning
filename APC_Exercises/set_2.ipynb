{
  "cells": [
    {
      "cell_type": "markdown",
      "metadata": {
        "colab_type": "text",
        "id": "view-in-github"
      },
      "source": [
        "<a href=\"https://colab.research.google.com/github/fcoelhomrc/MachineLearning/blob/main/APC_Exercises/set_2.ipynb\" target=\"_parent\"><img src=\"https://colab.research.google.com/assets/colab-badge.svg\" alt=\"Open In Colab\"/></a>"
      ]
    },
    {
      "cell_type": "code",
      "execution_count": 1,
      "metadata": {
        "id": "5TfFayyVuJNs"
      },
      "outputs": [],
      "source": [
        "import numpy as np\n",
        "import matplotlib.pyplot as plt\n",
        "import pandas as pd"
      ]
    },
    {
      "cell_type": "markdown",
      "metadata": {
        "id": "oS6SqXwvuQs4"
      },
      "source": [
        "The main topic of this problem set is **linear regression** and its variants."
      ]
    },
    {
      "cell_type": "markdown",
      "metadata": {
        "id": "wB-ZoQj5ue33"
      },
      "source": [
        "# 1. Rocket motion\n",
        "\n",
        "Our model tries to describe $s(t)$, where $s$ is the rocket height. Of course, we propose a physics-based model:\n",
        "\n",
        "$$\n",
        "y(t) = a + bt + ct^2\n",
        "$$\n",
        "\n",
        "At first, this problem seems non-linear. But if we work in the 2D feature space $\\{z_1, z_2\\}$ where $z_1 = t$ and $z_2 = t^2$, it becomes linear.\n",
        "\n",
        "Therefore, we shall proceed with a linear regression model. \n",
        "\n",
        "We actually work in a 3D feature space, since we shall perform a pre-processing step of appending a constant unit-valued feature to each observation. This trick allow us to incorporate the bias term neatly to our closed-form solution for linear regression."
      ]
    },
    {
      "cell_type": "code",
      "execution_count": 14,
      "metadata": {
        "id": "eDHEV0hxuPJ_"
      },
      "outputs": [],
      "source": [
        "def gen_dataset():\n",
        "    dt = 5\n",
        "    t = np.arange(5, 30+dt, dt)\n",
        "    s = np.array([722, 1073, 1178, 1177, 781, 102])\n",
        "    N = t.size\n",
        "    data = np.array([np.ones(N), t, t**2]).T.reshape(N, 3) # N, D\n",
        "    labels = s.T\n",
        "    return data, labels"
      ]
    },
    {
      "cell_type": "code",
      "execution_count": 15,
      "metadata": {
        "colab": {
          "base_uri": "https://localhost:8080/"
        },
        "id": "i2VVLGjgvsj2",
        "outputId": "ce8f5725-3cae-495e-f095-2a455605c02c"
      },
      "outputs": [
        {
          "name": "stdout",
          "output_type": "stream",
          "text": [
            "(6, 3) (6,)\n"
          ]
        }
      ],
      "source": [
        "X, y = gen_dataset()\n",
        "print(X.shape, y.shape)"
      ]
    },
    {
      "cell_type": "code",
      "execution_count": 16,
      "metadata": {
        "colab": {
          "base_uri": "https://localhost:8080/",
          "height": 237
        },
        "id": "H0e_gVAfvxmD",
        "outputId": "3903ba45-5990-4e47-eb78-439a3bef6f0d"
      },
      "outputs": [
        {
          "data": {
            "text/html": [
              "<div>\n",
              "<style scoped>\n",
              "    .dataframe tbody tr th:only-of-type {\n",
              "        vertical-align: middle;\n",
              "    }\n",
              "\n",
              "    .dataframe tbody tr th {\n",
              "        vertical-align: top;\n",
              "    }\n",
              "\n",
              "    .dataframe thead th {\n",
              "        text-align: right;\n",
              "    }\n",
              "</style>\n",
              "<table border=\"1\" class=\"dataframe\">\n",
              "  <thead>\n",
              "    <tr style=\"text-align: right;\">\n",
              "      <th></th>\n",
              "      <th>bias</th>\n",
              "      <th>t</th>\n",
              "      <th>t^2</th>\n",
              "    </tr>\n",
              "  </thead>\n",
              "  <tbody>\n",
              "    <tr>\n",
              "      <th>0</th>\n",
              "      <td>1.0</td>\n",
              "      <td>5.0</td>\n",
              "      <td>25.0</td>\n",
              "    </tr>\n",
              "    <tr>\n",
              "      <th>1</th>\n",
              "      <td>1.0</td>\n",
              "      <td>10.0</td>\n",
              "      <td>100.0</td>\n",
              "    </tr>\n",
              "    <tr>\n",
              "      <th>2</th>\n",
              "      <td>1.0</td>\n",
              "      <td>15.0</td>\n",
              "      <td>225.0</td>\n",
              "    </tr>\n",
              "    <tr>\n",
              "      <th>3</th>\n",
              "      <td>1.0</td>\n",
              "      <td>20.0</td>\n",
              "      <td>400.0</td>\n",
              "    </tr>\n",
              "    <tr>\n",
              "      <th>4</th>\n",
              "      <td>1.0</td>\n",
              "      <td>25.0</td>\n",
              "      <td>625.0</td>\n",
              "    </tr>\n",
              "    <tr>\n",
              "      <th>5</th>\n",
              "      <td>1.0</td>\n",
              "      <td>30.0</td>\n",
              "      <td>900.0</td>\n",
              "    </tr>\n",
              "  </tbody>\n",
              "</table>\n",
              "</div>"
            ],
            "text/plain": [
              "   bias     t    t^2\n",
              "0   1.0   5.0   25.0\n",
              "1   1.0  10.0  100.0\n",
              "2   1.0  15.0  225.0\n",
              "3   1.0  20.0  400.0\n",
              "4   1.0  25.0  625.0\n",
              "5   1.0  30.0  900.0"
            ]
          },
          "execution_count": 16,
          "metadata": {},
          "output_type": "execute_result"
        }
      ],
      "source": [
        "# Visualize dataset\n",
        "X_df = pd.DataFrame(X, columns=[\"bias\", \"t\", \"t^2\"])\n",
        "X_df"
      ]
    },
    {
      "cell_type": "code",
      "execution_count": 17,
      "metadata": {
        "id": "F4gFX5bswka-"
      },
      "outputs": [],
      "source": [
        "def linreg(X, y, lamb=0, return_weights=False):\n",
        "    XTX = (X.T).dot(X)\n",
        "    to_invert = (XTX + lamb*np.eye(XTX.shape[0]))\n",
        "    XTy = (X.T).dot(y)\n",
        "    w = np.linalg.inv(to_invert).dot(XTy)\n",
        "    preds = X.dot(w)\n",
        "    if return_weights:\n",
        "        return preds, w\n",
        "    else:\n",
        "        return preds"
      ]
    },
    {
      "cell_type": "code",
      "execution_count": 18,
      "metadata": {
        "id": "Quxve6JryHPl"
      },
      "outputs": [],
      "source": [
        "# Without regularization\n",
        "preds, w = linreg(X, y, lamb=0, return_weights=True)"
      ]
    },
    {
      "cell_type": "code",
      "execution_count": 19,
      "metadata": {
        "colab": {
          "base_uri": "https://localhost:8080/"
        },
        "id": "s5e7FMSXylkk",
        "outputId": "97064592-e882-4ba9-d1b7-24feb29e124d"
      },
      "outputs": [
        {
          "name": "stdout",
          "output_type": "stream",
          "text": [
            "[ 44.2        156.12428571  -5.11      ] (3,)\n"
          ]
        }
      ],
      "source": [
        "print(w, w.shape)"
      ]
    },
    {
      "cell_type": "code",
      "execution_count": 20,
      "metadata": {
        "colab": {
          "base_uri": "https://localhost:8080/",
          "height": 297
        },
        "id": "7NRbPwoczeH8",
        "outputId": "a06e0678-df66-48d0-d485-c9b3041be90c"
      },
      "outputs": [
        {
          "data": {
            "text/plain": [
              "Text(0.5, 0, 't')"
            ]
          },
          "execution_count": 20,
          "metadata": {},
          "output_type": "execute_result"
        },
        {
          "data": {
            "image/png": "[encoded data removed]",
            "text/plain": [
              "<Figure size 432x288 with 1 Axes>"
            ]
          },
          "metadata": {
            "needs_background": "light"
          },
          "output_type": "display_data"
        }
      ],
      "source": [
        "plt.scatter(X[:, 1], y, color=\"blue\",\n",
        "            marker=\"o\", ec=\"k\", label=\"label\")\n",
        "plt.scatter(X[:, 1], preds, color=\"red\",\n",
        "            marker=\"o\", ec=\"k\", label=\"pred\")\n",
        "t = np.linspace(0, X[:, 1].max(), 200)\n",
        "plt.plot(t, w[0] + w[1]*t + w[2]*(t**2),\n",
        "         color=\"k\", ls=\"--\")\n",
        "plt.legend()\n",
        "plt.xlabel(\"t\")"
      ]
    },
    {
      "cell_type": "code",
      "execution_count": 47,
      "metadata": {
        "id": "b0SHtS7k0y58"
      },
      "outputs": [],
      "source": [
        "# With regularization, lambda=0.5\n",
        "regularization = 0.5\n",
        "preds_reg, w_reg = linreg(X, y, lamb=regularization, return_weights=True)"
      ]
    },
    {
      "cell_type": "code",
      "execution_count": 48,
      "metadata": {
        "colab": {
          "base_uri": "https://localhost:8080/"
        },
        "id": "qXzgnDGD2_tv",
        "outputId": "5ff9351c-9612-432e-a51f-a141cad047f1"
      },
      "outputs": [
        {
          "name": "stdout",
          "output_type": "stream",
          "text": [
            "[ 28.81692798 157.42734984  -5.13590407] (3,)\n"
          ]
        }
      ],
      "source": [
        "print(w_reg, w_reg.shape)"
      ]
    },
    {
      "cell_type": "code",
      "execution_count": 49,
      "metadata": {
        "colab": {
          "base_uri": "https://localhost:8080/",
          "height": 297
        },
        "id": "lg34YkMc2_tx",
        "outputId": "abebfad2-c092-425b-e5eb-ce7a2b500055"
      },
      "outputs": [
        {
          "data": {
            "image/png": "[encoded data removed]",
            "text/plain": [
              "<Figure size 900x300 with 1 Axes>"
            ]
          },
          "metadata": {
            "needs_background": "light"
          },
          "output_type": "display_data"
        }
      ],
      "source": [
        "plt.figure(figsize=(6, 2), dpi=150)\n",
        "\n",
        "plt.scatter(X[:, 1], y, color=\"blue\",\n",
        "            marker=\"o\", ec=\"k\", label=\"label\")\n",
        "            \n",
        "plt.scatter(X[:, 1], preds, color=\"red\",\n",
        "            marker=\"s\", ec=\"k\", label=\"pred\")\n",
        "\n",
        "plt.scatter(X[:, 1], preds_reg, color=\"gold\",\n",
        "            marker=\"^\", ec=\"k\", label=\"ridge_pred\")\n",
        "\n",
        "t = np.linspace(0, X[:, 1].max(), 200)\n",
        "\n",
        "plt.plot(t, w[0] + w[1]*t + w[2]*(t**2),\n",
        "         color=\"green\", ls=\"-\", label=\"lin_reg\", zorder=-5)\n",
        "\n",
        "plt.plot(t, w_reg[0] + w_reg[1]*t + w_reg[2]*(t**2),\n",
        "         color=\"purple\", ls=\"--\", label=\"ridge_reg\", zorder=-5)\n",
        "\n",
        "\n",
        "mse = ((y - preds)**2).mean()\n",
        "mse_reg = ((y - preds_reg)**2).mean()\n",
        "\n",
        "plt.legend(fontsize=6)\n",
        "plt.xlabel(\"t\")\n",
        "description = f\"lin_reg mse: {mse:.2f} \\n ridge_reg mse: {mse_reg:.2f} \\n lambda: {regularization}\"\n",
        "plt.title(description)\n",
        "plt.grid()"
      ]
    },
    {
      "cell_type": "code",
      "execution_count": 50,
      "metadata": {
        "colab": {
          "base_uri": "https://localhost:8080/",
          "height": 143
        },
        "id": "WBsvUDxF3J0o",
        "outputId": "e34a4b90-07e7-40d1-9cb4-029c968b4d9a"
      },
      "outputs": [
        {
          "data": {
            "text/html": [
              "<div>\n",
              "<style scoped>\n",
              "    .dataframe tbody tr th:only-of-type {\n",
              "        vertical-align: middle;\n",
              "    }\n",
              "\n",
              "    .dataframe tbody tr th {\n",
              "        vertical-align: top;\n",
              "    }\n",
              "\n",
              "    .dataframe thead th {\n",
              "        text-align: right;\n",
              "    }\n",
              "</style>\n",
              "<table border=\"1\" class=\"dataframe\">\n",
              "  <thead>\n",
              "    <tr style=\"text-align: right;\">\n",
              "      <th></th>\n",
              "      <th>default</th>\n",
              "      <th>regularized</th>\n",
              "    </tr>\n",
              "  </thead>\n",
              "  <tbody>\n",
              "    <tr>\n",
              "      <th>0</th>\n",
              "      <td>44.200000</td>\n",
              "      <td>28.816928</td>\n",
              "    </tr>\n",
              "    <tr>\n",
              "      <th>1</th>\n",
              "      <td>156.124286</td>\n",
              "      <td>157.427350</td>\n",
              "    </tr>\n",
              "    <tr>\n",
              "      <th>2</th>\n",
              "      <td>-5.110000</td>\n",
              "      <td>-5.135904</td>\n",
              "    </tr>\n",
              "  </tbody>\n",
              "</table>\n",
              "</div>"
            ],
            "text/plain": [
              "      default  regularized\n",
              "0   44.200000    28.816928\n",
              "1  156.124286   157.427350\n",
              "2   -5.110000    -5.135904"
            ]
          },
          "execution_count": 50,
          "metadata": {},
          "output_type": "execute_result"
        }
      ],
      "source": [
        "w_df = pd.DataFrame(np.array([w, w_reg]).T, columns=[\"default\", \"regularized\"])\n",
        "w_df"
      ]
    },
    {
      "cell_type": "markdown",
      "metadata": {},
      "source": [
        "Let's use some randomly generated synthetic data and try to perform high-degree fitting."
      ]
    },
    {
      "cell_type": "code",
      "execution_count": 280,
      "metadata": {},
      "outputs": [],
      "source": [
        "def gen_dataset_synthetic(degs=50, tmax=50):\n",
        "    dt = 0.5\n",
        "    t = np.arange(0, tmax, dt)\n",
        "    N = t.size\n",
        "    s = 10 + 0.5*t + 20*np.sin(10/50 * t)\n",
        "    rng = np.random.default_rng(seed=42)\n",
        "    noise = 4*rng.normal(0, 1, size=N)\n",
        "    s += noise\n",
        "    \n",
        "    data = np.array(np.ones(N))\n",
        "    for deg in range(1, degs):\n",
        "        data_col = np.array(t**deg)\n",
        "        data = np.vstack((data, data_col))\n",
        "    data = data.T # N, D\n",
        "    labels = s.T\n",
        "    return data, labels"
      ]
    },
    {
      "cell_type": "code",
      "execution_count": 281,
      "metadata": {
        "id": "u7AOb8CK3bQ4"
      },
      "outputs": [],
      "source": [
        "def svd_reg(X, y, lamb=0, svd=True):\n",
        "    XTX = (X.T).dot(X)\n",
        "    to_invert = (XTX + lamb*np.eye(XTX.shape[0]))\n",
        "    to_svd = np.linalg.inv(to_invert).dot(X.T)\n",
        "    w = to_svd.dot(y)\n",
        "    preds = X.dot(w)\n",
        "    if svd:\n",
        "        return w, preds, to_svd\n",
        "    else:\n",
        "        return w, preds"
      ]
    },
    {
      "cell_type": "code",
      "execution_count": 282,
      "metadata": {},
      "outputs": [
        {
          "name": "stdout",
          "output_type": "stream",
          "text": [
            "(100, 10)\n"
          ]
        }
      ],
      "source": [
        "X, y = gen_dataset_synthetic(degs=10)\n",
        "print(X.shape)"
      ]
    },
    {
      "cell_type": "code",
      "execution_count": 283,
      "metadata": {},
      "outputs": [
        {
          "data": {
            "text/plain": [
              "<matplotlib.collections.PathCollection at 0x231fb22b6d0>"
            ]
          },
          "execution_count": 283,
          "metadata": {},
          "output_type": "execute_result"
        },
        {
          "data": {
            "image/png": "[encoded data removed]",
            "text/plain": [
              "<Figure size 432x288 with 1 Axes>"
            ]
          },
          "metadata": {
            "needs_background": "light"
          },
          "output_type": "display_data"
        }
      ],
      "source": [
        "plt.scatter(X[:, 1], y, ec=\"k\")"
      ]
    },
    {
      "cell_type": "code",
      "execution_count": 293,
      "metadata": {},
      "outputs": [
        {
          "data": {
            "image/png": "[encoded data removed]",
            "text/plain": [
              "<Figure size 432x288 with 1 Axes>"
            ]
          },
          "metadata": {
            "needs_background": "light"
          },
          "output_type": "display_data"
        }
      ],
      "source": [
        "w, p, U = svd_reg(X, y, lamb=10)\n",
        "_ = plt.scatter(X[:, 1], y, ec=\"k\")\n",
        "_ = plt.plot(X[:, 1], p, ls=\"-\", color=\"red\", lw=2.0)\n",
        "\n",
        "X2, y2 = gen_dataset_synthetic(degs=10, tmax=60)\n",
        "_ = plt.scatter(X2[X[:, 1].size:, 1], y2[X[:, 1].size:], ec=\"k\", color=\"g\")\n",
        "new_preds = X2.dot(w)\n",
        "_ = plt.plot(X2[X[:, 1].size:, 1], new_preds[X[:, 1].size:], ls=\"-\", color=\"red\", lw=2.0)"
      ]
    },
    {
      "cell_type": "markdown",
      "metadata": {},
      "source": [
        "We can see how poorly the model generalizes! It heavily overfits the training data. This is what usually happens with high degree polynomial fitting, since it approximates well inside interpolation interval, but diverge rapidly outside."
      ]
    },
    {
      "cell_type": "code",
      "execution_count": 326,
      "metadata": {},
      "outputs": [],
      "source": [
        "def gen_dataset_synthetic2(freqs=50, tmax=50):\n",
        "    dt = 0.01\n",
        "    t = np.arange(0, tmax, dt)\n",
        "    N = t.size\n",
        "    s = 10 + 0.5*t + 20*np.sin(10/50 * t)\n",
        "    rng = np.random.default_rng(seed=42)\n",
        "    noise = 4*rng.normal(0, 1, size=N)\n",
        "    s += noise\n",
        "    \n",
        "    data = np.array(np.ones(N))\n",
        "    data_col = np.array(t)\n",
        "    data = np.vstack((data, data_col))\n",
        "    for deg in range(1, freqs):\n",
        "        data_col = np.array(np.sin(freqs*t))\n",
        "        data = np.vstack((data, data_col))\n",
        "        data_col = np.array(np.cos(freqs*t))\n",
        "        data = np.vstack((data, data_col))\n",
        "    data = data.T # N, D\n",
        "    labels = s.T\n",
        "    return data, labels"
      ]
    },
    {
      "cell_type": "code",
      "execution_count": 344,
      "metadata": {},
      "outputs": [
        {
          "name": "stdout",
          "output_type": "stream",
          "text": [
            "(100, 5)\n"
          ]
        }
      ],
      "source": [
        "X, y = gen_dataset_synthetic(degs=5)\n",
        "print(X.shape)"
      ]
    },
    {
      "cell_type": "code",
      "execution_count": 345,
      "metadata": {},
      "outputs": [
        {
          "data": {
            "text/plain": [
              "Text(0.5, 1.0, 'best lambda: 0.00')"
            ]
          },
          "execution_count": 345,
          "metadata": {},
          "output_type": "execute_result"
        },
        {
          "data": {
            "image/png": "[encoded data removed]",
            "text/plain": [
              "<Figure size 432x288 with 1 Axes>"
            ]
          },
          "metadata": {
            "needs_background": "light"
          },
          "output_type": "display_data"
        }
      ],
      "source": [
        "Ntrials = 100\n",
        "mse_history = np.zeros(Ntrials)\n",
        "lambspace = np.logspace(-5, 5, Ntrials)\n",
        "X2, y2 = gen_dataset_synthetic(degs=5, tmax=60)\n",
        "diff = X2[:, 1].size - X[:, 1].size\n",
        "for i, lamb in enumerate(lambspace):\n",
        "    p, w = linreg(X, y, lamb=10, return_weights=True)\n",
        "    new_preds = X2[diff:].dot(w)\n",
        "    mse = ((y2[diff:] - new_preds)**2).mean()\n",
        "    mse_history[i] = mse\n",
        "\n",
        "best_lamb = lambspace[np.argmin(mse_history)]\n",
        "p, w = linreg(X, y, lamb=best_lamb, return_weights=True)\n",
        "new_preds = X2[diff:].dot(w)\n",
        "\n",
        "\n",
        "_ = plt.scatter(X[:, 1], y, ec=\"k\")\n",
        "_ = plt.plot(X[:, 1], p, ls=\"-\", color=\"red\", lw=2.0)\n",
        "_ = plt.scatter(X2[X[:, 1].size:, 1], y2[X[:, 1].size:], ec=\"k\", color=\"g\")\n",
        "_ = plt.plot(X2[diff:], new_preds, ls=\"-\", color=\"red\", lw=2.0)\n",
        "plt.title(f\"best lambda: {best_lamb:.2f}\")"
      ]
    },
    {
      "cell_type": "code",
      "execution_count": null,
      "metadata": {},
      "outputs": [],
      "source": []
    },
    {
      "cell_type": "code",
      "execution_count": null,
      "metadata": {},
      "outputs": [],
      "source": []
    }
  ],
  "metadata": {
    "accelerator": "GPU",
    "colab": {
      "collapsed_sections": [],
      "include_colab_link": true,
      "provenance": []
    },
    "kernelspec": {
      "display_name": "Python 3.9.7 ('base')",
      "language": "python",
      "name": "python3"
    },
    "language_info": {
      "codemirror_mode": {
        "name": "ipython",
        "version": 3
      },
      "file_extension": ".py",
      "mimetype": "text/x-python",
      "name": "python",
      "nbconvert_exporter": "python",
      "pygments_lexer": "ipython3",
      "version": "3.9.12"
    },
    "vscode": {
      "interpreter": {
        "hash": "321c287d430dfa74150ad4534669cee99e55d7b4b9f525e749a4a739721854ad"
      }
    }
  },
  "nbformat": 4,
  "nbformat_minor": 0
}
