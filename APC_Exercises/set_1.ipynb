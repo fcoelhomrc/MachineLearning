{
  "cells": [
    {
      "cell_type": "markdown",
      "metadata": {
        "id": "view-in-github",
        "colab_type": "text"
      },
      "source": [
        "<a href=\"https://colab.research.google.com/github/fcoelhomrc/MachineLearning/blob/main/APC_Exercises/set_1.ipynb\" target=\"_parent\"><img src=\"https://colab.research.google.com/assets/colab-badge.svg\" alt=\"Open In Colab\"/></a>"
      ]
    },
    {
      "cell_type": "code",
      "execution_count": 3,
      "metadata": {
        "id": "NJAC4FSgdLL-"
      },
      "outputs": [],
      "source": [
        "import numpy as np\n",
        "import matplotlib.pyplot as plt\n",
        "import seaborn as sns\n",
        "import scipy.stats as stats"
      ]
    },
    {
      "cell_type": "markdown",
      "metadata": {
        "id": "sKJi0QXodLL_"
      },
      "source": [
        "1. Sum of two uniformly distributed random variables\n",
        "   \n",
        "   As we expect from theory, the result should be distributed as the convolution of their distributions. In this case, the result is a triangle-shaped distributed, ranging from 0 to 2"
      ]
    },
    {
      "cell_type": "code",
      "execution_count": 4,
      "metadata": {
        "colab": {
          "base_uri": "https://localhost:8080/",
          "height": 283
        },
        "id": "3Bdi7V2mdLMA",
        "outputId": "2e95b591-da39-47a9-95bf-5040addd4c5a"
      },
      "outputs": [
        {
          "output_type": "execute_result",
          "data": {
            "text/plain": [
              "<matplotlib.legend.Legend at 0x7ffabc5ccf50>"
            ]
          },
          "metadata": {},
          "execution_count": 4
        },
        {
          "output_type": "display_data",
          "data": {
            "text/plain": [
              "<Figure size 432x288 with 1 Axes>"
            ],
            "image/png": "[encoded data removed]"
          },
          "metadata": {
            "needs_background": "light"
          }
        }
      ],
      "source": [
        "rng = np.random.default_rng()\n",
        "N = 10000\n",
        "x = rng.uniform(0, 1, N)\n",
        "y = rng.uniform(0, 1, N)\n",
        "\n",
        "plt.hist(x, ec=\"k\", color=\"b\", bins=50, label=\"x\", alpha=0.5, density=True)\n",
        "plt.hist(y, ec=\"k\", color=\"r\", bins=50, label=\"x\", alpha=0.5, density=True)\n",
        "plt.hist(x + y, ec=\"k\", color=\"g\", bins=50, label=\"x + y\", alpha=0.7, density=True)\n",
        "plt.legend()"
      ]
    },
    {
      "cell_type": "markdown",
      "metadata": {
        "id": "-jbe7sxVdLMB"
      },
      "source": [
        "2. Assume normally distributed variables\n",
        "\n",
        "$$\n",
        "X \\sim \\mathcal{N}(\\mu_x, \\sigma_x^2) \\\\\n",
        "Y \\sim \\mathcal{N}(\\mu_y, \\sigma_y^2)\n",
        "$$\n",
        "\n",
        "It is really easy to see that, using the given parameters, $f_X(0) = \\frac{1}{\\sqrt{2\\pi}}$ and $f_Y(0) = \\frac{1}{\\sqrt{2\\pi e}}$"
      ]
    },
    {
      "cell_type": "code",
      "execution_count": 5,
      "metadata": {
        "colab": {
          "base_uri": "https://localhost:8080/"
        },
        "id": "7gzpSokWdLMC",
        "outputId": "c12459f4-12d3-4776-aadb-b434b16c2cf6"
      },
      "outputs": [
        {
          "output_type": "stream",
          "name": "stdout",
          "text": [
            "0.3989422804014327\n",
            "0.24197072451914337\n"
          ]
        }
      ],
      "source": [
        "print(1/np.sqrt(2*np.pi))\n",
        "print(1/np.sqrt(2*np.pi*np.e))"
      ]
    },
    {
      "cell_type": "markdown",
      "metadata": {
        "id": "7hkqAkIadLMC"
      },
      "source": [
        "Now, we consider a mixture distribution\n",
        "$$\n",
        "f_Z(z) = 0.5 f_X(z) + 0.5 f_Y(z)\n",
        "$$"
      ]
    },
    {
      "cell_type": "code",
      "execution_count": 6,
      "metadata": {
        "id": "Sz0e8EaLdLMC"
      },
      "outputs": [],
      "source": [
        "def mixture(N, alpha=0.5, locs=(0, 1), scales=(1, 1)):\n",
        "    rng = np.random.default_rng()\n",
        "    mask = (rng.uniform(size=N) > alpha)\n",
        "    z = np.zeros(N)\n",
        "    z[mask] = rng.normal(loc=locs[0], scale=scales[0], size=z[mask].size)\n",
        "    z[~mask] = rng.normal(loc=locs[1], scale=scales[1], size=z[~mask].size)\n",
        "    return z"
      ]
    },
    {
      "cell_type": "code",
      "execution_count": 7,
      "metadata": {
        "colab": {
          "base_uri": "https://localhost:8080/",
          "height": 265
        },
        "id": "iMtU-epTdLMC",
        "outputId": "a11ebda5-435b-4a6a-b1f8-dfc945e8c654"
      },
      "outputs": [
        {
          "output_type": "display_data",
          "data": {
            "text/plain": [
              "<Figure size 432x288 with 1 Axes>"
            ],
            "image/png": "[encoded data removed]"
          },
          "metadata": {
            "needs_background": "light"
          }
        }
      ],
      "source": [
        "Z = mixture(10000, locs=(-1, 1), scales=(0.5, 0.5))\n",
        "# Z = mixture(10000)\n",
        "\n",
        "_ = plt.hist(Z, ec=\"k\", color=\"b\", bins=50, density=True)"
      ]
    },
    {
      "cell_type": "markdown",
      "metadata": {
        "id": "dzNGZldFdLMD"
      },
      "source": [
        "How do we calculate the probability if observing $z = 0$?\n",
        "\n",
        "Refresher on conditional probabilities:\n",
        "\n",
        "$$\n",
        "P(A|B) = \\frac{P(A\\cap B)}{P(B)} \\\\\n",
        "P(B|A) = \\frac{P(A\\cap B)}{P(A)}\n",
        "$$\n",
        "\n",
        "Combining both:\n",
        "\n",
        "$$\n",
        "P(A|B) = \\frac{P(B|A)P(A)}{P(B)}\n",
        "$$\n",
        "\n",
        "In general, we also haev $P(B) = P(A \\cap B) + P(A' \\cap B)$, thus:\n",
        "\n",
        "$$\n",
        "\\overbrace{P(A|B)}^{\\text{posterior}} = \\frac{P(B|A)P(A)}{P(A \\cap B) + P(A' \\cap B)} = \\frac{P(B|A)\\overbrace{P(A)}^{\\text{prior}}}{P(B|A)P(A) + P(B|A')P(A')}\n",
        "$$\n",
        "\n",
        "which is **Bayes' Theorem**.\n",
        "\n",
        "Back to our problem:\n",
        "\n",
        "Define binary variable $W \\in \\{ 0,1 \\}$ where $w=0$ means we sample from $f_X$ and $w=1$, from $f_Y$. In our case, $P(w=0)=P(w=1)=0.5$\n",
        "\n",
        "$$\n",
        "P(Z=z|W=0) = f_X(z) \\\\\n",
        "P(Z=z|W=1) = f_Y(z)\n",
        "$$\n",
        "\n",
        "Given that we observed $z=0$, the probability of having sampled from $f_X$ is simply $P(W=0|Z=0)$. Invoking Bayes' Theorem:\n",
        "\n",
        "$$\n",
        "P(W=0|Z=0) = \\frac{P(Z=0|W=0)P(W=0)}{P(Z=0|W=0)P(W=0) + P(Z=0|W=1)P(W=1)} = \\frac{0.5f_X(0)}{0.5f_X(0) + 0.5f_Y(0)} = \\frac{f_X(0)}{f_X(0) + f_Y(0)}\n",
        "$$\n",
        "\n",
        "\n"
      ]
    },
    {
      "cell_type": "markdown",
      "metadata": {
        "id": "T9eJPxaudLME"
      },
      "source": [
        "3. Notice that since each distribution have different ranges, the histograms for even weights are such that the area of each mode is the same! This implies the wider $[4, 6]$ distribution having half the height of the narrower $[0, 1]$.\n",
        "\n"
      ]
    },
    {
      "cell_type": "code",
      "execution_count": 8,
      "metadata": {
        "id": "H1mozpjRdLME"
      },
      "outputs": [],
      "source": [
        "def uniform_mixture(N, alpha=0.5):\n",
        "    rng = np.random.default_rng()\n",
        "    mask = (rng.uniform(size=N) > alpha)\n",
        "    z = np.zeros(N)\n",
        "    z[mask] = rng.uniform(0, 1, size=z[mask].size)\n",
        "    z[~mask] = rng.uniform(4, 6, size=z[~mask].size)\n",
        "    return z"
      ]
    },
    {
      "cell_type": "code",
      "execution_count": 9,
      "metadata": {
        "colab": {
          "base_uri": "https://localhost:8080/",
          "height": 441
        },
        "id": "jCbmNrBtdLME",
        "outputId": "0c130c12-d534-44a2-8ab4-190d8cfdfc75"
      },
      "outputs": [
        {
          "output_type": "display_data",
          "data": {
            "text/plain": [
              "<Figure size 1080x432 with 10 Axes>"
            ],
            "image/png": "[encoded data removed]"
          },
          "metadata": {
            "needs_background": "light"
          }
        }
      ],
      "source": [
        "fig, ax = plt.subplots(2, 5, figsize=(15, 6))\n",
        "\n",
        "N = 100000\n",
        "alphas = np.linspace(0, 1, 11)\n",
        "count = 0\n",
        "for i in range(2):\n",
        "    for j in range(5):\n",
        "        alpha = alphas[count]\n",
        "        Z = uniform_mixture(N, alpha)\n",
        "        ax[i, j].hist(Z, label=f\"{alpha:.2f}\", density=True, bins=50, ec=\"k\", color=\"b\") \n",
        "        ax[i, j].legend()\n",
        "        fig.tight_layout()\n",
        "        count += 1"
      ]
    },
    {
      "cell_type": "markdown",
      "source": [
        "# 3. Simulating a binomial distribution\n",
        "\n"
      ],
      "metadata": {
        "id": "s67VaP2KdPca"
      }
    },
    {
      "cell_type": "code",
      "execution_count": 10,
      "metadata": {
        "id": "cswAFLoLdLMF"
      },
      "outputs": [],
      "source": [
        "def simulate_coin(N_samples, p=0.5):\n",
        "    rng = np.random.default_rng(seed=42)\n",
        "    results = np.random.uniform(0, 1, N_samples)\n",
        "    results = np.where(results < p, 1, 0).astype(\"int32\")\n",
        "    classes, counts = np.unique(results, return_counts=True)\n",
        "    return classes, counts\n",
        "\n",
        "N = 10000\n",
        "label_, sim_ = simulate_coin(N)"
      ]
    },
    {
      "cell_type": "code",
      "source": [
        "sns.barplot(x=label_, y=sim_)"
      ],
      "metadata": {
        "colab": {
          "base_uri": "https://localhost:8080/",
          "height": 283
        },
        "id": "Jh95J83AdjxJ",
        "outputId": "ded9d8fa-567f-44b2-f95a-2f1aa548a00d"
      },
      "execution_count": 11,
      "outputs": [
        {
          "output_type": "execute_result",
          "data": {
            "text/plain": [
              "<matplotlib.axes._subplots.AxesSubplot at 0x7ffabb38a050>"
            ]
          },
          "metadata": {},
          "execution_count": 11
        },
        {
          "output_type": "display_data",
          "data": {
            "text/plain": [
              "<Figure size 432x288 with 1 Axes>"
            ],
            "image/png": "[encoded data removed]"
          },
          "metadata": {
            "needs_background": "light"
          }
        }
      ]
    },
    {
      "cell_type": "code",
      "source": [
        "def simulate_bin_sum(N_samples, sample_size=1000, p=0.5):\n",
        "    rng = np.random.default_rng(seed=42)\n",
        "    results = np.random.uniform(0, 1, (N_samples, sample_size))\n",
        "    results = np.where(results < p, 1, 0).astype(\"int32\")\n",
        "    Y = np.sum(results, axis=-1)\n",
        "    Y1, Y2 = Y/sample_size, (Y+1)/(sample_size+2)\n",
        "    return Y, Y1, Y2\n",
        "\n",
        "def get_avg_estim(N_sims):\n",
        "    conv = np.zeros((2, N_sims))\n",
        "    N_samples = np.logspace(1, 6, N_sims).astype(\"int32\")\n",
        "    for i in range(N_sims):\n",
        "        Y, Y1, Y2 = simulate_bin_sum(N_samples[i], sample_size=100, p=0.5)\n",
        "        conv[0, i] = np.mean(Y1)\n",
        "        conv[1, i] = np.mean(Y2)\n",
        "    return N_samples, conv"
      ],
      "metadata": {
        "id": "8501LenEevaZ"
      },
      "execution_count": 29,
      "outputs": []
    },
    {
      "cell_type": "code",
      "source": [
        "sim_, estim_1, estim_2 = simulate_bin_sum(N_samples=10000)"
      ],
      "metadata": {
        "id": "BJMIjSriic5S"
      },
      "execution_count": 30,
      "outputs": []
    },
    {
      "cell_type": "code",
      "source": [
        "sns.histplot(sim_, bins=20)"
      ],
      "metadata": {
        "colab": {
          "base_uri": "https://localhost:8080/",
          "height": 283
        },
        "id": "336LUSgjiiI5",
        "outputId": "c2595612-dc89-4acc-c755-9d60feb18590"
      },
      "execution_count": 24,
      "outputs": [
        {
          "output_type": "execute_result",
          "data": {
            "text/plain": [
              "<matplotlib.axes._subplots.AxesSubplot at 0x7ffab516cc50>"
            ]
          },
          "metadata": {},
          "execution_count": 24
        },
        {
          "output_type": "display_data",
          "data": {
            "text/plain": [
              "<Figure size 432x288 with 1 Axes>"
            ],
            "image/png": "[encoded data removed]"
          },
          "metadata": {
            "needs_background": "light"
          }
        }
      ]
    },
    {
      "cell_type": "code",
      "source": [
        "_ = plt.hist(estim_1, bins=50, color=\"blue\", ec=\"k\", density=True)\n",
        "_ = plt.hist(estim_2, bins=50, color=\"red\", ec=\"k\", density=True, alpha=0.5)\n",
        "\n"
      ],
      "metadata": {
        "colab": {
          "base_uri": "https://localhost:8080/",
          "height": 265
        },
        "id": "j-VH14qtin8Z",
        "outputId": "9656e8d0-2d00-4ea1-f8f3-ce4c1ef1bdc2"
      },
      "execution_count": 43,
      "outputs": [
        {
          "output_type": "display_data",
          "data": {
            "text/plain": [
              "<Figure size 432x288 with 1 Axes>"
            ],
            "image/png": "[encoded data removed]"
          },
          "metadata": {
            "needs_background": "light"
          }
        }
      ]
    },
    {
      "cell_type": "code",
      "source": [
        "N, estimators = get_avg_estim(50)"
      ],
      "metadata": {
        "id": "ohETLI3_jlTk"
      },
      "execution_count": 37,
      "outputs": []
    },
    {
      "cell_type": "code",
      "source": [
        "plt.scatter(N, estimators[0], color=\"blue\", ec=\"k\", marker=\"o\")\n",
        "plt.scatter(N, estimators[1], color=\"orange\", ec=\"k\", marker=\"o\")\n",
        "plt.axhline(y=0.5, color=\"k\", ls=\"--\")\n",
        "plt.xscale(\"log\")"
      ],
      "metadata": {
        "colab": {
          "base_uri": "https://localhost:8080/",
          "height": 269
        },
        "id": "bgAEX4T2ly8K",
        "outputId": "b66b341a-f5fb-43e3-c8eb-ab0e4f6a42b2"
      },
      "execution_count": 38,
      "outputs": [
        {
          "output_type": "display_data",
          "data": {
            "text/plain": [
              "<Figure size 432x288 with 1 Axes>"
            ],
            "image/png": "[encoded data removed]"
          },
          "metadata": {
            "needs_background": "light"
          }
        }
      ]
    },
    {
      "cell_type": "markdown",
      "source": [
        "Remember what we define as an **unbiased estimator:**\n",
        "\n",
        "$$\n",
        "{\\displaystyle \\operatorname {Bias} ({\\hat {\\theta }},\\theta )=\\operatorname {Bias} _{\\theta }[\\,{\\hat {\\theta }}\\,]=\\operatorname {E} _{x\\mid \\theta }[\\,{\\hat {\\theta }}\\,]-\\theta =\\operatorname {E} _{x\\mid \\theta }[\\,{\\hat {\\theta }}-\\theta \\,],}\n",
        "$$\n",
        "\n",
        "We can assume our variable $Y$ follows a binomial distribution (as it is the sum of Bernoulli distributed varaibles), and compute the expectation of $\\hat{Y}_1$ and $\\hat{Y}_2$\n",
        "\n",
        "$$\n",
        "\\begin{align}\n",
        "\\operatorname{E}[\\hat{Y}_1] &= \\frac{1}{n}\\operatorname{E}[Y] =  \\frac{np}{n} = p \\\\\n",
        "\\operatorname{E}[\\hat{Y}_2] &= \\frac{1}{n+2}\\operatorname{E}[Y+1] =  \\frac{np + 1}{n+2} = \\frac{(n+2)p - 2p + 1}{n+2} \\\\\n",
        "&= p - \\frac{2p +1}{n +2}\n",
        "\\end{align}\n",
        "$$\n",
        "\n",
        "Thus, $\\hat{Y}_1$ is unbiased, while $\\hat{Y}_2$ as a bias of $- \\frac{2p +1}{n +2}$. Note that in the limit $n \\gg 1$, this bias vanishes.\n",
        "\n",
        "This can be seen at the above graph, since for $n=100$ we can already see that the average value of $\\hat{Y}_2$ also converges to the right solution.\n",
        "\n",
        "\n"
      ],
      "metadata": {
        "id": "q0QwGANDmwmd"
      }
    },
    {
      "cell_type": "code",
      "source": [
        "def get_mse_estim(N_sims, p=0.5):\n",
        "    conv = np.zeros((2, N_sims))\n",
        "    N_samples = np.logspace(1, 6, N_sims).astype(\"int32\")\n",
        "    for i in range(N_sims):\n",
        "        # use small sample_size to make bias more expressive\n",
        "        Y, Y1, Y2 = simulate_bin_sum(N_samples[i], sample_size=10, p=p)\n",
        "        conv[0, i] = ((p - Y1)**2).mean()\n",
        "        conv[1, i] = ((p - Y2)**2).mean()\n",
        "    return N_samples, conv"
      ],
      "metadata": {
        "id": "V0YHxAsspELj"
      },
      "execution_count": 44,
      "outputs": []
    },
    {
      "cell_type": "code",
      "source": [
        "N, mse = get_mse_estim(50)"
      ],
      "metadata": {
        "id": "u0SxuNO9mP1W"
      },
      "execution_count": 40,
      "outputs": []
    },
    {
      "cell_type": "code",
      "source": [
        "plt.scatter(N, mse[0], color=\"blue\", ec=\"k\", marker=\"o\")\n",
        "plt.scatter(N, mse[1], color=\"orange\", ec=\"k\", marker=\"o\")\n",
        "plt.axhline(y=0., color=\"k\", ls=\"--\")\n",
        "plt.xscale(\"log\")"
      ],
      "metadata": {
        "colab": {
          "base_uri": "https://localhost:8080/",
          "height": 269
        },
        "id": "yDoFAaTSqNFC",
        "outputId": "f7166403-cf65-4ecb-a7cf-d41c95f0323a"
      },
      "execution_count": 42,
      "outputs": [
        {
          "output_type": "display_data",
          "data": {
            "text/plain": [
              "<Figure size 432x288 with 1 Axes>"
            ],
            "image/png": "[encoded data removed]"
          },
          "metadata": {
            "needs_background": "light"
          }
        }
      ]
    },
    {
      "cell_type": "markdown",
      "source": [
        "We have confirmed that the MSE of $\\hat{Y}_2$ is less than that of $\\hat{Y}_1$!\n",
        "\n",
        "Indeed, [Wikipedia has a brief discussion on these estimators](https://en.wikipedia.org/wiki/Binomial_distribution#Estimation_of_parameters)\n",
        "\n",
        "Just for fun, run the simulation again but now with $p \\ne 0.5$"
      ],
      "metadata": {
        "id": "z2GGMUUsq5eu"
      }
    },
    {
      "cell_type": "code",
      "source": [
        "N, mse = get_mse_estim(50, p=0.9999)"
      ],
      "metadata": {
        "id": "jyZ58Z2usTyk"
      },
      "execution_count": 49,
      "outputs": []
    },
    {
      "cell_type": "code",
      "source": [
        "plt.scatter(N, mse[0], color=\"blue\", ec=\"k\", marker=\"o\")\n",
        "plt.scatter(N, mse[1], color=\"orange\", ec=\"k\", marker=\"o\")\n",
        "plt.axhline(y=0., color=\"k\", ls=\"--\")\n",
        "plt.xscale(\"log\")"
      ],
      "metadata": {
        "colab": {
          "base_uri": "https://localhost:8080/",
          "height": 269
        },
        "outputId": "ea5060c8-8c23-47c9-92c3-ae19437f5d0d",
        "id": "nU1ShvpesTyz"
      },
      "execution_count": 50,
      "outputs": [
        {
          "output_type": "display_data",
          "data": {
            "text/plain": [
              "<Figure size 432x288 with 1 Axes>"
            ],
            "image/png": "[encoded data removed]"
          },
          "metadata": {
            "needs_background": "light"
          }
        }
      ]
    },
    {
      "cell_type": "markdown",
      "source": [
        "The bias becomes evident as $p \\uparrow$ and we keep $n$ relatively small."
      ],
      "metadata": {
        "id": "zvGj8QcxsiwP"
      }
    }
  ],
  "metadata": {
    "kernelspec": {
      "display_name": "Python 3.9.12 ('base')",
      "language": "python",
      "name": "python3"
    },
    "language_info": {
      "codemirror_mode": {
        "name": "ipython",
        "version": 3
      },
      "file_extension": ".py",
      "mimetype": "text/x-python",
      "name": "python",
      "nbconvert_exporter": "python",
      "pygments_lexer": "ipython3",
      "version": "3.9.12"
    },
    "orig_nbformat": 4,
    "vscode": {
      "interpreter": {
        "hash": "38b48b9bb0fd66222f50553dbd45b31f8d122db08847249e420881a42a934ad8"
      }
    },
    "colab": {
      "provenance": [],
      "collapsed_sections": [],
      "include_colab_link": true
    },
    "accelerator": "GPU"
  },
  "nbformat": 4,
  "nbformat_minor": 0
}