{
 "cells": [
  {
   "cell_type": "code",
   "execution_count": 2,
   "metadata": {},
   "outputs": [],
   "source": [
    "import numpy as np\n",
    "import matplotlib.pyplot as plt"
   ]
  },
  {
   "cell_type": "markdown",
   "metadata": {},
   "source": [
    "1. Sum of two uniformly distributed random variables\n",
    "   \n",
    "   As we expect from theory, the result should be distributed as the convolution of their distributions. In this case, the result is a triangle-shaped distributed, ranging from 0 to 2"
   ]
  },
  {
   "cell_type": "code",
   "execution_count": 9,
   "metadata": {},
   "outputs": [
    {
     "data": {
      "text/plain": [
       "<matplotlib.legend.Legend at 0x1f872c41dc0>"
      ]
     },
     "execution_count": 9,
     "metadata": {},
     "output_type": "execute_result"
    },
    {
     "data": {
      "image/png": "[encoded data removed]",
      "text/plain": [
       "<Figure size 432x288 with 1 Axes>"
      ]
     },
     "metadata": {
      "needs_background": "light"
     },
     "output_type": "display_data"
    }
   ],
   "source": [
    "rng = np.random.default_rng()\n",
    "N = 10000\n",
    "x = rng.uniform(0, 1, N)\n",
    "y = rng.uniform(0, 1, N)\n",
    "\n",
    "plt.hist(x, ec=\"k\", color=\"b\", bins=50, label=\"x\", alpha=0.5, density=True)\n",
    "plt.hist(y, ec=\"k\", color=\"r\", bins=50, label=\"x\", alpha=0.5, density=True)\n",
    "plt.hist(x + y, ec=\"k\", color=\"g\", bins=50, label=\"x + y\", alpha=0.7, density=True)\n",
    "plt.legend()"
   ]
  },
  {
   "cell_type": "markdown",
   "metadata": {},
   "source": [
    "2. Assume normally distributed variables\n",
    "\n",
    "$$\n",
    "X \\sim \\mathcal{N}(\\mu_x, \\sigma_x^2) \\\\\n",
    "Y \\sim \\mathcal{N}(\\mu_y, \\sigma_y^2)\n",
    "$$\n",
    "\n",
    "It is really easy to see that, using the given parameters, $f_X(0) = \\frac{1}{\\sqrt{2\\pi}}$ and $f_Y(0) = \\frac{1}{\\sqrt{2\\pi e}}$"
   ]
  },
  {
   "cell_type": "code",
   "execution_count": 10,
   "metadata": {},
   "outputs": [
    {
     "name": "stdout",
     "output_type": "stream",
     "text": [
      "0.3989422804014327\n",
      "0.24197072451914337\n"
     ]
    }
   ],
   "source": [
    "print(1/np.sqrt(2*np.pi))\n",
    "print(1/np.sqrt(2*np.pi*np.e))"
   ]
  },
  {
   "cell_type": "markdown",
   "metadata": {},
   "source": [
    "Now, we consider a mixture distribution\n",
    "$$\n",
    "f_Z(z) = 0.5 f_X(z) + 0.5 f_Y(z)\n",
    "$$"
   ]
  },
  {
   "cell_type": "code",
   "execution_count": 31,
   "metadata": {},
   "outputs": [],
   "source": [
    "def mixture(N, alpha=0.5, locs=(0, 1), scales=(1, 1)):\n",
    "    rng = np.random.default_rng()\n",
    "    mask = (rng.uniform(size=N) > alpha)\n",
    "    z = np.zeros(N)\n",
    "    z[mask] = rng.normal(loc=locs[0], scale=scales[0], size=z[mask].size)\n",
    "    z[~mask] = rng.normal(loc=locs[1], scale=scales[1], size=z[~mask].size)\n",
    "    return z"
   ]
  },
  {
   "cell_type": "code",
   "execution_count": 40,
   "metadata": {},
   "outputs": [
    {
     "data": {
      "image/png": "[encoded data removed]",
      "text/plain": [
       "<Figure size 432x288 with 1 Axes>"
      ]
     },
     "metadata": {
      "needs_background": "light"
     },
     "output_type": "display_data"
    }
   ],
   "source": [
    "Z = mixture(10000, locs=(-1, 1), scales=(0.5, 0.5))\n",
    "# Z = mixture(10000)\n",
    "\n",
    "_ = plt.hist(Z, ec=\"k\", color=\"b\", bins=50, density=True)"
   ]
  },
  {
   "cell_type": "markdown",
   "metadata": {},
   "source": [
    "How do we calculate the probability if observing $z = 0$?\n",
    "\n",
    "Refresher on conditional probabilities:\n",
    "\n",
    "$$\n",
    "P(A|B) = \\frac{P(A\\cap B)}{P(B)} \\\\\n",
    "P(B|A) = \\frac{P(A\\cap B)}{P(A)}\n",
    "$$\n",
    "\n",
    "Combining both:\n",
    "\n",
    "$$\n",
    "P(A|B) = \\frac{P(B|A)P(A)}{P(B)}\n",
    "$$\n",
    "\n",
    "In general, we also haev $P(B) = P(A \\cap B) + P(A' \\cap B)$, thus:\n",
    "\n",
    "$$\n",
    "\\overbrace{P(A|B)}^{\\text{posterior}} = \\frac{P(B|A)P(A)}{P(A \\cap B) + P(A' \\cap B)} = \\frac{P(B|A)\\overbrace{P(A)}^{\\text{prior}}}{P(B|A)P(A) + P(B|A')P(A')}\n",
    "$$\n",
    "\n",
    "which is **Bayes' Theorem**.\n",
    "\n",
    "Back to our problem:\n",
    "\n",
    "Define binary variable $W \\in \\{ 0,1 \\}$ where $w=0$ means we sample from $f_X$ and $w=1$, from $f_Y$. In our case, $P(w=0)=P(w=1)=0.5$\n",
    "\n",
    "$$\n",
    "P(Z=z|W=0) = f_X(z) \\\\\n",
    "P(Z=z|W=1) = f_Y(z)\n",
    "$$\n",
    "\n",
    "Given that we observed $z=0$, the probability of having sampled from $f_X$ is simply $P(W=0|Z=0)$. Invoking Bayes' Theorem:\n",
    "\n",
    "$$\n",
    "P(W=0|Z=0) = \\frac{P(Z=0|W=0)P(W=0)}{P(Z=0|W=0)P(W=0) + P(Z=0|W=1)P(W=1)} = \\frac{0.5f_X(0)}{0.5f_X(0) + 0.5f_Y(0)} = \\frac{f_X(0)}{f_X(0) + f_Y(0)}\n",
    "$$\n",
    "\n",
    "\n"
   ]
  },
  {
   "cell_type": "markdown",
   "metadata": {},
   "source": [
    "3. Notice that since each distribution have different ranges, the histograms for even weights are such that the area of each mode is the same! This implies the wider $[4, 6]$ distribution having half the height of the narrower $[0, 1]$.\n",
    "\n"
   ]
  },
  {
   "cell_type": "code",
   "execution_count": 57,
   "metadata": {},
   "outputs": [],
   "source": [
    "def uniform_mixture(N, alpha=0.5):\n",
    "    rng = np.random.default_rng()\n",
    "    mask = (rng.uniform(size=N) > alpha)\n",
    "    z = np.zeros(N)\n",
    "    z[mask] = rng.uniform(0, 1, size=z[mask].size)\n",
    "    z[~mask] = rng.uniform(4, 6, size=z[~mask].size)\n",
    "    return z"
   ]
  },
  {
   "cell_type": "code",
   "execution_count": 63,
   "metadata": {},
   "outputs": [
    {
     "data": {
      "image/png": "[encoded data removed]",
      "text/plain": [
       "<Figure size 1080x432 with 10 Axes>"
      ]
     },
     "metadata": {
      "needs_background": "light"
     },
     "output_type": "display_data"
    }
   ],
   "source": [
    "fig, ax = plt.subplots(2, 5, figsize=(15, 6))\n",
    "\n",
    "N = 100000\n",
    "alphas = np.linspace(0, 1, 11)\n",
    "count = 0\n",
    "for i in range(2):\n",
    "    for j in range(5):\n",
    "        alpha = alphas[count]\n",
    "        Z = uniform_mixture(N, alpha)\n",
    "        ax[i, j].hist(Z, label=f\"{alpha:.2f}\", density=True, bins=50, ec=\"k\", color=\"b\") \n",
    "        ax[i, j].legend()\n",
    "        fig.tight_layout()\n",
    "        count += 1"
   ]
  },
  {
   "cell_type": "code",
   "execution_count": null,
   "metadata": {},
   "outputs": [],
   "source": []
  }
 ],
 "metadata": {
  "kernelspec": {
   "display_name": "Python 3.9.12 ('base')",
   "language": "python",
   "name": "python3"
  },
  "language_info": {
   "codemirror_mode": {
    "name": "ipython",
    "version": 3
   },
   "file_extension": ".py",
   "mimetype": "text/x-python",
   "name": "python",
   "nbconvert_exporter": "python",
   "pygments_lexer": "ipython3",
   "version": "3.9.12"
  },
  "orig_nbformat": 4,
  "vscode": {
   "interpreter": {
    "hash": "38b48b9bb0fd66222f50553dbd45b31f8d122db08847249e420881a42a934ad8"
   }
  }
 },
 "nbformat": 4,
 "nbformat_minor": 2
}
