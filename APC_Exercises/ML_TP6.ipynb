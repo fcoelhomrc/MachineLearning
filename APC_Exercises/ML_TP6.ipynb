{
  "nbformat": 4,
  "nbformat_minor": 0,
  "metadata": {
    "colab": {
      "provenance": [],
      "authorship_tag": "ABX9TyOaqAdIJbSngKKLTGP5aTP+",
      "include_colab_link": true
    },
    "kernelspec": {
      "name": "python3",
      "display_name": "Python 3"
    },
    "language_info": {
      "name": "python"
    }
  },
  "cells": [
    {
      "cell_type": "markdown",
      "metadata": {
        "id": "view-in-github",
        "colab_type": "text"
      },
      "source": [
        "<a href=\"https://colab.research.google.com/github/fcoelhomrc/MachineLearning/blob/main/APC_Exercises/ML_TP6.ipynb\" target=\"_parent\"><img src=\"https://colab.research.google.com/assets/colab-badge.svg\" alt=\"Open In Colab\"/></a>"
      ]
    },
    {
      "cell_type": "code",
      "execution_count": null,
      "metadata": {
        "id": "9JCPxk5eBqh2"
      },
      "outputs": [],
      "source": []
    },
    {
      "cell_type": "markdown",
      "source": [
        "# Ensemble learning\n",
        "\n",
        "$K$ classifiers: $h_1, h_2, \\dots, h_K$\n",
        "\n",
        "Ensemble by majority voting\n",
        "\n",
        "Each hypothesis has an error $ɛ$ which are independent of each other\n",
        "\n",
        "Ensemble decision for binary classification $y ∈ \\{ 0, 1 \\}$\n",
        "\n",
        "$$\n",
        "\\begin{cases}\n",
        "\\hat{y} = 1 \\quad &\\textrm{if at least $m$ hypothesis classify $\\hat{y}_i = 1$} \\\\\n",
        "\\hat{y} = 0 \\quad &\\textrm{else} \n",
        "\\end{cases}\n",
        "$$\n",
        "\n",
        "where $M = \\begin{cases} \\frac{K+1}{2} \\quad &\\textrm{if $K$ odd} \\\\ \\frac{K}{2} + 1 \\quad &\\textrm{if $K$ even} \\end{cases}$\n",
        "\n",
        "Notice that in practice the assumption of error independence is too strong, since usually a troublesome example for one classifier is troublesome aswell for another.\n",
        "\n",
        "$$\n",
        "P(\\textrm{ensemble miss}) = P(\\textrm{at least $M$ classifiers miss}) \n",
        "$$\n",
        "\n",
        "Start by computing $P(\\textrm{n classifiers miss})$. \n",
        "This decision can be modeled with a Binomial distribution.\n",
        "$$\n",
        "P(\\textrm{n classifiers miss}) = \\binom{K}{n} ɛ^n (1-ɛ)^{K - n}\n",
        "$$\n",
        "Thus, we conclude\n",
        "$$\n",
        "P(\\textrm{ensemble miss}) = P(\\textrm{at least $m$ classifiers miss})\n",
        "= \\sum_{n=M}^{K} \\binom{K}{n} ɛ^n (1-ɛ)^{K - n}\n",
        "$$\n",
        "\n",
        "Now computing the probability for the specified cases:\n",
        "$$\n",
        "\\begin{align}\n",
        "K = 5, ɛ=0.1 &\\Rightarrow P = 0.0086 \\\\\n",
        "K = 20, ɛ=0.1 &\\Rightarrow P = 7.08 \\times 10^{-7} \\\\\n",
        "K = 5, ɛ=0.4 &\\Rightarrow P = 0.3174 \\\\\n",
        "K = 20, ɛ=0.4 &\\Rightarrow P = 0.1275 \\\\\n",
        "\\end{align}\n",
        "$$\n",
        "We can see that $P$ decreases the more hypothesis we have, and the better they are individually.\n"
      ],
      "metadata": {
        "id": "JfzWz6jZB5gC"
      }
    },
    {
      "cell_type": "code",
      "source": [
        "from scipy.stats import binom"
      ],
      "metadata": {
        "id": "hkonIERiGYft"
      },
      "execution_count": 1,
      "outputs": []
    },
    {
      "cell_type": "code",
      "source": [
        "K = [5, 20]\n",
        "eps = [0.1, 0.4]\n",
        "for k in K:\n",
        "    for ep in eps:\n",
        "        m = (k+1)//2 if k%2 != 0 else k//2 + 1\n",
        "        p = 1 - binom.cdf(m-1, k, ep)\n",
        "        print(f\"{k}, {ep}, {p}\")"
      ],
      "metadata": {
        "colab": {
          "base_uri": "https://localhost:8080/"
        },
        "id": "faLpVzP9GZzL",
        "outputId": "d48dd421-c5b0-4cda-ef4c-a5e620eeab76"
      },
      "execution_count": 4,
      "outputs": [
        {
          "output_type": "stream",
          "name": "stdout",
          "text": [
            "5, 0.1, 0.008560000000000012\n",
            "5, 0.4, 0.31744000000000006\n",
            "20, 0.1, 7.088606331917546e-07\n",
            "20, 0.4, 0.12752124614721672\n"
          ]
        }
      ]
    },
    {
      "cell_type": "markdown",
      "source": [
        "# Neural network\n",
        "\n",
        "Without the activation functions, a neural network gets reduced to some linear model. In this case, we have:\n",
        "\n",
        "$$\n",
        "\\begin{align}\n",
        "\\textrm{output} &= v_0 + v_1(w_0 + w_1 x + w_2 y) + v_2(u_0 + u_1 x + u_2 y) \\\\\n",
        "&= c + bx + ay\n",
        "\\end{align}\n",
        "$$\n",
        "\n",
        "where $c = v_0 + v_1 w_0 + v_2 u_0$, $b = v_1 w_1 + v_2 u_1$, and $a = v_1 w_2 + v_2 u_2$.\n",
        "\n",
        "If on top of that, we trained using MSE as our loss:\n",
        "\n",
        "$$\n",
        "\\mathcal{L}(\\hat{y}, y) = \\sum_i (\\hat{y}_i - y_i)^2\n",
        "$$\n",
        "\n",
        "we arrive at the linear regression model.\n"
      ],
      "metadata": {
        "id": "dbRlk0ZJIlGY"
      }
    }
  ]
}