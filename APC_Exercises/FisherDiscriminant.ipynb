{
  "nbformat": 4,
  "nbformat_minor": 0,
  "metadata": {
    "colab": {
      "provenance": [],
      "collapsed_sections": [
        "ZyW87G871lkQ"
      ],
      "authorship_tag": "ABX9TyM3JC68aVMEHdRSg0cBdEWH",
      "include_colab_link": true
    },
    "kernelspec": {
      "name": "python3",
      "display_name": "Python 3"
    },
    "language_info": {
      "name": "python"
    }
  },
  "cells": [
    {
      "cell_type": "markdown",
      "metadata": {
        "id": "view-in-github",
        "colab_type": "text"
      },
      "source": [
        "<a href=\"https://colab.research.google.com/github/fcoelhomrc/MachineLearning/blob/main/APC_Exercises/FisherDiscriminant.ipynb\" target=\"_parent\"><img src=\"https://colab.research.google.com/assets/colab-badge.svg\" alt=\"Open In Colab\"/></a>"
      ]
    },
    {
      "cell_type": "code",
      "execution_count": 8,
      "metadata": {
        "id": "x_09XVJP1g0n"
      },
      "outputs": [],
      "source": [
        "import numpy as np\n",
        "import matplotlib.pyplot as plt\n",
        "from sklearn.model_selection import train_test_split"
      ]
    },
    {
      "cell_type": "markdown",
      "source": [
        "# [Fisher Discriminant](https://en.wikipedia.org/wiki/Linear_discriminant_analysis#Fisher's_linear_discriminant)\n",
        "\n",
        "Suppose we want to separate feature vectors $x$ into two classes. \n",
        "\n",
        "We can use our training data to compute the means $\\mu_1, \\mu_2$ for each class, and consider the vector $\\mu_1 - \\mu_2$. The normal to this difference defines a hyper-plane, onto which we will then project our features $x \\to wx$.\n",
        "\n",
        "More formally:\n",
        "\n",
        "$$\n",
        "\\bar{x}_j = \\frac{1}{|C_j|} \\sum_{i:\\, x_i \\in C_j} x_i, \\quad j \\in \\{1, 2\\}\n",
        "$$\n",
        "\n",
        "and we want to maximize:\n",
        "\n",
        "$$\n",
        "\\underset{W}{\\max} (W^T \\bar{x}_2 - W^T \\bar{x}_1)^2\n",
        "$$\n",
        "\n",
        "But we can do better than this. This process essentially projects the features into a 1D distribution. So far, we try to have their means as far apart as possible. **If we also minimize the variance of each class distribution**, they will be easier to separate. Therefore, we consider instead\n",
        "\n",
        "$$\n",
        "\\underset{W}{\\max} \\frac{(W^T \\bar{x}_2 - W^T \\bar{x}_1)^2}{S_1^2 + S_2^2} \\equiv \\underset{W}{\\max} J(W)\n",
        "$$\n",
        "\n",
        "where $S_j = \\sum_{i:\\, x_i\\in C_j}(W^T x_i - W_T \\bar{x}_j)$.\n",
        "\n",
        "We can rewrite $J(W)$ as \n",
        "\n",
        "$$\n",
        "J(W) = \\frac{W^T S_B W}{W^T S_W W}\n",
        "$$\n",
        "where $S_B = (\\bar{x}_2 - \\bar{x}_1)(\\bar{x}_2 - \\bar{x}_1)^T$ and \n",
        "$S_W = \\sum_{j\\in\\{1, 2\\}} \\sum_{i:\\, x_i \\in C_j} (x_i - \\bar{x}_j)(x_i - \\bar{x}_j)^T$\n",
        "\n",
        "The solution for this optimization problem is given by\n",
        "\n",
        "$$\n",
        "W^* = \\underset{W}{\\arg\\max} J(W) \\propto S_W^{-1}(\\bar{x}_2 - \\bar{x}_1)\n",
        "$$\n",
        "\n",
        "This defines the best direction for $W$ but does not fixate the position of the decision boundary hyper-plane $W^T x = c$, where $c$ is a unespecified threshold. \n",
        "\n",
        "A rule of thumb for $c$ is to define it as \n",
        "\n",
        "$$\n",
        "c = \\frac{1}{2}W^T (\\bar{x}_1 + \\bar{x}_2)\n",
        "$$\n",
        "\n",
        "The decision is taken by computing:\n",
        "\n",
        "$$\n",
        "\\hat{y} = \n",
        "\\begin{cases}\n",
        "W^T x \\ge c, \\quad \\hat{y} = C_1 \\\\\n",
        "W^T x < c, \\quad \\hat{y} = C_2\n",
        "\\end{cases}\n",
        "$$"
      ],
      "metadata": {
        "id": "ZyW87G871lkQ"
      }
    },
    {
      "cell_type": "code",
      "source": [
        "loaded = np.loadtxt(\"heightWeightData.txt\", delimiter=\",\")\n",
        "y, X = loaded[:, 0], loaded[:, 1:]\n",
        "\n",
        "mask1 = (y == 1)\n",
        "mask2 = (y == 2)\n",
        "X1 = X[mask1] # shape (num_examples_class1, num_features)\n",
        "X2 = X[mask2] \n",
        "\n",
        "m1 = X1.mean(axis=0)[:, np.newaxis] # shape (num_features, 1)\n",
        "m2 = X2.mean(axis=0)[:, np.newaxis]\n",
        "Sb = (m2 - m1) @ (m2 - m1).T\n",
        "Sw = ( \n",
        "        ((X1 - m1.reshape(1, -1)).T @ (X1 - m1.reshape(1, -1))) +\n",
        "        ((X2 - m2.reshape(1, -1)).T @ (X2 - m2.reshape(1, -1)))\n",
        ")\n",
        "w = np.linalg.solve(Sw, m2 - m1)\n",
        "w /= np.linalg.norm(w, ord=2)\n",
        "c = w.T @ (m1 + m2) / 2\n",
        "\n",
        "plt.figure()\n",
        "plt.scatter(X1[:, 0], X1[:, 1], color=\"b\", marker=\"o\", alpha=0.4)\n",
        "plt.scatter(X2[:, 0], X2[:, 1], color=\"r\", marker=\"o\", alpha=0.4)\n",
        "\n",
        "# plot decision boundary\n",
        "x = np.linspace(130, 200, num=1000)\n",
        "y = -w[0, 0] / w[1, 0] * x + c[0, 0] / w[1, 0]\n",
        "plt.plot(x, y, color=\"black\")\n",
        "plt.show()"
      ],
      "metadata": {
        "colab": {
          "base_uri": "https://localhost:8080/",
          "height": 265
        },
        "id": "Q7jvFnfp1o_V",
        "outputId": "933066e0-7492-480a-8561-7a48934d087f"
      },
      "execution_count": 24,
      "outputs": [
        {
          "output_type": "display_data",
          "data": {
            "text/plain": [
              "<Figure size 432x288 with 1 Axes>"
            ],
            "image/png": "[encoded data removed]"
          },
          "metadata": {
            "needs_background": "light"
          }
        }
      ]
    },
    {
      "cell_type": "markdown",
      "source": [
        "# Hinge Loss\n",
        "\n",
        "This loss is defined as \n",
        "\n",
        "$$\n",
        "l(x, y) = \\max{(0, 1 - y f(x))}, \\quad y \\in \\{ -1, 1 \\}\n",
        "$$\n",
        "\n",
        "$$\n",
        "\\mathcal{L}(\\theta) = \\frac{1}{n}\\sum_{i=1}^{n} l(x_i, y_i; \\theta)\n",
        "$$\n",
        "\n",
        "where $f(x; \\theta) = \\theta^T x + \\theta_0$\n",
        "\n",
        "The intuition behind is the following:\n",
        "\n",
        "If we want $f(x)$ to predict the class 1, then if it evaluates to 1 the loss is zero (we don't worry about it) but if it doesn't, we worry about it in proportion to the error. Same thing goes for class -1.\n",
        "\n",
        "The decision is taken according to \n",
        "$$\n",
        "\\hat{y} =\n",
        "\\begin{cases}\n",
        "1, \\,\\, f(x) \\ge 0 \\\\\n",
        "-1, f(x) < 0\n",
        "\\end{cases}\n",
        "$$\n",
        "\n",
        "This forces the classifier not only to classify correctly, but the decision must allow some room.\n",
        "\n",
        "As it is, it doesn't do anything. This is because if we enlarge/reduce this margin the decision boundary does not change.\n",
        "\n",
        "Instead, use regularized Hinge loss:\n",
        "\n",
        "\n",
        "$$\n",
        "\\mathcal{L}(\\theta) = \\frac{1}{n}\\sum_{i=1}^{n} l(x_i, y_i; \\theta) + \\lambda || \\theta ||^2\n",
        "$$\n",
        "\n",
        "This constrains the model in such a way that the margin now changes decision boundary. \n",
        "\n",
        "Usually, we write this as\n",
        "$$\n",
        "\\mathcal{L}(\\theta) = \\frac{C}{n}\\sum_{i=1}^{n} l(x_i, y_i; \\theta) + || \\theta ||^2\n",
        "$$\n",
        "\n",
        "where $C > 0$, which controls regularization strength (smaller $C$, stronger regularization).\n"
      ],
      "metadata": {
        "id": "WIJAaqu7BtGa"
      }
    },
    {
      "cell_type": "code",
      "source": [
        "X = np.array([[0, 1], [1, 0], [0, 0], [2, 2], [2, 3], [3, 2]])\n",
        "y = np.array([-1, -1, 1, 1, 1, 1]).reshape(-1, 1)\n",
        "\n",
        "W = np.array([[2, 1], [-2, -1], [1, 1], [-1, -1], [2, 1]])\n",
        "b = np.array([30, -30, -2, 2, -1]).reshape(-1, 1)"
      ],
      "metadata": {
        "id": "PKB6vNWe8wBj"
      },
      "execution_count": 33,
      "outputs": []
    },
    {
      "cell_type": "code",
      "source": [
        "def hinge(X, y, w, b):\n",
        "    fx = w @ X.T + b\n",
        "    loss = []\n",
        "    for i, label in enumerate(y):\n",
        "        loss.append(float(max(0, 1 - label * fx[i])))\n",
        "    return sum(loss)/len(loss)"
      ],
      "metadata": {
        "id": "3ai4FO_ICXx0"
      },
      "execution_count": 77,
      "outputs": []
    },
    {
      "cell_type": "markdown",
      "source": [],
      "metadata": {
        "id": "q34r5OajHtev"
      }
    },
    {
      "cell_type": "code",
      "source": [
        "results = []\n",
        "for i, w in enumerate(W):\n",
        "    results.append(hinge(X, y, w, b[i]))"
      ],
      "metadata": {
        "id": "rFHIk0XkGtAE"
      },
      "execution_count": 85,
      "outputs": []
    },
    {
      "cell_type": "code",
      "source": [
        "results"
      ],
      "metadata": {
        "colab": {
          "base_uri": "https://localhost:8080/"
        },
        "id": "TNgTjAX4Gu9Y",
        "outputId": "1a3ac8f2-1476-4e18-ef43-cac938523c00"
      },
      "execution_count": 86,
      "outputs": [
        {
          "output_type": "execute_result",
          "data": {
            "text/plain": [
              "[10.833333333333334, 24.166666666666668, 0.5, 2.5, 0.8333333333333334]"
            ]
          },
          "metadata": {},
          "execution_count": 86
        }
      ]
    },
    {
      "cell_type": "code",
      "source": [],
      "metadata": {
        "id": "bn_67YdeJIfp"
      },
      "execution_count": null,
      "outputs": []
    },
    {
      "cell_type": "code",
      "source": [],
      "metadata": {
        "id": "c4ssUiQbJIFG"
      },
      "execution_count": null,
      "outputs": []
    },
    {
      "cell_type": "code",
      "source": [
        "def reg_hinge(X, y, w, b, C=0.01):\n",
        "    fx = w @ X.T + b\n",
        "    loss = []\n",
        "    for i, label in enumerate(y):\n",
        "        l = C * float(max(0, 1 - label * fx[i]))\n",
        "        l += np.linalg.norm(w, ord=2)\n",
        "        loss.append(l)\n",
        "    return sum(loss)/len(loss)"
      ],
      "metadata": {
        "id": "Py3k3IJqIKyN"
      },
      "execution_count": 82,
      "outputs": []
    },
    {
      "cell_type": "code",
      "source": [
        "results = []\n",
        "for i, w in enumerate(W):\n",
        "    results.append(reg_hinge(X, y, w, b[i]))\n",
        "results"
      ],
      "metadata": {
        "colab": {
          "base_uri": "https://localhost:8080/"
        },
        "id": "vHkRy40JIqh_",
        "outputId": "d8700d3a-a998-458d-9212-fbd48d55ab24"
      },
      "execution_count": 83,
      "outputs": [
        {
          "output_type": "execute_result",
          "data": {
            "text/plain": [
              "[2.344401310833123,\n",
              " 2.4777346441664565,\n",
              " 1.419213562373095,\n",
              " 1.4392135623730953,\n",
              " 2.244401310833123]"
            ]
          },
          "metadata": {},
          "execution_count": 83
        }
      ]
    },
    {
      "cell_type": "code",
      "source": [
        "results = []\n",
        "for i, w in enumerate(W):\n",
        "    results.append(reg_hinge(X, y, w, b[i], C=10))\n",
        "results"
      ],
      "metadata": {
        "colab": {
          "base_uri": "https://localhost:8080/"
        },
        "id": "OsFqtkvcI1uz",
        "outputId": "70f16981-db71-446e-aa69-f7c4c3a18d60"
      },
      "execution_count": 84,
      "outputs": [
        {
          "output_type": "execute_result",
          "data": {
            "text/plain": [
              "[110.56940131083314,\n",
              " 243.90273464416643,\n",
              " 6.414213562373093,\n",
              " 26.414213562373096,\n",
              " 10.569401310833122]"
            ]
          },
          "metadata": {},
          "execution_count": 84
        }
      ]
    },
    {
      "cell_type": "code",
      "source": [],
      "metadata": {
        "id": "PhtGDDMOJCVn"
      },
      "execution_count": null,
      "outputs": []
    }
  ]
}