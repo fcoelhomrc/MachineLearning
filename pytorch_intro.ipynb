{
  "nbformat": 4,
  "nbformat_minor": 0,
  "metadata": {
    "colab": {
      "provenance": [],
      "collapsed_sections": [],
      "authorship_tag": "ABX9TyMb2Xv/BRyPSIKby8H6pbcp",
      "include_colab_link": true
    },
    "kernelspec": {
      "name": "python3",
      "display_name": "Python 3"
    },
    "language_info": {
      "name": "python"
    },
    "accelerator": "GPU",
    "widgets": {
      "application/vnd.jupyter.widget-state+json": {
        "7c9bc8cbc1e7447a8db85c743d9fc4ab": {
          "model_module": "@jupyter-widgets/controls",
          "model_name": "HBoxModel",
          "model_module_version": "1.5.0",
          "state": {
            "_dom_classes": [],
            "_model_module": "@jupyter-widgets/controls",
            "_model_module_version": "1.5.0",
            "_model_name": "HBoxModel",
            "_view_count": null,
            "_view_module": "@jupyter-widgets/controls",
            "_view_module_version": "1.5.0",
            "_view_name": "HBoxView",
            "box_style": "",
            "children": [
              "IPY_MODEL_72e99531528b41c19d9bf23f8a19d4be",
              "IPY_MODEL_7f7393771438410db4387b0340cef271",
              "IPY_MODEL_975ddfba258b44a3b40ea26553bb5c35"
            ],
            "layout": "IPY_MODEL_7935866940c84dab9811767be167b2a5"
          }
        },
        "72e99531528b41c19d9bf23f8a19d4be": {
          "model_module": "@jupyter-widgets/controls",
          "model_name": "HTMLModel",
          "model_module_version": "1.5.0",
          "state": {
            "_dom_classes": [],
            "_model_module": "@jupyter-widgets/controls",
            "_model_module_version": "1.5.0",
            "_model_name": "HTMLModel",
            "_view_count": null,
            "_view_module": "@jupyter-widgets/controls",
            "_view_module_version": "1.5.0",
            "_view_name": "HTMLView",
            "description": "",
            "description_tooltip": null,
            "layout": "IPY_MODEL_d073231040bf47cf8e0b172ad8bb6709",
            "placeholder": "​",
            "style": "IPY_MODEL_3700a95012e5468ebb548ed050d0e318",
            "value": "100%"
          }
        },
        "7f7393771438410db4387b0340cef271": {
          "model_module": "@jupyter-widgets/controls",
          "model_name": "FloatProgressModel",
          "model_module_version": "1.5.0",
          "state": {
            "_dom_classes": [],
            "_model_module": "@jupyter-widgets/controls",
            "_model_module_version": "1.5.0",
            "_model_name": "FloatProgressModel",
            "_view_count": null,
            "_view_module": "@jupyter-widgets/controls",
            "_view_module_version": "1.5.0",
            "_view_name": "ProgressView",
            "bar_style": "success",
            "description": "",
            "description_tooltip": null,
            "layout": "IPY_MODEL_a5dc11f2a750446a9b8e1cd535b1a5dd",
            "max": 46830571,
            "min": 0,
            "orientation": "horizontal",
            "style": "IPY_MODEL_36fb9304ce60435b9072577ab7c8b21c",
            "value": 46830571
          }
        },
        "975ddfba258b44a3b40ea26553bb5c35": {
          "model_module": "@jupyter-widgets/controls",
          "model_name": "HTMLModel",
          "model_module_version": "1.5.0",
          "state": {
            "_dom_classes": [],
            "_model_module": "@jupyter-widgets/controls",
            "_model_module_version": "1.5.0",
            "_model_name": "HTMLModel",
            "_view_count": null,
            "_view_module": "@jupyter-widgets/controls",
            "_view_module_version": "1.5.0",
            "_view_name": "HTMLView",
            "description": "",
            "description_tooltip": null,
            "layout": "IPY_MODEL_1310f93517904ceda9f5eb9bd870de4e",
            "placeholder": "​",
            "style": "IPY_MODEL_d6c5726d27ff42339deebdb4ab0331d3",
            "value": " 44.7M/44.7M [00:00&lt;00:00, 193MB/s]"
          }
        },
        "7935866940c84dab9811767be167b2a5": {
          "model_module": "@jupyter-widgets/base",
          "model_name": "LayoutModel",
          "model_module_version": "1.2.0",
          "state": {
            "_model_module": "@jupyter-widgets/base",
            "_model_module_version": "1.2.0",
            "_model_name": "LayoutModel",
            "_view_count": null,
            "_view_module": "@jupyter-widgets/base",
            "_view_module_version": "1.2.0",
            "_view_name": "LayoutView",
            "align_content": null,
            "align_items": null,
            "align_self": null,
            "border": null,
            "bottom": null,
            "display": null,
            "flex": null,
            "flex_flow": null,
            "grid_area": null,
            "grid_auto_columns": null,
            "grid_auto_flow": null,
            "grid_auto_rows": null,
            "grid_column": null,
            "grid_gap": null,
            "grid_row": null,
            "grid_template_areas": null,
            "grid_template_columns": null,
            "grid_template_rows": null,
            "height": null,
            "justify_content": null,
            "justify_items": null,
            "left": null,
            "margin": null,
            "max_height": null,
            "max_width": null,
            "min_height": null,
            "min_width": null,
            "object_fit": null,
            "object_position": null,
            "order": null,
            "overflow": null,
            "overflow_x": null,
            "overflow_y": null,
            "padding": null,
            "right": null,
            "top": null,
            "visibility": null,
            "width": null
          }
        },
        "d073231040bf47cf8e0b172ad8bb6709": {
          "model_module": "@jupyter-widgets/base",
          "model_name": "LayoutModel",
          "model_module_version": "1.2.0",
          "state": {
            "_model_module": "@jupyter-widgets/base",
            "_model_module_version": "1.2.0",
            "_model_name": "LayoutModel",
            "_view_count": null,
            "_view_module": "@jupyter-widgets/base",
            "_view_module_version": "1.2.0",
            "_view_name": "LayoutView",
            "align_content": null,
            "align_items": null,
            "align_self": null,
            "border": null,
            "bottom": null,
            "display": null,
            "flex": null,
            "flex_flow": null,
            "grid_area": null,
            "grid_auto_columns": null,
            "grid_auto_flow": null,
            "grid_auto_rows": null,
            "grid_column": null,
            "grid_gap": null,
            "grid_row": null,
            "grid_template_areas": null,
            "grid_template_columns": null,
            "grid_template_rows": null,
            "height": null,
            "justify_content": null,
            "justify_items": null,
            "left": null,
            "margin": null,
            "max_height": null,
            "max_width": null,
            "min_height": null,
            "min_width": null,
            "object_fit": null,
            "object_position": null,
            "order": null,
            "overflow": null,
            "overflow_x": null,
            "overflow_y": null,
            "padding": null,
            "right": null,
            "top": null,
            "visibility": null,
            "width": null
          }
        },
        "3700a95012e5468ebb548ed050d0e318": {
          "model_module": "@jupyter-widgets/controls",
          "model_name": "DescriptionStyleModel",
          "model_module_version": "1.5.0",
          "state": {
            "_model_module": "@jupyter-widgets/controls",
            "_model_module_version": "1.5.0",
            "_model_name": "DescriptionStyleModel",
            "_view_count": null,
            "_view_module": "@jupyter-widgets/base",
            "_view_module_version": "1.2.0",
            "_view_name": "StyleView",
            "description_width": ""
          }
        },
        "a5dc11f2a750446a9b8e1cd535b1a5dd": {
          "model_module": "@jupyter-widgets/base",
          "model_name": "LayoutModel",
          "model_module_version": "1.2.0",
          "state": {
            "_model_module": "@jupyter-widgets/base",
            "_model_module_version": "1.2.0",
            "_model_name": "LayoutModel",
            "_view_count": null,
            "_view_module": "@jupyter-widgets/base",
            "_view_module_version": "1.2.0",
            "_view_name": "LayoutView",
            "align_content": null,
            "align_items": null,
            "align_self": null,
            "border": null,
            "bottom": null,
            "display": null,
            "flex": null,
            "flex_flow": null,
            "grid_area": null,
            "grid_auto_columns": null,
            "grid_auto_flow": null,
            "grid_auto_rows": null,
            "grid_column": null,
            "grid_gap": null,
            "grid_row": null,
            "grid_template_areas": null,
            "grid_template_columns": null,
            "grid_template_rows": null,
            "height": null,
            "justify_content": null,
            "justify_items": null,
            "left": null,
            "margin": null,
            "max_height": null,
            "max_width": null,
            "min_height": null,
            "min_width": null,
            "object_fit": null,
            "object_position": null,
            "order": null,
            "overflow": null,
            "overflow_x": null,
            "overflow_y": null,
            "padding": null,
            "right": null,
            "top": null,
            "visibility": null,
            "width": null
          }
        },
        "36fb9304ce60435b9072577ab7c8b21c": {
          "model_module": "@jupyter-widgets/controls",
          "model_name": "ProgressStyleModel",
          "model_module_version": "1.5.0",
          "state": {
            "_model_module": "@jupyter-widgets/controls",
            "_model_module_version": "1.5.0",
            "_model_name": "ProgressStyleModel",
            "_view_count": null,
            "_view_module": "@jupyter-widgets/base",
            "_view_module_version": "1.2.0",
            "_view_name": "StyleView",
            "bar_color": null,
            "description_width": ""
          }
        },
        "1310f93517904ceda9f5eb9bd870de4e": {
          "model_module": "@jupyter-widgets/base",
          "model_name": "LayoutModel",
          "model_module_version": "1.2.0",
          "state": {
            "_model_module": "@jupyter-widgets/base",
            "_model_module_version": "1.2.0",
            "_model_name": "LayoutModel",
            "_view_count": null,
            "_view_module": "@jupyter-widgets/base",
            "_view_module_version": "1.2.0",
            "_view_name": "LayoutView",
            "align_content": null,
            "align_items": null,
            "align_self": null,
            "border": null,
            "bottom": null,
            "display": null,
            "flex": null,
            "flex_flow": null,
            "grid_area": null,
            "grid_auto_columns": null,
            "grid_auto_flow": null,
            "grid_auto_rows": null,
            "grid_column": null,
            "grid_gap": null,
            "grid_row": null,
            "grid_template_areas": null,
            "grid_template_columns": null,
            "grid_template_rows": null,
            "height": null,
            "justify_content": null,
            "justify_items": null,
            "left": null,
            "margin": null,
            "max_height": null,
            "max_width": null,
            "min_height": null,
            "min_width": null,
            "object_fit": null,
            "object_position": null,
            "order": null,
            "overflow": null,
            "overflow_x": null,
            "overflow_y": null,
            "padding": null,
            "right": null,
            "top": null,
            "visibility": null,
            "width": null
          }
        },
        "d6c5726d27ff42339deebdb4ab0331d3": {
          "model_module": "@jupyter-widgets/controls",
          "model_name": "DescriptionStyleModel",
          "model_module_version": "1.5.0",
          "state": {
            "_model_module": "@jupyter-widgets/controls",
            "_model_module_version": "1.5.0",
            "_model_name": "DescriptionStyleModel",
            "_view_count": null,
            "_view_module": "@jupyter-widgets/base",
            "_view_module_version": "1.2.0",
            "_view_name": "StyleView",
            "description_width": ""
          }
        }
      }
    }
  },
  "cells": [
    {
      "cell_type": "markdown",
      "metadata": {
        "id": "view-in-github",
        "colab_type": "text"
      },
      "source": [
        "<a href=\"https://colab.research.google.com/github/fcoelhomrc/MachineLearning/blob/main/pytorch_intro.ipynb\" target=\"_parent\"><img src=\"https://colab.research.google.com/assets/colab-badge.svg\" alt=\"Open In Colab\"/></a>"
      ]
    },
    {
      "cell_type": "markdown",
      "source": [
        "# Pytorch Tutorial\n",
        "\n",
        "In this notebook, we will follow the [Pytorch tutorial](https://pytorch.org/tutorials/beginner/blitz/neural_networks_tutorial.html). The goals are simple:\n",
        "\n",
        "- Learn the syntax to implement a training loop\n",
        "- Learn the syntax to implement fully-connected networks and convolutional networks\n",
        "- Revisit the LSMT notebook with this new knowledge"
      ],
      "metadata": {
        "id": "2l3R8G1a0ovX"
      }
    },
    {
      "cell_type": "code",
      "execution_count": 1,
      "metadata": {
        "id": "qAChFE69yMzg"
      },
      "outputs": [],
      "source": [
        "import torch\n",
        "from torchvision.models import resnet18, ResNet18_Weights"
      ]
    },
    {
      "cell_type": "code",
      "source": [
        "model = resnet18(weights=ResNet18_Weights.DEFAULT)\n",
        "data = torch.rand(1, 3, 64, 64)\n",
        "labels = torch.rand(1, 1000)"
      ],
      "metadata": {
        "colab": {
          "base_uri": "https://localhost:8080/",
          "height": 66,
          "referenced_widgets": [
            "7c9bc8cbc1e7447a8db85c743d9fc4ab",
            "72e99531528b41c19d9bf23f8a19d4be",
            "7f7393771438410db4387b0340cef271",
            "975ddfba258b44a3b40ea26553bb5c35",
            "7935866940c84dab9811767be167b2a5",
            "d073231040bf47cf8e0b172ad8bb6709",
            "3700a95012e5468ebb548ed050d0e318",
            "a5dc11f2a750446a9b8e1cd535b1a5dd",
            "36fb9304ce60435b9072577ab7c8b21c",
            "1310f93517904ceda9f5eb9bd870de4e",
            "d6c5726d27ff42339deebdb4ab0331d3"
          ]
        },
        "id": "fhSN-k59ynpf",
        "outputId": "a12f5270-b0db-4f02-8a5b-be65276c71dd"
      },
      "execution_count": 2,
      "outputs": [
        {
          "output_type": "stream",
          "name": "stderr",
          "text": [
            "Downloading: \"https://download.pytorch.org/models/resnet18-f37072fd.pth\" to /root/.cache/torch/hub/checkpoints/resnet18-f37072fd.pth\n"
          ]
        },
        {
          "output_type": "display_data",
          "data": {
            "text/plain": [
              "  0%|          | 0.00/44.7M [00:00<?, ?B/s]"
            ],
            "application/vnd.jupyter.widget-view+json": {
              "version_major": 2,
              "version_minor": 0,
              "model_id": "7c9bc8cbc1e7447a8db85c743d9fc4ab"
            }
          },
          "metadata": {}
        }
      ]
    },
    {
      "cell_type": "code",
      "source": [
        "prediction = model(data) # forward pass"
      ],
      "metadata": {
        "id": "EiLkJI9tyn5O"
      },
      "execution_count": 3,
      "outputs": []
    },
    {
      "cell_type": "code",
      "source": [
        "loss = (prediction - labels).sum()\n",
        "loss.backward() # backward pass"
      ],
      "metadata": {
        "id": "sAeKEd6ryq6G"
      },
      "execution_count": 4,
      "outputs": []
    },
    {
      "cell_type": "code",
      "source": [
        "optim = torch.optim.SGD(model.parameters(), lr=1e-2, momentum=0.9)"
      ],
      "metadata": {
        "id": "YmmR_-nzysdO"
      },
      "execution_count": 5,
      "outputs": []
    },
    {
      "cell_type": "code",
      "source": [
        "optim.step()"
      ],
      "metadata": {
        "id": "rrADH7Ysy6e1"
      },
      "execution_count": 6,
      "outputs": []
    },
    {
      "cell_type": "markdown",
      "source": [
        "The Pytorch paradigm is the following. We use the package `torch.nn` to build neural networks, but their training depends on using the `autograd` implementation."
      ],
      "metadata": {
        "id": "AcGV-Lla10bX"
      }
    },
    {
      "cell_type": "markdown",
      "source": [
        "Let's implement a convolutional network. "
      ],
      "metadata": {
        "id": "Fjf7eaZP2K84"
      }
    },
    {
      "cell_type": "code",
      "source": [
        "import torch\n",
        "import torch.nn as nn\n",
        "import torch.nn.functional as F"
      ],
      "metadata": {
        "id": "TcQfxggz2F9u"
      },
      "execution_count": 7,
      "outputs": []
    },
    {
      "cell_type": "markdown",
      "source": [
        "What is a `torch.nn.functional`? While `torch.nn` offers the class `nn.Module`, with certain attributes (e.g weights) and methods, `torch.nn.functional` offers the functions that perform usual deep learning computations. This allows for a more imperative programming style, since we work with stateless functions mainly."
      ],
      "metadata": {
        "id": "03T-Eg9q2S5G"
      }
    },
    {
      "cell_type": "code",
      "source": [
        "# We always want to subclass nn.Module\n",
        "class Net(nn.Module):\n",
        "    # Here we should initialize every element of our network\n",
        "    # without worry yet about their functionality\n",
        "    def __init__(self):\n",
        "        super(Net, self).__init__()\n",
        "        # 1 input image channel, 6 output channels, 5x5 square convolution\n",
        "        # kernel\n",
        "        self.conv1 = nn.Conv2d(1, 6, 5) # This syntax follows closely Tensorflow\n",
        "        self.conv2 = nn.Conv2d(6, 16, 5)\n",
        "        # an affine operation: y = Wx + b\n",
        "        self.fc1 = nn.Linear(16 * 5 * 5, 120)  # 5*5 from image dimension\n",
        "        self.fc2 = nn.Linear(120, 84)\n",
        "        self.fc3 = nn.Linear(84, 10)\n",
        "\n",
        "    # We define only the forward method, which is called whenever we use Net(*args)\n",
        "    # This is equivalent to implementing __call__ in a vanilla class\n",
        "    # The backward method is defined automatically from this\n",
        "    def forward(self, x):\n",
        "        # Max pooling over a (2, 2) window\n",
        "        x = F.max_pool2d(F.relu(self.conv1(x)), (2, 2))\n",
        "        # If the size is a square, you can specify with a single number\n",
        "        x = F.max_pool2d(F.relu(self.conv2(x)), 2)\n",
        "        x = torch.flatten(x, 1) # flatten all dimensions except the batch dimension\n",
        "        x = F.relu(self.fc1(x))\n",
        "        x = F.relu(self.fc2(x))\n",
        "        x = self.fc3(x)\n",
        "        return x\n",
        "\n",
        "\n",
        "net = Net()\n",
        "print(net)"
      ],
      "metadata": {
        "colab": {
          "base_uri": "https://localhost:8080/"
        },
        "id": "j1E6ajKD2IA1",
        "outputId": "940b23d5-f2f0-4e87-d2fd-0b7b40e123af"
      },
      "execution_count": 8,
      "outputs": [
        {
          "output_type": "stream",
          "name": "stdout",
          "text": [
            "Net(\n",
            "  (conv1): Conv2d(1, 6, kernel_size=(5, 5), stride=(1, 1))\n",
            "  (conv2): Conv2d(6, 16, kernel_size=(5, 5), stride=(1, 1))\n",
            "  (fc1): Linear(in_features=400, out_features=120, bias=True)\n",
            "  (fc2): Linear(in_features=120, out_features=84, bias=True)\n",
            "  (fc3): Linear(in_features=84, out_features=10, bias=True)\n",
            ")\n"
          ]
        }
      ]
    },
    {
      "cell_type": "code",
      "source": [
        "# Retrieve learnable parameters\n",
        "params = list(net.parameters()) \n",
        "print(len(params))\n",
        "print(params[0].size())  # conv1's .weight"
      ],
      "metadata": {
        "colab": {
          "base_uri": "https://localhost:8080/"
        },
        "id": "wcHWVtC94VJc",
        "outputId": "9f8db3f6-a964-4b14-f8de-8bf67616b378"
      },
      "execution_count": 9,
      "outputs": [
        {
          "output_type": "stream",
          "name": "stdout",
          "text": [
            "10\n",
            "torch.Size([6, 1, 5, 5])\n"
          ]
        }
      ]
    },
    {
      "cell_type": "code",
      "source": [
        "type(params[0])"
      ],
      "metadata": {
        "colab": {
          "base_uri": "https://localhost:8080/"
        },
        "id": "UTY-TkEh4mBM",
        "outputId": "70b5c1e2-2619-4870-c3a4-aad36589fdde"
      },
      "execution_count": 10,
      "outputs": [
        {
          "output_type": "execute_result",
          "data": {
            "text/plain": [
              "torch.nn.parameter.Parameter"
            ]
          },
          "metadata": {},
          "execution_count": 10
        }
      ]
    },
    {
      "cell_type": "markdown",
      "source": [
        "Note that there is a `nn.parameter.Parameter` object that is used to store parameters in general."
      ],
      "metadata": {
        "id": "6ahySOw_41o2"
      }
    },
    {
      "cell_type": "markdown",
      "source": [
        "Consider a random input image. Remember that the convention for Pytorch Tensor dimensions is (nSamples x nChannels x Height x Width)"
      ],
      "metadata": {
        "id": "vSfdSWdO6mt1"
      }
    },
    {
      "cell_type": "code",
      "source": [
        "input = torch.randn(1, 1, 32, 32)\n",
        "out = net(input)\n",
        "print(out)"
      ],
      "metadata": {
        "colab": {
          "base_uri": "https://localhost:8080/"
        },
        "id": "KNo7hhYD4y3c",
        "outputId": "9c629776-5036-4415-e574-a98bff4787dd"
      },
      "execution_count": 11,
      "outputs": [
        {
          "output_type": "stream",
          "name": "stdout",
          "text": [
            "tensor([[ 0.0677,  0.0729, -0.0913,  0.0248, -0.0007, -0.1007,  0.0087,  0.0761,\n",
            "         -0.0320,  0.0898]], grad_fn=<AddmmBackward0>)\n"
          ]
        }
      ]
    },
    {
      "cell_type": "code",
      "source": [
        "net.zero_grad() # Resets all gradient values to zero\n",
        "out.backward(torch.randn(1, 10)) # Suppose a random gradient vector and backpropagate"
      ],
      "metadata": {
        "id": "G7vMWe9T6rs8"
      },
      "execution_count": 12,
      "outputs": []
    },
    {
      "cell_type": "code",
      "source": [
        "output = net(input)\n",
        "target = torch.randn(10)  # a dummy target, for example\n",
        "target = target.view(1, -1)  # make it the same shape as output\n",
        "criterion = nn.MSELoss()\n",
        "\n",
        "loss = criterion(output, target)\n",
        "print(loss)"
      ],
      "metadata": {
        "colab": {
          "base_uri": "https://localhost:8080/"
        },
        "id": "xMfzSiF_65zM",
        "outputId": "77e68d8f-c3f8-4834-d00e-32dcb29de6d0"
      },
      "execution_count": 13,
      "outputs": [
        {
          "output_type": "stream",
          "name": "stdout",
          "text": [
            "tensor(0.7214, grad_fn=<MseLossBackward0>)\n"
          ]
        }
      ]
    },
    {
      "cell_type": "markdown",
      "source": [
        "Let us follow `loss` computational graph in the backwards direction."
      ],
      "metadata": {
        "id": "OoXyX_TR7wou"
      }
    },
    {
      "cell_type": "code",
      "source": [
        "print(loss.grad_fn)  # MSELoss\n",
        "print(loss.grad_fn.next_functions[0][0])  # Linear\n",
        "print(loss.grad_fn.next_functions[0][0].next_functions[0][0])  # ReLU"
      ],
      "metadata": {
        "colab": {
          "base_uri": "https://localhost:8080/"
        },
        "id": "hWmojJxg7dgU",
        "outputId": "76dcbd25-f73f-4d9a-cfda-5775db497232"
      },
      "execution_count": 14,
      "outputs": [
        {
          "output_type": "stream",
          "name": "stdout",
          "text": [
            "<MseLossBackward0 object at 0x7fd3847d73d0>\n",
            "<AddmmBackward0 object at 0x7fd3847ccdd0>\n",
            "<AccumulateGrad object at 0x7fd3847d73d0>\n"
          ]
        }
      ]
    },
    {
      "cell_type": "markdown",
      "source": [
        "To backpropagate the error all we have to do is to `loss.backward()`. You need to clear the existing gradients though, else gradients will be accumulated to existing gradients."
      ],
      "metadata": {
        "id": "z3-NYHCV7-_3"
      }
    },
    {
      "cell_type": "code",
      "source": [
        "net.zero_grad()     # zeroes the gradient buffers of all parameters\n",
        "\n",
        "print('conv1.bias.grad before backward')\n",
        "print(net.conv1.bias.grad)\n",
        "\n",
        "loss.backward()\n",
        "\n",
        "print('conv1.bias.grad after backward')\n",
        "print(net.conv1.bias.grad)"
      ],
      "metadata": {
        "colab": {
          "base_uri": "https://localhost:8080/"
        },
        "id": "D1DVoQYW7jjM",
        "outputId": "e6994f9d-b09f-4af0-963a-0fb0458769a5"
      },
      "execution_count": 15,
      "outputs": [
        {
          "output_type": "stream",
          "name": "stdout",
          "text": [
            "conv1.bias.grad before backward\n",
            "tensor([0., 0., 0., 0., 0., 0.])\n",
            "conv1.bias.grad after backward\n",
            "tensor([-0.0013,  0.0055, -0.0101, -0.0117, -0.0063,  0.0095])\n"
          ]
        }
      ]
    },
    {
      "cell_type": "markdown",
      "source": [
        "Read more about the resources available in `torch.nn` [here](https://pytorch.org/docs/stable/nn.html).\n",
        "\n",
        "For updating the weights, i.e training, we have the `torch.optim` package."
      ],
      "metadata": {
        "id": "uTlb9k4G8LRt"
      }
    },
    {
      "cell_type": "code",
      "source": [
        "import torch.optim as optim\n",
        "\n",
        "# create your optimizer\n",
        "optimizer = optim.SGD(net.parameters(), lr=0.01)\n",
        "\n",
        "# in your training loop:\n",
        "optimizer.zero_grad()   # zero the gradient buffers\n",
        "output = net(input)\n",
        "loss = criterion(output, target)\n",
        "loss.backward()\n",
        "optimizer.step()    # Does the update"
      ],
      "metadata": {
        "id": "dYrnQCTB8Drw"
      },
      "execution_count": 16,
      "outputs": []
    },
    {
      "cell_type": "markdown",
      "source": [
        "Note that when we instantiate an optimizer, we link it to our network through `net.parameters()`.\n",
        "\n",
        "Remember to zero the gradient buffers, otherwise the gradient will be *accumulated* to the previous values."
      ],
      "metadata": {
        "id": "sFEdcuvJ8lgM"
      }
    },
    {
      "cell_type": "markdown",
      "source": [
        "# CIFAR10 with PyTorch\n",
        "\n",
        "Specifically for image-based tasks, the package `torchvision` offers data loaders for common datasets (`torchvision.datasets`) and transformers (`torch.utils.data.DataLoader`)."
      ],
      "metadata": {
        "id": "IHxc26lW9ocF"
      }
    },
    {
      "cell_type": "code",
      "source": [
        "import torchvision\n",
        "import torchvision.transforms as transforms"
      ],
      "metadata": {
        "id": "32JrXE4r8gpj"
      },
      "execution_count": 17,
      "outputs": []
    },
    {
      "cell_type": "code",
      "source": [
        "# This remembers the Pipeline architecture of scikit-learn\n",
        "transform = transforms.Compose(\n",
        "    [transforms.ToTensor(),\n",
        "    transforms.Normalize((0.5, 0.5, 0.5), (0.5, 0.5, 0.5))])\n",
        "\n",
        "batch_size = 16\n",
        "\n",
        "# We can retrieve an already split train/test set\n",
        "\n",
        "trainset = torchvision.datasets.CIFAR10(root='./data', train=True,\n",
        "                                        download=True, transform=transform)\n",
        "\n",
        "trainloader = torch.utils.data.DataLoader(trainset, batch_size=batch_size,\n",
        "                                          shuffle=True, num_workers=2)\n",
        "\n",
        "testset = torchvision.datasets.CIFAR10(root='./data', train=False,\n",
        "                                       download=True, transform=transform)\n",
        "\n",
        "testloader = torch.utils.data.DataLoader(testset, batch_size=batch_size,\n",
        "                                         shuffle=False, num_workers=2)\n",
        "\n",
        "classes = ('plane', 'car', 'bird', 'cat',\n",
        "           'deer', 'dog', 'frog', 'horse', 'ship', 'truck')"
      ],
      "metadata": {
        "colab": {
          "base_uri": "https://localhost:8080/"
        },
        "id": "G0Vzw-cu-Pgd",
        "outputId": "7ab86330-b615-420e-dd71-c185dcd42a81"
      },
      "execution_count": 23,
      "outputs": [
        {
          "output_type": "stream",
          "name": "stdout",
          "text": [
            "Files already downloaded and verified\n",
            "Files already downloaded and verified\n"
          ]
        }
      ]
    },
    {
      "cell_type": "code",
      "source": [
        "import matplotlib.pyplot as plt\n",
        "import numpy as np\n",
        "\n",
        "# functions to show an image\n",
        "\n",
        "def imshow(img):\n",
        "    img = img / 2 + 0.5     # unnormalize\n",
        "    npimg = img.numpy()\n",
        "    plt.imshow(np.transpose(npimg, (1, 2, 0)))\n",
        "    plt.show()\n",
        "\n",
        "\n",
        "# get some random training images\n",
        "dataiter = iter(trainloader)\n",
        "images, labels = dataiter.next()\n",
        "\n",
        "# show images\n",
        "imshow(torchvision.utils.make_grid(images))\n",
        "# print labels\n",
        "print(' '.join(f'{classes[labels[j]]}' for j in range(batch_size)))"
      ],
      "metadata": {
        "colab": {
          "base_uri": "https://localhost:8080/",
          "height": 137
        },
        "id": "aWSQDkCk-5xu",
        "outputId": "86cfff10-7187-48bc-f3e7-de9deee01a6d"
      },
      "execution_count": 24,
      "outputs": [
        {
          "output_type": "display_data",
          "data": {
            "text/plain": [
              "<Figure size 432x288 with 1 Axes>"
            ],
            "image/png": "[encoded data removed]"
          },
          "metadata": {
            "needs_background": "light"
          }
        }
      ]
    },
    {
      "cell_type": "markdown",
      "source": [
        "Notice that our `DataLoader` objects need to instantiated as *iterators*, and data batches can be sequentially retrieved with the `.next()` method."
      ],
      "metadata": {
        "id": "sQfAoscG_Pbd"
      }
    },
    {
      "cell_type": "markdown",
      "source": [
        "I decided to implement a juicier CNN instead of just repeating the previous network."
      ],
      "metadata": {
        "id": "4laHnH3POTmo"
      }
    },
    {
      "cell_type": "code",
      "source": [
        "import torch.nn as nn\n",
        "import torch.nn.functional as F\n",
        "\n",
        "class Net(nn.Module):\n",
        "    def __init__(self):\n",
        "        super().__init__()\n",
        "        self.conv1 = nn.Conv2d(3, 8, kernel_size=3, padding=\"same\") # inputs now have 3 channels\n",
        "        self.conv2 = nn.Conv2d(8, 8, kernel_size=3, padding=\"same\")\n",
        "        self.pool = nn.MaxPool2d(2, 2)\n",
        "        self.conv3 = nn.Conv2d(8, 16, kernel_size=3, padding=\"same\")\n",
        "        self.conv4 = nn.Conv2d(16, 16, kernel_size=3, padding=\"same\")\n",
        "        self.fc1 = nn.Linear(16*8*8, 128) # Remember we will MaxPool twice, but padding conserves input shape otherwise\n",
        "        self.fc2 = nn.Linear(128, 64)\n",
        "        self.fc3 = nn.Linear(64, 10)\n",
        "\n",
        "    def forward(self, x):\n",
        "        x = F.relu(self.conv1(x))\n",
        "        x = self.pool(F.relu(self.conv2(x))) # Two convolutional layers, then MaxPool\n",
        "        x = F.relu(self.conv3(x))\n",
        "        x = self.pool(F.relu(self.conv4(x))) # Two convolutional layers, then MaxPool\n",
        "        x = torch.flatten(x, 1) # flatten all dimensions except batch\n",
        "        x = F.relu(self.fc1(x))\n",
        "        x = F.relu(self.fc2(x))\n",
        "        x = F.softmax(self.fc3(x), dim=1) # Softmax at output for multi-class prediction\n",
        "        return x\n",
        "\n",
        "\n",
        "net = Net()\n",
        "print(net)"
      ],
      "metadata": {
        "colab": {
          "base_uri": "https://localhost:8080/"
        },
        "id": "Hyyp8ZEt-8pC",
        "outputId": "6ade6cec-4e23-44e8-b4a0-1e5a73e7b2be"
      },
      "execution_count": 76,
      "outputs": [
        {
          "output_type": "stream",
          "name": "stdout",
          "text": [
            "Net(\n",
            "  (conv1): Conv2d(3, 8, kernel_size=(3, 3), stride=(1, 1), padding=same)\n",
            "  (conv2): Conv2d(8, 8, kernel_size=(3, 3), stride=(1, 1), padding=same)\n",
            "  (pool): MaxPool2d(kernel_size=2, stride=2, padding=0, dilation=1, ceil_mode=False)\n",
            "  (conv3): Conv2d(8, 16, kernel_size=(3, 3), stride=(1, 1), padding=same)\n",
            "  (conv4): Conv2d(16, 16, kernel_size=(3, 3), stride=(1, 1), padding=same)\n",
            "  (fc1): Linear(in_features=1024, out_features=128, bias=True)\n",
            "  (fc2): Linear(in_features=128, out_features=64, bias=True)\n",
            "  (fc3): Linear(in_features=64, out_features=10, bias=True)\n",
            ")\n"
          ]
        }
      ]
    },
    {
      "cell_type": "markdown",
      "source": [
        "Notice that when we create the layers, **we need to properly declare each input/output shape!** PyTorch doesn't infer the input shape from the previous output shape, like Tensorflow's `Sequential` API."
      ],
      "metadata": {
        "id": "JDzavPKG_0n7"
      }
    },
    {
      "cell_type": "code",
      "source": [
        "import torch.optim as optim\n",
        "\n",
        "criterion = nn.CrossEntropyLoss()\n",
        "optimizer = optim.SGD(net.parameters(), lr=0.001, momentum=0.9)"
      ],
      "metadata": {
        "id": "b_NPSyqIADID"
      },
      "execution_count": 44,
      "outputs": []
    },
    {
      "cell_type": "markdown",
      "source": [
        "We will now implement the **stardard training cycle, PyTorch-style.**"
      ],
      "metadata": {
        "id": "6Hq4P6UtALA1"
      }
    },
    {
      "cell_type": "code",
      "source": [
        "from tqdm import tqdm\n",
        "\n",
        "n_epochs = 10\n",
        "history = []\n",
        "for epoch in range(n_epochs):  # loop over the dataset multiple times\n",
        "\n",
        "    # Set up a progress bar, Tensforflow-style\n",
        "    with tqdm(trainloader, unit=\"batch\") as tepoch:\n",
        "\n",
        "        running_loss = 0.0\n",
        "        running_accuracy = 0.0\n",
        "        # load each minibatch\n",
        "        for data, labels in tepoch:\n",
        "\n",
        "            tepoch.set_description(f\"Epoch {epoch}\") # Customize progress bar\n",
        "\n",
        "            # zero the parameter gradients\n",
        "            optimizer.zero_grad()\n",
        "\n",
        "            # forward + backward + optimize\n",
        "            outputs = net(data)\n",
        "            loss = criterion(outputs, labels)\n",
        "            loss.backward()\n",
        "            optimizer.step()\n",
        "\n",
        "            # compute metrics\n",
        "            predictions = outputs.argmax(dim=1, keepdim=True).squeeze() # see MD cell below\n",
        "            correct = (predictions == labels).sum().item()\n",
        "            accuracy = correct / batch_size\n",
        "\n",
        "            # save statistics for plotting\n",
        "            running_loss += loss.item()\n",
        "            running_accuracy += accuracy\n",
        "\n",
        "            tepoch.set_postfix(loss=loss.item(), accuracy=accuracy) # Display metrics\n",
        "    \n",
        "        # Save statistics for each epoch\n",
        "        running_accuracy /= batch_size\n",
        "        history.append([running_loss, running_accuracy])\n",
        "\n",
        "print('Finished Training')"
      ],
      "metadata": {
        "colab": {
          "base_uri": "https://localhost:8080/"
        },
        "id": "PjoAomK7AKgy",
        "outputId": "2bc31c54-36de-4532-a85d-7e4c3c16c22a"
      },
      "execution_count": 48,
      "outputs": [
        {
          "output_type": "stream",
          "name": "stderr",
          "text": [
            "Epoch 0: 100%|██████████| 3125/3125 [01:03<00:00, 49.26batch/s, accuracy=0.0625, loss=2.3]\n",
            "Epoch 1: 100%|██████████| 3125/3125 [01:04<00:00, 48.30batch/s, accuracy=0, loss=2.3]\n",
            "Epoch 2: 100%|██████████| 3125/3125 [01:03<00:00, 48.83batch/s, accuracy=0.188, loss=2.25]\n",
            "Epoch 3: 100%|██████████| 3125/3125 [01:01<00:00, 50.64batch/s, accuracy=0.125, loss=2.27]\n",
            "Epoch 4: 100%|██████████| 3125/3125 [01:02<00:00, 50.26batch/s, accuracy=0.312, loss=2.15]\n",
            "Epoch 5: 100%|██████████| 3125/3125 [01:03<00:00, 49.53batch/s, accuracy=0.375, loss=2.09]\n",
            "Epoch 6: 100%|██████████| 3125/3125 [01:01<00:00, 50.68batch/s, accuracy=0.375, loss=2.1]\n",
            "Epoch 7: 100%|██████████| 3125/3125 [01:00<00:00, 51.28batch/s, accuracy=0.5, loss=2]\n",
            "Epoch 8: 100%|██████████| 3125/3125 [01:01<00:00, 50.55batch/s, accuracy=0.375, loss=2.13]\n",
            "Epoch 9: 100%|██████████| 3125/3125 [01:01<00:00, 50.62batch/s, accuracy=0.438, loss=2.02]"
          ]
        },
        {
          "output_type": "stream",
          "name": "stdout",
          "text": [
            "Finished Training\n"
          ]
        },
        {
          "output_type": "stream",
          "name": "stderr",
          "text": [
            "\n"
          ]
        }
      ]
    },
    {
      "cell_type": "markdown",
      "source": [
        "A note about the previous code.\n",
        "\n",
        "Our model predicts each class probability, but we want the predicted labels in order to compare with the target. \n",
        "\n",
        "This can be done by retrieving the most probable label. This is neatly done by calling the `np.argmax` function, along the 10 output values for each sample in the minibatch (thus `axis=1`).\n",
        "\n",
        "Finally, `torch.squeeze` is a method that removes every unit dimension, e.g $(1, N, D, 1) \\to (N, D)$. \n",
        "\n",
        "Also, `torch.item` returns a Tensor as a regular Python number.\n",
        "\n",
        "More on the `tqdm` usage [here](https://adamoudad.github.io/posts/progress_bar_with_tqdm/)."
      ],
      "metadata": {
        "id": "X7TrLJ1nB7vF"
      }
    },
    {
      "cell_type": "code",
      "source": [
        "history_arr = np.array(history).T\n",
        "print(history_arr.shape)"
      ],
      "metadata": {
        "colab": {
          "base_uri": "https://localhost:8080/"
        },
        "id": "7x8kTufeDVub",
        "outputId": "381d0ef1-a6e6-4f43-d92d-4fce524ff356"
      },
      "execution_count": 51,
      "outputs": [
        {
          "output_type": "stream",
          "name": "stdout",
          "text": [
            "(2, 10)\n"
          ]
        }
      ]
    },
    {
      "cell_type": "code",
      "source": [
        "fig, ax = plt.subplots(2, 1, figsize=(8, 5))\n",
        "ax[0].plot([x for x in range(n_epochs)], history_arr[0], label=\"loss\",\n",
        "           marker=\"o\", mec=\"k\")\n",
        "ax[1].plot([x for x in range(n_epochs)], history_arr[1], label=\"accuracy\",\n",
        "           marker=\"o\", mec=\"k\")\n",
        "for i in range(2):\n",
        "    ax[i].legend()\n",
        "    ax[i].grid()\n",
        "fig.suptitle(\"Training history\")"
      ],
      "metadata": {
        "colab": {
          "base_uri": "https://localhost:8080/",
          "height": 373
        },
        "id": "3c-H50YJMzNw",
        "outputId": "1893e89e-b7b9-4080-ad45-604f0137ee63"
      },
      "execution_count": 61,
      "outputs": [
        {
          "output_type": "execute_result",
          "data": {
            "text/plain": [
              "Text(0.5, 0.98, 'Training history')"
            ]
          },
          "metadata": {},
          "execution_count": 61
        },
        {
          "output_type": "display_data",
          "data": {
            "text/plain": [
              "<Figure size 576x360 with 2 Axes>"
            ],
            "image/png": "[encoded data removed]"
          },
          "metadata": {
            "needs_background": "light"
          }
        }
      ]
    },
    {
      "cell_type": "markdown",
      "source": [
        "Save our model..."
      ],
      "metadata": {
        "id": "MxSXWghKOj_Z"
      }
    },
    {
      "cell_type": "code",
      "source": [
        "PATH = \"./cifar_net.pth\"\n",
        "torch.save(net.state_dict(), PATH)"
      ],
      "metadata": {
        "id": "juOa-47YNIBg"
      },
      "execution_count": 63,
      "outputs": []
    },
    {
      "cell_type": "markdown",
      "source": [
        "...then load it."
      ],
      "metadata": {
        "id": "PgEhFZ0MOlTi"
      }
    },
    {
      "cell_type": "code",
      "source": [
        "my_net = Net()\n",
        "my_net.load_state_dict(torch.load(PATH))"
      ],
      "metadata": {
        "colab": {
          "base_uri": "https://localhost:8080/"
        },
        "id": "G3MMBDrHOmtK",
        "outputId": "9d32f730-de78-47a6-a35d-a635e7df9dcb"
      },
      "execution_count": 64,
      "outputs": [
        {
          "output_type": "execute_result",
          "data": {
            "text/plain": [
              "<All keys matched successfully>"
            ]
          },
          "metadata": {},
          "execution_count": 64
        }
      ]
    },
    {
      "cell_type": "markdown",
      "source": [
        "Now it remains to test our model"
      ],
      "metadata": {
        "id": "u6enmtHaOPUh"
      }
    },
    {
      "cell_type": "code",
      "source": [
        "dataiter = iter(testloader)\n",
        "images, labels = dataiter.next()\n",
        "\n",
        "# print images\n",
        "imshow(torchvision.utils.make_grid(images))\n",
        "print('GroundTruth: ', ' '.join(f'{classes[labels[j]]:5s}' for j in range(4)))"
      ],
      "metadata": {
        "colab": {
          "base_uri": "https://localhost:8080/",
          "height": 154
        },
        "id": "n62LufQQN9fX",
        "outputId": "bd62e550-3115-47e9-c9eb-c9dd7f8799c6"
      },
      "execution_count": 65,
      "outputs": [
        {
          "output_type": "display_data",
          "data": {
            "text/plain": [
              "<Figure size 432x288 with 1 Axes>"
            ],
            "image/png": "[encoded data removed]"
          },
          "metadata": {
            "needs_background": "light"
          }
        },
        {
          "output_type": "stream",
          "name": "stdout",
          "text": [
            "GroundTruth:  cat   ship  ship  plane\n"
          ]
        }
      ]
    },
    {
      "cell_type": "code",
      "source": [
        "outputs = my_net(images)"
      ],
      "metadata": {
        "id": "7igYrR6TOhzk"
      },
      "execution_count": 66,
      "outputs": []
    },
    {
      "cell_type": "code",
      "source": [
        "_, predicted = torch.max(outputs, 1)\n",
        "print('Predicted: ', ' '.join(f'{classes[predicted[j]]:5s}'\n",
        "                              for j in range(4)))"
      ],
      "metadata": {
        "colab": {
          "base_uri": "https://localhost:8080/"
        },
        "id": "r5CM4UzxOzJQ",
        "outputId": "0cd0fa41-3904-49cb-901d-7abf22d8c66a"
      },
      "execution_count": 68,
      "outputs": [
        {
          "output_type": "stream",
          "name": "stdout",
          "text": [
            "Predicted:  cat   ship  ship  ship \n"
          ]
        }
      ]
    },
    {
      "cell_type": "markdown",
      "source": [
        "Now run the above for the complete dataset."
      ],
      "metadata": {
        "id": "IKoNVzV_O9bK"
      }
    },
    {
      "cell_type": "code",
      "source": [
        "correct = 0\n",
        "total = 0\n",
        "# since we're not training, we don't need to calculate the gradients for our outputs\n",
        "with torch.no_grad():\n",
        "    for data in testloader:\n",
        "        images, labels = data\n",
        "        # calculate outputs by running images through the network\n",
        "        outputs = my_net(images)\n",
        "        # the class with the highest energy is what we choose as prediction\n",
        "        _, predicted = torch.max(outputs.data, 1)\n",
        "        total += labels.size(0)\n",
        "        correct += (predicted == labels).sum().item()\n",
        "\n",
        "print(f'Accuracy of the network on the 10000 test images: {100 * correct // total} %')"
      ],
      "metadata": {
        "colab": {
          "base_uri": "https://localhost:8080/"
        },
        "id": "nZyxDLTsO41o",
        "outputId": "303c2369-8b54-437d-9f0e-0bf6c230719b"
      },
      "execution_count": 70,
      "outputs": [
        {
          "output_type": "stream",
          "name": "stdout",
          "text": [
            "Accuracy of the network on the 10000 test images: 38 %\n"
          ]
        }
      ]
    },
    {
      "cell_type": "markdown",
      "source": [
        "This is better than random guessing (10% accuracy)."
      ],
      "metadata": {
        "id": "wtyVKFtKPJPK"
      }
    },
    {
      "cell_type": "code",
      "source": [
        "# prepare to count predictions for each class\n",
        "correct_pred = {classname: 0 for classname in classes}\n",
        "total_pred = {classname: 0 for classname in classes}\n",
        "\n",
        "# again no gradients needed\n",
        "with torch.no_grad():\n",
        "    for data in testloader:\n",
        "        images, labels = data\n",
        "        outputs = my_net(images)\n",
        "        _, predictions = torch.max(outputs, 1)\n",
        "        # collect the correct predictions for each class\n",
        "        for label, prediction in zip(labels, predictions):\n",
        "            if label == prediction:\n",
        "                correct_pred[classes[label]] += 1\n",
        "            total_pred[classes[label]] += 1\n",
        "\n",
        "\n",
        "# print accuracy for each class\n",
        "for classname, correct_count in correct_pred.items():\n",
        "    accuracy = 100 * float(correct_count) / total_pred[classname]\n",
        "    print(f'Accuracy for class: {classname:5s} is {accuracy:.1f} %')\n"
      ],
      "metadata": {
        "colab": {
          "base_uri": "https://localhost:8080/"
        },
        "id": "4cGV3e27O_lX",
        "outputId": "c52d0819-f3e6-4d69-d6cb-e72886753146"
      },
      "execution_count": 80,
      "outputs": [
        {
          "output_type": "stream",
          "name": "stdout",
          "text": [
            "Accuracy for class: plane is 46.1 %\n",
            "Accuracy for class: car   is 39.8 %\n",
            "Accuracy for class: bird  is 7.5 %\n",
            "Accuracy for class: cat   is 26.3 %\n",
            "Accuracy for class: deer  is 15.2 %\n",
            "Accuracy for class: dog   is 26.8 %\n",
            "Accuracy for class: frog  is 83.6 %\n",
            "Accuracy for class: horse is 41.0 %\n",
            "Accuracy for class: ship  is 57.0 %\n",
            "Accuracy for class: truck is 37.3 %\n"
          ]
        }
      ]
    },
    {
      "cell_type": "markdown",
      "source": [
        "Today, we learnt that frogs are simple animals, but birds are to be seen as utterly intricate machinery from nature."
      ],
      "metadata": {
        "id": "BzKHQE-DPVFJ"
      }
    }
  ]
}