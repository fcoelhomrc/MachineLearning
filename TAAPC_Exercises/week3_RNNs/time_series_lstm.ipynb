{
  "cells": [
    {
      "cell_type": "markdown",
      "metadata": {
        "id": "view-in-github",
        "colab_type": "text"
      },
      "source": [
        "<a href=\"https://colab.research.google.com/github/fcoelhomrc/MachineLearning/blob/main/TAAPC_Exercises/week3_RNNs/time_series_lstm.ipynb\" target=\"_parent\"><img src=\"https://colab.research.google.com/assets/colab-badge.svg\" alt=\"Open In Colab\"/></a>"
      ]
    },
    {
      "cell_type": "markdown",
      "id": "93ba88fd",
      "metadata": {
        "id": "93ba88fd"
      },
      "source": [
        "# Time series forecasting\n",
        "\n",
        "In this notebook, we will use LSTMs for weather forecasting.\n",
        "\n",
        "The notebook is based on this TensorFlow tutorial: https://www.tensorflow.org/tutorials/structured_data/time_series. However, here we will use [PyTorch](https://pytorch.org/) to implement our model.\n",
        "\n",
        "The dataset we use here was recorded by the [Max Planck Institute for Biogeochemistry](https://www.bgc-jena.mpg.de/). This dataset contains 14 different features such as air temperature, atmospheric pressure, and humidity. These were collected every 10 minutes, beginning in 2003. For efficiency, you will use only the data collected between 2009 and 2016. This section of the dataset was prepared by François Chollet for his book [Deep Learning with Python](https://www.manning.com/books/deep-learning-with-python)."
      ]
    },
    {
      "cell_type": "code",
      "execution_count": null,
      "id": "2dd2ee0d",
      "metadata": {
        "id": "2dd2ee0d"
      },
      "outputs": [],
      "source": [
        "import os\n",
        "import random\n",
        "\n",
        "import torch\n",
        "import matplotlib as mpl\n",
        "import matplotlib.pyplot as plt\n",
        "import numpy as np\n",
        "import pandas as pd\n",
        "pd.options.mode.chained_assignment = None\n",
        "import seaborn as sns\n",
        "from tqdm import tqdm"
      ]
    },
    {
      "cell_type": "code",
      "execution_count": null,
      "id": "e8c3b7c6",
      "metadata": {
        "id": "e8c3b7c6"
      },
      "outputs": [],
      "source": [
        "# Download the data\n",
        "import requests\n",
        "import zipfile\n",
        "response = requests.get('https://storage.googleapis.com/tensorflow/tf-keras-datasets/jena_climate_2009_2016.csv.zip')\n",
        "open('weather_dataset.zip', 'wb').write(response.content)\n",
        "with zipfile.ZipFile('weather_dataset.zip', 'r') as zip_ref:\n",
        "    zip_ref.extractall('./')\n",
        "df = pd.read_csv('jena_climate_2009_2016.csv')"
      ]
    },
    {
      "cell_type": "code",
      "execution_count": null,
      "id": "4097cac2",
      "metadata": {
        "colab": {
          "base_uri": "https://localhost:8080/",
          "height": 659
        },
        "id": "4097cac2",
        "outputId": "0158814e-6a2e-407c-8f47-6844da8e17f8"
      },
      "outputs": [
        {
          "output_type": "execute_result",
          "data": {
            "text/plain": [
              "                  Date Time  p (mbar)  T (degC)  Tpot (K)  Tdew (degC)  \\\n",
              "0       01.01.2009 00:10:00    996.52     -8.02    265.40        -8.90   \n",
              "1       01.01.2009 00:20:00    996.57     -8.41    265.01        -9.28   \n",
              "2       01.01.2009 00:30:00    996.53     -8.51    264.91        -9.31   \n",
              "3       01.01.2009 00:40:00    996.51     -8.31    265.12        -9.07   \n",
              "4       01.01.2009 00:50:00    996.51     -8.27    265.15        -9.04   \n",
              "...                     ...       ...       ...       ...          ...   \n",
              "420546  31.12.2016 23:20:00   1000.07     -4.05    269.10        -8.13   \n",
              "420547  31.12.2016 23:30:00    999.93     -3.35    269.81        -8.06   \n",
              "420548  31.12.2016 23:40:00    999.82     -3.16    270.01        -8.21   \n",
              "420549  31.12.2016 23:50:00    999.81     -4.23    268.94        -8.53   \n",
              "420550  01.01.2017 00:00:00    999.82     -4.82    268.36        -8.42   \n",
              "\n",
              "        rh (%)  VPmax (mbar)  VPact (mbar)  VPdef (mbar)  sh (g/kg)  \\\n",
              "0        93.30          3.33          3.11          0.22       1.94   \n",
              "1        93.40          3.23          3.02          0.21       1.89   \n",
              "2        93.90          3.21          3.01          0.20       1.88   \n",
              "3        94.20          3.26          3.07          0.19       1.92   \n",
              "4        94.10          3.27          3.08          0.19       1.92   \n",
              "...        ...           ...           ...           ...        ...   \n",
              "420546   73.10          4.52          3.30          1.22       2.06   \n",
              "420547   69.71          4.77          3.32          1.44       2.07   \n",
              "420548   67.91          4.84          3.28          1.55       2.05   \n",
              "420549   71.80          4.46          3.20          1.26       1.99   \n",
              "420550   75.70          4.27          3.23          1.04       2.01   \n",
              "\n",
              "        H2OC (mmol/mol)  rho (g/m**3)  wv (m/s)  max. wv (m/s)  wd (deg)  \n",
              "0                  3.12       1307.75      1.03           1.75     152.3  \n",
              "1                  3.03       1309.80      0.72           1.50     136.1  \n",
              "2                  3.02       1310.24      0.19           0.63     171.6  \n",
              "3                  3.08       1309.19      0.34           0.50     198.0  \n",
              "4                  3.09       1309.00      0.32           0.63     214.3  \n",
              "...                 ...           ...       ...            ...       ...  \n",
              "420546             3.30       1292.98      0.67           1.52     240.0  \n",
              "420547             3.32       1289.44      1.14           1.92     234.3  \n",
              "420548             3.28       1288.39      1.08           2.00     215.2  \n",
              "420549             3.20       1293.56      1.49           2.16     225.8  \n",
              "420550             3.23       1296.38      1.23           1.96     184.9  \n",
              "\n",
              "[420551 rows x 15 columns]"
            ],
            "text/html": [
              "\n",
              "  <div id=\"df-7d735df0-da32-41d7-af39-18383168dc0a\">\n",
              "    <div class=\"colab-df-container\">\n",
              "      <div>\n",
              "<style scoped>\n",
              "    .dataframe tbody tr th:only-of-type {\n",
              "        vertical-align: middle;\n",
              "    }\n",
              "\n",
              "    .dataframe tbody tr th {\n",
              "        vertical-align: top;\n",
              "    }\n",
              "\n",
              "    .dataframe thead th {\n",
              "        text-align: right;\n",
              "    }\n",
              "</style>\n",
              "<table border=\"1\" class=\"dataframe\">\n",
              "  <thead>\n",
              "    <tr style=\"text-align: right;\">\n",
              "      <th></th>\n",
              "      <th>Date Time</th>\n",
              "      <th>p (mbar)</th>\n",
              "      <th>T (degC)</th>\n",
              "      <th>Tpot (K)</th>\n",
              "      <th>Tdew (degC)</th>\n",
              "      <th>rh (%)</th>\n",
              "      <th>VPmax (mbar)</th>\n",
              "      <th>VPact (mbar)</th>\n",
              "      <th>VPdef (mbar)</th>\n",
              "      <th>sh (g/kg)</th>\n",
              "      <th>H2OC (mmol/mol)</th>\n",
              "      <th>rho (g/m**3)</th>\n",
              "      <th>wv (m/s)</th>\n",
              "      <th>max. wv (m/s)</th>\n",
              "      <th>wd (deg)</th>\n",
              "    </tr>\n",
              "  </thead>\n",
              "  <tbody>\n",
              "    <tr>\n",
              "      <th>0</th>\n",
              "      <td>01.01.2009 00:10:00</td>\n",
              "      <td>996.52</td>\n",
              "      <td>-8.02</td>\n",
              "      <td>265.40</td>\n",
              "      <td>-8.90</td>\n",
              "      <td>93.30</td>\n",
              "      <td>3.33</td>\n",
              "      <td>3.11</td>\n",
              "      <td>0.22</td>\n",
              "      <td>1.94</td>\n",
              "      <td>3.12</td>\n",
              "      <td>1307.75</td>\n",
              "      <td>1.03</td>\n",
              "      <td>1.75</td>\n",
              "      <td>152.3</td>\n",
              "    </tr>\n",
              "    <tr>\n",
              "      <th>1</th>\n",
              "      <td>01.01.2009 00:20:00</td>\n",
              "      <td>996.57</td>\n",
              "      <td>-8.41</td>\n",
              "      <td>265.01</td>\n",
              "      <td>-9.28</td>\n",
              "      <td>93.40</td>\n",
              "      <td>3.23</td>\n",
              "      <td>3.02</td>\n",
              "      <td>0.21</td>\n",
              "      <td>1.89</td>\n",
              "      <td>3.03</td>\n",
              "      <td>1309.80</td>\n",
              "      <td>0.72</td>\n",
              "      <td>1.50</td>\n",
              "      <td>136.1</td>\n",
              "    </tr>\n",
              "    <tr>\n",
              "      <th>2</th>\n",
              "      <td>01.01.2009 00:30:00</td>\n",
              "      <td>996.53</td>\n",
              "      <td>-8.51</td>\n",
              "      <td>264.91</td>\n",
              "      <td>-9.31</td>\n",
              "      <td>93.90</td>\n",
              "      <td>3.21</td>\n",
              "      <td>3.01</td>\n",
              "      <td>0.20</td>\n",
              "      <td>1.88</td>\n",
              "      <td>3.02</td>\n",
              "      <td>1310.24</td>\n",
              "      <td>0.19</td>\n",
              "      <td>0.63</td>\n",
              "      <td>171.6</td>\n",
              "    </tr>\n",
              "    <tr>\n",
              "      <th>3</th>\n",
              "      <td>01.01.2009 00:40:00</td>\n",
              "      <td>996.51</td>\n",
              "      <td>-8.31</td>\n",
              "      <td>265.12</td>\n",
              "      <td>-9.07</td>\n",
              "      <td>94.20</td>\n",
              "      <td>3.26</td>\n",
              "      <td>3.07</td>\n",
              "      <td>0.19</td>\n",
              "      <td>1.92</td>\n",
              "      <td>3.08</td>\n",
              "      <td>1309.19</td>\n",
              "      <td>0.34</td>\n",
              "      <td>0.50</td>\n",
              "      <td>198.0</td>\n",
              "    </tr>\n",
              "    <tr>\n",
              "      <th>4</th>\n",
              "      <td>01.01.2009 00:50:00</td>\n",
              "      <td>996.51</td>\n",
              "      <td>-8.27</td>\n",
              "      <td>265.15</td>\n",
              "      <td>-9.04</td>\n",
              "      <td>94.10</td>\n",
              "      <td>3.27</td>\n",
              "      <td>3.08</td>\n",
              "      <td>0.19</td>\n",
              "      <td>1.92</td>\n",
              "      <td>3.09</td>\n",
              "      <td>1309.00</td>\n",
              "      <td>0.32</td>\n",
              "      <td>0.63</td>\n",
              "      <td>214.3</td>\n",
              "    </tr>\n",
              "    <tr>\n",
              "      <th>...</th>\n",
              "      <td>...</td>\n",
              "      <td>...</td>\n",
              "      <td>...</td>\n",
              "      <td>...</td>\n",
              "      <td>...</td>\n",
              "      <td>...</td>\n",
              "      <td>...</td>\n",
              "      <td>...</td>\n",
              "      <td>...</td>\n",
              "      <td>...</td>\n",
              "      <td>...</td>\n",
              "      <td>...</td>\n",
              "      <td>...</td>\n",
              "      <td>...</td>\n",
              "      <td>...</td>\n",
              "    </tr>\n",
              "    <tr>\n",
              "      <th>420546</th>\n",
              "      <td>31.12.2016 23:20:00</td>\n",
              "      <td>1000.07</td>\n",
              "      <td>-4.05</td>\n",
              "      <td>269.10</td>\n",
              "      <td>-8.13</td>\n",
              "      <td>73.10</td>\n",
              "      <td>4.52</td>\n",
              "      <td>3.30</td>\n",
              "      <td>1.22</td>\n",
              "      <td>2.06</td>\n",
              "      <td>3.30</td>\n",
              "      <td>1292.98</td>\n",
              "      <td>0.67</td>\n",
              "      <td>1.52</td>\n",
              "      <td>240.0</td>\n",
              "    </tr>\n",
              "    <tr>\n",
              "      <th>420547</th>\n",
              "      <td>31.12.2016 23:30:00</td>\n",
              "      <td>999.93</td>\n",
              "      <td>-3.35</td>\n",
              "      <td>269.81</td>\n",
              "      <td>-8.06</td>\n",
              "      <td>69.71</td>\n",
              "      <td>4.77</td>\n",
              "      <td>3.32</td>\n",
              "      <td>1.44</td>\n",
              "      <td>2.07</td>\n",
              "      <td>3.32</td>\n",
              "      <td>1289.44</td>\n",
              "      <td>1.14</td>\n",
              "      <td>1.92</td>\n",
              "      <td>234.3</td>\n",
              "    </tr>\n",
              "    <tr>\n",
              "      <th>420548</th>\n",
              "      <td>31.12.2016 23:40:00</td>\n",
              "      <td>999.82</td>\n",
              "      <td>-3.16</td>\n",
              "      <td>270.01</td>\n",
              "      <td>-8.21</td>\n",
              "      <td>67.91</td>\n",
              "      <td>4.84</td>\n",
              "      <td>3.28</td>\n",
              "      <td>1.55</td>\n",
              "      <td>2.05</td>\n",
              "      <td>3.28</td>\n",
              "      <td>1288.39</td>\n",
              "      <td>1.08</td>\n",
              "      <td>2.00</td>\n",
              "      <td>215.2</td>\n",
              "    </tr>\n",
              "    <tr>\n",
              "      <th>420549</th>\n",
              "      <td>31.12.2016 23:50:00</td>\n",
              "      <td>999.81</td>\n",
              "      <td>-4.23</td>\n",
              "      <td>268.94</td>\n",
              "      <td>-8.53</td>\n",
              "      <td>71.80</td>\n",
              "      <td>4.46</td>\n",
              "      <td>3.20</td>\n",
              "      <td>1.26</td>\n",
              "      <td>1.99</td>\n",
              "      <td>3.20</td>\n",
              "      <td>1293.56</td>\n",
              "      <td>1.49</td>\n",
              "      <td>2.16</td>\n",
              "      <td>225.8</td>\n",
              "    </tr>\n",
              "    <tr>\n",
              "      <th>420550</th>\n",
              "      <td>01.01.2017 00:00:00</td>\n",
              "      <td>999.82</td>\n",
              "      <td>-4.82</td>\n",
              "      <td>268.36</td>\n",
              "      <td>-8.42</td>\n",
              "      <td>75.70</td>\n",
              "      <td>4.27</td>\n",
              "      <td>3.23</td>\n",
              "      <td>1.04</td>\n",
              "      <td>2.01</td>\n",
              "      <td>3.23</td>\n",
              "      <td>1296.38</td>\n",
              "      <td>1.23</td>\n",
              "      <td>1.96</td>\n",
              "      <td>184.9</td>\n",
              "    </tr>\n",
              "  </tbody>\n",
              "</table>\n",
              "<p>420551 rows × 15 columns</p>\n",
              "</div>\n",
              "      <button class=\"colab-df-convert\" onclick=\"convertToInteractive('df-7d735df0-da32-41d7-af39-18383168dc0a')\"\n",
              "              title=\"Convert this dataframe to an interactive table.\"\n",
              "              style=\"display:none;\">\n",
              "        \n",
              "  <svg xmlns=\"http://www.w3.org/2000/svg\" height=\"24px\"viewBox=\"0 0 24 24\"\n",
              "       width=\"24px\">\n",
              "    <path d=\"M0 0h24v24H0V0z\" fill=\"none\"/>\n",
              "    <path d=\"M18.56 5.44l.94 2.06.94-2.06 2.06-.94-2.06-.94-.94-2.06-.94 2.06-2.06.94zm-11 1L8.5 8.5l.94-2.06 2.06-.94-2.06-.94L8.5 2.5l-.94 2.06-2.06.94zm10 10l.94 2.06.94-2.06 2.06-.94-2.06-.94-.94-2.06-.94 2.06-2.06.94z\"/><path d=\"M17.41 7.96l-1.37-1.37c-.4-.4-.92-.59-1.43-.59-.52 0-1.04.2-1.43.59L10.3 9.45l-7.72 7.72c-.78.78-.78 2.05 0 2.83L4 21.41c.39.39.9.59 1.41.59.51 0 1.02-.2 1.41-.59l7.78-7.78 2.81-2.81c.8-.78.8-2.07 0-2.86zM5.41 20L4 18.59l7.72-7.72 1.47 1.35L5.41 20z\"/>\n",
              "  </svg>\n",
              "      </button>\n",
              "      \n",
              "  <style>\n",
              "    .colab-df-container {\n",
              "      display:flex;\n",
              "      flex-wrap:wrap;\n",
              "      gap: 12px;\n",
              "    }\n",
              "\n",
              "    .colab-df-convert {\n",
              "      background-color: #E8F0FE;\n",
              "      border: none;\n",
              "      border-radius: 50%;\n",
              "      cursor: pointer;\n",
              "      display: none;\n",
              "      fill: #1967D2;\n",
              "      height: 32px;\n",
              "      padding: 0 0 0 0;\n",
              "      width: 32px;\n",
              "    }\n",
              "\n",
              "    .colab-df-convert:hover {\n",
              "      background-color: #E2EBFA;\n",
              "      box-shadow: 0px 1px 2px rgba(60, 64, 67, 0.3), 0px 1px 3px 1px rgba(60, 64, 67, 0.15);\n",
              "      fill: #174EA6;\n",
              "    }\n",
              "\n",
              "    [theme=dark] .colab-df-convert {\n",
              "      background-color: #3B4455;\n",
              "      fill: #D2E3FC;\n",
              "    }\n",
              "\n",
              "    [theme=dark] .colab-df-convert:hover {\n",
              "      background-color: #434B5C;\n",
              "      box-shadow: 0px 1px 3px 1px rgba(0, 0, 0, 0.15);\n",
              "      filter: drop-shadow(0px 1px 2px rgba(0, 0, 0, 0.3));\n",
              "      fill: #FFFFFF;\n",
              "    }\n",
              "  </style>\n",
              "\n",
              "      <script>\n",
              "        const buttonEl =\n",
              "          document.querySelector('#df-7d735df0-da32-41d7-af39-18383168dc0a button.colab-df-convert');\n",
              "        buttonEl.style.display =\n",
              "          google.colab.kernel.accessAllowed ? 'block' : 'none';\n",
              "\n",
              "        async function convertToInteractive(key) {\n",
              "          const element = document.querySelector('#df-7d735df0-da32-41d7-af39-18383168dc0a');\n",
              "          const dataTable =\n",
              "            await google.colab.kernel.invokeFunction('convertToInteractive',\n",
              "                                                     [key], {});\n",
              "          if (!dataTable) return;\n",
              "\n",
              "          const docLinkHtml = 'Like what you see? Visit the ' +\n",
              "            '<a target=\"_blank\" href=https://colab.research.google.com/notebooks/data_table.ipynb>data table notebook</a>'\n",
              "            + ' to learn more about interactive tables.';\n",
              "          element.innerHTML = '';\n",
              "          dataTable['output_type'] = 'display_data';\n",
              "          await google.colab.output.renderOutput(dataTable, element);\n",
              "          const docLink = document.createElement('div');\n",
              "          docLink.innerHTML = docLinkHtml;\n",
              "          element.appendChild(docLink);\n",
              "        }\n",
              "      </script>\n",
              "    </div>\n",
              "  </div>\n",
              "  "
            ]
          },
          "metadata": {},
          "execution_count": 3
        }
      ],
      "source": [
        "# Let's take a look at the data frame\n",
        "df"
      ]
    },
    {
      "cell_type": "markdown",
      "id": "2090ee59",
      "metadata": {
        "id": "2090ee59"
      },
      "source": [
        "The dataset contains measurements taken each 10 minutes. We will subsample it to have hourly measurements."
      ]
    },
    {
      "cell_type": "code",
      "execution_count": null,
      "id": "6088a8b3",
      "metadata": {
        "id": "6088a8b3"
      },
      "outputs": [],
      "source": [
        "# Slice [start:stop:step], starting from index 5 take every 6th record.\n",
        "df = df[5::6]\n",
        "\n",
        "date_time = pd.to_datetime(df.pop('Date Time'), format='%d.%m.%Y %H:%M:%S')"
      ]
    },
    {
      "cell_type": "code",
      "execution_count": null,
      "id": "5ca04d08",
      "metadata": {
        "colab": {
          "base_uri": "https://localhost:8080/",
          "height": 553
        },
        "id": "5ca04d08",
        "outputId": "c896dff8-31e9-4c37-a661-19bb70b6d2f9"
      },
      "outputs": [
        {
          "output_type": "display_data",
          "data": {
            "text/plain": [
              "<Figure size 432x288 with 3 Axes>"
            ],
            "image/png": "[encoded data removed]"
          },
          "metadata": {
            "needs_background": "light"
          }
        },
        {
          "output_type": "display_data",
          "data": {
            "text/plain": [
              "<Figure size 432x288 with 3 Axes>"
            ],
            "image/png": "[encoded data removed]"
          },
          "metadata": {
            "needs_background": "light"
          }
        }
      ],
      "source": [
        "plot_cols = ['T (degC)', 'p (mbar)', 'rho (g/m**3)']\n",
        "plot_features = df[plot_cols]\n",
        "plot_features.index = date_time\n",
        "_ = plot_features.plot(subplots=True)\n",
        "\n",
        "plot_features = df[plot_cols][:480]\n",
        "plot_features.index = date_time[:480]\n",
        "_ = plot_features.plot(subplots=True)"
      ]
    },
    {
      "cell_type": "markdown",
      "id": "9b3d7592",
      "metadata": {
        "id": "9b3d7592"
      },
      "source": [
        "Let's look at some statistics of our data..."
      ]
    },
    {
      "cell_type": "code",
      "execution_count": null,
      "id": "12be0a7f",
      "metadata": {
        "colab": {
          "base_uri": "https://localhost:8080/",
          "height": 488
        },
        "id": "12be0a7f",
        "outputId": "b932637a-957c-4be0-9440-f1e1892fe37f"
      },
      "outputs": [
        {
          "output_type": "execute_result",
          "data": {
            "text/plain": [
              "                   count         mean        std      min      25%      50%  \\\n",
              "p (mbar)         70091.0   989.212842   8.358886   913.60   984.20   989.57   \n",
              "T (degC)         70091.0     9.450482   8.423384   -22.76     3.35     9.41   \n",
              "Tpot (K)         70091.0   283.493086   8.504424   250.85   277.44   283.46   \n",
              "Tdew (degC)      70091.0     4.956471   6.730081   -24.80     0.24     5.21   \n",
              "rh (%)           70091.0    76.009788  16.474920    13.88    65.21    79.30   \n",
              "VPmax (mbar)     70091.0    13.576576   7.739883     0.97     7.77    11.82   \n",
              "VPact (mbar)     70091.0     9.533968   4.183658     0.81     6.22     8.86   \n",
              "VPdef (mbar)     70091.0     4.042536   4.898549     0.00     0.87     2.19   \n",
              "sh (g/kg)        70091.0     6.022560   2.655812     0.51     3.92     5.59   \n",
              "H2OC (mmol/mol)  70091.0     9.640437   4.234862     0.81     6.29     8.96   \n",
              "rho (g/m**3)     70091.0  1216.061232  39.974263  1059.45  1187.47  1213.80   \n",
              "wv (m/s)         70091.0     1.702567  65.447512 -9999.00     0.99     1.76   \n",
              "max. wv (m/s)    70091.0     2.963041  75.597657 -9999.00     1.76     2.98   \n",
              "wd (deg)         70091.0   174.789095  86.619431     0.00   125.30   198.10   \n",
              "\n",
              "                      75%      max  \n",
              "p (mbar)          994.720  1015.29  \n",
              "T (degC)           15.480    37.28  \n",
              "Tpot (K)          289.530   311.21  \n",
              "Tdew (degC)        10.080    23.06  \n",
              "rh (%)             89.400   100.00  \n",
              "VPmax (mbar)       17.610    63.77  \n",
              "VPact (mbar)       12.360    28.25  \n",
              "VPdef (mbar)        5.300    46.01  \n",
              "sh (g/kg)           7.800    18.07  \n",
              "H2OC (mmol/mol)    12.490    28.74  \n",
              "rho (g/m**3)     1242.765  1393.54  \n",
              "wv (m/s)            2.860    14.01  \n",
              "max. wv (m/s)       4.740    23.50  \n",
              "wd (deg)          234.000   360.00  "
            ],
            "text/html": [
              "\n",
              "  <div id=\"df-df3d73d6-04d1-49fa-bf61-86d0dea7af3c\">\n",
              "    <div class=\"colab-df-container\">\n",
              "      <div>\n",
              "<style scoped>\n",
              "    .dataframe tbody tr th:only-of-type {\n",
              "        vertical-align: middle;\n",
              "    }\n",
              "\n",
              "    .dataframe tbody tr th {\n",
              "        vertical-align: top;\n",
              "    }\n",
              "\n",
              "    .dataframe thead th {\n",
              "        text-align: right;\n",
              "    }\n",
              "</style>\n",
              "<table border=\"1\" class=\"dataframe\">\n",
              "  <thead>\n",
              "    <tr style=\"text-align: right;\">\n",
              "      <th></th>\n",
              "      <th>count</th>\n",
              "      <th>mean</th>\n",
              "      <th>std</th>\n",
              "      <th>min</th>\n",
              "      <th>25%</th>\n",
              "      <th>50%</th>\n",
              "      <th>75%</th>\n",
              "      <th>max</th>\n",
              "    </tr>\n",
              "  </thead>\n",
              "  <tbody>\n",
              "    <tr>\n",
              "      <th>p (mbar)</th>\n",
              "      <td>70091.0</td>\n",
              "      <td>989.212842</td>\n",
              "      <td>8.358886</td>\n",
              "      <td>913.60</td>\n",
              "      <td>984.20</td>\n",
              "      <td>989.57</td>\n",
              "      <td>994.720</td>\n",
              "      <td>1015.29</td>\n",
              "    </tr>\n",
              "    <tr>\n",
              "      <th>T (degC)</th>\n",
              "      <td>70091.0</td>\n",
              "      <td>9.450482</td>\n",
              "      <td>8.423384</td>\n",
              "      <td>-22.76</td>\n",
              "      <td>3.35</td>\n",
              "      <td>9.41</td>\n",
              "      <td>15.480</td>\n",
              "      <td>37.28</td>\n",
              "    </tr>\n",
              "    <tr>\n",
              "      <th>Tpot (K)</th>\n",
              "      <td>70091.0</td>\n",
              "      <td>283.493086</td>\n",
              "      <td>8.504424</td>\n",
              "      <td>250.85</td>\n",
              "      <td>277.44</td>\n",
              "      <td>283.46</td>\n",
              "      <td>289.530</td>\n",
              "      <td>311.21</td>\n",
              "    </tr>\n",
              "    <tr>\n",
              "      <th>Tdew (degC)</th>\n",
              "      <td>70091.0</td>\n",
              "      <td>4.956471</td>\n",
              "      <td>6.730081</td>\n",
              "      <td>-24.80</td>\n",
              "      <td>0.24</td>\n",
              "      <td>5.21</td>\n",
              "      <td>10.080</td>\n",
              "      <td>23.06</td>\n",
              "    </tr>\n",
              "    <tr>\n",
              "      <th>rh (%)</th>\n",
              "      <td>70091.0</td>\n",
              "      <td>76.009788</td>\n",
              "      <td>16.474920</td>\n",
              "      <td>13.88</td>\n",
              "      <td>65.21</td>\n",
              "      <td>79.30</td>\n",
              "      <td>89.400</td>\n",
              "      <td>100.00</td>\n",
              "    </tr>\n",
              "    <tr>\n",
              "      <th>VPmax (mbar)</th>\n",
              "      <td>70091.0</td>\n",
              "      <td>13.576576</td>\n",
              "      <td>7.739883</td>\n",
              "      <td>0.97</td>\n",
              "      <td>7.77</td>\n",
              "      <td>11.82</td>\n",
              "      <td>17.610</td>\n",
              "      <td>63.77</td>\n",
              "    </tr>\n",
              "    <tr>\n",
              "      <th>VPact (mbar)</th>\n",
              "      <td>70091.0</td>\n",
              "      <td>9.533968</td>\n",
              "      <td>4.183658</td>\n",
              "      <td>0.81</td>\n",
              "      <td>6.22</td>\n",
              "      <td>8.86</td>\n",
              "      <td>12.360</td>\n",
              "      <td>28.25</td>\n",
              "    </tr>\n",
              "    <tr>\n",
              "      <th>VPdef (mbar)</th>\n",
              "      <td>70091.0</td>\n",
              "      <td>4.042536</td>\n",
              "      <td>4.898549</td>\n",
              "      <td>0.00</td>\n",
              "      <td>0.87</td>\n",
              "      <td>2.19</td>\n",
              "      <td>5.300</td>\n",
              "      <td>46.01</td>\n",
              "    </tr>\n",
              "    <tr>\n",
              "      <th>sh (g/kg)</th>\n",
              "      <td>70091.0</td>\n",
              "      <td>6.022560</td>\n",
              "      <td>2.655812</td>\n",
              "      <td>0.51</td>\n",
              "      <td>3.92</td>\n",
              "      <td>5.59</td>\n",
              "      <td>7.800</td>\n",
              "      <td>18.07</td>\n",
              "    </tr>\n",
              "    <tr>\n",
              "      <th>H2OC (mmol/mol)</th>\n",
              "      <td>70091.0</td>\n",
              "      <td>9.640437</td>\n",
              "      <td>4.234862</td>\n",
              "      <td>0.81</td>\n",
              "      <td>6.29</td>\n",
              "      <td>8.96</td>\n",
              "      <td>12.490</td>\n",
              "      <td>28.74</td>\n",
              "    </tr>\n",
              "    <tr>\n",
              "      <th>rho (g/m**3)</th>\n",
              "      <td>70091.0</td>\n",
              "      <td>1216.061232</td>\n",
              "      <td>39.974263</td>\n",
              "      <td>1059.45</td>\n",
              "      <td>1187.47</td>\n",
              "      <td>1213.80</td>\n",
              "      <td>1242.765</td>\n",
              "      <td>1393.54</td>\n",
              "    </tr>\n",
              "    <tr>\n",
              "      <th>wv (m/s)</th>\n",
              "      <td>70091.0</td>\n",
              "      <td>1.702567</td>\n",
              "      <td>65.447512</td>\n",
              "      <td>-9999.00</td>\n",
              "      <td>0.99</td>\n",
              "      <td>1.76</td>\n",
              "      <td>2.860</td>\n",
              "      <td>14.01</td>\n",
              "    </tr>\n",
              "    <tr>\n",
              "      <th>max. wv (m/s)</th>\n",
              "      <td>70091.0</td>\n",
              "      <td>2.963041</td>\n",
              "      <td>75.597657</td>\n",
              "      <td>-9999.00</td>\n",
              "      <td>1.76</td>\n",
              "      <td>2.98</td>\n",
              "      <td>4.740</td>\n",
              "      <td>23.50</td>\n",
              "    </tr>\n",
              "    <tr>\n",
              "      <th>wd (deg)</th>\n",
              "      <td>70091.0</td>\n",
              "      <td>174.789095</td>\n",
              "      <td>86.619431</td>\n",
              "      <td>0.00</td>\n",
              "      <td>125.30</td>\n",
              "      <td>198.10</td>\n",
              "      <td>234.000</td>\n",
              "      <td>360.00</td>\n",
              "    </tr>\n",
              "  </tbody>\n",
              "</table>\n",
              "</div>\n",
              "      <button class=\"colab-df-convert\" onclick=\"convertToInteractive('df-df3d73d6-04d1-49fa-bf61-86d0dea7af3c')\"\n",
              "              title=\"Convert this dataframe to an interactive table.\"\n",
              "              style=\"display:none;\">\n",
              "        \n",
              "  <svg xmlns=\"http://www.w3.org/2000/svg\" height=\"24px\"viewBox=\"0 0 24 24\"\n",
              "       width=\"24px\">\n",
              "    <path d=\"M0 0h24v24H0V0z\" fill=\"none\"/>\n",
              "    <path d=\"M18.56 5.44l.94 2.06.94-2.06 2.06-.94-2.06-.94-.94-2.06-.94 2.06-2.06.94zm-11 1L8.5 8.5l.94-2.06 2.06-.94-2.06-.94L8.5 2.5l-.94 2.06-2.06.94zm10 10l.94 2.06.94-2.06 2.06-.94-2.06-.94-.94-2.06-.94 2.06-2.06.94z\"/><path d=\"M17.41 7.96l-1.37-1.37c-.4-.4-.92-.59-1.43-.59-.52 0-1.04.2-1.43.59L10.3 9.45l-7.72 7.72c-.78.78-.78 2.05 0 2.83L4 21.41c.39.39.9.59 1.41.59.51 0 1.02-.2 1.41-.59l7.78-7.78 2.81-2.81c.8-.78.8-2.07 0-2.86zM5.41 20L4 18.59l7.72-7.72 1.47 1.35L5.41 20z\"/>\n",
              "  </svg>\n",
              "      </button>\n",
              "      \n",
              "  <style>\n",
              "    .colab-df-container {\n",
              "      display:flex;\n",
              "      flex-wrap:wrap;\n",
              "      gap: 12px;\n",
              "    }\n",
              "\n",
              "    .colab-df-convert {\n",
              "      background-color: #E8F0FE;\n",
              "      border: none;\n",
              "      border-radius: 50%;\n",
              "      cursor: pointer;\n",
              "      display: none;\n",
              "      fill: #1967D2;\n",
              "      height: 32px;\n",
              "      padding: 0 0 0 0;\n",
              "      width: 32px;\n",
              "    }\n",
              "\n",
              "    .colab-df-convert:hover {\n",
              "      background-color: #E2EBFA;\n",
              "      box-shadow: 0px 1px 2px rgba(60, 64, 67, 0.3), 0px 1px 3px 1px rgba(60, 64, 67, 0.15);\n",
              "      fill: #174EA6;\n",
              "    }\n",
              "\n",
              "    [theme=dark] .colab-df-convert {\n",
              "      background-color: #3B4455;\n",
              "      fill: #D2E3FC;\n",
              "    }\n",
              "\n",
              "    [theme=dark] .colab-df-convert:hover {\n",
              "      background-color: #434B5C;\n",
              "      box-shadow: 0px 1px 3px 1px rgba(0, 0, 0, 0.15);\n",
              "      filter: drop-shadow(0px 1px 2px rgba(0, 0, 0, 0.3));\n",
              "      fill: #FFFFFF;\n",
              "    }\n",
              "  </style>\n",
              "\n",
              "      <script>\n",
              "        const buttonEl =\n",
              "          document.querySelector('#df-df3d73d6-04d1-49fa-bf61-86d0dea7af3c button.colab-df-convert');\n",
              "        buttonEl.style.display =\n",
              "          google.colab.kernel.accessAllowed ? 'block' : 'none';\n",
              "\n",
              "        async function convertToInteractive(key) {\n",
              "          const element = document.querySelector('#df-df3d73d6-04d1-49fa-bf61-86d0dea7af3c');\n",
              "          const dataTable =\n",
              "            await google.colab.kernel.invokeFunction('convertToInteractive',\n",
              "                                                     [key], {});\n",
              "          if (!dataTable) return;\n",
              "\n",
              "          const docLinkHtml = 'Like what you see? Visit the ' +\n",
              "            '<a target=\"_blank\" href=https://colab.research.google.com/notebooks/data_table.ipynb>data table notebook</a>'\n",
              "            + ' to learn more about interactive tables.';\n",
              "          element.innerHTML = '';\n",
              "          dataTable['output_type'] = 'display_data';\n",
              "          await google.colab.output.renderOutput(dataTable, element);\n",
              "          const docLink = document.createElement('div');\n",
              "          docLink.innerHTML = docLinkHtml;\n",
              "          element.appendChild(docLink);\n",
              "        }\n",
              "      </script>\n",
              "    </div>\n",
              "  </div>\n",
              "  "
            ]
          },
          "metadata": {},
          "execution_count": 6
        }
      ],
      "source": [
        "df.describe().transpose()"
      ]
    },
    {
      "cell_type": "code",
      "execution_count": null,
      "id": "8590be30",
      "metadata": {
        "colab": {
          "base_uri": "https://localhost:8080/"
        },
        "id": "8590be30",
        "outputId": "7d2af73e-73b6-47b3-959b-f354dde57c25"
      },
      "outputs": [
        {
          "output_type": "execute_result",
          "data": {
            "text/plain": [
              "0.0"
            ]
          },
          "metadata": {},
          "execution_count": 7
        }
      ],
      "source": [
        "# Remove invalid values\n",
        "wv = df['wv (m/s)']\n",
        "bad_wv = (wv == -9999.0)\n",
        "wv[bad_wv] = 0.0\n",
        "\n",
        "max_wv = df['max. wv (m/s)']\n",
        "bad_max_wv = (max_wv == -9999.0)\n",
        "max_wv[bad_max_wv] = 0.0\n",
        "\n",
        "# The above inplace edits are reflected in the DataFrame.\n",
        "df['wv (m/s)'].min()"
      ]
    },
    {
      "cell_type": "markdown",
      "id": "a0d8d1f3",
      "metadata": {
        "id": "a0d8d1f3"
      },
      "source": [
        "Our dataset contains angular data for the wind direction. However, angles are not suitable representations as model inputs (not that 0 and 360 degrees are the same). Moreover, whenever the wind speed is zero, the wind direction is meaningless.\n",
        "\n",
        "Therefore, we will use the wind speed and direction to build the corresponding **wind vector**, which will be one of the inputs of our model."
      ]
    },
    {
      "cell_type": "code",
      "execution_count": null,
      "id": "fa308196",
      "metadata": {
        "id": "fa308196"
      },
      "outputs": [],
      "source": [
        "# Build wind vector\n",
        "wv = df.pop('wv (m/s)')\n",
        "max_wv = df.pop('max. wv (m/s)')\n",
        "\n",
        "# Convert to radians.\n",
        "wd_rad = df.pop('wd (deg)')*np.pi / 180\n",
        "\n",
        "# Calculate the wind x and y components.\n",
        "df['Wx'] = wv*np.cos(wd_rad)\n",
        "df['Wy'] = wv*np.sin(wd_rad)\n",
        "\n",
        "# Calculate the max wind x and y components.\n",
        "df['max Wx'] = max_wv*np.cos(wd_rad)\n",
        "df['max Wy'] = max_wv*np.sin(wd_rad)"
      ]
    },
    {
      "cell_type": "markdown",
      "id": "f7bc23cb",
      "metadata": {
        "id": "f7bc23cb"
      },
      "source": [
        "Date strings are also innapropriate as model inputs. Can you understand the preprocessing we are doing below?"
      ]
    },
    {
      "cell_type": "code",
      "execution_count": null,
      "id": "2344f081",
      "metadata": {
        "colab": {
          "base_uri": "https://localhost:8080/",
          "height": 295
        },
        "id": "2344f081",
        "outputId": "65d17013-1a1a-4c5c-bb94-817c9c688ee4"
      },
      "outputs": [
        {
          "output_type": "display_data",
          "data": {
            "text/plain": [
              "<Figure size 432x288 with 1 Axes>"
            ],
            "image/png": "[encoded data removed]"
          },
          "metadata": {
            "needs_background": "light"
          }
        }
      ],
      "source": [
        "timestamp_s = date_time.map(pd.Timestamp.timestamp)\n",
        "day = 24*60*60\n",
        "year = (365.2425)*day\n",
        "\n",
        "df['Day sin'] = np.sin(timestamp_s * (2 * np.pi / day))\n",
        "df['Day cos'] = np.cos(timestamp_s * (2 * np.pi / day))\n",
        "df['Year sin'] = np.sin(timestamp_s * (2 * np.pi / year))\n",
        "df['Year cos'] = np.cos(timestamp_s * (2 * np.pi / year))\n",
        "\n",
        "plt.plot(np.array(df['Day sin'])[:25])\n",
        "plt.plot(np.array(df['Day cos'])[:25])\n",
        "plt.xlabel('Time [h]')\n",
        "plt.title('Time of day signal')\n",
        "plt.show()"
      ]
    },
    {
      "cell_type": "markdown",
      "id": "4b4d599b",
      "metadata": {
        "id": "4b4d599b"
      },
      "source": [
        "**Explain** the preprocessing above in your own words:"
      ]
    },
    {
      "cell_type": "markdown",
      "id": "20bf2c7d",
      "metadata": {
        "id": "20bf2c7d"
      },
      "source": [
        "The timestamps are intially written in Posix format. The first line maps each Posix string into a float, giving the elapsed time in seconds (w.r.t to some original date).\n",
        "\n",
        "We then define how many seconds a year corresponds to.\n",
        "\n",
        "Finally, we map it using a sinusoidal function with a given period. This gives a float between $[-1, 1]$, encoding the time inside inside a day/year the features correspond to.\n",
        "\n",
        "This is useful since weather data usually looks at parameter variation during a day, and yearly in order to capture seasonality. It is nice to have a representation that assigns the same value for the same hour in different days, etc.\n",
        "\n",
        "Note that having both $\\sin, \\cos$ values at the same time allows for an one-to-one mapping. If we used only one component, we wouldn't have an injection and the period would be ambiguous by a factor of 12 hours / 6 months."
      ]
    },
    {
      "cell_type": "markdown",
      "id": "b1c058b2",
      "metadata": {
        "id": "b1c058b2"
      },
      "source": [
        "Now, we are ready to split our data into train, validation and test splits. We will use the first 70% samples for training, the following 20% for validation and the last 10% for testing."
      ]
    },
    {
      "cell_type": "code",
      "execution_count": null,
      "id": "c2bcc2a8",
      "metadata": {
        "id": "c2bcc2a8"
      },
      "outputs": [],
      "source": [
        "column_indices = {name: i for i, name in enumerate(df.columns)}\n",
        "\n",
        "n = len(df)\n",
        "train_df = df[0:int(n*0.7)]\n",
        "val_df = df[int(n*0.7):int(n*0.9)]\n",
        "test_df = df[int(n*0.9):]\n",
        "\n",
        "num_features = df.shape[1]"
      ]
    },
    {
      "cell_type": "markdown",
      "id": "6ee0d811",
      "metadata": {
        "id": "6ee0d811"
      },
      "source": [
        "Note that we are **not** splitting our data randomly. Can you explain why a random split is not a good idea in this case?"
      ]
    },
    {
      "cell_type": "markdown",
      "id": "e300b8f3",
      "metadata": {
        "id": "e300b8f3"
      },
      "source": [
        "If we split randomly a time series, we have data leakage from long-term dynamics that should've developed only in a later portion of it, into the training set."
      ]
    },
    {
      "cell_type": "markdown",
      "id": "816c8b20",
      "metadata": {
        "id": "816c8b20"
      },
      "source": [
        "It is crucial to scale features before feeding them through a neural network. Normalize the data in the cell below by subtracting the mean and dividing by the standard deviation.\n",
        "\n",
        "You should create the variables `train_mean` and `train_std` and use them to normalize the three data splits."
      ]
    },
    {
      "cell_type": "code",
      "execution_count": null,
      "id": "9da84001",
      "metadata": {
        "id": "9da84001"
      },
      "outputs": [],
      "source": [
        "## YOUR CODE HERE ##\n",
        "\n",
        "# Only compute mean/std with training data to avoid data leakage\n",
        "train_mean = train_df.mean()\n",
        "train_std = train_df.std()\n",
        "\n",
        "# Normalize each set\n",
        "train_df = (train_df - train_mean)/train_std\n",
        "val_df = (val_df - train_mean)/train_std\n",
        "test_df = (test_df - train_mean)/train_std"
      ]
    },
    {
      "cell_type": "code",
      "execution_count": null,
      "id": "d3ad831a",
      "metadata": {
        "colab": {
          "base_uri": "https://localhost:8080/",
          "height": 467
        },
        "id": "d3ad831a",
        "outputId": "fce2b24a-630b-4a59-e050-27c766a41dd2"
      },
      "outputs": [
        {
          "output_type": "display_data",
          "data": {
            "text/plain": [
              "<Figure size 864x432 with 1 Axes>"
            ],
            "image/png": "[encoded data removed]"
          },
          "metadata": {
            "needs_background": "light"
          }
        }
      ],
      "source": [
        "# Look at normalized data\n",
        "df_std = (df - train_mean) / train_std\n",
        "df_std = df_std.melt(var_name='Column', value_name='Normalized')\n",
        "plt.figure(figsize=(12, 6))\n",
        "ax = sns.violinplot(x='Column', y='Normalized', data=df_std)\n",
        "_ = ax.set_xticklabels(df.keys(), rotation=90)"
      ]
    },
    {
      "cell_type": "markdown",
      "id": "02167924",
      "metadata": {
        "id": "02167924"
      },
      "source": [
        "The `torch.utils.data.Dataset` class provides a very convenient way of storing and loading data. In the cell below, we define the class `WeatherData`, which inherits from this `Dataset` class. The following functions must be defined within the class:\n",
        "- `__init__`, where the attributes of the class are defined;\n",
        "- `__getitem__`, which gets an index (`int`) and returns the data example corresponding to the provided index (can be a `tuple` or a `dict`);\n",
        "- `__len__`, which returns the length of the dataset.\n",
        "\n",
        "We have already written the functions `__getitem__` and `__len__` for you. All you need to do is write the code for the `__init__` function. There, you should create two lists as attributes of the class: `inputs` and `targets`. The `i`-th element of the list `inputs` should be a `torch.FloatTensor` containing a slice of the data with `input_width` consecutive samples. The `i`-th element of the list `targets` should be a `torch.FloatTensor` containing a slice of the data with the `target_width` consecutive samples that follow after `inputs[i]`."
      ]
    },
    {
      "cell_type": "code",
      "execution_count": null,
      "id": "d700f6bd",
      "metadata": {
        "id": "d700f6bd"
      },
      "outputs": [],
      "source": [
        "class WeatherData(torch.utils.data.Dataset):\n",
        "    def __init__(self, df, input_width, target_width):\n",
        "        ## YOUR CODE HERE ##\n",
        "        df_arr = np.array(df)\n",
        "        length = df_arr.shape[0]\n",
        "        self.inputs = [torch.FloatTensor(df_arr[i:(i+input_width), :]) \\\n",
        "                       for i in range(0, length - input_width, input_width)]\n",
        "        self.targets = [torch.FloatTensor(df_arr[i:(i+target_width), :]) \\\n",
        "                        for i in range(0, length - input_width, input_width)]\n",
        "\n",
        "    def __getitem__(self, idx):\n",
        "        return {'inputs': self.inputs[idx],\n",
        "                'targets': self.targets[idx]}\n",
        "    \n",
        "    def __len__(self):\n",
        "        return min(len(self.inputs), len(self.targets))"
      ]
    },
    {
      "cell_type": "markdown",
      "id": "87ceb51d",
      "metadata": {
        "id": "87ceb51d"
      },
      "source": [
        "We will use the observations of the previous 24 hours to predict the temperature for the next 24 hours. Thus, we will set both `input_width` and `target_width` to 24 in the instances of the dataset. After you complete this exercise, you can try with different values."
      ]
    },
    {
      "cell_type": "code",
      "execution_count": null,
      "id": "3e8cfd15",
      "metadata": {
        "id": "3e8cfd15"
      },
      "outputs": [],
      "source": [
        "INPUT_WIDTH = 24\n",
        "TARGET_WIDTH = 24\n",
        "\n",
        "train_data = WeatherData(train_df, INPUT_WIDTH, TARGET_WIDTH)\n",
        "val_data = WeatherData(val_df, INPUT_WIDTH, TARGET_WIDTH)\n",
        "test_data = WeatherData(test_df, INPUT_WIDTH, TARGET_WIDTH)"
      ]
    },
    {
      "cell_type": "code",
      "execution_count": null,
      "id": "1241db34",
      "metadata": {
        "colab": {
          "base_uri": "https://localhost:8080/",
          "height": 1000
        },
        "id": "1241db34",
        "outputId": "b10a365b-d7ff-4441-d2fa-43728f62bb77"
      },
      "outputs": [
        {
          "output_type": "display_data",
          "data": {
            "text/plain": [
              "<Figure size 432x288 with 1 Axes>"
            ],
            "image/png": "[encoded data removed]"
          },
          "metadata": {
            "needs_background": "light"
          }
        },
        {
          "output_type": "display_data",
          "data": {
            "text/plain": [
              "<Figure size 432x288 with 1 Axes>"
            ],
            "image/png": "[encoded data removed]"
          },
          "metadata": {
            "needs_background": "light"
          }
        },
        {
          "output_type": "display_data",
          "data": {
            "text/plain": [
              "<Figure size 432x288 with 1 Axes>"
            ],
            "image/png": "[encoded data removed]"
          },
          "metadata": {
            "needs_background": "light"
          }
        },
        {
          "output_type": "display_data",
          "data": {
            "text/plain": [
              "<Figure size 432x288 with 1 Axes>"
            ],
            "image/png": "[encoded data removed]"
          },
          "metadata": {
            "needs_background": "light"
          }
        },
        {
          "output_type": "display_data",
          "data": {
            "text/plain": [
              "<Figure size 432x288 with 1 Axes>"
            ],
            "image/png": "[encoded data removed]"
          },
          "metadata": {
            "needs_background": "light"
          }
        },
        {
          "output_type": "display_data",
          "data": {
            "text/plain": [
              "<Figure size 432x288 with 1 Axes>"
            ],
            "image/png": "[encoded data removed]"
          },
          "metadata": {
            "needs_background": "light"
          }
        },
        {
          "output_type": "display_data",
          "data": {
            "text/plain": [
              "<Figure size 432x288 with 1 Axes>"
            ],
            "image/png": "[encoded data removed]"
          },
          "metadata": {
            "needs_background": "light"
          }
        },
        {
          "output_type": "display_data",
          "data": {
            "text/plain": [
              "<Figure size 432x288 with 1 Axes>"
            ],
            "image/png": "[encoded data removed]"
          },
          "metadata": {
            "needs_background": "light"
          }
        },
        {
          "output_type": "display_data",
          "data": {
            "text/plain": [
              "<Figure size 432x288 with 1 Axes>"
            ],
            "image/png": "[encoded data removed]"
          },
          "metadata": {
            "needs_background": "light"
          }
        },
        {
          "output_type": "display_data",
          "data": {
            "text/plain": [
              "<Figure size 432x288 with 1 Axes>"
            ],
            "image/png": "[encoded data removed]"
          },
          "metadata": {
            "needs_background": "light"
          }
        },
        {
          "output_type": "display_data",
          "data": {
            "text/plain": [
              "<Figure size 432x288 with 1 Axes>"
            ],
            "image/png": "[encoded data removed]"
          },
          "metadata": {
            "needs_background": "light"
          }
        },
        {
          "output_type": "display_data",
          "data": {
            "text/plain": [
              "<Figure size 432x288 with 1 Axes>"
            ],
            "image/png": "[encoded data removed]"
          },
          "metadata": {
            "needs_background": "light"
          }
        },
        {
          "output_type": "display_data",
          "data": {
            "text/plain": [
              "<Figure size 432x288 with 1 Axes>"
            ],
            "image/png": "[encoded data removed]"
          },
          "metadata": {
            "needs_background": "light"
          }
        },
        {
          "output_type": "display_data",
          "data": {
            "text/plain": [
              "<Figure size 432x288 with 1 Axes>"
            ],
            "image/png": "[encoded data removed]"
          },
          "metadata": {
            "needs_background": "light"
          }
        },
        {
          "output_type": "display_data",
          "data": {
            "text/plain": [
              "<Figure size 432x288 with 1 Axes>"
            ],
            "image/png": "[encoded data removed]"
          },
          "metadata": {
            "needs_background": "light"
          }
        },
        {
          "output_type": "display_data",
          "data": {
            "text/plain": [
              "<Figure size 432x288 with 1 Axes>"
            ],
            "image/png": "[encoded data removed]"
          },
          "metadata": {
            "needs_background": "light"
          }
        },
        {
          "output_type": "display_data",
          "data": {
            "text/plain": [
              "<Figure size 432x288 with 1 Axes>"
            ],
            "image/png": "[encoded data removed]"
          },
          "metadata": {
            "needs_background": "light"
          }
        },
        {
          "output_type": "display_data",
          "data": {
            "text/plain": [
              "<Figure size 432x288 with 1 Axes>"
            ],
            "image/png": "[encoded data removed]"
          },
          "metadata": {
            "needs_background": "light"
          }
        },
        {
          "output_type": "display_data",
          "data": {
            "text/plain": [
              "<Figure size 432x288 with 1 Axes>"
            ],
            "image/png": "[encoded data removed]"
          },
          "metadata": {
            "needs_background": "light"
          }
        }
      ],
      "source": [
        "# Let's visualize some examples\n",
        "idx = random.randint(0, len(train_data))\n",
        "inputs = train_data[idx]['inputs'].numpy()\n",
        "targets = train_data[idx]['targets'].numpy()\n",
        "\n",
        "for i in range(len(train_df.columns)):\n",
        "    plt.plot(range(INPUT_WIDTH), inputs[:,i], label='input')\n",
        "    plt.plot(range(INPUT_WIDTH, INPUT_WIDTH + TARGET_WIDTH), targets[:,i], label='target')\n",
        "    plt.ylabel(train_df.columns[i])\n",
        "    plt.xlabel('Time')\n",
        "    plt.legend()\n",
        "    plt.show()"
      ]
    },
    {
      "cell_type": "markdown",
      "id": "7c307366",
      "metadata": {
        "id": "7c307366"
      },
      "source": [
        "Now, it's time to define our neural network! It will consist of a `torch.nn.LSTMCell` with a state dimension defined by `hidden_size`, followed by a `torch.nn.Linear` layer that projects from the hidden space to the output.\n",
        "\n",
        "The best way to define a neural network in PyTorch is by extending the class `torch.nn.Module`. For this purpose, you need to define two functions:\n",
        "- `__init__`, where all the layers of the network are instantiated;\n",
        "- `forward`, where the forward pass is defined.\n",
        "\n",
        "Complete the two methods in the cell below. The comments throughout the code will provide you some hints."
      ]
    },
    {
      "cell_type": "code",
      "execution_count": null,
      "id": "b4089783",
      "metadata": {
        "id": "b4089783"
      },
      "outputs": [],
      "source": [
        "class WeatherPredictor(torch.nn.Module):\n",
        "    def __init__(self, num_features, hidden_size):\n",
        "        super().__init__()\n",
        "        self.hidden_size = hidden_size\n",
        "        # instantiate a torch.nn.LSTMCell and a torch.nn.Linear layer\n",
        "        \n",
        "        # hidden_size is the internal state dimension\n",
        "        # this is a hyperparameter\n",
        "        self.lstm = torch.nn.LSTMCell(input_size=num_features,\n",
        "                                      hidden_size=hidden_size)\n",
        "        self.linear = torch.nn.Linear(in_features=hidden_size,\n",
        "                                      out_features=num_features)\n",
        "        \n",
        "    def forward(self, inputs, num_steps):\n",
        "        inputs = inputs.swapaxes(0, 1)  # batch, time, dim -> time, batch, dim\n",
        "        \n",
        "        # we initialize the internal states of the LSTM with zeros\n",
        "        ## YOUR CODE HERE ##\n",
        "        hx = torch.zeros((inputs.shape[1], self.hidden_size), device=inputs.device)\n",
        "        cx = torch.zeros((inputs.shape[1], self.hidden_size), device=inputs.device)\n",
        "        \n",
        "        # warmup: feed the inputs through the LSTM one by one from t = 0 up to t = T-1\n",
        "        T = inputs.shape[0]\n",
        "        for t in range(0, T-1):\n",
        "            hx, cx = self.lstm(inputs[t, :, :], (hx, cx))\n",
        "        ## *** ##\n",
        "\n",
        "        # predict num_steps into the future autoregressively\n",
        "        outputs = []\n",
        "        input_t = inputs[-1]\n",
        "        ## YOUR CODE HERE ##\n",
        "        for t in range(num_steps):\n",
        "            hx, cx = self.lstm(input_t, (hx, cx))\n",
        "            output_t = self.linear(hx)\n",
        "            outputs.append(output_t)\n",
        "            input_t = output_t\n",
        "        ## *** ##\n",
        "\n",
        "        # stack the list of outputs into a single tensor\n",
        "        outputs = torch.stack(outputs)\n",
        "        \n",
        "        outputs = outputs.swapaxes(0, 1)  # time, batch, dim -> batch, time, dim\n",
        "        return outputs\n",
        "        "
      ]
    },
    {
      "cell_type": "markdown",
      "id": "9bfe55dc",
      "metadata": {
        "id": "9bfe55dc"
      },
      "source": [
        "Now we are going to define the evaluation and training loops of our model in the functions `evaluate` and `fit`, respectively. This should be identical to what you may have done before for non-recurrent models."
      ]
    },
    {
      "cell_type": "code",
      "execution_count": null,
      "id": "9a7d3383",
      "metadata": {
        "id": "9a7d3383"
      },
      "outputs": [],
      "source": [
        "def evaluate(model, data_loader, **kwargs):\n",
        "    loss_fn = kwargs.get('loss_fn', torch.nn.functional.mse_loss)\n",
        "    device = kwargs.get('device', torch.device('cpu'))\n",
        "    \n",
        "    model.eval() # set model to evaluation mode\n",
        "    pbar = tqdm(enumerate(data_loader), total=len(data_loader))\n",
        "    avg_loss = 0.\n",
        "    for i, batch in pbar:\n",
        "        ## YOUR CODE HERE ##\n",
        "        batch[\"inputs\"] = batch[\"inputs\"].to(device)\n",
        "        batch[\"targets\"] = batch[\"targets\"].to(device)\n",
        "        num_steps = batch[\"targets\"].shape[1] # batch_size, time, dim\n",
        "        with torch.no_grad(): # no need to compute gradients\n",
        "            preds = model(batch[\"inputs\"], num_steps)\n",
        "        loss = loss_fn(preds, batch[\"targets\"])\n",
        "        avg_loss += loss.item()\n",
        "        ## *** ##\n",
        "        pbar.set_description(f'loss = {loss:.3f}')\n",
        "    avg_loss /= len(val_loader)\n",
        "    return avg_loss\n",
        "\n",
        "def fit(model, train_loader, val_loader, optimizer, **kwargs):\n",
        "    num_epochs = kwargs.get('num_epochs', 100)\n",
        "    loss_fn = kwargs.get('loss_fn', torch.nn.functional.mse_loss)\n",
        "    device = kwargs.get('device', torch.device('cpu'))\n",
        "    \n",
        "    train_loss_hist, val_loss_hist = [], []\n",
        "    for epoch in range(num_epochs):\n",
        "        print(f'Epoch {epoch + 1}/{num_epochs}')\n",
        "        \n",
        "        print('Training phase...')\n",
        "        model.train() # set model to training mode\n",
        "        train_loss = 0.\n",
        "        pbar = tqdm(enumerate(train_loader), total=len(train_loader))\n",
        "        for i, batch in pbar:\n",
        "            ## YOUR CODE HERE ##\n",
        "            batch[\"inputs\"] = batch[\"inputs\"].to(device)\n",
        "            batch[\"targets\"] = batch[\"targets\"].to(device)\n",
        "            model.zero_grad() # initialize gradients to zero\n",
        "            num_steps = batch[\"targets\"].shape[1] \n",
        "            preds = model(batch[\"inputs\"], num_steps) # forward pass\n",
        "            loss = loss_fn(preds, batch[\"targets\"]) # loss computation\n",
        "            loss.backward() # computing gradients (backward pass)\n",
        "            optimizer.step() # updating the parameters of the model\n",
        "            ## *** ##\n",
        "            train_loss += loss.item()\n",
        "            pbar.set_description(f'loss = {loss:.3f}')\n",
        "        train_loss /= len(train_loader)\n",
        "        print(f'train loss = {train_loss:.3f}')\n",
        "        train_loss_hist.append(train_loss)\n",
        "        \n",
        "        print('Validation phase...')\n",
        "        val_loss = evaluate(model, val_loader, loss_fn=loss_fn, device=device)\n",
        "        print(f'validation loss = {val_loss:.3f}')\n",
        "        val_loss_hist.append(val_loss)\n",
        "        \n",
        "    return train_loss_hist, val_loss_hist\n",
        "        "
      ]
    },
    {
      "cell_type": "markdown",
      "id": "1e27f8b5",
      "metadata": {
        "id": "1e27f8b5"
      },
      "source": [
        "The only thing that is still missing are the `torch.utils.data.DataLoader`s. These provide a very convenient way of aggregating the data into mini-batches. We have already defined them for you in the cell below.\n",
        "\n",
        "We have also defined a set of hyperparameters (`HIDDEN_SIZE`, `LEARNING_RATE`, `NUM_EPOCHS`, and `BATCH_SIZE`). You should understand the role of each of these and you can experiment with different values later on.\n",
        "\n",
        "The code is also prepared to run using CUDA if you have a CUDA-capable GPU in your computer. The commented code is for running on Mac M1 GPUs. However, as of today, the training will be faster on Mac M1 CPU than on the GPU."
      ]
    },
    {
      "cell_type": "code",
      "execution_count": null,
      "id": "931b8d0e",
      "metadata": {
        "colab": {
          "base_uri": "https://localhost:8080/"
        },
        "id": "931b8d0e",
        "outputId": "950cb51b-634a-47ab-ddbe-11ea95ca30d3"
      },
      "outputs": [
        {
          "output_type": "stream",
          "name": "stdout",
          "text": [
            "DEVICE: cpu\n"
          ]
        }
      ],
      "source": [
        "HIDDEN_SIZE = 64\n",
        "LEARNING_RATE = 1e-3\n",
        "NUM_EPOCHS = 100\n",
        "BATCH_SIZE = 16\n",
        "\n",
        "if torch.cuda.is_available():\n",
        "    DEVICE = torch.device('cuda')\n",
        "# elif torch.backends.mps.is_available():\n",
        "#     DEVICE = torch.device('mps')\n",
        "else:\n",
        "    DEVICE = torch.device('cpu')\n",
        "print('DEVICE:', DEVICE)\n",
        "\n",
        "# we should shuffle our data at beggining of each epoch\n",
        "train_loader = torch.utils.data.DataLoader(train_data, batch_size=BATCH_SIZE, shuffle=True)\n",
        "val_loader = torch.utils.data.DataLoader(val_data, batch_size=BATCH_SIZE)\n",
        "test_loader = torch.utils.data.DataLoader(test_data, batch_size=BATCH_SIZE)\n",
        "\n",
        "model = WeatherPredictor(train_data[0]['inputs'].shape[1], HIDDEN_SIZE).to(DEVICE)\n",
        "optimizer = torch.optim.Adam(model.parameters(), lr=LEARNING_RATE)"
      ]
    },
    {
      "cell_type": "markdown",
      "id": "08345c83",
      "metadata": {
        "id": "08345c83"
      },
      "source": [
        "Train the model by running the cell below. It may take a while depending on your hardware and on the `NUM_EPOCHS` that you have chosen."
      ]
    },
    {
      "cell_type": "code",
      "execution_count": null,
      "id": "a31c36f4",
      "metadata": {
        "colab": {
          "base_uri": "https://localhost:8080/"
        },
        "id": "a31c36f4",
        "outputId": "f1e46ede-8ce0-4113-e644-de1665d448f7"
      },
      "outputs": [
        {
          "output_type": "stream",
          "name": "stdout",
          "text": [
            "Epoch 1/100\n",
            "Training phase...\n"
          ]
        },
        {
          "output_type": "stream",
          "name": "stderr",
          "text": [
            "loss = 0.532: 100%|██████████| 128/128 [00:05<00:00, 21.41it/s]\n"
          ]
        },
        {
          "output_type": "stream",
          "name": "stdout",
          "text": [
            "train loss = 0.688\n",
            "Validation phase...\n"
          ]
        },
        {
          "output_type": "stream",
          "name": "stderr",
          "text": [
            "loss = 0.485: 100%|██████████| 37/37 [00:00<00:00, 89.12it/s]\n"
          ]
        },
        {
          "output_type": "stream",
          "name": "stdout",
          "text": [
            "validation loss = 0.593\n",
            "Epoch 2/100\n",
            "Training phase...\n"
          ]
        },
        {
          "output_type": "stream",
          "name": "stderr",
          "text": [
            "loss = 0.309: 100%|██████████| 128/128 [00:03<00:00, 37.82it/s]\n"
          ]
        },
        {
          "output_type": "stream",
          "name": "stdout",
          "text": [
            "train loss = 0.450\n",
            "Validation phase...\n"
          ]
        },
        {
          "output_type": "stream",
          "name": "stderr",
          "text": [
            "loss = 0.319: 100%|██████████| 37/37 [00:00<00:00, 88.74it/s]\n"
          ]
        },
        {
          "output_type": "stream",
          "name": "stdout",
          "text": [
            "validation loss = 0.402\n",
            "Epoch 3/100\n",
            "Training phase...\n"
          ]
        },
        {
          "output_type": "stream",
          "name": "stderr",
          "text": [
            "loss = 0.223: 100%|██████████| 128/128 [00:03<00:00, 38.03it/s]\n"
          ]
        },
        {
          "output_type": "stream",
          "name": "stdout",
          "text": [
            "train loss = 0.286\n",
            "Validation phase...\n"
          ]
        },
        {
          "output_type": "stream",
          "name": "stderr",
          "text": [
            "loss = 0.229: 100%|██████████| 37/37 [00:00<00:00, 89.08it/s]\n"
          ]
        },
        {
          "output_type": "stream",
          "name": "stdout",
          "text": [
            "validation loss = 0.253\n",
            "Epoch 4/100\n",
            "Training phase...\n"
          ]
        },
        {
          "output_type": "stream",
          "name": "stderr",
          "text": [
            "loss = 0.233: 100%|██████████| 128/128 [00:03<00:00, 37.21it/s]\n"
          ]
        },
        {
          "output_type": "stream",
          "name": "stdout",
          "text": [
            "train loss = 0.225\n",
            "Validation phase...\n"
          ]
        },
        {
          "output_type": "stream",
          "name": "stderr",
          "text": [
            "loss = 0.180: 100%|██████████| 37/37 [00:00<00:00, 90.87it/s]\n"
          ]
        },
        {
          "output_type": "stream",
          "name": "stdout",
          "text": [
            "validation loss = 0.218\n",
            "Epoch 5/100\n",
            "Training phase...\n"
          ]
        },
        {
          "output_type": "stream",
          "name": "stderr",
          "text": [
            "loss = 0.173: 100%|██████████| 128/128 [00:03<00:00, 37.20it/s]\n"
          ]
        },
        {
          "output_type": "stream",
          "name": "stdout",
          "text": [
            "train loss = 0.197\n",
            "Validation phase...\n"
          ]
        },
        {
          "output_type": "stream",
          "name": "stderr",
          "text": [
            "loss = 0.172: 100%|██████████| 37/37 [00:00<00:00, 90.23it/s]\n"
          ]
        },
        {
          "output_type": "stream",
          "name": "stdout",
          "text": [
            "validation loss = 0.201\n",
            "Epoch 6/100\n",
            "Training phase...\n"
          ]
        },
        {
          "output_type": "stream",
          "name": "stderr",
          "text": [
            "loss = 0.178: 100%|██████████| 128/128 [00:03<00:00, 38.12it/s]\n"
          ]
        },
        {
          "output_type": "stream",
          "name": "stdout",
          "text": [
            "train loss = 0.179\n",
            "Validation phase...\n"
          ]
        },
        {
          "output_type": "stream",
          "name": "stderr",
          "text": [
            "loss = 0.159: 100%|██████████| 37/37 [00:00<00:00, 84.34it/s]\n"
          ]
        },
        {
          "output_type": "stream",
          "name": "stdout",
          "text": [
            "validation loss = 0.187\n",
            "Epoch 7/100\n",
            "Training phase...\n"
          ]
        },
        {
          "output_type": "stream",
          "name": "stderr",
          "text": [
            "loss = 0.212: 100%|██████████| 128/128 [00:03<00:00, 38.24it/s]\n"
          ]
        },
        {
          "output_type": "stream",
          "name": "stdout",
          "text": [
            "train loss = 0.164\n",
            "Validation phase...\n"
          ]
        },
        {
          "output_type": "stream",
          "name": "stderr",
          "text": [
            "loss = 0.138: 100%|██████████| 37/37 [00:00<00:00, 93.51it/s]\n"
          ]
        },
        {
          "output_type": "stream",
          "name": "stdout",
          "text": [
            "validation loss = 0.174\n",
            "Epoch 8/100\n",
            "Training phase...\n"
          ]
        },
        {
          "output_type": "stream",
          "name": "stderr",
          "text": [
            "loss = 0.151: 100%|██████████| 128/128 [00:03<00:00, 38.80it/s]\n"
          ]
        },
        {
          "output_type": "stream",
          "name": "stdout",
          "text": [
            "train loss = 0.149\n",
            "Validation phase...\n"
          ]
        },
        {
          "output_type": "stream",
          "name": "stderr",
          "text": [
            "loss = 0.126: 100%|██████████| 37/37 [00:00<00:00, 85.35it/s]\n"
          ]
        },
        {
          "output_type": "stream",
          "name": "stdout",
          "text": [
            "validation loss = 0.162\n",
            "Epoch 9/100\n",
            "Training phase...\n"
          ]
        },
        {
          "output_type": "stream",
          "name": "stderr",
          "text": [
            "loss = 0.121: 100%|██████████| 128/128 [00:03<00:00, 38.01it/s]\n"
          ]
        },
        {
          "output_type": "stream",
          "name": "stdout",
          "text": [
            "train loss = 0.141\n",
            "Validation phase...\n"
          ]
        },
        {
          "output_type": "stream",
          "name": "stderr",
          "text": [
            "loss = 0.125: 100%|██████████| 37/37 [00:00<00:00, 93.47it/s]\n"
          ]
        },
        {
          "output_type": "stream",
          "name": "stdout",
          "text": [
            "validation loss = 0.158\n",
            "Epoch 10/100\n",
            "Training phase...\n"
          ]
        },
        {
          "output_type": "stream",
          "name": "stderr",
          "text": [
            "loss = 0.116: 100%|██████████| 128/128 [00:03<00:00, 38.25it/s]\n"
          ]
        },
        {
          "output_type": "stream",
          "name": "stdout",
          "text": [
            "train loss = 0.131\n",
            "Validation phase...\n"
          ]
        },
        {
          "output_type": "stream",
          "name": "stderr",
          "text": [
            "loss = 0.113: 100%|██████████| 37/37 [00:00<00:00, 91.30it/s]\n"
          ]
        },
        {
          "output_type": "stream",
          "name": "stdout",
          "text": [
            "validation loss = 0.149\n",
            "Epoch 11/100\n",
            "Training phase...\n"
          ]
        },
        {
          "output_type": "stream",
          "name": "stderr",
          "text": [
            "loss = 0.108: 100%|██████████| 128/128 [00:03<00:00, 38.55it/s]\n"
          ]
        },
        {
          "output_type": "stream",
          "name": "stdout",
          "text": [
            "train loss = 0.124\n",
            "Validation phase...\n"
          ]
        },
        {
          "output_type": "stream",
          "name": "stderr",
          "text": [
            "loss = 0.110: 100%|██████████| 37/37 [00:00<00:00, 85.43it/s]\n"
          ]
        },
        {
          "output_type": "stream",
          "name": "stdout",
          "text": [
            "validation loss = 0.142\n",
            "Epoch 12/100\n",
            "Training phase...\n"
          ]
        },
        {
          "output_type": "stream",
          "name": "stderr",
          "text": [
            "loss = 0.089: 100%|██████████| 128/128 [00:03<00:00, 38.81it/s]\n"
          ]
        },
        {
          "output_type": "stream",
          "name": "stdout",
          "text": [
            "train loss = 0.117\n",
            "Validation phase...\n"
          ]
        },
        {
          "output_type": "stream",
          "name": "stderr",
          "text": [
            "loss = 0.109: 100%|██████████| 37/37 [00:00<00:00, 91.21it/s]\n"
          ]
        },
        {
          "output_type": "stream",
          "name": "stdout",
          "text": [
            "validation loss = 0.135\n",
            "Epoch 13/100\n",
            "Training phase...\n"
          ]
        },
        {
          "output_type": "stream",
          "name": "stderr",
          "text": [
            "loss = 0.105: 100%|██████████| 128/128 [00:03<00:00, 37.73it/s]\n"
          ]
        },
        {
          "output_type": "stream",
          "name": "stdout",
          "text": [
            "train loss = 0.112\n",
            "Validation phase...\n"
          ]
        },
        {
          "output_type": "stream",
          "name": "stderr",
          "text": [
            "loss = 0.107: 100%|██████████| 37/37 [00:00<00:00, 89.99it/s]\n"
          ]
        },
        {
          "output_type": "stream",
          "name": "stdout",
          "text": [
            "validation loss = 0.131\n",
            "Epoch 14/100\n",
            "Training phase...\n"
          ]
        },
        {
          "output_type": "stream",
          "name": "stderr",
          "text": [
            "loss = 0.118: 100%|██████████| 128/128 [00:03<00:00, 37.88it/s]\n"
          ]
        },
        {
          "output_type": "stream",
          "name": "stdout",
          "text": [
            "train loss = 0.108\n",
            "Validation phase...\n"
          ]
        },
        {
          "output_type": "stream",
          "name": "stderr",
          "text": [
            "loss = 0.111: 100%|██████████| 37/37 [00:00<00:00, 90.37it/s]\n"
          ]
        },
        {
          "output_type": "stream",
          "name": "stdout",
          "text": [
            "validation loss = 0.127\n",
            "Epoch 15/100\n",
            "Training phase...\n"
          ]
        },
        {
          "output_type": "stream",
          "name": "stderr",
          "text": [
            "loss = 0.118: 100%|██████████| 128/128 [00:03<00:00, 38.64it/s]\n"
          ]
        },
        {
          "output_type": "stream",
          "name": "stdout",
          "text": [
            "train loss = 0.104\n",
            "Validation phase...\n"
          ]
        },
        {
          "output_type": "stream",
          "name": "stderr",
          "text": [
            "loss = 0.103: 100%|██████████| 37/37 [00:00<00:00, 91.05it/s]\n"
          ]
        },
        {
          "output_type": "stream",
          "name": "stdout",
          "text": [
            "validation loss = 0.124\n",
            "Epoch 16/100\n",
            "Training phase...\n"
          ]
        },
        {
          "output_type": "stream",
          "name": "stderr",
          "text": [
            "loss = 0.101: 100%|██████████| 128/128 [00:03<00:00, 38.29it/s]\n"
          ]
        },
        {
          "output_type": "stream",
          "name": "stdout",
          "text": [
            "train loss = 0.100\n",
            "Validation phase...\n"
          ]
        },
        {
          "output_type": "stream",
          "name": "stderr",
          "text": [
            "loss = 0.105: 100%|██████████| 37/37 [00:00<00:00, 93.62it/s]\n"
          ]
        },
        {
          "output_type": "stream",
          "name": "stdout",
          "text": [
            "validation loss = 0.121\n",
            "Epoch 17/100\n",
            "Training phase...\n"
          ]
        },
        {
          "output_type": "stream",
          "name": "stderr",
          "text": [
            "loss = 0.092: 100%|██████████| 128/128 [00:03<00:00, 37.30it/s]\n"
          ]
        },
        {
          "output_type": "stream",
          "name": "stdout",
          "text": [
            "train loss = 0.095\n",
            "Validation phase...\n"
          ]
        },
        {
          "output_type": "stream",
          "name": "stderr",
          "text": [
            "loss = 0.108: 100%|██████████| 37/37 [00:00<00:00, 86.46it/s]\n"
          ]
        },
        {
          "output_type": "stream",
          "name": "stdout",
          "text": [
            "validation loss = 0.120\n",
            "Epoch 18/100\n",
            "Training phase...\n"
          ]
        },
        {
          "output_type": "stream",
          "name": "stderr",
          "text": [
            "loss = 0.100: 100%|██████████| 128/128 [00:03<00:00, 38.37it/s]\n"
          ]
        },
        {
          "output_type": "stream",
          "name": "stdout",
          "text": [
            "train loss = 0.092\n",
            "Validation phase...\n"
          ]
        },
        {
          "output_type": "stream",
          "name": "stderr",
          "text": [
            "loss = 0.099: 100%|██████████| 37/37 [00:00<00:00, 88.59it/s]\n"
          ]
        },
        {
          "output_type": "stream",
          "name": "stdout",
          "text": [
            "validation loss = 0.118\n",
            "Epoch 19/100\n",
            "Training phase...\n"
          ]
        },
        {
          "output_type": "stream",
          "name": "stderr",
          "text": [
            "loss = 0.071: 100%|██████████| 128/128 [00:03<00:00, 37.65it/s]\n"
          ]
        },
        {
          "output_type": "stream",
          "name": "stdout",
          "text": [
            "train loss = 0.089\n",
            "Validation phase...\n"
          ]
        },
        {
          "output_type": "stream",
          "name": "stderr",
          "text": [
            "loss = 0.091: 100%|██████████| 37/37 [00:00<00:00, 94.18it/s]\n"
          ]
        },
        {
          "output_type": "stream",
          "name": "stdout",
          "text": [
            "validation loss = 0.111\n",
            "Epoch 20/100\n",
            "Training phase...\n"
          ]
        },
        {
          "output_type": "stream",
          "name": "stderr",
          "text": [
            "loss = 0.092: 100%|██████████| 128/128 [00:03<00:00, 38.46it/s]\n"
          ]
        },
        {
          "output_type": "stream",
          "name": "stdout",
          "text": [
            "train loss = 0.086\n",
            "Validation phase...\n"
          ]
        },
        {
          "output_type": "stream",
          "name": "stderr",
          "text": [
            "loss = 0.092: 100%|██████████| 37/37 [00:00<00:00, 89.36it/s]\n"
          ]
        },
        {
          "output_type": "stream",
          "name": "stdout",
          "text": [
            "validation loss = 0.114\n",
            "Epoch 21/100\n",
            "Training phase...\n"
          ]
        },
        {
          "output_type": "stream",
          "name": "stderr",
          "text": [
            "loss = 0.071: 100%|██████████| 128/128 [00:03<00:00, 38.06it/s]\n"
          ]
        },
        {
          "output_type": "stream",
          "name": "stdout",
          "text": [
            "train loss = 0.084\n",
            "Validation phase...\n"
          ]
        },
        {
          "output_type": "stream",
          "name": "stderr",
          "text": [
            "loss = 0.097: 100%|██████████| 37/37 [00:00<00:00, 84.89it/s]\n"
          ]
        },
        {
          "output_type": "stream",
          "name": "stdout",
          "text": [
            "validation loss = 0.110\n",
            "Epoch 22/100\n",
            "Training phase...\n"
          ]
        },
        {
          "output_type": "stream",
          "name": "stderr",
          "text": [
            "loss = 0.074: 100%|██████████| 128/128 [00:03<00:00, 38.09it/s]\n"
          ]
        },
        {
          "output_type": "stream",
          "name": "stdout",
          "text": [
            "train loss = 0.081\n",
            "Validation phase...\n"
          ]
        },
        {
          "output_type": "stream",
          "name": "stderr",
          "text": [
            "loss = 0.091: 100%|██████████| 37/37 [00:00<00:00, 93.47it/s]\n"
          ]
        },
        {
          "output_type": "stream",
          "name": "stdout",
          "text": [
            "validation loss = 0.110\n",
            "Epoch 23/100\n",
            "Training phase...\n"
          ]
        },
        {
          "output_type": "stream",
          "name": "stderr",
          "text": [
            "loss = 0.072: 100%|██████████| 128/128 [00:03<00:00, 37.97it/s]\n"
          ]
        },
        {
          "output_type": "stream",
          "name": "stdout",
          "text": [
            "train loss = 0.080\n",
            "Validation phase...\n"
          ]
        },
        {
          "output_type": "stream",
          "name": "stderr",
          "text": [
            "loss = 0.089: 100%|██████████| 37/37 [00:00<00:00, 94.81it/s]\n"
          ]
        },
        {
          "output_type": "stream",
          "name": "stdout",
          "text": [
            "validation loss = 0.107\n",
            "Epoch 24/100\n",
            "Training phase...\n"
          ]
        },
        {
          "output_type": "stream",
          "name": "stderr",
          "text": [
            "loss = 0.090: 100%|██████████| 128/128 [00:03<00:00, 37.34it/s]\n"
          ]
        },
        {
          "output_type": "stream",
          "name": "stdout",
          "text": [
            "train loss = 0.078\n",
            "Validation phase...\n"
          ]
        },
        {
          "output_type": "stream",
          "name": "stderr",
          "text": [
            "loss = 0.090: 100%|██████████| 37/37 [00:00<00:00, 89.82it/s]\n"
          ]
        },
        {
          "output_type": "stream",
          "name": "stdout",
          "text": [
            "validation loss = 0.106\n",
            "Epoch 25/100\n",
            "Training phase...\n"
          ]
        },
        {
          "output_type": "stream",
          "name": "stderr",
          "text": [
            "loss = 0.090: 100%|██████████| 128/128 [00:03<00:00, 37.78it/s]\n"
          ]
        },
        {
          "output_type": "stream",
          "name": "stdout",
          "text": [
            "train loss = 0.076\n",
            "Validation phase...\n"
          ]
        },
        {
          "output_type": "stream",
          "name": "stderr",
          "text": [
            "loss = 0.089: 100%|██████████| 37/37 [00:00<00:00, 87.86it/s]\n"
          ]
        },
        {
          "output_type": "stream",
          "name": "stdout",
          "text": [
            "validation loss = 0.107\n",
            "Epoch 26/100\n",
            "Training phase...\n"
          ]
        },
        {
          "output_type": "stream",
          "name": "stderr",
          "text": [
            "loss = 0.095: 100%|██████████| 128/128 [00:03<00:00, 37.60it/s]\n"
          ]
        },
        {
          "output_type": "stream",
          "name": "stdout",
          "text": [
            "train loss = 0.075\n",
            "Validation phase...\n"
          ]
        },
        {
          "output_type": "stream",
          "name": "stderr",
          "text": [
            "loss = 0.086: 100%|██████████| 37/37 [00:00<00:00, 85.90it/s]\n"
          ]
        },
        {
          "output_type": "stream",
          "name": "stdout",
          "text": [
            "validation loss = 0.104\n",
            "Epoch 27/100\n",
            "Training phase...\n"
          ]
        },
        {
          "output_type": "stream",
          "name": "stderr",
          "text": [
            "loss = 0.088: 100%|██████████| 128/128 [00:03<00:00, 37.13it/s]\n"
          ]
        },
        {
          "output_type": "stream",
          "name": "stdout",
          "text": [
            "train loss = 0.074\n",
            "Validation phase...\n"
          ]
        },
        {
          "output_type": "stream",
          "name": "stderr",
          "text": [
            "loss = 0.093: 100%|██████████| 37/37 [00:00<00:00, 83.92it/s]\n"
          ]
        },
        {
          "output_type": "stream",
          "name": "stdout",
          "text": [
            "validation loss = 0.108\n",
            "Epoch 28/100\n",
            "Training phase...\n"
          ]
        },
        {
          "output_type": "stream",
          "name": "stderr",
          "text": [
            "loss = 0.062: 100%|██████████| 128/128 [00:03<00:00, 37.13it/s]\n"
          ]
        },
        {
          "output_type": "stream",
          "name": "stdout",
          "text": [
            "train loss = 0.073\n",
            "Validation phase...\n"
          ]
        },
        {
          "output_type": "stream",
          "name": "stderr",
          "text": [
            "loss = 0.087: 100%|██████████| 37/37 [00:00<00:00, 82.81it/s]\n"
          ]
        },
        {
          "output_type": "stream",
          "name": "stdout",
          "text": [
            "validation loss = 0.103\n",
            "Epoch 29/100\n",
            "Training phase...\n"
          ]
        },
        {
          "output_type": "stream",
          "name": "stderr",
          "text": [
            "loss = 0.088: 100%|██████████| 128/128 [00:03<00:00, 36.81it/s]\n"
          ]
        },
        {
          "output_type": "stream",
          "name": "stdout",
          "text": [
            "train loss = 0.072\n",
            "Validation phase...\n"
          ]
        },
        {
          "output_type": "stream",
          "name": "stderr",
          "text": [
            "loss = 0.081: 100%|██████████| 37/37 [00:00<00:00, 88.40it/s]\n"
          ]
        },
        {
          "output_type": "stream",
          "name": "stdout",
          "text": [
            "validation loss = 0.102\n",
            "Epoch 30/100\n",
            "Training phase...\n"
          ]
        },
        {
          "output_type": "stream",
          "name": "stderr",
          "text": [
            "loss = 0.092: 100%|██████████| 128/128 [00:03<00:00, 38.11it/s]\n"
          ]
        },
        {
          "output_type": "stream",
          "name": "stdout",
          "text": [
            "train loss = 0.071\n",
            "Validation phase...\n"
          ]
        },
        {
          "output_type": "stream",
          "name": "stderr",
          "text": [
            "loss = 0.083: 100%|██████████| 37/37 [00:00<00:00, 88.63it/s]\n"
          ]
        },
        {
          "output_type": "stream",
          "name": "stdout",
          "text": [
            "validation loss = 0.101\n",
            "Epoch 31/100\n",
            "Training phase...\n"
          ]
        },
        {
          "output_type": "stream",
          "name": "stderr",
          "text": [
            "loss = 0.076: 100%|██████████| 128/128 [00:03<00:00, 37.58it/s]\n"
          ]
        },
        {
          "output_type": "stream",
          "name": "stdout",
          "text": [
            "train loss = 0.070\n",
            "Validation phase...\n"
          ]
        },
        {
          "output_type": "stream",
          "name": "stderr",
          "text": [
            "loss = 0.080: 100%|██████████| 37/37 [00:00<00:00, 88.87it/s]\n"
          ]
        },
        {
          "output_type": "stream",
          "name": "stdout",
          "text": [
            "validation loss = 0.101\n",
            "Epoch 32/100\n",
            "Training phase...\n"
          ]
        },
        {
          "output_type": "stream",
          "name": "stderr",
          "text": [
            "loss = 0.091: 100%|██████████| 128/128 [00:03<00:00, 37.25it/s]\n"
          ]
        },
        {
          "output_type": "stream",
          "name": "stdout",
          "text": [
            "train loss = 0.071\n",
            "Validation phase...\n"
          ]
        },
        {
          "output_type": "stream",
          "name": "stderr",
          "text": [
            "loss = 0.083: 100%|██████████| 37/37 [00:00<00:00, 85.54it/s]\n"
          ]
        },
        {
          "output_type": "stream",
          "name": "stdout",
          "text": [
            "validation loss = 0.101\n",
            "Epoch 33/100\n",
            "Training phase...\n"
          ]
        },
        {
          "output_type": "stream",
          "name": "stderr",
          "text": [
            "loss = 0.055: 100%|██████████| 128/128 [00:03<00:00, 37.60it/s]\n"
          ]
        },
        {
          "output_type": "stream",
          "name": "stdout",
          "text": [
            "train loss = 0.069\n",
            "Validation phase...\n"
          ]
        },
        {
          "output_type": "stream",
          "name": "stderr",
          "text": [
            "loss = 0.082: 100%|██████████| 37/37 [00:00<00:00, 84.73it/s]\n"
          ]
        },
        {
          "output_type": "stream",
          "name": "stdout",
          "text": [
            "validation loss = 0.100\n",
            "Epoch 34/100\n",
            "Training phase...\n"
          ]
        },
        {
          "output_type": "stream",
          "name": "stderr",
          "text": [
            "loss = 0.062: 100%|██████████| 128/128 [00:03<00:00, 37.26it/s]\n"
          ]
        },
        {
          "output_type": "stream",
          "name": "stdout",
          "text": [
            "train loss = 0.068\n",
            "Validation phase...\n"
          ]
        },
        {
          "output_type": "stream",
          "name": "stderr",
          "text": [
            "loss = 0.083: 100%|██████████| 37/37 [00:00<00:00, 82.90it/s]\n"
          ]
        },
        {
          "output_type": "stream",
          "name": "stdout",
          "text": [
            "validation loss = 0.102\n",
            "Epoch 35/100\n",
            "Training phase...\n"
          ]
        },
        {
          "output_type": "stream",
          "name": "stderr",
          "text": [
            "loss = 0.058: 100%|██████████| 128/128 [00:03<00:00, 36.89it/s]\n"
          ]
        },
        {
          "output_type": "stream",
          "name": "stdout",
          "text": [
            "train loss = 0.067\n",
            "Validation phase...\n"
          ]
        },
        {
          "output_type": "stream",
          "name": "stderr",
          "text": [
            "loss = 0.085: 100%|██████████| 37/37 [00:00<00:00, 88.91it/s]\n"
          ]
        },
        {
          "output_type": "stream",
          "name": "stdout",
          "text": [
            "validation loss = 0.099\n",
            "Epoch 36/100\n",
            "Training phase...\n"
          ]
        },
        {
          "output_type": "stream",
          "name": "stderr",
          "text": [
            "loss = 0.062: 100%|██████████| 128/128 [00:03<00:00, 37.67it/s]\n"
          ]
        },
        {
          "output_type": "stream",
          "name": "stdout",
          "text": [
            "train loss = 0.066\n",
            "Validation phase...\n"
          ]
        },
        {
          "output_type": "stream",
          "name": "stderr",
          "text": [
            "loss = 0.077: 100%|██████████| 37/37 [00:00<00:00, 86.68it/s]\n"
          ]
        },
        {
          "output_type": "stream",
          "name": "stdout",
          "text": [
            "validation loss = 0.100\n",
            "Epoch 37/100\n",
            "Training phase...\n"
          ]
        },
        {
          "output_type": "stream",
          "name": "stderr",
          "text": [
            "loss = 0.051: 100%|██████████| 128/128 [00:03<00:00, 37.40it/s]\n"
          ]
        },
        {
          "output_type": "stream",
          "name": "stdout",
          "text": [
            "train loss = 0.065\n",
            "Validation phase...\n"
          ]
        },
        {
          "output_type": "stream",
          "name": "stderr",
          "text": [
            "loss = 0.074: 100%|██████████| 37/37 [00:00<00:00, 88.37it/s]\n"
          ]
        },
        {
          "output_type": "stream",
          "name": "stdout",
          "text": [
            "validation loss = 0.102\n",
            "Epoch 38/100\n",
            "Training phase...\n"
          ]
        },
        {
          "output_type": "stream",
          "name": "stderr",
          "text": [
            "loss = 0.063: 100%|██████████| 128/128 [00:03<00:00, 36.86it/s]\n"
          ]
        },
        {
          "output_type": "stream",
          "name": "stdout",
          "text": [
            "train loss = 0.064\n",
            "Validation phase...\n"
          ]
        },
        {
          "output_type": "stream",
          "name": "stderr",
          "text": [
            "loss = 0.072: 100%|██████████| 37/37 [00:00<00:00, 87.80it/s]\n"
          ]
        },
        {
          "output_type": "stream",
          "name": "stdout",
          "text": [
            "validation loss = 0.097\n",
            "Epoch 39/100\n",
            "Training phase...\n"
          ]
        },
        {
          "output_type": "stream",
          "name": "stderr",
          "text": [
            "loss = 0.069: 100%|██████████| 128/128 [00:03<00:00, 37.49it/s]\n"
          ]
        },
        {
          "output_type": "stream",
          "name": "stdout",
          "text": [
            "train loss = 0.064\n",
            "Validation phase...\n"
          ]
        },
        {
          "output_type": "stream",
          "name": "stderr",
          "text": [
            "loss = 0.076: 100%|██████████| 37/37 [00:00<00:00, 84.72it/s]\n"
          ]
        },
        {
          "output_type": "stream",
          "name": "stdout",
          "text": [
            "validation loss = 0.097\n",
            "Epoch 40/100\n",
            "Training phase...\n"
          ]
        },
        {
          "output_type": "stream",
          "name": "stderr",
          "text": [
            "loss = 0.057: 100%|██████████| 128/128 [00:03<00:00, 37.27it/s]\n"
          ]
        },
        {
          "output_type": "stream",
          "name": "stdout",
          "text": [
            "train loss = 0.063\n",
            "Validation phase...\n"
          ]
        },
        {
          "output_type": "stream",
          "name": "stderr",
          "text": [
            "loss = 0.076: 100%|██████████| 37/37 [00:00<00:00, 85.96it/s]\n"
          ]
        },
        {
          "output_type": "stream",
          "name": "stdout",
          "text": [
            "validation loss = 0.096\n",
            "Epoch 41/100\n",
            "Training phase...\n"
          ]
        },
        {
          "output_type": "stream",
          "name": "stderr",
          "text": [
            "loss = 0.060: 100%|██████████| 128/128 [00:03<00:00, 37.10it/s]\n"
          ]
        },
        {
          "output_type": "stream",
          "name": "stdout",
          "text": [
            "train loss = 0.063\n",
            "Validation phase...\n"
          ]
        },
        {
          "output_type": "stream",
          "name": "stderr",
          "text": [
            "loss = 0.070: 100%|██████████| 37/37 [00:00<00:00, 85.62it/s]\n"
          ]
        },
        {
          "output_type": "stream",
          "name": "stdout",
          "text": [
            "validation loss = 0.094\n",
            "Epoch 42/100\n",
            "Training phase...\n"
          ]
        },
        {
          "output_type": "stream",
          "name": "stderr",
          "text": [
            "loss = 0.052: 100%|██████████| 128/128 [00:03<00:00, 37.26it/s]\n"
          ]
        },
        {
          "output_type": "stream",
          "name": "stdout",
          "text": [
            "train loss = 0.063\n",
            "Validation phase...\n"
          ]
        },
        {
          "output_type": "stream",
          "name": "stderr",
          "text": [
            "loss = 0.072: 100%|██████████| 37/37 [00:00<00:00, 88.24it/s]\n"
          ]
        },
        {
          "output_type": "stream",
          "name": "stdout",
          "text": [
            "validation loss = 0.093\n",
            "Epoch 43/100\n",
            "Training phase...\n"
          ]
        },
        {
          "output_type": "stream",
          "name": "stderr",
          "text": [
            "loss = 0.076: 100%|██████████| 128/128 [00:03<00:00, 37.34it/s]\n"
          ]
        },
        {
          "output_type": "stream",
          "name": "stdout",
          "text": [
            "train loss = 0.061\n",
            "Validation phase...\n"
          ]
        },
        {
          "output_type": "stream",
          "name": "stderr",
          "text": [
            "loss = 0.071: 100%|██████████| 37/37 [00:00<00:00, 86.03it/s]\n"
          ]
        },
        {
          "output_type": "stream",
          "name": "stdout",
          "text": [
            "validation loss = 0.091\n",
            "Epoch 44/100\n",
            "Training phase...\n"
          ]
        },
        {
          "output_type": "stream",
          "name": "stderr",
          "text": [
            "loss = 0.083: 100%|██████████| 128/128 [00:03<00:00, 37.09it/s]\n"
          ]
        },
        {
          "output_type": "stream",
          "name": "stdout",
          "text": [
            "train loss = 0.060\n",
            "Validation phase...\n"
          ]
        },
        {
          "output_type": "stream",
          "name": "stderr",
          "text": [
            "loss = 0.070: 100%|██████████| 37/37 [00:00<00:00, 87.30it/s]\n"
          ]
        },
        {
          "output_type": "stream",
          "name": "stdout",
          "text": [
            "validation loss = 0.093\n",
            "Epoch 45/100\n",
            "Training phase...\n"
          ]
        },
        {
          "output_type": "stream",
          "name": "stderr",
          "text": [
            "loss = 0.052: 100%|██████████| 128/128 [00:03<00:00, 37.29it/s]\n"
          ]
        },
        {
          "output_type": "stream",
          "name": "stdout",
          "text": [
            "train loss = 0.060\n",
            "Validation phase...\n"
          ]
        },
        {
          "output_type": "stream",
          "name": "stderr",
          "text": [
            "loss = 0.072: 100%|██████████| 37/37 [00:00<00:00, 86.16it/s]\n"
          ]
        },
        {
          "output_type": "stream",
          "name": "stdout",
          "text": [
            "validation loss = 0.095\n",
            "Epoch 46/100\n",
            "Training phase...\n"
          ]
        },
        {
          "output_type": "stream",
          "name": "stderr",
          "text": [
            "loss = 0.055: 100%|██████████| 128/128 [00:03<00:00, 37.56it/s]\n"
          ]
        },
        {
          "output_type": "stream",
          "name": "stdout",
          "text": [
            "train loss = 0.060\n",
            "Validation phase...\n"
          ]
        },
        {
          "output_type": "stream",
          "name": "stderr",
          "text": [
            "loss = 0.067: 100%|██████████| 37/37 [00:00<00:00, 82.09it/s]\n"
          ]
        },
        {
          "output_type": "stream",
          "name": "stdout",
          "text": [
            "validation loss = 0.091\n",
            "Epoch 47/100\n",
            "Training phase...\n"
          ]
        },
        {
          "output_type": "stream",
          "name": "stderr",
          "text": [
            "loss = 0.060: 100%|██████████| 128/128 [00:03<00:00, 37.08it/s]\n"
          ]
        },
        {
          "output_type": "stream",
          "name": "stdout",
          "text": [
            "train loss = 0.059\n",
            "Validation phase...\n"
          ]
        },
        {
          "output_type": "stream",
          "name": "stderr",
          "text": [
            "loss = 0.068: 100%|██████████| 37/37 [00:00<00:00, 85.74it/s]\n"
          ]
        },
        {
          "output_type": "stream",
          "name": "stdout",
          "text": [
            "validation loss = 0.090\n",
            "Epoch 48/100\n",
            "Training phase...\n"
          ]
        },
        {
          "output_type": "stream",
          "name": "stderr",
          "text": [
            "loss = 0.060: 100%|██████████| 128/128 [00:03<00:00, 36.65it/s]\n"
          ]
        },
        {
          "output_type": "stream",
          "name": "stdout",
          "text": [
            "train loss = 0.059\n",
            "Validation phase...\n"
          ]
        },
        {
          "output_type": "stream",
          "name": "stderr",
          "text": [
            "loss = 0.069: 100%|██████████| 37/37 [00:00<00:00, 86.17it/s]\n"
          ]
        },
        {
          "output_type": "stream",
          "name": "stdout",
          "text": [
            "validation loss = 0.088\n",
            "Epoch 49/100\n",
            "Training phase...\n"
          ]
        },
        {
          "output_type": "stream",
          "name": "stderr",
          "text": [
            "loss = 0.057: 100%|██████████| 128/128 [00:03<00:00, 37.67it/s]\n"
          ]
        },
        {
          "output_type": "stream",
          "name": "stdout",
          "text": [
            "train loss = 0.058\n",
            "Validation phase...\n"
          ]
        },
        {
          "output_type": "stream",
          "name": "stderr",
          "text": [
            "loss = 0.067: 100%|██████████| 37/37 [00:00<00:00, 89.39it/s]\n"
          ]
        },
        {
          "output_type": "stream",
          "name": "stdout",
          "text": [
            "validation loss = 0.088\n",
            "Epoch 50/100\n",
            "Training phase...\n"
          ]
        },
        {
          "output_type": "stream",
          "name": "stderr",
          "text": [
            "loss = 0.046: 100%|██████████| 128/128 [00:03<00:00, 37.02it/s]\n"
          ]
        },
        {
          "output_type": "stream",
          "name": "stdout",
          "text": [
            "train loss = 0.057\n",
            "Validation phase...\n"
          ]
        },
        {
          "output_type": "stream",
          "name": "stderr",
          "text": [
            "loss = 0.069: 100%|██████████| 37/37 [00:00<00:00, 89.16it/s]\n"
          ]
        },
        {
          "output_type": "stream",
          "name": "stdout",
          "text": [
            "validation loss = 0.088\n",
            "Epoch 51/100\n",
            "Training phase...\n"
          ]
        },
        {
          "output_type": "stream",
          "name": "stderr",
          "text": [
            "loss = 0.048: 100%|██████████| 128/128 [00:03<00:00, 37.08it/s]\n"
          ]
        },
        {
          "output_type": "stream",
          "name": "stdout",
          "text": [
            "train loss = 0.056\n",
            "Validation phase...\n"
          ]
        },
        {
          "output_type": "stream",
          "name": "stderr",
          "text": [
            "loss = 0.070: 100%|██████████| 37/37 [00:00<00:00, 87.21it/s]\n"
          ]
        },
        {
          "output_type": "stream",
          "name": "stdout",
          "text": [
            "validation loss = 0.089\n",
            "Epoch 52/100\n",
            "Training phase...\n"
          ]
        },
        {
          "output_type": "stream",
          "name": "stderr",
          "text": [
            "loss = 0.038: 100%|██████████| 128/128 [00:03<00:00, 37.12it/s]\n"
          ]
        },
        {
          "output_type": "stream",
          "name": "stdout",
          "text": [
            "train loss = 0.056\n",
            "Validation phase...\n"
          ]
        },
        {
          "output_type": "stream",
          "name": "stderr",
          "text": [
            "loss = 0.071: 100%|██████████| 37/37 [00:00<00:00, 82.78it/s]\n"
          ]
        },
        {
          "output_type": "stream",
          "name": "stdout",
          "text": [
            "validation loss = 0.088\n",
            "Epoch 53/100\n",
            "Training phase...\n"
          ]
        },
        {
          "output_type": "stream",
          "name": "stderr",
          "text": [
            "loss = 0.067: 100%|██████████| 128/128 [00:03<00:00, 37.18it/s]\n"
          ]
        },
        {
          "output_type": "stream",
          "name": "stdout",
          "text": [
            "train loss = 0.056\n",
            "Validation phase...\n"
          ]
        },
        {
          "output_type": "stream",
          "name": "stderr",
          "text": [
            "loss = 0.067: 100%|██████████| 37/37 [00:00<00:00, 80.13it/s]\n"
          ]
        },
        {
          "output_type": "stream",
          "name": "stdout",
          "text": [
            "validation loss = 0.088\n",
            "Epoch 54/100\n",
            "Training phase...\n"
          ]
        },
        {
          "output_type": "stream",
          "name": "stderr",
          "text": [
            "loss = 0.049: 100%|██████████| 128/128 [00:03<00:00, 37.26it/s]\n"
          ]
        },
        {
          "output_type": "stream",
          "name": "stdout",
          "text": [
            "train loss = 0.055\n",
            "Validation phase...\n"
          ]
        },
        {
          "output_type": "stream",
          "name": "stderr",
          "text": [
            "loss = 0.068: 100%|██████████| 37/37 [00:00<00:00, 89.60it/s]\n"
          ]
        },
        {
          "output_type": "stream",
          "name": "stdout",
          "text": [
            "validation loss = 0.086\n",
            "Epoch 55/100\n",
            "Training phase...\n"
          ]
        },
        {
          "output_type": "stream",
          "name": "stderr",
          "text": [
            "loss = 0.064: 100%|██████████| 128/128 [00:03<00:00, 36.52it/s]\n"
          ]
        },
        {
          "output_type": "stream",
          "name": "stdout",
          "text": [
            "train loss = 0.055\n",
            "Validation phase...\n"
          ]
        },
        {
          "output_type": "stream",
          "name": "stderr",
          "text": [
            "loss = 0.065: 100%|██████████| 37/37 [00:00<00:00, 86.35it/s]\n"
          ]
        },
        {
          "output_type": "stream",
          "name": "stdout",
          "text": [
            "validation loss = 0.085\n",
            "Epoch 56/100\n",
            "Training phase...\n"
          ]
        },
        {
          "output_type": "stream",
          "name": "stderr",
          "text": [
            "loss = 0.043: 100%|██████████| 128/128 [00:03<00:00, 36.90it/s]\n"
          ]
        },
        {
          "output_type": "stream",
          "name": "stdout",
          "text": [
            "train loss = 0.054\n",
            "Validation phase...\n"
          ]
        },
        {
          "output_type": "stream",
          "name": "stderr",
          "text": [
            "loss = 0.067: 100%|██████████| 37/37 [00:00<00:00, 83.74it/s]\n"
          ]
        },
        {
          "output_type": "stream",
          "name": "stdout",
          "text": [
            "validation loss = 0.083\n",
            "Epoch 57/100\n",
            "Training phase...\n"
          ]
        },
        {
          "output_type": "stream",
          "name": "stderr",
          "text": [
            "loss = 0.051: 100%|██████████| 128/128 [00:03<00:00, 36.63it/s]\n"
          ]
        },
        {
          "output_type": "stream",
          "name": "stdout",
          "text": [
            "train loss = 0.053\n",
            "Validation phase...\n"
          ]
        },
        {
          "output_type": "stream",
          "name": "stderr",
          "text": [
            "loss = 0.066: 100%|██████████| 37/37 [00:00<00:00, 85.51it/s]\n"
          ]
        },
        {
          "output_type": "stream",
          "name": "stdout",
          "text": [
            "validation loss = 0.083\n",
            "Epoch 58/100\n",
            "Training phase...\n"
          ]
        },
        {
          "output_type": "stream",
          "name": "stderr",
          "text": [
            "loss = 0.065: 100%|██████████| 128/128 [00:03<00:00, 36.74it/s]\n"
          ]
        },
        {
          "output_type": "stream",
          "name": "stdout",
          "text": [
            "train loss = 0.053\n",
            "Validation phase...\n"
          ]
        },
        {
          "output_type": "stream",
          "name": "stderr",
          "text": [
            "loss = 0.065: 100%|██████████| 37/37 [00:00<00:00, 83.58it/s]\n"
          ]
        },
        {
          "output_type": "stream",
          "name": "stdout",
          "text": [
            "validation loss = 0.083\n",
            "Epoch 59/100\n",
            "Training phase...\n"
          ]
        },
        {
          "output_type": "stream",
          "name": "stderr",
          "text": [
            "loss = 0.040: 100%|██████████| 128/128 [00:03<00:00, 37.60it/s]\n"
          ]
        },
        {
          "output_type": "stream",
          "name": "stdout",
          "text": [
            "train loss = 0.053\n",
            "Validation phase...\n"
          ]
        },
        {
          "output_type": "stream",
          "name": "stderr",
          "text": [
            "loss = 0.066: 100%|██████████| 37/37 [00:00<00:00, 89.24it/s]\n"
          ]
        },
        {
          "output_type": "stream",
          "name": "stdout",
          "text": [
            "validation loss = 0.080\n",
            "Epoch 60/100\n",
            "Training phase...\n"
          ]
        },
        {
          "output_type": "stream",
          "name": "stderr",
          "text": [
            "loss = 0.040: 100%|██████████| 128/128 [00:03<00:00, 36.89it/s]\n"
          ]
        },
        {
          "output_type": "stream",
          "name": "stdout",
          "text": [
            "train loss = 0.052\n",
            "Validation phase...\n"
          ]
        },
        {
          "output_type": "stream",
          "name": "stderr",
          "text": [
            "loss = 0.069: 100%|██████████| 37/37 [00:00<00:00, 83.71it/s]\n"
          ]
        },
        {
          "output_type": "stream",
          "name": "stdout",
          "text": [
            "validation loss = 0.082\n",
            "Epoch 61/100\n",
            "Training phase...\n"
          ]
        },
        {
          "output_type": "stream",
          "name": "stderr",
          "text": [
            "loss = 0.059: 100%|██████████| 128/128 [00:03<00:00, 36.81it/s]\n"
          ]
        },
        {
          "output_type": "stream",
          "name": "stdout",
          "text": [
            "train loss = 0.051\n",
            "Validation phase...\n"
          ]
        },
        {
          "output_type": "stream",
          "name": "stderr",
          "text": [
            "loss = 0.066: 100%|██████████| 37/37 [00:00<00:00, 91.96it/s]\n"
          ]
        },
        {
          "output_type": "stream",
          "name": "stdout",
          "text": [
            "validation loss = 0.079\n",
            "Epoch 62/100\n",
            "Training phase...\n"
          ]
        },
        {
          "output_type": "stream",
          "name": "stderr",
          "text": [
            "loss = 0.035: 100%|██████████| 128/128 [00:03<00:00, 36.25it/s]\n"
          ]
        },
        {
          "output_type": "stream",
          "name": "stdout",
          "text": [
            "train loss = 0.051\n",
            "Validation phase...\n"
          ]
        },
        {
          "output_type": "stream",
          "name": "stderr",
          "text": [
            "loss = 0.065: 100%|██████████| 37/37 [00:00<00:00, 85.41it/s]\n"
          ]
        },
        {
          "output_type": "stream",
          "name": "stdout",
          "text": [
            "validation loss = 0.080\n",
            "Epoch 63/100\n",
            "Training phase...\n"
          ]
        },
        {
          "output_type": "stream",
          "name": "stderr",
          "text": [
            "loss = 0.051: 100%|██████████| 128/128 [00:03<00:00, 37.11it/s]\n"
          ]
        },
        {
          "output_type": "stream",
          "name": "stdout",
          "text": [
            "train loss = 0.050\n",
            "Validation phase...\n"
          ]
        },
        {
          "output_type": "stream",
          "name": "stderr",
          "text": [
            "loss = 0.073: 100%|██████████| 37/37 [00:00<00:00, 83.61it/s]\n"
          ]
        },
        {
          "output_type": "stream",
          "name": "stdout",
          "text": [
            "validation loss = 0.081\n",
            "Epoch 64/100\n",
            "Training phase...\n"
          ]
        },
        {
          "output_type": "stream",
          "name": "stderr",
          "text": [
            "loss = 0.053: 100%|██████████| 128/128 [00:03<00:00, 36.59it/s]\n"
          ]
        },
        {
          "output_type": "stream",
          "name": "stdout",
          "text": [
            "train loss = 0.050\n",
            "Validation phase...\n"
          ]
        },
        {
          "output_type": "stream",
          "name": "stderr",
          "text": [
            "loss = 0.067: 100%|██████████| 37/37 [00:00<00:00, 82.23it/s]\n"
          ]
        },
        {
          "output_type": "stream",
          "name": "stdout",
          "text": [
            "validation loss = 0.080\n",
            "Epoch 65/100\n",
            "Training phase...\n"
          ]
        },
        {
          "output_type": "stream",
          "name": "stderr",
          "text": [
            "loss = 0.043: 100%|██████████| 128/128 [00:03<00:00, 36.84it/s]\n"
          ]
        },
        {
          "output_type": "stream",
          "name": "stdout",
          "text": [
            "train loss = 0.050\n",
            "Validation phase...\n"
          ]
        },
        {
          "output_type": "stream",
          "name": "stderr",
          "text": [
            "loss = 0.065: 100%|██████████| 37/37 [00:00<00:00, 85.93it/s]\n"
          ]
        },
        {
          "output_type": "stream",
          "name": "stdout",
          "text": [
            "validation loss = 0.080\n",
            "Epoch 66/100\n",
            "Training phase...\n"
          ]
        },
        {
          "output_type": "stream",
          "name": "stderr",
          "text": [
            "loss = 0.038: 100%|██████████| 128/128 [00:03<00:00, 36.83it/s]\n"
          ]
        },
        {
          "output_type": "stream",
          "name": "stdout",
          "text": [
            "train loss = 0.049\n",
            "Validation phase...\n"
          ]
        },
        {
          "output_type": "stream",
          "name": "stderr",
          "text": [
            "loss = 0.065: 100%|██████████| 37/37 [00:00<00:00, 84.55it/s]\n"
          ]
        },
        {
          "output_type": "stream",
          "name": "stdout",
          "text": [
            "validation loss = 0.084\n",
            "Epoch 67/100\n",
            "Training phase...\n"
          ]
        },
        {
          "output_type": "stream",
          "name": "stderr",
          "text": [
            "loss = 0.052: 100%|██████████| 128/128 [00:03<00:00, 36.84it/s]\n"
          ]
        },
        {
          "output_type": "stream",
          "name": "stdout",
          "text": [
            "train loss = 0.050\n",
            "Validation phase...\n"
          ]
        },
        {
          "output_type": "stream",
          "name": "stderr",
          "text": [
            "loss = 0.064: 100%|██████████| 37/37 [00:00<00:00, 83.52it/s]\n"
          ]
        },
        {
          "output_type": "stream",
          "name": "stdout",
          "text": [
            "validation loss = 0.079\n",
            "Epoch 68/100\n",
            "Training phase...\n"
          ]
        },
        {
          "output_type": "stream",
          "name": "stderr",
          "text": [
            "loss = 0.060: 100%|██████████| 128/128 [00:03<00:00, 36.43it/s]\n"
          ]
        },
        {
          "output_type": "stream",
          "name": "stdout",
          "text": [
            "train loss = 0.048\n",
            "Validation phase...\n"
          ]
        },
        {
          "output_type": "stream",
          "name": "stderr",
          "text": [
            "loss = 0.064: 100%|██████████| 37/37 [00:00<00:00, 80.73it/s]\n"
          ]
        },
        {
          "output_type": "stream",
          "name": "stdout",
          "text": [
            "validation loss = 0.075\n",
            "Epoch 69/100\n",
            "Training phase...\n"
          ]
        },
        {
          "output_type": "stream",
          "name": "stderr",
          "text": [
            "loss = 0.061: 100%|██████████| 128/128 [00:03<00:00, 36.53it/s]\n"
          ]
        },
        {
          "output_type": "stream",
          "name": "stdout",
          "text": [
            "train loss = 0.049\n",
            "Validation phase...\n"
          ]
        },
        {
          "output_type": "stream",
          "name": "stderr",
          "text": [
            "loss = 0.065: 100%|██████████| 37/37 [00:00<00:00, 85.13it/s]\n"
          ]
        },
        {
          "output_type": "stream",
          "name": "stdout",
          "text": [
            "validation loss = 0.078\n",
            "Epoch 70/100\n",
            "Training phase...\n"
          ]
        },
        {
          "output_type": "stream",
          "name": "stderr",
          "text": [
            "loss = 0.036: 100%|██████████| 128/128 [00:03<00:00, 36.42it/s]\n"
          ]
        },
        {
          "output_type": "stream",
          "name": "stdout",
          "text": [
            "train loss = 0.048\n",
            "Validation phase...\n"
          ]
        },
        {
          "output_type": "stream",
          "name": "stderr",
          "text": [
            "loss = 0.066: 100%|██████████| 37/37 [00:00<00:00, 83.24it/s]\n"
          ]
        },
        {
          "output_type": "stream",
          "name": "stdout",
          "text": [
            "validation loss = 0.078\n",
            "Epoch 71/100\n",
            "Training phase...\n"
          ]
        },
        {
          "output_type": "stream",
          "name": "stderr",
          "text": [
            "loss = 0.042: 100%|██████████| 128/128 [00:03<00:00, 36.45it/s]\n"
          ]
        },
        {
          "output_type": "stream",
          "name": "stdout",
          "text": [
            "train loss = 0.047\n",
            "Validation phase...\n"
          ]
        },
        {
          "output_type": "stream",
          "name": "stderr",
          "text": [
            "loss = 0.068: 100%|██████████| 37/37 [00:00<00:00, 78.31it/s]\n"
          ]
        },
        {
          "output_type": "stream",
          "name": "stdout",
          "text": [
            "validation loss = 0.077\n",
            "Epoch 72/100\n",
            "Training phase...\n"
          ]
        },
        {
          "output_type": "stream",
          "name": "stderr",
          "text": [
            "loss = 0.041: 100%|██████████| 128/128 [00:03<00:00, 36.76it/s]\n"
          ]
        },
        {
          "output_type": "stream",
          "name": "stdout",
          "text": [
            "train loss = 0.047\n",
            "Validation phase...\n"
          ]
        },
        {
          "output_type": "stream",
          "name": "stderr",
          "text": [
            "loss = 0.063: 100%|██████████| 37/37 [00:00<00:00, 84.17it/s]\n"
          ]
        },
        {
          "output_type": "stream",
          "name": "stdout",
          "text": [
            "validation loss = 0.076\n",
            "Epoch 73/100\n",
            "Training phase...\n"
          ]
        },
        {
          "output_type": "stream",
          "name": "stderr",
          "text": [
            "loss = 0.043: 100%|██████████| 128/128 [00:03<00:00, 36.75it/s]\n"
          ]
        },
        {
          "output_type": "stream",
          "name": "stdout",
          "text": [
            "train loss = 0.048\n",
            "Validation phase...\n"
          ]
        },
        {
          "output_type": "stream",
          "name": "stderr",
          "text": [
            "loss = 0.070: 100%|██████████| 37/37 [00:00<00:00, 85.16it/s]\n"
          ]
        },
        {
          "output_type": "stream",
          "name": "stdout",
          "text": [
            "validation loss = 0.079\n",
            "Epoch 74/100\n",
            "Training phase...\n"
          ]
        },
        {
          "output_type": "stream",
          "name": "stderr",
          "text": [
            "loss = 0.040: 100%|██████████| 128/128 [00:03<00:00, 36.39it/s]\n"
          ]
        },
        {
          "output_type": "stream",
          "name": "stdout",
          "text": [
            "train loss = 0.047\n",
            "Validation phase...\n"
          ]
        },
        {
          "output_type": "stream",
          "name": "stderr",
          "text": [
            "loss = 0.067: 100%|██████████| 37/37 [00:00<00:00, 83.14it/s]\n"
          ]
        },
        {
          "output_type": "stream",
          "name": "stdout",
          "text": [
            "validation loss = 0.077\n",
            "Epoch 75/100\n",
            "Training phase...\n"
          ]
        },
        {
          "output_type": "stream",
          "name": "stderr",
          "text": [
            "loss = 0.031: 100%|██████████| 128/128 [00:03<00:00, 36.63it/s]\n"
          ]
        },
        {
          "output_type": "stream",
          "name": "stdout",
          "text": [
            "train loss = 0.047\n",
            "Validation phase...\n"
          ]
        },
        {
          "output_type": "stream",
          "name": "stderr",
          "text": [
            "loss = 0.065: 100%|██████████| 37/37 [00:00<00:00, 82.90it/s]\n"
          ]
        },
        {
          "output_type": "stream",
          "name": "stdout",
          "text": [
            "validation loss = 0.075\n",
            "Epoch 76/100\n",
            "Training phase...\n"
          ]
        },
        {
          "output_type": "stream",
          "name": "stderr",
          "text": [
            "loss = 0.044: 100%|██████████| 128/128 [00:03<00:00, 36.20it/s]\n"
          ]
        },
        {
          "output_type": "stream",
          "name": "stdout",
          "text": [
            "train loss = 0.047\n",
            "Validation phase...\n"
          ]
        },
        {
          "output_type": "stream",
          "name": "stderr",
          "text": [
            "loss = 0.061: 100%|██████████| 37/37 [00:00<00:00, 80.54it/s]\n"
          ]
        },
        {
          "output_type": "stream",
          "name": "stdout",
          "text": [
            "validation loss = 0.073\n",
            "Epoch 77/100\n",
            "Training phase...\n"
          ]
        },
        {
          "output_type": "stream",
          "name": "stderr",
          "text": [
            "loss = 0.038: 100%|██████████| 128/128 [00:03<00:00, 36.74it/s]\n"
          ]
        },
        {
          "output_type": "stream",
          "name": "stdout",
          "text": [
            "train loss = 0.046\n",
            "Validation phase...\n"
          ]
        },
        {
          "output_type": "stream",
          "name": "stderr",
          "text": [
            "loss = 0.069: 100%|██████████| 37/37 [00:00<00:00, 79.42it/s]\n"
          ]
        },
        {
          "output_type": "stream",
          "name": "stdout",
          "text": [
            "validation loss = 0.076\n",
            "Epoch 78/100\n",
            "Training phase...\n"
          ]
        },
        {
          "output_type": "stream",
          "name": "stderr",
          "text": [
            "loss = 0.050: 100%|██████████| 128/128 [00:03<00:00, 35.59it/s]\n"
          ]
        },
        {
          "output_type": "stream",
          "name": "stdout",
          "text": [
            "train loss = 0.046\n",
            "Validation phase...\n"
          ]
        },
        {
          "output_type": "stream",
          "name": "stderr",
          "text": [
            "loss = 0.064: 100%|██████████| 37/37 [00:00<00:00, 80.92it/s]\n"
          ]
        },
        {
          "output_type": "stream",
          "name": "stdout",
          "text": [
            "validation loss = 0.076\n",
            "Epoch 79/100\n",
            "Training phase...\n"
          ]
        },
        {
          "output_type": "stream",
          "name": "stderr",
          "text": [
            "loss = 0.036: 100%|██████████| 128/128 [00:03<00:00, 36.13it/s]\n"
          ]
        },
        {
          "output_type": "stream",
          "name": "stdout",
          "text": [
            "train loss = 0.046\n",
            "Validation phase...\n"
          ]
        },
        {
          "output_type": "stream",
          "name": "stderr",
          "text": [
            "loss = 0.064: 100%|██████████| 37/37 [00:00<00:00, 75.54it/s]\n"
          ]
        },
        {
          "output_type": "stream",
          "name": "stdout",
          "text": [
            "validation loss = 0.074\n",
            "Epoch 80/100\n",
            "Training phase...\n"
          ]
        },
        {
          "output_type": "stream",
          "name": "stderr",
          "text": [
            "loss = 0.038: 100%|██████████| 128/128 [00:03<00:00, 35.57it/s]\n"
          ]
        },
        {
          "output_type": "stream",
          "name": "stdout",
          "text": [
            "train loss = 0.046\n",
            "Validation phase...\n"
          ]
        },
        {
          "output_type": "stream",
          "name": "stderr",
          "text": [
            "loss = 0.064: 100%|██████████| 37/37 [00:00<00:00, 79.00it/s]\n"
          ]
        },
        {
          "output_type": "stream",
          "name": "stdout",
          "text": [
            "validation loss = 0.075\n",
            "Epoch 81/100\n",
            "Training phase...\n"
          ]
        },
        {
          "output_type": "stream",
          "name": "stderr",
          "text": [
            "loss = 0.045: 100%|██████████| 128/128 [00:03<00:00, 35.54it/s]\n"
          ]
        },
        {
          "output_type": "stream",
          "name": "stdout",
          "text": [
            "train loss = 0.046\n",
            "Validation phase...\n"
          ]
        },
        {
          "output_type": "stream",
          "name": "stderr",
          "text": [
            "loss = 0.066: 100%|██████████| 37/37 [00:00<00:00, 76.94it/s]\n"
          ]
        },
        {
          "output_type": "stream",
          "name": "stdout",
          "text": [
            "validation loss = 0.075\n",
            "Epoch 82/100\n",
            "Training phase...\n"
          ]
        },
        {
          "output_type": "stream",
          "name": "stderr",
          "text": [
            "loss = 0.040: 100%|██████████| 128/128 [00:03<00:00, 35.31it/s]\n"
          ]
        },
        {
          "output_type": "stream",
          "name": "stdout",
          "text": [
            "train loss = 0.045\n",
            "Validation phase...\n"
          ]
        },
        {
          "output_type": "stream",
          "name": "stderr",
          "text": [
            "loss = 0.067: 100%|██████████| 37/37 [00:00<00:00, 81.87it/s]\n"
          ]
        },
        {
          "output_type": "stream",
          "name": "stdout",
          "text": [
            "validation loss = 0.074\n",
            "Epoch 83/100\n",
            "Training phase...\n"
          ]
        },
        {
          "output_type": "stream",
          "name": "stderr",
          "text": [
            "loss = 0.047: 100%|██████████| 128/128 [00:03<00:00, 35.93it/s]\n"
          ]
        },
        {
          "output_type": "stream",
          "name": "stdout",
          "text": [
            "train loss = 0.045\n",
            "Validation phase...\n"
          ]
        },
        {
          "output_type": "stream",
          "name": "stderr",
          "text": [
            "loss = 0.064: 100%|██████████| 37/37 [00:00<00:00, 74.89it/s]\n"
          ]
        },
        {
          "output_type": "stream",
          "name": "stdout",
          "text": [
            "validation loss = 0.074\n",
            "Epoch 84/100\n",
            "Training phase...\n"
          ]
        },
        {
          "output_type": "stream",
          "name": "stderr",
          "text": [
            "loss = 0.041: 100%|██████████| 128/128 [00:03<00:00, 35.40it/s]\n"
          ]
        },
        {
          "output_type": "stream",
          "name": "stdout",
          "text": [
            "train loss = 0.044\n",
            "Validation phase...\n"
          ]
        },
        {
          "output_type": "stream",
          "name": "stderr",
          "text": [
            "loss = 0.067: 100%|██████████| 37/37 [00:00<00:00, 81.01it/s]\n"
          ]
        },
        {
          "output_type": "stream",
          "name": "stdout",
          "text": [
            "validation loss = 0.074\n",
            "Epoch 85/100\n",
            "Training phase...\n"
          ]
        },
        {
          "output_type": "stream",
          "name": "stderr",
          "text": [
            "loss = 0.041: 100%|██████████| 128/128 [00:03<00:00, 34.93it/s]\n"
          ]
        },
        {
          "output_type": "stream",
          "name": "stdout",
          "text": [
            "train loss = 0.044\n",
            "Validation phase...\n"
          ]
        },
        {
          "output_type": "stream",
          "name": "stderr",
          "text": [
            "loss = 0.064: 100%|██████████| 37/37 [00:00<00:00, 77.97it/s]\n"
          ]
        },
        {
          "output_type": "stream",
          "name": "stdout",
          "text": [
            "validation loss = 0.073\n",
            "Epoch 86/100\n",
            "Training phase...\n"
          ]
        },
        {
          "output_type": "stream",
          "name": "stderr",
          "text": [
            "loss = 0.052: 100%|██████████| 128/128 [00:03<00:00, 35.47it/s]\n"
          ]
        },
        {
          "output_type": "stream",
          "name": "stdout",
          "text": [
            "train loss = 0.045\n",
            "Validation phase...\n"
          ]
        },
        {
          "output_type": "stream",
          "name": "stderr",
          "text": [
            "loss = 0.064: 100%|██████████| 37/37 [00:00<00:00, 80.60it/s]\n"
          ]
        },
        {
          "output_type": "stream",
          "name": "stdout",
          "text": [
            "validation loss = 0.073\n",
            "Epoch 87/100\n",
            "Training phase...\n"
          ]
        },
        {
          "output_type": "stream",
          "name": "stderr",
          "text": [
            "loss = 0.036: 100%|██████████| 128/128 [00:03<00:00, 35.51it/s]\n"
          ]
        },
        {
          "output_type": "stream",
          "name": "stdout",
          "text": [
            "train loss = 0.044\n",
            "Validation phase...\n"
          ]
        },
        {
          "output_type": "stream",
          "name": "stderr",
          "text": [
            "loss = 0.062: 100%|██████████| 37/37 [00:00<00:00, 80.36it/s]\n"
          ]
        },
        {
          "output_type": "stream",
          "name": "stdout",
          "text": [
            "validation loss = 0.072\n",
            "Epoch 88/100\n",
            "Training phase...\n"
          ]
        },
        {
          "output_type": "stream",
          "name": "stderr",
          "text": [
            "loss = 0.031: 100%|██████████| 128/128 [00:03<00:00, 35.40it/s]\n"
          ]
        },
        {
          "output_type": "stream",
          "name": "stdout",
          "text": [
            "train loss = 0.044\n",
            "Validation phase...\n"
          ]
        },
        {
          "output_type": "stream",
          "name": "stderr",
          "text": [
            "loss = 0.063: 100%|██████████| 37/37 [00:00<00:00, 76.69it/s]\n"
          ]
        },
        {
          "output_type": "stream",
          "name": "stdout",
          "text": [
            "validation loss = 0.074\n",
            "Epoch 89/100\n",
            "Training phase...\n"
          ]
        },
        {
          "output_type": "stream",
          "name": "stderr",
          "text": [
            "loss = 0.038: 100%|██████████| 128/128 [00:03<00:00, 35.40it/s]\n"
          ]
        },
        {
          "output_type": "stream",
          "name": "stdout",
          "text": [
            "train loss = 0.043\n",
            "Validation phase...\n"
          ]
        },
        {
          "output_type": "stream",
          "name": "stderr",
          "text": [
            "loss = 0.064: 100%|██████████| 37/37 [00:00<00:00, 80.58it/s]\n"
          ]
        },
        {
          "output_type": "stream",
          "name": "stdout",
          "text": [
            "validation loss = 0.073\n",
            "Epoch 90/100\n",
            "Training phase...\n"
          ]
        },
        {
          "output_type": "stream",
          "name": "stderr",
          "text": [
            "loss = 0.032: 100%|██████████| 128/128 [00:03<00:00, 35.35it/s]\n"
          ]
        },
        {
          "output_type": "stream",
          "name": "stdout",
          "text": [
            "train loss = 0.044\n",
            "Validation phase...\n"
          ]
        },
        {
          "output_type": "stream",
          "name": "stderr",
          "text": [
            "loss = 0.064: 100%|██████████| 37/37 [00:00<00:00, 82.39it/s]\n"
          ]
        },
        {
          "output_type": "stream",
          "name": "stdout",
          "text": [
            "validation loss = 0.074\n",
            "Epoch 91/100\n",
            "Training phase...\n"
          ]
        },
        {
          "output_type": "stream",
          "name": "stderr",
          "text": [
            "loss = 0.044: 100%|██████████| 128/128 [00:03<00:00, 35.71it/s]\n"
          ]
        },
        {
          "output_type": "stream",
          "name": "stdout",
          "text": [
            "train loss = 0.043\n",
            "Validation phase...\n"
          ]
        },
        {
          "output_type": "stream",
          "name": "stderr",
          "text": [
            "loss = 0.062: 100%|██████████| 37/37 [00:00<00:00, 78.93it/s]\n"
          ]
        },
        {
          "output_type": "stream",
          "name": "stdout",
          "text": [
            "validation loss = 0.071\n",
            "Epoch 92/100\n",
            "Training phase...\n"
          ]
        },
        {
          "output_type": "stream",
          "name": "stderr",
          "text": [
            "loss = 0.049: 100%|██████████| 128/128 [00:03<00:00, 35.52it/s]\n"
          ]
        },
        {
          "output_type": "stream",
          "name": "stdout",
          "text": [
            "train loss = 0.043\n",
            "Validation phase...\n"
          ]
        },
        {
          "output_type": "stream",
          "name": "stderr",
          "text": [
            "loss = 0.062: 100%|██████████| 37/37 [00:00<00:00, 80.84it/s]\n"
          ]
        },
        {
          "output_type": "stream",
          "name": "stdout",
          "text": [
            "validation loss = 0.072\n",
            "Epoch 93/100\n",
            "Training phase...\n"
          ]
        },
        {
          "output_type": "stream",
          "name": "stderr",
          "text": [
            "loss = 0.039: 100%|██████████| 128/128 [00:03<00:00, 35.62it/s]\n"
          ]
        },
        {
          "output_type": "stream",
          "name": "stdout",
          "text": [
            "train loss = 0.043\n",
            "Validation phase...\n"
          ]
        },
        {
          "output_type": "stream",
          "name": "stderr",
          "text": [
            "loss = 0.061: 100%|██████████| 37/37 [00:00<00:00, 83.91it/s]\n"
          ]
        },
        {
          "output_type": "stream",
          "name": "stdout",
          "text": [
            "validation loss = 0.070\n",
            "Epoch 94/100\n",
            "Training phase...\n"
          ]
        },
        {
          "output_type": "stream",
          "name": "stderr",
          "text": [
            "loss = 0.054: 100%|██████████| 128/128 [00:03<00:00, 35.69it/s]\n"
          ]
        },
        {
          "output_type": "stream",
          "name": "stdout",
          "text": [
            "train loss = 0.043\n",
            "Validation phase...\n"
          ]
        },
        {
          "output_type": "stream",
          "name": "stderr",
          "text": [
            "loss = 0.061: 100%|██████████| 37/37 [00:00<00:00, 86.11it/s]\n"
          ]
        },
        {
          "output_type": "stream",
          "name": "stdout",
          "text": [
            "validation loss = 0.073\n",
            "Epoch 95/100\n",
            "Training phase...\n"
          ]
        },
        {
          "output_type": "stream",
          "name": "stderr",
          "text": [
            "loss = 0.050: 100%|██████████| 128/128 [00:03<00:00, 35.51it/s]\n"
          ]
        },
        {
          "output_type": "stream",
          "name": "stdout",
          "text": [
            "train loss = 0.043\n",
            "Validation phase...\n"
          ]
        },
        {
          "output_type": "stream",
          "name": "stderr",
          "text": [
            "loss = 0.065: 100%|██████████| 37/37 [00:00<00:00, 82.48it/s]\n"
          ]
        },
        {
          "output_type": "stream",
          "name": "stdout",
          "text": [
            "validation loss = 0.071\n",
            "Epoch 96/100\n",
            "Training phase...\n"
          ]
        },
        {
          "output_type": "stream",
          "name": "stderr",
          "text": [
            "loss = 0.048: 100%|██████████| 128/128 [00:03<00:00, 35.57it/s]\n"
          ]
        },
        {
          "output_type": "stream",
          "name": "stdout",
          "text": [
            "train loss = 0.043\n",
            "Validation phase...\n"
          ]
        },
        {
          "output_type": "stream",
          "name": "stderr",
          "text": [
            "loss = 0.062: 100%|██████████| 37/37 [00:00<00:00, 82.65it/s]\n"
          ]
        },
        {
          "output_type": "stream",
          "name": "stdout",
          "text": [
            "validation loss = 0.071\n",
            "Epoch 97/100\n",
            "Training phase...\n"
          ]
        },
        {
          "output_type": "stream",
          "name": "stderr",
          "text": [
            "loss = 0.043: 100%|██████████| 128/128 [00:03<00:00, 35.03it/s]\n"
          ]
        },
        {
          "output_type": "stream",
          "name": "stdout",
          "text": [
            "train loss = 0.042\n",
            "Validation phase...\n"
          ]
        },
        {
          "output_type": "stream",
          "name": "stderr",
          "text": [
            "loss = 0.061: 100%|██████████| 37/37 [00:00<00:00, 82.08it/s]\n"
          ]
        },
        {
          "output_type": "stream",
          "name": "stdout",
          "text": [
            "validation loss = 0.071\n",
            "Epoch 98/100\n",
            "Training phase...\n"
          ]
        },
        {
          "output_type": "stream",
          "name": "stderr",
          "text": [
            "loss = 0.042: 100%|██████████| 128/128 [00:03<00:00, 35.76it/s]\n"
          ]
        },
        {
          "output_type": "stream",
          "name": "stdout",
          "text": [
            "train loss = 0.042\n",
            "Validation phase...\n"
          ]
        },
        {
          "output_type": "stream",
          "name": "stderr",
          "text": [
            "loss = 0.068: 100%|██████████| 37/37 [00:00<00:00, 83.74it/s]\n"
          ]
        },
        {
          "output_type": "stream",
          "name": "stdout",
          "text": [
            "validation loss = 0.075\n",
            "Epoch 99/100\n",
            "Training phase...\n"
          ]
        },
        {
          "output_type": "stream",
          "name": "stderr",
          "text": [
            "loss = 0.039: 100%|██████████| 128/128 [00:03<00:00, 36.23it/s]\n"
          ]
        },
        {
          "output_type": "stream",
          "name": "stdout",
          "text": [
            "train loss = 0.042\n",
            "Validation phase...\n"
          ]
        },
        {
          "output_type": "stream",
          "name": "stderr",
          "text": [
            "loss = 0.062: 100%|██████████| 37/37 [00:00<00:00, 81.30it/s]\n"
          ]
        },
        {
          "output_type": "stream",
          "name": "stdout",
          "text": [
            "validation loss = 0.072\n",
            "Epoch 100/100\n",
            "Training phase...\n"
          ]
        },
        {
          "output_type": "stream",
          "name": "stderr",
          "text": [
            "loss = 0.046: 100%|██████████| 128/128 [00:03<00:00, 35.41it/s]\n"
          ]
        },
        {
          "output_type": "stream",
          "name": "stdout",
          "text": [
            "train loss = 0.042\n",
            "Validation phase...\n"
          ]
        },
        {
          "output_type": "stream",
          "name": "stderr",
          "text": [
            "loss = 0.057: 100%|██████████| 37/37 [00:00<00:00, 81.91it/s]"
          ]
        },
        {
          "output_type": "stream",
          "name": "stdout",
          "text": [
            "validation loss = 0.075\n"
          ]
        },
        {
          "output_type": "stream",
          "name": "stderr",
          "text": [
            "\n"
          ]
        }
      ],
      "source": [
        "train_loss, val_loss = fit(model, train_loader, val_loader, optimizer, num_epochs=NUM_EPOCHS, device=DEVICE)"
      ]
    },
    {
      "cell_type": "code",
      "execution_count": null,
      "id": "8fe3fa83",
      "metadata": {
        "colab": {
          "base_uri": "https://localhost:8080/",
          "height": 281
        },
        "id": "8fe3fa83",
        "outputId": "a3e72c62-e4d3-4a22-f7c6-779b8307d117"
      },
      "outputs": [
        {
          "output_type": "display_data",
          "data": {
            "text/plain": [
              "<Figure size 432x288 with 1 Axes>"
            ],
            "image/png": "[encoded data removed]"
          },
          "metadata": {
            "needs_background": "light"
          }
        }
      ],
      "source": [
        "plt.title('Train and validation losses')\n",
        "plt.plot(range(len(train_loss)), train_loss, label='train loss')\n",
        "plt.plot(range(len(val_loss)), val_loss, label='validation loss')\n",
        "plt.legend()\n",
        "plt.show()"
      ]
    },
    {
      "cell_type": "markdown",
      "id": "63981388",
      "metadata": {
        "id": "63981388"
      },
      "source": [
        "Save the trained model to a file."
      ]
    },
    {
      "cell_type": "code",
      "execution_count": null,
      "id": "d315864a",
      "metadata": {
        "id": "d315864a"
      },
      "outputs": [],
      "source": [
        "torch.save(model.state_dict(), 'model.pt')"
      ]
    },
    {
      "cell_type": "markdown",
      "id": "6d010556",
      "metadata": {
        "id": "6d010556"
      },
      "source": [
        "Compute the loss on the test set."
      ]
    },
    {
      "cell_type": "code",
      "execution_count": null,
      "id": "0a0c5c6e",
      "metadata": {
        "colab": {
          "base_uri": "https://localhost:8080/"
        },
        "id": "0a0c5c6e",
        "outputId": "2a47aaa9-5b22-4fab-8263-77ccf4613d71"
      },
      "outputs": [
        {
          "output_type": "stream",
          "name": "stderr",
          "text": [
            "loss = 0.057: 100%|██████████| 37/37 [00:00<00:00, 96.28it/s]"
          ]
        },
        {
          "output_type": "stream",
          "name": "stdout",
          "text": [
            "Test loss = 0.075\n"
          ]
        },
        {
          "output_type": "stream",
          "name": "stderr",
          "text": [
            "\n"
          ]
        }
      ],
      "source": [
        "test_loss = evaluate(model, val_loader, device=DEVICE)\n",
        "print(f'Test loss = {test_loss:.3f}')"
      ]
    },
    {
      "cell_type": "markdown",
      "id": "1034faff",
      "metadata": {
        "id": "1034faff"
      },
      "source": [
        "Now you will implement a `predict` function, which returns a `list` with the predictions of your model for each of the examples in the `data_loader`. This should be very similar to the `evaluate` function that you've written before, except that now there is no loss to be computed."
      ]
    },
    {
      "cell_type": "code",
      "execution_count": null,
      "id": "dc0f0f0c",
      "metadata": {
        "id": "dc0f0f0c"
      },
      "outputs": [],
      "source": [
        "def predict(model, data_loader, **kwargs):\n",
        "    num_steps = kwargs.get('num_steps', 24)\n",
        "    device = kwargs.get('device', torch.device('cpu'))\n",
        "    \n",
        "    model.eval()\n",
        "    preds = []\n",
        "    pbar = tqdm(enumerate(data_loader), total=len(data_loader))\n",
        "    for i, batch in pbar:\n",
        "        ## YOUR CODE HERE ##\n",
        "        batch[\"inputs\"] = batch[\"inputs\"].to(device)\n",
        "        batch[\"targets\"] = batch[\"targets\"].to(device)\n",
        "        num_steps = batch[\"targets\"].shape[1] # batch_size, time, dim\n",
        "        with torch.no_grad(): # no need to compute gradients\n",
        "            batch_preds = model(batch[\"inputs\"], num_steps)\n",
        "        for pred in batch_preds: # store each prediction from batch\n",
        "            preds.append(pred.cpu())\n",
        "        ## *** ##\n",
        "    return preds"
      ]
    },
    {
      "cell_type": "code",
      "execution_count": null,
      "id": "89da9071",
      "metadata": {
        "colab": {
          "base_uri": "https://localhost:8080/"
        },
        "id": "89da9071",
        "outputId": "59382c16-dc63-4ada-fe02-0797e58b3499"
      },
      "outputs": [
        {
          "output_type": "stream",
          "name": "stderr",
          "text": [
            "100%|██████████| 19/19 [00:00<00:00, 195.61it/s]\n"
          ]
        }
      ],
      "source": [
        "test_preds = predict(model, test_loader, num_steps=TARGET_WIDTH, device=DEVICE)"
      ]
    },
    {
      "cell_type": "markdown",
      "id": "b90a6fe8",
      "metadata": {
        "id": "b90a6fe8"
      },
      "source": [
        "Finally, let's visualize a few predictions of our model. You can run the cell below multiple times to visualize the temperature predictions for different examples."
      ]
    },
    {
      "cell_type": "code",
      "execution_count": null,
      "id": "bdbd49f9",
      "metadata": {
        "colab": {
          "base_uri": "https://localhost:8080/",
          "height": 803
        },
        "id": "bdbd49f9",
        "outputId": "8afe15bf-bafc-45ad-b368-6c25d316f5b0"
      },
      "outputs": [
        {
          "output_type": "display_data",
          "data": {
            "text/plain": [
              "<Figure size 432x288 with 1 Axes>"
            ],
            "image/png": "[encoded data removed]"
          },
          "metadata": {
            "needs_background": "light"
          }
        },
        {
          "output_type": "display_data",
          "data": {
            "text/plain": [
              "<Figure size 432x288 with 1 Axes>"
            ],
            "image/png": "[encoded data removed]"
          },
          "metadata": {
            "needs_background": "light"
          }
        },
        {
          "output_type": "display_data",
          "data": {
            "text/plain": [
              "<Figure size 432x288 with 1 Axes>"
            ],
            "image/png": "[encoded data removed]"
          },
          "metadata": {
            "needs_background": "light"
          }
        }
      ],
      "source": [
        "idx = random.randint(0, len(test_data))\n",
        "inputs = test_data[idx]['inputs'].numpy()\n",
        "targets = test_data[idx]['targets'].numpy()\n",
        "preds = test_preds[idx].numpy()\n",
        "\n",
        "for i in [1, 2, 3]:\n",
        "    plt.plot(range(INPUT_WIDTH), inputs[:,i], label='input')\n",
        "    plt.plot(range(INPUT_WIDTH, INPUT_WIDTH + TARGET_WIDTH), targets[:,i], label='target')\n",
        "    plt.plot(range(INPUT_WIDTH, INPUT_WIDTH + TARGET_WIDTH), preds[:,i], label='prediction')\n",
        "    plt.ylabel(test_df.columns[i])\n",
        "    plt.xlabel('Time')\n",
        "    plt.legend()\n",
        "    plt.show()"
      ]
    },
    {
      "cell_type": "markdown",
      "id": "43e6355b",
      "metadata": {
        "id": "43e6355b"
      },
      "source": [
        "## Playground\n",
        "\n",
        "Now, it's time for you to be creative! Try to find ways of improving the model. You can start by playing around with hyperparameters and then going for more complex stuff, like adding more layers or even trying with a different architecture. Perhaps, on this problem, a convolutional network works better than a recurrent one, who knows?\n",
        "\n",
        "**Don't be afraid to try! Good luck! :)**"
      ]
    },
    {
      "cell_type": "code",
      "execution_count": null,
      "id": "0bbbd937",
      "metadata": {
        "id": "0bbbd937"
      },
      "outputs": [],
      "source": []
    }
  ],
  "metadata": {
    "kernelspec": {
      "display_name": "Python 3 (ipykernel)",
      "language": "python",
      "name": "python3"
    },
    "language_info": {
      "codemirror_mode": {
        "name": "ipython",
        "version": 3
      },
      "file_extension": ".py",
      "mimetype": "text/x-python",
      "name": "python",
      "nbconvert_exporter": "python",
      "pygments_lexer": "ipython3",
      "version": "3.8.11"
    },
    "colab": {
      "provenance": [],
      "collapsed_sections": [],
      "include_colab_link": true
    },
    "accelerator": "GPU"
  },
  "nbformat": 4,
  "nbformat_minor": 5
}