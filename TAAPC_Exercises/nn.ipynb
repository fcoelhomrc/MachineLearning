{
 "cells": [
  {
   "cell_type": "markdown",
   "metadata": {},
   "source": [
    "# Neural Networks"
   ]
  },
  {
   "cell_type": "code",
   "execution_count": null,
   "metadata": {},
   "outputs": [],
   "source": [
    "!pip install keras\n",
    "!pip install tensorflow"
   ]
  },
  {
   "cell_type": "code",
   "execution_count": null,
   "metadata": {},
   "outputs": [],
   "source": [
    "import matplotlib.pyplot as plt\n",
    "from keras.datasets import cifar10\n",
    "import keras.utils.np_utils as np_utils\n",
    "import numpy as np"
   ]
  },
  {
   "cell_type": "markdown",
   "metadata": {},
   "source": [
    "## Load dataset"
   ]
  },
  {
   "cell_type": "code",
   "execution_count": null,
   "metadata": {},
   "outputs": [],
   "source": [
    "def loadMNISTdataset():\n",
    "    (x_train, y_train), (x_test, y_test) = cifar10.load_data()\n",
    "    width, height = (x_train.shape[1], x_train.shape[2])\n",
    "\n",
    "    # Reshape dataset to have a single channel, \n",
    "    # converting from integers to floats, and  \n",
    "    # normalizing they range to [0-1]\n",
    "    x_train = x_train.reshape(x_train.shape[0], 3*width*height).astype('float32') / 255\n",
    "    x_test = x_test.reshape(x_test.shape[0], 3*width*height).astype('float32') / 255\n",
    "\n",
    "    # Converting to one-hot encode for the target values\n",
    "    y_train = np_utils.to_categorical(y_train, 10)\n",
    "    y_test = np_utils.to_categorical(y_test, 10)\n",
    "    return (x_train, y_train, x_test, y_test, width, height)\n"
   ]
  },
  {
   "cell_type": "code",
   "execution_count": null,
   "metadata": {},
   "outputs": [],
   "source": [
    "TODO"
   ]
  },
  {
   "cell_type": "markdown",
   "metadata": {},
   "source": [
    "## Defining the model"
   ]
  },
  {
   "cell_type": "code",
   "execution_count": null,
   "metadata": {},
   "outputs": [],
   "source": [
    "from keras.models import Sequential\n",
    "from keras.layers import Dense\n",
    "\n",
    "TODO"
   ]
  },
  {
   "cell_type": "markdown",
   "metadata": {},
   "source": [
    "## Train Model"
   ]
  },
  {
   "cell_type": "code",
   "execution_count": null,
   "metadata": {},
   "outputs": [],
   "source": [
    "nEpochs = 30\n",
    "batchSize = 64"
   ]
  },
  {
   "cell_type": "code",
   "execution_count": null,
   "metadata": {},
   "outputs": [],
   "source": [
    "TODO"
   ]
  },
  {
   "cell_type": "code",
   "execution_count": null,
   "metadata": {},
   "outputs": [],
   "source": [
    "def plotTrainingHistory(history):\n",
    "    plt.subplot(2, 1, 1)\n",
    "    plt.title('Cross Entropy Loss')\n",
    "    plt.plot(history.history['loss'], color='blue', label='train')\n",
    "    plt.plot(history.history['val_loss'], color='gray', label='test')\n",
    "\n",
    "    plt.subplot(2, 1, 2)\n",
    "    plt.title('Classification Accuracy')\n",
    "    plt.plot(history.history['accuracy'], color='orange', label='train')\n",
    "    plt.plot(history.history['val_accuracy'], color='gray', label='test')\n",
    "\n",
    "    plt.tight_layout()\n",
    "    plt.show()"
   ]
  },
  {
   "cell_type": "code",
   "execution_count": null,
   "metadata": {},
   "outputs": [],
   "source": [
    "TODO"
   ]
  },
  {
   "cell_type": "markdown",
   "metadata": {},
   "source": [
    "## Test the model"
   ]
  },
  {
   "cell_type": "code",
   "execution_count": null,
   "metadata": {},
   "outputs": [],
   "source": [
    "def showErrors(model, x_test, y_test, width, height):\n",
    "    y_hat = np.argmax(model.predict(x_test), axis=-1)\n",
    "    y_test_array = y_test.argmax(1)\n",
    "    test_wrong = [im for im in zip(x_test,y_hat,y_test_array) if im[1] != im[2]]\n",
    "    plt.figure(figsize=(15, 15))\n",
    "    for ind, val in enumerate(test_wrong[:20]):\n",
    "        plt.subplot(10, 10, ind + 1)\n",
    "        im = 1 - val[0].reshape((width,height,3))\n",
    "        plt.axis(\"off\")\n",
    "        plt.text(0, 0, val[2], fontsize=14, color='green') # correct\n",
    "        plt.text(8, 0, val[1], fontsize=14, color='red')  # predicted\n",
    "        plt.imshow(im, cmap='gray')\n",
    "    plt.show()"
   ]
  },
  {
   "cell_type": "code",
   "execution_count": null,
   "metadata": {},
   "outputs": [],
   "source": [
    "TODO"
   ]
  }
 ],
 "metadata": {
  "kernelspec": {
   "display_name": "Python 3.9.2 64-bit ('vcom')",
   "name": "python392jvsc74a57bd01527a530903c8d1e0d3d30cd35c0c0956b65f5a8de1e892ef51f1fc21e27124f"
  },
  "language_info": {
   "codemirror_mode": {
    "name": "ipython",
    "version": 3
   },
   "file_extension": ".py",
   "mimetype": "text/x-python",
   "name": "python",
   "nbconvert_exporter": "python",
   "pygments_lexer": "ipython3",
   "version": "3.9.2"
  },
  "orig_nbformat": 2
 },
 "nbformat": 4,
 "nbformat_minor": 2
}
