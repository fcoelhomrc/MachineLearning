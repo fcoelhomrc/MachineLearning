{
  "cells": [
    {
      "cell_type": "markdown",
      "metadata": {
        "id": "view-in-github",
        "colab_type": "text"
      },
      "source": [
        "<a href=\"https://colab.research.google.com/github/fcoelhomrc/MachineLearning/blob/main/TAAPC_Assignments%5Cassignment_2.ipynb\" target=\"_parent\"><img src=\"https://colab.research.google.com/assets/colab-badge.svg\" alt=\"Open In Colab\"/></a>"
      ]
    },
    {
      "cell_type": "code",
      "execution_count": 162,
      "id": "d34d6379",
      "metadata": {
        "id": "d34d6379"
      },
      "outputs": [],
      "source": [
        "import numpy as np\n",
        "import matplotlib.pyplot as plt\n",
        "import pandas as pd\n",
        "import torch\n",
        "import torch.nn as nn\n",
        "import torchtext\n",
        "from collections import Counter, OrderedDict"
      ]
    },
    {
      "cell_type": "code",
      "execution_count": 60,
      "id": "74edbc6b",
      "metadata": {
        "id": "74edbc6b"
      },
      "outputs": [],
      "source": [
        "url_train = \"https://raw.githubusercontent.com/fcoelhomrc/MachineLearning/main/TAAPC_Assignments/imdb_train.csv\"\n",
        "url_test = \"https://raw.githubusercontent.com/fcoelhomrc/MachineLearning/main/TAAPC_Assignments/imdb_test.csv\"\n",
        "\n",
        "imdb_train = pd.read_csv(url_train)\n",
        "imdb_test = pd.read_csv(url_test, names=imdb_train.columns)"
      ]
    },
    {
      "cell_type": "code",
      "source": [
        "imdb_test.head()"
      ],
      "metadata": {
        "colab": {
          "base_uri": "https://localhost:8080/",
          "height": 206
        },
        "id": "YUFQM873GYbT",
        "outputId": "5634f5b7-914d-401b-bcc3-46f97f87aab4"
      },
      "id": "YUFQM873GYbT",
      "execution_count": 61,
      "outputs": [
        {
          "output_type": "execute_result",
          "data": {
            "text/plain": [
              "                                              review sentiment\n",
              "0  I saw the film many times, and every time I am...  negative\n",
              "1  I loved KOLCHAK: THE NIGHT STALKER since I saw...  positive\n",
              "2  This feels as if it is a Czech version of Pear...  positive\n",
              "3  When, oh, when will someone like Anchor Bay or...  positive\n",
              "4  \"Just before dawn \" is one of the best slasher...  positive"
            ],
            "text/html": [
              "\n",
              "  <div id=\"df-e1f0b6c3-3d89-4885-a094-6186a2c6f5b6\">\n",
              "    <div class=\"colab-df-container\">\n",
              "      <div>\n",
              "<style scoped>\n",
              "    .dataframe tbody tr th:only-of-type {\n",
              "        vertical-align: middle;\n",
              "    }\n",
              "\n",
              "    .dataframe tbody tr th {\n",
              "        vertical-align: top;\n",
              "    }\n",
              "\n",
              "    .dataframe thead th {\n",
              "        text-align: right;\n",
              "    }\n",
              "</style>\n",
              "<table border=\"1\" class=\"dataframe\">\n",
              "  <thead>\n",
              "    <tr style=\"text-align: right;\">\n",
              "      <th></th>\n",
              "      <th>review</th>\n",
              "      <th>sentiment</th>\n",
              "    </tr>\n",
              "  </thead>\n",
              "  <tbody>\n",
              "    <tr>\n",
              "      <th>0</th>\n",
              "      <td>I saw the film many times, and every time I am...</td>\n",
              "      <td>negative</td>\n",
              "    </tr>\n",
              "    <tr>\n",
              "      <th>1</th>\n",
              "      <td>I loved KOLCHAK: THE NIGHT STALKER since I saw...</td>\n",
              "      <td>positive</td>\n",
              "    </tr>\n",
              "    <tr>\n",
              "      <th>2</th>\n",
              "      <td>This feels as if it is a Czech version of Pear...</td>\n",
              "      <td>positive</td>\n",
              "    </tr>\n",
              "    <tr>\n",
              "      <th>3</th>\n",
              "      <td>When, oh, when will someone like Anchor Bay or...</td>\n",
              "      <td>positive</td>\n",
              "    </tr>\n",
              "    <tr>\n",
              "      <th>4</th>\n",
              "      <td>\"Just before dawn \" is one of the best slasher...</td>\n",
              "      <td>positive</td>\n",
              "    </tr>\n",
              "  </tbody>\n",
              "</table>\n",
              "</div>\n",
              "      <button class=\"colab-df-convert\" onclick=\"convertToInteractive('df-e1f0b6c3-3d89-4885-a094-6186a2c6f5b6')\"\n",
              "              title=\"Convert this dataframe to an interactive table.\"\n",
              "              style=\"display:none;\">\n",
              "        \n",
              "  <svg xmlns=\"http://www.w3.org/2000/svg\" height=\"24px\"viewBox=\"0 0 24 24\"\n",
              "       width=\"24px\">\n",
              "    <path d=\"M0 0h24v24H0V0z\" fill=\"none\"/>\n",
              "    <path d=\"M18.56 5.44l.94 2.06.94-2.06 2.06-.94-2.06-.94-.94-2.06-.94 2.06-2.06.94zm-11 1L8.5 8.5l.94-2.06 2.06-.94-2.06-.94L8.5 2.5l-.94 2.06-2.06.94zm10 10l.94 2.06.94-2.06 2.06-.94-2.06-.94-.94-2.06-.94 2.06-2.06.94z\"/><path d=\"M17.41 7.96l-1.37-1.37c-.4-.4-.92-.59-1.43-.59-.52 0-1.04.2-1.43.59L10.3 9.45l-7.72 7.72c-.78.78-.78 2.05 0 2.83L4 21.41c.39.39.9.59 1.41.59.51 0 1.02-.2 1.41-.59l7.78-7.78 2.81-2.81c.8-.78.8-2.07 0-2.86zM5.41 20L4 18.59l7.72-7.72 1.47 1.35L5.41 20z\"/>\n",
              "  </svg>\n",
              "      </button>\n",
              "      \n",
              "  <style>\n",
              "    .colab-df-container {\n",
              "      display:flex;\n",
              "      flex-wrap:wrap;\n",
              "      gap: 12px;\n",
              "    }\n",
              "\n",
              "    .colab-df-convert {\n",
              "      background-color: #E8F0FE;\n",
              "      border: none;\n",
              "      border-radius: 50%;\n",
              "      cursor: pointer;\n",
              "      display: none;\n",
              "      fill: #1967D2;\n",
              "      height: 32px;\n",
              "      padding: 0 0 0 0;\n",
              "      width: 32px;\n",
              "    }\n",
              "\n",
              "    .colab-df-convert:hover {\n",
              "      background-color: #E2EBFA;\n",
              "      box-shadow: 0px 1px 2px rgba(60, 64, 67, 0.3), 0px 1px 3px 1px rgba(60, 64, 67, 0.15);\n",
              "      fill: #174EA6;\n",
              "    }\n",
              "\n",
              "    [theme=dark] .colab-df-convert {\n",
              "      background-color: #3B4455;\n",
              "      fill: #D2E3FC;\n",
              "    }\n",
              "\n",
              "    [theme=dark] .colab-df-convert:hover {\n",
              "      background-color: #434B5C;\n",
              "      box-shadow: 0px 1px 3px 1px rgba(0, 0, 0, 0.15);\n",
              "      filter: drop-shadow(0px 1px 2px rgba(0, 0, 0, 0.3));\n",
              "      fill: #FFFFFF;\n",
              "    }\n",
              "  </style>\n",
              "\n",
              "      <script>\n",
              "        const buttonEl =\n",
              "          document.querySelector('#df-e1f0b6c3-3d89-4885-a094-6186a2c6f5b6 button.colab-df-convert');\n",
              "        buttonEl.style.display =\n",
              "          google.colab.kernel.accessAllowed ? 'block' : 'none';\n",
              "\n",
              "        async function convertToInteractive(key) {\n",
              "          const element = document.querySelector('#df-e1f0b6c3-3d89-4885-a094-6186a2c6f5b6');\n",
              "          const dataTable =\n",
              "            await google.colab.kernel.invokeFunction('convertToInteractive',\n",
              "                                                     [key], {});\n",
              "          if (!dataTable) return;\n",
              "\n",
              "          const docLinkHtml = 'Like what you see? Visit the ' +\n",
              "            '<a target=\"_blank\" href=https://colab.research.google.com/notebooks/data_table.ipynb>data table notebook</a>'\n",
              "            + ' to learn more about interactive tables.';\n",
              "          element.innerHTML = '';\n",
              "          dataTable['output_type'] = 'display_data';\n",
              "          await google.colab.output.renderOutput(dataTable, element);\n",
              "          const docLink = document.createElement('div');\n",
              "          docLink.innerHTML = docLinkHtml;\n",
              "          element.appendChild(docLink);\n",
              "        }\n",
              "      </script>\n",
              "    </div>\n",
              "  </div>\n",
              "  "
            ]
          },
          "metadata": {},
          "execution_count": 61
        }
      ]
    },
    {
      "cell_type": "code",
      "execution_count": 62,
      "id": "3be74d53",
      "metadata": {
        "scrolled": true,
        "colab": {
          "base_uri": "https://localhost:8080/"
        },
        "id": "3be74d53",
        "outputId": "1209944a-9d9a-41fc-dcce-ea2fa3545bbb"
      },
      "outputs": [
        {
          "output_type": "stream",
          "name": "stdout",
          "text": [
            "(45000, 2) (5000, 2)\n",
            "Index(['review', 'sentiment'], dtype='object') Index(['review', 'sentiment'], dtype='object')\n"
          ]
        }
      ],
      "source": [
        "print(imdb_train.shape, imdb_test.shape)\n",
        "print(imdb_train.columns, imdb_test.columns)"
      ]
    },
    {
      "cell_type": "markdown",
      "id": "c2c49c15",
      "metadata": {
        "id": "c2c49c15"
      },
      "source": [
        "The outline of this project is\n",
        "1. Pre-process the data, defining a vocabulary and converting it to a sparse representation\n",
        "2. Pre-train an embedding layer to transform into a dense representation\n",
        "3. Use each embedded sequence to warm-up a GRU cell, and then return a single binary prediction (many-to-one model)\n",
        "\n",
        "We will have to deal with different length sequences while mini-batching. [This post](https://towardsdatascience.com/taming-lstms-variable-sized-mini-batches-and-why-pytorch-is-good-for-your-health-61d35642972e) explains PyTorch implementations to do that."
      ]
    },
    {
      "cell_type": "markdown",
      "source": [
        "Generate the vocabulary"
      ],
      "metadata": {
        "id": "SftEQ2gpKwEP"
      },
      "id": "SftEQ2gpKwEP"
    },
    {
      "cell_type": "code",
      "execution_count": 135,
      "id": "6ecc1d6a",
      "metadata": {
        "id": "6ecc1d6a"
      },
      "outputs": [],
      "source": [
        "tokenizer = torchtext.data.get_tokenizer(\"basic_english\")\n",
        "\n",
        "def get_vocab_freq(data):\n",
        "    counter = Counter()\n",
        "    for sentence in data[\"review\"]:\n",
        "        tokenized_sentence = tokenizer(sentence)\n",
        "        counter.update(tokenized_sentence)\n",
        "    return OrderedDict(counter)\n",
        "\n",
        "imdb_data = pd.concat([imdb_train, imdb_test], axis=0, ignore_index=True) # fetch vocab considering complete data\n",
        "\n",
        "vocab_freq = get_vocab_freq(imdb_data)\n",
        "\n",
        "pad_token = \"<pad>\" # Token representing padding\n",
        "vocab = torchtext.vocab.vocab(vocab_freq, min_freq=50,\n",
        "                              specials=[pad_token], special_first=True)\n",
        "vocab.set_default_index(-1) # Unknown words will return -1"
      ]
    },
    {
      "cell_type": "code",
      "source": [
        "len(vocab)"
      ],
      "metadata": {
        "colab": {
          "base_uri": "https://localhost:8080/"
        },
        "id": "an7m1qUdDQY5",
        "outputId": "dd77f206-18ce-42fe-8710-812ed592469d"
      },
      "id": "an7m1qUdDQY5",
      "execution_count": 136,
      "outputs": [
        {
          "output_type": "execute_result",
          "data": {
            "text/plain": [
              "11264"
            ]
          },
          "metadata": {},
          "execution_count": 136
        }
      ]
    },
    {
      "cell_type": "code",
      "source": [
        "sequence_len = [len(tokenizer(seq)) for seq in imdb_data[\"review\"]]\n",
        "PADDED_LENGTH = max(sequence_len)\n",
        "PADDED_LENGTH"
      ],
      "metadata": {
        "colab": {
          "base_uri": "https://localhost:8080/"
        },
        "id": "oGpveffyUfcy",
        "outputId": "dee14c82-49fc-4388-f005-29ca62ccb0cc"
      },
      "id": "oGpveffyUfcy",
      "execution_count": 137,
      "outputs": [
        {
          "output_type": "execute_result",
          "data": {
            "text/plain": [
              "2752"
            ]
          },
          "metadata": {},
          "execution_count": 137
        }
      ]
    },
    {
      "cell_type": "markdown",
      "source": [
        "Create a custom `Dataset` and `DataLoader` to automatically handle mini-batching.\n",
        "\n",
        "The `IMDBDataset` object should store each review in a sparse representation and map the sentiment into binary categories: `{0: \"negative\", 1: \"positive\"}`.\n",
        "\n",
        "Moreover, it will pad each review with `<pad>` tokens. This will be managed later by the `pack_padded_sequence` and `pad_packed_sequence` functions."
      ],
      "metadata": {
        "id": "Gs-CZPGvK4J-"
      },
      "id": "Gs-CZPGvK4J-"
    },
    {
      "cell_type": "code",
      "source": [
        "class IMDBDataset(torch.utils.data.Dataset):\n",
        "    def __init__(self, data, vocab, tokenizer, max_len, pad_token):\n",
        "        self.inputs = []\n",
        "        self.targets = []\n",
        "        self.lengths = []\n",
        "\n",
        "        print(f\"Loading data...\")\n",
        "        print(f\"Padding inputs...\")\n",
        "        for sentence in data[\"review\"]:\n",
        "            tokenized_sentence = tokenizer(sentence)\n",
        "            padded_sentence = [vocab[tk] for tk in tokenized_sentence]\n",
        "            self.lengths.append(len(padded_sentence)) # Save length before padding\n",
        "            padding_size = max_len - len(padded_sentence)\n",
        "            padded_sentence.extend([vocab[pad_token]]*padding_size)\n",
        "            self.inputs.append(padded_sentence)\n",
        "        print(\"Finished padding inputs. Processing labels...\")\n",
        "        for label in data[\"sentiment\"]:\n",
        "            self.targets.append(0 if label == \"negative\" else 1)\n",
        "        print(\"Done.\")\n",
        "\n",
        "    def __len__(self):\n",
        "        return len(self.targets)\n",
        "    \n",
        "    def __getitem__(self, idx):\n",
        "        # Must also return original length before padding\n",
        "        return self.inputs[idx], self.targets[idx], self.lengths[idx]"
      ],
      "metadata": {
        "id": "GTNtH2RMKzuX"
      },
      "id": "GTNtH2RMKzuX",
      "execution_count": 138,
      "outputs": []
    },
    {
      "cell_type": "markdown",
      "source": [
        "Instantiate the `DataLoaders`, splitting the train data into train/validation sets. For the train/validation splitting, refer [to this post.](https://clay-atlas.com/us/blog/2021/08/25/pytorch-en-random-split-data-set/)"
      ],
      "metadata": {
        "id": "4OQSdaEpPbya"
      },
      "id": "4OQSdaEpPbya"
    },
    {
      "cell_type": "code",
      "source": [
        "train_dataset = IMDBDataset(imdb_train, vocab, tokenizer, PADDED_LENGTH, pad_token)\n",
        "test_dataset = IMDBDataset(imdb_test, vocab, tokenizer, PADDED_LENGTH, pad_token)\n",
        "\n",
        "train_split = int(0.9 * len(train_dataset))\n",
        "validation_split = len(train_dataset) - train_split\n",
        "train_dataset, validation_dataset = torch.utils.data.random_split(train_dataset,\n",
        "                                                                  [train_split, validation_split])\n",
        "\n",
        "BATCH_SIZE = 64\n",
        "train_loader = torch.utils.data.DataLoader(train_dataset, batch_size=BATCH_SIZE, shuffle=True)\n",
        "validation_loader = torch.utils.data.DataLoader(validation_dataset, batch_size=BATCH_SIZE, shuffle=True)\n",
        "test_loader = torch.utils.data.DataLoader(test_dataset, batch_size=BATCH_SIZE, shuffle=False)"
      ],
      "metadata": {
        "colab": {
          "base_uri": "https://localhost:8080/"
        },
        "id": "kkeP6nCCKtYZ",
        "outputId": "987cbbb3-bd4d-4ec3-d349-39dfe61a79c9"
      },
      "id": "kkeP6nCCKtYZ",
      "execution_count": 139,
      "outputs": [
        {
          "output_type": "stream",
          "name": "stdout",
          "text": [
            "Loading data...\n",
            "Padding inputs...\n",
            "Finished padding inputs. Processing labels...\n",
            "Done.\n",
            "Loading data...\n",
            "Padding inputs...\n",
            "Finished padding inputs. Processing labels...\n",
            "Done.\n"
          ]
        }
      ]
    },
    {
      "cell_type": "markdown",
      "source": [
        "Now we need to define our model:\n",
        "\n",
        "[![](https://mermaid.ink/img/pako:eNpVz8tqAzEMBdBfMVq1kPzAFArNBLrpKiGruAt3dDsRHWtcPxYlyb9XeVCoVgadK8lHGmYGdTTmkA7ubfPk1Vm97D2JplY9vbvl8vnkqaSQCzyd3MqaiB9gFh0N3CKru2PojfXGXje7HtP0h_o7korsJuhDwXeDDni8Jv6jImOchS-dtc1KGSxDlVmv42hBETkGYTv_eEl6qgdE293Zk0P-8uT1bC60Om9_dKCu5oYFtcShYi3Bfh2p-wxTwfkXhtJVaQ)](https://mermaid.live/edit#pako:eNpVz8tqAzEMBdBfMVq1kPzAFArNBLrpKiGruAt3dDsRHWtcPxYlyb9XeVCoVgadK8lHGmYGdTTmkA7ubfPk1Vm97D2JplY9vbvl8vnkqaSQCzyd3MqaiB9gFh0N3CKru2PojfXGXje7HtP0h_o7korsJuhDwXeDDni8Jv6jImOchS-dtc1KGSxDlVmv42hBETkGYTv_eEl6qgdE293Zk0P-8uT1bC60Om9_dKCu5oYFtcShYi3Bfh2p-wxTwfkXhtJVaQ)\n",
        "\n",
        "Some comments:\n",
        "- Unlike the Word2Vec model implemented in class, we don't need to use a `nn.Linear` layer to map from embedding space to vocabulary space. \n",
        "- We can use `nn.LSTMCell` instead of `nn.GRUCell`, but the latter is a newer architecture and their implementation are basically the same.\n",
        "- We can later consider stacking many recursive cells (to get a deep RNN), but for a first approach we should stick to this simpler model.\n",
        "- We don't need to include `nn.Sigmoid` explicitly, since our loss function (`nn.BCEWithLogitsLoss`) will implement it for us (with more numerical stability, [c.f. documentation](https://pytorch.org/docs/stable/generated/torch.nn.BCEWithLogitsLoss.html))."
      ],
      "metadata": {
        "id": "QOyQuineYoCA"
      },
      "id": "QOyQuineYoCA"
    },
    {
      "cell_type": "code",
      "source": [
        "class GRUPredictor(nn.Module):\n",
        "\n",
        "    def __init__(self, vocab_size, hidden_size, embed_dim, embed_max_norm=None):\n",
        "        super().__init__()\n",
        "        self.embedding = nn.Embedding(vocab_size, embed_dim,\n",
        "                                      max_norm=embed_max_norm)\n",
        "        self.gru = torch.nn.GRUCell(embed_dim, hidden_size, bias=True)\n",
        "        self.linear = torch.nn.Linear(hidden_size, 1)\n",
        "\n",
        "    def forward(self, inputs):\n",
        "        X = self.embedding(inputs)\n",
        "        X = X.swapaxes(0, 1) # batch, step, dim -> step, batch, dim\n",
        "        h = torch.zeros((X.shape[1], self.hidden_size),\n",
        "                         device=X.device)\n",
        "        # warm-up\n",
        "        T = X.shape[0]\n",
        "        for t in range(T):\n",
        "            h = self.gru(X[t], h)\n",
        "        # prediction\n",
        "        output = nn.linear(h)\n",
        "        outputs = outputs.swapaxes(0, 1) # time, batch, dim -> batch, time, dim\n",
        "        return outputs"
      ],
      "metadata": {
        "id": "ylAAx0P6XFC_"
      },
      "id": "ylAAx0P6XFC_",
      "execution_count": 163,
      "outputs": []
    },
    {
      "cell_type": "code",
      "source": [],
      "metadata": {
        "id": "6ucEVmv_bMOQ"
      },
      "id": "6ucEVmv_bMOQ",
      "execution_count": null,
      "outputs": []
    }
  ],
  "metadata": {
    "kernelspec": {
      "display_name": "Python 3 (ipykernel)",
      "language": "python",
      "name": "python3"
    },
    "language_info": {
      "codemirror_mode": {
        "name": "ipython",
        "version": 3
      },
      "file_extension": ".py",
      "mimetype": "text/x-python",
      "name": "python",
      "nbconvert_exporter": "python",
      "pygments_lexer": "ipython3",
      "version": "3.9.12"
    },
    "colab": {
      "provenance": [],
      "collapsed_sections": [],
      "include_colab_link": true
    }
  },
  "nbformat": 4,
  "nbformat_minor": 5
}