{
  "nbformat": 4,
  "nbformat_minor": 0,
  "metadata": {
    "colab": {
      "provenance": [],
      "collapsed_sections": [],
      "authorship_tag": "ABX9TyNzeCw2ZX+N0faauqYHa8Cy",
      "include_colab_link": true
    },
    "kernelspec": {
      "name": "python3",
      "display_name": "Python 3"
    },
    "language_info": {
      "name": "python"
    },
    "accelerator": "GPU"
  },
  "cells": [
    {
      "cell_type": "markdown",
      "metadata": {
        "id": "view-in-github",
        "colab_type": "text"
      },
      "source": [
        "<a href=\"https://colab.research.google.com/github/fcoelhomrc/MachineLearning/blob/main/gru_study.ipynb\" target=\"_parent\"><img src=\"https://colab.research.google.com/assets/colab-badge.svg\" alt=\"Open In Colab\"/></a>"
      ]
    },
    {
      "cell_type": "code",
      "execution_count": 1,
      "metadata": {
        "id": "_3EBowzfbPr2"
      },
      "outputs": [],
      "source": [
        "import numpy as np\n",
        "import torch\n",
        "import matplotlib.pyplot as plt\n",
        "import pandas as pd\n",
        "pd.options.mode.chained_assignment = None\n",
        "import seaborn as sns\n",
        "from tqdm import tqdm"
      ]
    },
    {
      "cell_type": "code",
      "source": [
        "def generate_time_series(batch_size, n_steps):\n",
        "    freq1, freq2, offsets1, offsets2 = np.random.rand(4, batch_size, 1)\n",
        "    time = np.linspace(0, 1, n_steps)\n",
        "    series = 0.5 * np.sin((time - offsets1) * (freq1 * 10 + 10)) # wave 1\n",
        "    series += 0.2 * np.sin((time - offsets2) * (freq2 * 20 + 20)) # + wave 2\n",
        "    series += 0.1 * (np.random.rand(batch_size, n_steps) - 0.5) # + noise\n",
        "    return series[..., np.newaxis].astype(np.float32)\n",
        "\n",
        "n_steps = 50\n",
        "series = generate_time_series(10000, n_steps + 1)\n",
        "X_train, y_train = series[:7000, :n_steps], series[:7000, -1]\n",
        "X_valid, y_valid = series[7000:9000, :n_steps], series[7000:9000, -1]\n",
        "X_test, y_test = series[9000:, :n_steps], series[9000:, -1]"
      ],
      "metadata": {
        "id": "xP2HXe4mbS17"
      },
      "execution_count": 2,
      "outputs": []
    },
    {
      "cell_type": "code",
      "source": [
        "print(X_train.shape, y_train.shape)"
      ],
      "metadata": {
        "colab": {
          "base_uri": "https://localhost:8080/"
        },
        "id": "XKHeWBX1baZz",
        "outputId": "67520995-8e55-4cd4-fd56-059d99015d78"
      },
      "execution_count": 3,
      "outputs": [
        {
          "output_type": "stream",
          "name": "stdout",
          "text": [
            "(7000, 50, 1) (7000, 1)\n"
          ]
        }
      ]
    },
    {
      "cell_type": "code",
      "source": [
        "time_stamps = np.arange(n_steps + 1)\n",
        "plt.plot(time_stamps[:-1], X_train[0], c=\"b\", lw=2.0)\n",
        "plt.scatter(time_stamps[-1], y_train[0], ec=\"k\", color=\"r\")"
      ],
      "metadata": {
        "colab": {
          "base_uri": "https://localhost:8080/",
          "height": 282
        },
        "id": "dcyQgbMzcums",
        "outputId": "c11cca4b-6d3e-4bc9-e286-3c89ae5d0053"
      },
      "execution_count": 4,
      "outputs": [
        {
          "output_type": "execute_result",
          "data": {
            "text/plain": [
              "<matplotlib.collections.PathCollection at 0x7fc12ba4e510>"
            ]
          },
          "metadata": {},
          "execution_count": 4
        },
        {
          "output_type": "display_data",
          "data": {
            "text/plain": [
              "<Figure size 432x288 with 1 Axes>"
            ],
            "image/png": "[encoded data removed]"
          },
          "metadata": {
            "needs_background": "light"
          }
        }
      ]
    },
    {
      "cell_type": "code",
      "source": [
        "class TimeseriesData(torch.utils.data.Dataset):\n",
        "    def __init__(self, n_steps, n_series, n_pred_steps=1):\n",
        "        data, labels = self.generate_time_series(n_series,\n",
        "                                                 n_steps,\n",
        "                                                 n_pred_steps)\n",
        "        self.inputs = torch.tensor(data)\n",
        "        self.targets = torch.tensor(labels)\n",
        "\n",
        "    def __getitem__(self, idx):\n",
        "        return {\"inputs\": self.inputs[idx],\n",
        "                \"targets\": self.targets[idx]}\n",
        "    \n",
        "    def __len__(self):\n",
        "        return min(len(self.inputs), len(self.targets))\n",
        "\n",
        "    def generate_time_series(self, n_series, n_steps, n_pred_steps):\n",
        "        freq1, freq2, offsets1, offsets2 = np.random.rand(4, n_series, 1)\n",
        "        time = np.linspace(0, 1, n_steps + n_pred_steps)\n",
        "        series = 0.5 * np.sin((time - offsets1) * (freq1 * 10 + 10)) # wave 1\n",
        "        series += 0.2 * np.sin((time - offsets2) * (freq2 * 20 + 20)) # + wave 2\n",
        "        series += 0.1 * (np.random.rand(n_series, n_steps + n_pred_steps) - 0.5) # + noise\n",
        "        series = series[..., np.newaxis].astype(np.float32)\n",
        "        return series[:, :n_steps], series[:, n_steps:]\n"
      ],
      "metadata": {
        "id": "o6Gy0JlHdY2d"
      },
      "execution_count": 5,
      "outputs": []
    },
    {
      "cell_type": "code",
      "source": [
        "n_pred_steps = 4*n_steps\n",
        "train_data = TimeseriesData(n_steps, n_series=70000, n_pred_steps=n_pred_steps) \n",
        "test_data = TimeseriesData(n_steps, n_series=20000, n_pred_steps=n_pred_steps) \n",
        "val_data = TimeseriesData(n_steps, n_series=10000, n_pred_steps=n_pred_steps)"
      ],
      "metadata": {
        "id": "LyIXgX2kfUN8"
      },
      "execution_count": 35,
      "outputs": []
    },
    {
      "cell_type": "code",
      "source": [
        "# sanity check\n",
        "rng = np.random.default_rng()\n",
        "idx = rng.integers(0, len(train_data))\n",
        "inputs = train_data[idx][\"inputs\"].numpy()\n",
        "targets = train_data[idx][\"targets\"].numpy()\n",
        "print(inputs.shape, targets.shape)\n",
        "time_stamps = np.arange(n_steps)\n",
        "time_stemps_pred = np.arange(n_steps, n_steps + n_pred_steps)\n",
        "\n",
        "plt.plot(time_stamps, inputs, c=\"b\", lw=2.0)\n",
        "plt.scatter(time_stemps_pred, targets, ec=\"k\", color=\"r\")\n",
        "plt.show()"
      ],
      "metadata": {
        "colab": {
          "base_uri": "https://localhost:8080/",
          "height": 282
        },
        "id": "zyieKU1vfjvj",
        "outputId": "f56305f8-9f47-4add-d084-ef7fb92ceb3b"
      },
      "execution_count": 36,
      "outputs": [
        {
          "output_type": "stream",
          "name": "stdout",
          "text": [
            "(50, 1) (200, 1)\n"
          ]
        },
        {
          "output_type": "display_data",
          "data": {
            "text/plain": [
              "<Figure size 432x288 with 1 Axes>"
            ],
            "image/png": "[encoded data removed]"
          },
          "metadata": {
            "needs_background": "light"
          }
        }
      ]
    },
    {
      "cell_type": "code",
      "source": [
        "class GRUPredictor(torch.nn.Module):\n",
        "    def __init__(self, input_size, hidden_size, *args):\n",
        "        super().__init__()\n",
        "        self.hidden_size = hidden_size\n",
        "        self.gru = torch.nn.GRUCell(input_size, hidden_size, bias=True)\n",
        "        self.linear = torch.nn.Linear(hidden_size, input_size)                                    \n",
        "        pass\n",
        "    \n",
        "    def forward(self, inputs, num_steps):\n",
        "        inputs = inputs.swapaxes(0, 1) # batch, time, dim -> time, batch, dim\n",
        "        h = torch.zeros((inputs.shape[1], self.hidden_size),\n",
        "                         device=inputs.device)\n",
        "        # warm-up\n",
        "        T = inputs.shape[0]\n",
        "        for t in range(T-1):\n",
        "            h = self.gru(inputs[t], h)\n",
        "        # prediction\n",
        "        outputs = []\n",
        "        input_t = inputs[-1]\n",
        "        for t in range(num_steps):\n",
        "            h = self.gru(input_t, h)\n",
        "            output_t = self.linear(h)\n",
        "            outputs.append(output_t)\n",
        "            input_t = output_t\n",
        "        outputs = torch.stack(outputs)\n",
        "        outputs = outputs.swapaxes(0, 1) # time, batch, dim -> batch, time, dim\n",
        "        return outputs"
      ],
      "metadata": {
        "id": "ybQxJfIGgQKi"
      },
      "execution_count": 37,
      "outputs": []
    },
    {
      "cell_type": "code",
      "source": [
        "def evaluate(model, val_loader, **kwargs):\n",
        "    loss_fn = kwargs.get(\"loss_fn\", torch.nn.functional.mse_loss)\n",
        "    device = kwargs.get(\"device\", torch.device(\"cpu\"))\n",
        "\n",
        "    model.eval()\n",
        "    pbar = tqdm(enumerate(val_loader), total=len(val_loader))\n",
        "    avg_loss = 0.\n",
        "    for i, batch in pbar:\n",
        "        batch[\"inputs\"] = batch[\"inputs\"].to(device)\n",
        "        batch[\"targets\"] = batch[\"targets\"].to(device)\n",
        "        num_steps = batch[\"targets\"].shape[1] # batch_size, time, dim\n",
        "        with torch.no_grad(): # no need to compute gradients\n",
        "            preds = model(batch[\"inputs\"], num_steps)\n",
        "        loss = loss_fn(preds, batch[\"targets\"])\n",
        "        avg_loss += loss.item()\n",
        "        pbar.set_description(f\"loss = {loss:.5f}\")\n",
        "    avg_loss /= len(val_loader)\n",
        "    return avg_loss\n",
        "\n",
        "def fit(model, train_loader, val_loader, optimizer, **kwargs):\n",
        "    num_epochs = kwargs.get(\"num_epochs\", 100)\n",
        "    loss_fn = kwargs.get(\"loss_fn\", torch.nn.functional.mse_loss)\n",
        "    device = kwargs.get(\"device\", torch.device(\"cpu\"))\n",
        "    \n",
        "    train_loss_hist, val_loss_hist = [], []\n",
        "    for epoch in range(num_epochs):\n",
        "        print(f\"Epoch {epoch + 1}/{num_epochs}\")\n",
        "        \n",
        "        print(\"Training phase...\")\n",
        "        model.train() # set model to training mode\n",
        "        train_loss = 0.\n",
        "        pbar = tqdm(enumerate(train_loader), total=len(train_loader))\n",
        "        for i, batch in pbar:\n",
        "            batch[\"inputs\"] = batch[\"inputs\"].to(device)\n",
        "            batch[\"targets\"] = batch[\"targets\"].to(device)\n",
        "\n",
        "            model.zero_grad() # initialize gradients to zero\n",
        "\n",
        "            num_steps = batch[\"targets\"].shape[1] \n",
        "            preds = model(batch[\"inputs\"], num_steps) # forward pass\n",
        "            loss = loss_fn(preds, batch[\"targets\"]) # loss computation\n",
        "            loss.backward() # computing gradients (backward pass)\n",
        "            optimizer.step() # updating the parameters of the model\n",
        "\n",
        "            train_loss += loss.item() # accumulate loss across batch\n",
        "            pbar.set_description(f\"loss = {loss:.5f}\")\n",
        "\n",
        "        train_loss /= len(train_loader) # average batch loss\n",
        "        print(f\"train loss = {train_loss:.5f}\")\n",
        "        train_loss_hist.append(train_loss)\n",
        "        \n",
        "        print(\"Validation phase...\")\n",
        "        val_loss = evaluate(model, val_loader, loss_fn=loss_fn, device=device)\n",
        "        print(f\"validation loss = {val_loss:.5f}\")\n",
        "        val_loss_hist.append(val_loss)\n",
        "        \n",
        "    return train_loss_hist, val_loss_hist"
      ],
      "metadata": {
        "id": "NVx8xRV9nDxs"
      },
      "execution_count": 38,
      "outputs": []
    },
    {
      "cell_type": "code",
      "source": [
        "HIDDEN_SIZE = 64\n",
        "LEARNING_RATE = 1e-3\n",
        "NUM_EPOCHS = 5\n",
        "BATCH_SIZE = 32\n",
        "\n",
        "if torch.cuda.is_available():\n",
        "    DEVICE = torch.device(\"cuda\")\n",
        "# elif torch.backends.mps.is_available():\n",
        "#     DEVICE = torch.device(\"mps\")\n",
        "else:\n",
        "    DEVICE = torch.device(\"cpu\")\n",
        "print(\"DEVICE:\", DEVICE)\n",
        "# we should shuffle our data at beggining of each epoch\n",
        "train_loader = torch.utils.data.DataLoader(train_data, batch_size=BATCH_SIZE, shuffle=True)\n",
        "val_loader = torch.utils.data.DataLoader(val_data, batch_size=BATCH_SIZE)\n",
        "test_loader = torch.utils.data.DataLoader(test_data, batch_size=BATCH_SIZE)\n",
        "\n",
        "model = GRUPredictor(train_data[0][\"inputs\"].shape[1], HIDDEN_SIZE).to(DEVICE)\n",
        "optimizer = torch.optim.Adam(model.parameters(), lr=LEARNING_RATE)"
      ],
      "metadata": {
        "colab": {
          "base_uri": "https://localhost:8080/"
        },
        "id": "ESAeHgt8oJ70",
        "outputId": "acc40310-51e9-4734-f268-05af363d3c67"
      },
      "execution_count": 39,
      "outputs": [
        {
          "output_type": "stream",
          "name": "stdout",
          "text": [
            "DEVICE: cuda\n"
          ]
        }
      ]
    },
    {
      "cell_type": "code",
      "source": [
        "train_loss, val_loss = fit(model, train_loader, val_loader, optimizer, num_epochs=NUM_EPOCHS, device=DEVICE)"
      ],
      "metadata": {
        "colab": {
          "base_uri": "https://localhost:8080/"
        },
        "id": "3bJ8Mm4Uprp0",
        "outputId": "b693d4e7-9091-481d-f83d-def6cb452aff"
      },
      "execution_count": null,
      "outputs": [
        {
          "output_type": "stream",
          "name": "stdout",
          "text": [
            "Epoch 1/5\n",
            "Training phase...\n"
          ]
        },
        {
          "output_type": "stream",
          "name": "stderr",
          "text": [
            "loss = 0.12000:  66%|██████▌   | 1438/2188 [01:59<01:02, 12.00it/s]"
          ]
        }
      ]
    },
    {
      "cell_type": "code",
      "source": [
        "plt.title(\"Train and validation losses\")\n",
        "plt.plot(range(len(train_loss)), train_loss, label=\"train loss\")\n",
        "plt.plot(range(len(val_loss)), val_loss, label=\"validation loss\")\n",
        "plt.legend()\n",
        "plt.show()"
      ],
      "metadata": {
        "id": "bxsaJEhgqLos"
      },
      "execution_count": null,
      "outputs": []
    },
    {
      "cell_type": "code",
      "source": [
        "test_loss = evaluate(model, val_loader, device=DEVICE)\n",
        "print(f\"Test loss = {test_loss:.5f}\")"
      ],
      "metadata": {
        "id": "kKCWSFUfrfdm"
      },
      "execution_count": null,
      "outputs": []
    },
    {
      "cell_type": "code",
      "source": [
        "def predict(model, data_loader, **kwargs):\n",
        "    num_steps = kwargs.get(\"num_steps\", 24)\n",
        "    device = kwargs.get(\"device\", torch.device(\"cpu\"))\n",
        "    \n",
        "    model.eval()\n",
        "    preds = []\n",
        "    pbar = tqdm(enumerate(data_loader), total=len(data_loader))\n",
        "    for i, batch in pbar:\n",
        "        batch[\"inputs\"] = batch[\"inputs\"].to(device)\n",
        "        batch[\"targets\"] = batch[\"targets\"].to(device)\n",
        "        num_steps = batch[\"targets\"].shape[1] # batch_size, time, dim\n",
        "        with torch.no_grad(): # no need to compute gradients\n",
        "            batch_preds = model(batch[\"inputs\"], num_steps)\n",
        "        for pred in batch_preds: # store each prediction from batch\n",
        "            preds.append(pred.cpu())\n",
        "    return preds"
      ],
      "metadata": {
        "id": "Y48_LX9krnES"
      },
      "execution_count": null,
      "outputs": []
    },
    {
      "cell_type": "code",
      "source": [
        "test_preds = predict(model, test_loader, num_steps=n_pred_steps, device=DEVICE)"
      ],
      "metadata": {
        "id": "D99Vl6Dqr46y"
      },
      "execution_count": null,
      "outputs": []
    },
    {
      "cell_type": "code",
      "source": [
        "rng = np.random.default_rng()\n",
        "idx = rng.integers(0, len(test_data))\n",
        "inputs = test_data[idx][\"inputs\"].numpy()\n",
        "targets = test_data[idx][\"targets\"].numpy()\n",
        "preds = test_preds[idx].numpy()\n",
        "print(inputs.shape, targets.shape)\n",
        "time_stamps = np.arange(n_steps)\n",
        "time_stamps_pred = np.arange(n_steps, n_steps + n_pred_steps)\n",
        "\n",
        "i = 0\n",
        "plt.plot(time_stamps, inputs[:, i], label=\"input\")\n",
        "plt.plot(time_stamps_pred, targets[:, i], label=\"target\")\n",
        "plt.plot(time_stamps_pred, preds[:, i], label=\"prediction\")\n",
        "plt.legend()\n",
        "plt.show()"
      ],
      "metadata": {
        "id": "l4oE8wgzr65a"
      },
      "execution_count": null,
      "outputs": []
    },
    {
      "cell_type": "code",
      "source": [],
      "metadata": {
        "id": "-ladUZuCs5gS"
      },
      "execution_count": null,
      "outputs": []
    }
  ]
}